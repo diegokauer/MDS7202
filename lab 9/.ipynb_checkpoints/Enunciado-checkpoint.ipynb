{
 "cells": [
  {
   "cell_type": "markdown",
   "metadata": {
    "cell_id": "b5c0d2440b3e4995a794ded565213150",
    "deepnote_cell_type": "markdown"
   },
   "source": [
    "<h1><center>Laboratorio 9: Optimización de modelos 💯</center></h1>\n",
    "\n",
    "<center><strong>MDS7202: Laboratorio de Programación Científica para Ciencia de Datos</strong></center>"
   ]
  },
  {
   "cell_type": "markdown",
   "metadata": {
    "cell_id": "bfb94b9656f145ad83e81b75d218cb70",
    "deepnote_cell_type": "markdown"
   },
   "source": [
    "### Cuerpo Docente:\n",
    "\n",
    "- Profesor: Ignacio Meza, Gabriel Iturra\n",
    "- Auxiliar: Sebastián Tinoco\n",
    "- Ayudante: Arturo Lazcano, Angelo Muñoz"
   ]
  },
  {
   "cell_type": "markdown",
   "metadata": {
    "cell_id": "b1b537fdd27c43909a49d3476ce64d91",
    "deepnote_cell_type": "markdown"
   },
   "source": [
    "### Equipo: SUPER IMPORTANTE - notebooks sin nombre no serán revisados\n",
    "\n",
    "- Nombre de alumno 1: Vicente Correa\n",
    "- Nombre de alumno 2: Diego Kauer\n"
   ]
  },
  {
   "cell_type": "markdown",
   "metadata": {
    "cell_id": "b7dbdd30ab544cb8a8afe00648a586ae",
    "deepnote_cell_type": "markdown"
   },
   "source": [
    "## Temas a tratar\n",
    "\n",
    "- Predicción de demanda usando `xgboost`\n",
    "- Búsqueda del modelo óptimo de clasificación usando `optuna`\n",
    "- Uso de pipelines.\n",
    "\n",
    "## Reglas:\n",
    "\n",
    "- **Grupos de 2 personas**\n",
    "- Cualquier duda fuera del horario de clases al foro. Mensajes al equipo docente serán respondidos por este medio.\n",
    "- Prohibidas las copias. \n",
    "- Pueden usar cualquer material del curso que estimen conveniente.\n",
    "\n",
    "### Objetivos principales del laboratorio\n",
    "\n",
    "- Optimizar modelos usando `optuna`\n",
    "- Recurrir a técnicas de *prunning*\n",
    "- Forzar el aprendizaje de relaciones entre variables mediante *constraints*\n",
    "- Fijar un pipeline con un modelo base que luego se irá optimizando.\n",
    "\n",
    "El laboratorio deberá ser desarrollado sin el uso indiscriminado de iteradores nativos de python (aka \"for\", \"while\"). La idea es que aprendan a exprimir al máximo las funciones optimizadas que nos entrega `pandas`, las cuales vale mencionar, son bastante más eficientes que los iteradores nativos sobre DataFrames."
   ]
  },
  {
   "cell_type": "markdown",
   "metadata": {
    "cell_id": "f38c8342f5164aa992a97488dd5590bf",
    "deepnote_cell_type": "markdown"
   },
   "source": [
    "### **Link de repositorio de GitHub:** https://github.com/diegokauer/MDS7202"
   ]
  },
  {
   "cell_type": "markdown",
   "metadata": {
    "cell_id": "f1c73babb7f74af588a4fa6ae14829e0",
    "deepnote_cell_type": "markdown"
   },
   "source": [
    "# Importamos librerias útiles"
   ]
  },
  {
   "cell_type": "code",
   "execution_count": 1,
   "metadata": {
    "cell_id": "51afe4d2df42442b9e5402ffece60ead",
    "deepnote_cell_type": "code",
    "deepnote_to_be_reexecuted": false,
    "execution_millis": 4957,
    "execution_start": 1699544354044,
    "source_hash": null
   },
   "outputs": [
    {
     "name": "stdout",
     "output_type": "stream",
     "text": [
      "Requirement already satisfied: xgboost in c:\\users\\vicbe\\miniconda3\\lib\\site-packages (2.0.2)\n",
      "Requirement already satisfied: optuna in c:\\users\\vicbe\\miniconda3\\lib\\site-packages (3.4.0)\n",
      "Requirement already satisfied: scipy in c:\\users\\vicbe\\miniconda3\\lib\\site-packages (from xgboost) (1.11.3)\n",
      "Requirement already satisfied: numpy in c:\\users\\vicbe\\miniconda3\\lib\\site-packages (from xgboost) (1.26.2)\n",
      "Requirement already satisfied: colorlog in c:\\users\\vicbe\\miniconda3\\lib\\site-packages (from optuna) (6.7.0)\n",
      "Requirement already satisfied: alembic>=1.5.0 in c:\\users\\vicbe\\miniconda3\\lib\\site-packages (from optuna) (1.12.1)\n",
      "Requirement already satisfied: tqdm in c:\\users\\vicbe\\miniconda3\\lib\\site-packages (from optuna) (4.65.0)\n",
      "Requirement already satisfied: sqlalchemy>=1.3.0 in c:\\users\\vicbe\\miniconda3\\lib\\site-packages (from optuna) (2.0.23)\n",
      "Requirement already satisfied: PyYAML in c:\\users\\vicbe\\miniconda3\\lib\\site-packages (from optuna) (6.0.1)\n",
      "Requirement already satisfied: packaging>=20.0 in c:\\users\\vicbe\\miniconda3\\lib\\site-packages (from optuna) (23.1)\n",
      "Requirement already satisfied: Mako in c:\\users\\vicbe\\miniconda3\\lib\\site-packages (from alembic>=1.5.0->optuna) (1.3.0)\n",
      "Requirement already satisfied: typing-extensions>=4 in c:\\users\\vicbe\\miniconda3\\lib\\site-packages (from alembic>=1.5.0->optuna) (4.7.1)\n",
      "Requirement already satisfied: greenlet!=0.4.17 in c:\\users\\vicbe\\miniconda3\\lib\\site-packages (from sqlalchemy>=1.3.0->optuna) (3.0.1)\n",
      "Requirement already satisfied: colorama in c:\\users\\vicbe\\miniconda3\\lib\\site-packages (from colorlog->optuna) (0.4.6)\n",
      "Requirement already satisfied: MarkupSafe>=0.9.2 in c:\\users\\vicbe\\miniconda3\\lib\\site-packages (from Mako->alembic>=1.5.0->optuna) (2.1.1)\n"
     ]
    }
   ],
   "source": [
    "!pip install xgboost optuna"
   ]
  },
  {
   "cell_type": "markdown",
   "metadata": {
    "cell_id": "44d227389a734ac59189c5e0005bc68a",
    "deepnote_cell_type": "markdown"
   },
   "source": [
    "# 1. El emprendimiento de Fiu\n",
    "\n",
    "Tras liderar de manera exitosa la implementación de un proyecto de ciencia de datos para caracterizar los datos generados en Santiago 2023, el misterioso corpóreo **Fiu** se anima y decide levantar su propio negocio de consultoría en machine learning. Tras varias e intensas negociaciones, Fiu logra encontrar su *primera chamba*: predecir la demanda (cantidad de venta) de una famosa productora de bebidas de calibre mundial. Como usted tuvo un rendimiento sobresaliente en el proyecto de caracterización de datos, Fiu lo contrata como *data scientist* de su emprendimiento.\n",
    "\n",
    "Para este laboratorio deben trabajar con los datos `sales.csv` subidos a u-cursos, el cual contiene una muestra de ventas de la empresa para diferentes productos en un determinado tiempo.\n",
    "\n",
    "Para comenzar, cargue el dataset señalado y visualice a través de un `.head` los atributos que posee el dataset.\n",
    "\n",
    "<i><p align=\"center\">Fiu siendo felicitado por su excelente desempeño en el proyecto de caracterización de datos</p></i>\n",
    "<p align=\"center\">\n",
    "  <img src=\"https://media-front.elmostrador.cl/2023/09/A_UNO_1506411_2440e.jpg\">\n",
    "</p>"
   ]
  },
  {
   "cell_type": "code",
   "execution_count": 1,
   "metadata": {
    "cell_id": "2f9c82d204b14515ad27ae07e0b77702",
    "deepnote_cell_type": "code",
    "deepnote_to_be_reexecuted": false,
    "execution_millis": 92,
    "execution_start": 1699544359006,
    "source_hash": null
   },
   "outputs": [
    {
     "name": "stderr",
     "output_type": "stream",
     "text": [
      "C:\\Users\\vicbe\\AppData\\Local\\Temp\\ipykernel_4188\\3184305967.py:6: UserWarning: Could not infer format, so each element will be parsed individually, falling back to `dateutil`. To ensure parsing is consistent and as-expected, please specify a format.\n",
      "  df['date'] = pd.to_datetime(df['date'])\n"
     ]
    },
    {
     "data": {
      "text/html": [
       "<div>\n",
       "<style scoped>\n",
       "    .dataframe tbody tr th:only-of-type {\n",
       "        vertical-align: middle;\n",
       "    }\n",
       "\n",
       "    .dataframe tbody tr th {\n",
       "        vertical-align: top;\n",
       "    }\n",
       "\n",
       "    .dataframe thead th {\n",
       "        text-align: right;\n",
       "    }\n",
       "</style>\n",
       "<table border=\"1\" class=\"dataframe\">\n",
       "  <thead>\n",
       "    <tr style=\"text-align: right;\">\n",
       "      <th></th>\n",
       "      <th>id</th>\n",
       "      <th>date</th>\n",
       "      <th>city</th>\n",
       "      <th>lat</th>\n",
       "      <th>long</th>\n",
       "      <th>pop</th>\n",
       "      <th>shop</th>\n",
       "      <th>brand</th>\n",
       "      <th>container</th>\n",
       "      <th>capacity</th>\n",
       "      <th>price</th>\n",
       "      <th>quantity</th>\n",
       "    </tr>\n",
       "  </thead>\n",
       "  <tbody>\n",
       "    <tr>\n",
       "      <th>0</th>\n",
       "      <td>0</td>\n",
       "      <td>2012-01-31</td>\n",
       "      <td>Athens</td>\n",
       "      <td>37.97945</td>\n",
       "      <td>23.71622</td>\n",
       "      <td>672130</td>\n",
       "      <td>shop_1</td>\n",
       "      <td>kinder-cola</td>\n",
       "      <td>glass</td>\n",
       "      <td>500ml</td>\n",
       "      <td>0.96</td>\n",
       "      <td>13280</td>\n",
       "    </tr>\n",
       "    <tr>\n",
       "      <th>1</th>\n",
       "      <td>1</td>\n",
       "      <td>2012-01-31</td>\n",
       "      <td>Athens</td>\n",
       "      <td>37.97945</td>\n",
       "      <td>23.71622</td>\n",
       "      <td>672130</td>\n",
       "      <td>shop_1</td>\n",
       "      <td>kinder-cola</td>\n",
       "      <td>plastic</td>\n",
       "      <td>1.5lt</td>\n",
       "      <td>2.86</td>\n",
       "      <td>6727</td>\n",
       "    </tr>\n",
       "    <tr>\n",
       "      <th>2</th>\n",
       "      <td>2</td>\n",
       "      <td>2012-01-31</td>\n",
       "      <td>Athens</td>\n",
       "      <td>37.97945</td>\n",
       "      <td>23.71622</td>\n",
       "      <td>672130</td>\n",
       "      <td>shop_1</td>\n",
       "      <td>kinder-cola</td>\n",
       "      <td>can</td>\n",
       "      <td>330ml</td>\n",
       "      <td>0.87</td>\n",
       "      <td>9848</td>\n",
       "    </tr>\n",
       "    <tr>\n",
       "      <th>3</th>\n",
       "      <td>3</td>\n",
       "      <td>2012-01-31</td>\n",
       "      <td>Athens</td>\n",
       "      <td>37.97945</td>\n",
       "      <td>23.71622</td>\n",
       "      <td>672130</td>\n",
       "      <td>shop_1</td>\n",
       "      <td>adult-cola</td>\n",
       "      <td>glass</td>\n",
       "      <td>500ml</td>\n",
       "      <td>1.00</td>\n",
       "      <td>20050</td>\n",
       "    </tr>\n",
       "    <tr>\n",
       "      <th>4</th>\n",
       "      <td>4</td>\n",
       "      <td>2012-01-31</td>\n",
       "      <td>Athens</td>\n",
       "      <td>37.97945</td>\n",
       "      <td>23.71622</td>\n",
       "      <td>672130</td>\n",
       "      <td>shop_1</td>\n",
       "      <td>adult-cola</td>\n",
       "      <td>can</td>\n",
       "      <td>330ml</td>\n",
       "      <td>0.39</td>\n",
       "      <td>25696</td>\n",
       "    </tr>\n",
       "  </tbody>\n",
       "</table>\n",
       "</div>"
      ],
      "text/plain": [
       "   id       date    city       lat      long     pop    shop        brand  \\\n",
       "0   0 2012-01-31  Athens  37.97945  23.71622  672130  shop_1  kinder-cola   \n",
       "1   1 2012-01-31  Athens  37.97945  23.71622  672130  shop_1  kinder-cola   \n",
       "2   2 2012-01-31  Athens  37.97945  23.71622  672130  shop_1  kinder-cola   \n",
       "3   3 2012-01-31  Athens  37.97945  23.71622  672130  shop_1   adult-cola   \n",
       "4   4 2012-01-31  Athens  37.97945  23.71622  672130  shop_1   adult-cola   \n",
       "\n",
       "  container capacity  price  quantity  \n",
       "0     glass    500ml   0.96     13280  \n",
       "1   plastic    1.5lt   2.86      6727  \n",
       "2       can    330ml   0.87      9848  \n",
       "3     glass    500ml   1.00     20050  \n",
       "4       can    330ml   0.39     25696  "
      ]
     },
     "execution_count": 1,
     "metadata": {},
     "output_type": "execute_result"
    }
   ],
   "source": [
    "import pandas as pd\n",
    "import numpy as np\n",
    "from datetime import datetime\n",
    "\n",
    "df = pd.read_csv('sales.csv')\n",
    "df['date'] = pd.to_datetime(df['date'])\n",
    "\n",
    "df.head()"
   ]
  },
  {
   "cell_type": "code",
   "execution_count": 2,
   "metadata": {},
   "outputs": [
    {
     "data": {
      "text/plain": [
       "(7456, 12)"
      ]
     },
     "execution_count": 2,
     "metadata": {},
     "output_type": "execute_result"
    }
   ],
   "source": [
    "df.shape"
   ]
  },
  {
   "cell_type": "code",
   "execution_count": 3,
   "metadata": {},
   "outputs": [
    {
     "data": {
      "text/plain": [
       "id           7456\n",
       "date           84\n",
       "city            5\n",
       "lat             6\n",
       "long            6\n",
       "pop            35\n",
       "shop            6\n",
       "brand           5\n",
       "container       3\n",
       "capacity        3\n",
       "price         402\n",
       "quantity     6906\n",
       "dtype: int64"
      ]
     },
     "execution_count": 3,
     "metadata": {},
     "output_type": "execute_result"
    }
   ],
   "source": [
    "df.nunique()"
   ]
  },
  {
   "cell_type": "code",
   "execution_count": 4,
   "metadata": {},
   "outputs": [
    {
     "data": {
      "text/plain": [
       "count      7456.000000\n",
       "mean      29408.428380\n",
       "std       17652.985675\n",
       "min        2953.000000\n",
       "25%       16572.750000\n",
       "50%       25294.500000\n",
       "75%       37699.000000\n",
       "max      145287.000000\n",
       "Name: quantity, dtype: float64"
      ]
     },
     "execution_count": 4,
     "metadata": {},
     "output_type": "execute_result"
    }
   ],
   "source": [
    "df['quantity'].describe()"
   ]
  },
  {
   "cell_type": "markdown",
   "metadata": {
    "cell_id": "b50db6f2cb804932ae3f9e5748a6ea61",
    "deepnote_cell_type": "markdown"
   },
   "source": [
    "## 1.1 Generando un Baseline (0.5 puntos)\n",
    "\n",
    "<p align=\"center\">\n",
    "  <img src=\"https://media.tenor.com/O-lan6TkadUAAAAC/what-i-wnna-do-after-a-baseline.gif\">\n",
    "</p>\n",
    "\n",
    "Antes de entrenar un algoritmo, usted recuerda los apuntes de su magíster en ciencia de datos y recuerda que debe seguir una serie de *buenas prácticas* para entrenar correcta y debidamente su modelo. Después de un par de vueltas, llega a las siguientes tareas:\n",
    "\n",
    "1. Separe los datos en conjuntos de train (70%), validation (20%) y test (10%). Fije una semilla para controlar la aleatoriedad.\n",
    "2. Implemente un `FunctionTransformer` para extraer el día, mes y año de la variable `date`. Guarde estas variables en el formato categorical de pandas.\n",
    "3. Implemente un `ColumnTransformer` para procesar de manera adecuada los datos numéricos y categóricos. Use `OneHotEncoder` para las variables categóricas.\n",
    "4. Guarde los pasos anteriores en un `Pipeline`, dejando como último paso el regresor `DummyRegressor` para generar predicciones en base a promedios.\n",
    "5. Entrene el pipeline anterior y reporte la métrica `mean_absolute_error` sobre los datos de validación. ¿Cómo se interpreta esta métrica para el contexto del negocio?\n",
    "6. Finalmente, vuelva a entrenar el `Pipeline` pero esta vez usando `XGBRegressor` como modelo **utilizando los parámetros por default**. ¿Cómo cambia el MAE al implementar este algoritmo? ¿Es mejor o peor que el `DummyRegressor`?\n",
    "7. Guarde ambos modelos en un archivo .pkl (uno cada uno)"
   ]
  },
  {
   "cell_type": "code",
   "execution_count": 15,
   "metadata": {
    "cell_id": "1482c992d9494e5582b23dbd3431dbfd",
    "deepnote_cell_type": "code"
   },
   "outputs": [
    {
     "name": "stdout",
     "output_type": "stream",
     "text": [
      "Dummy MAE: 13543.961387782238\n",
      "XGBoost MAE: 7008.988837929897\n"
     ]
    }
   ],
   "source": [
    "from sklearn.model_selection import train_test_split\n",
    "from sklearn.base import BaseEstimator, TransformerMixin\n",
    "from sklearn.compose import ColumnTransformer\n",
    "from sklearn.preprocessing import FunctionTransformer, OneHotEncoder, MinMaxScaler\n",
    "from sklearn.pipeline import Pipeline\n",
    "from sklearn.dummy import DummyRegressor\n",
    "from sklearn.metrics import mean_absolute_error\n",
    "from xgboost import XGBRegressor\n",
    "import pickle\n",
    "\n",
    "X = df.loc[:, ~df.columns.isin(['quantity'])]\n",
    "y = df.loc[:, 'quantity']\n",
    "\n",
    "X_train, X_test, y_train, y_test = train_test_split(X, y, test_size=0.1,random_state=42)\n",
    "X_train, X_val, y_train, y_val = train_test_split(X_train, y_train, test_size= 0.2/(0.2 + 0.7), random_state=42)\n",
    "\n",
    "def extract_date_info(df):\n",
    "    df['date'] = pd.to_datetime(df['date'])\n",
    "    df['day'] = df['date'].dt.day.astype('category')\n",
    "    df['month'] = df['date'].dt.month.astype('category')\n",
    "    df['year'] = df['date'].dt.year.astype('category')\n",
    "    return df.drop('date', axis=1)\n",
    "\n",
    "def get_feature_names_out(transformer, input_features=None):\n",
    "    return ['dia', 'mes', 'anho']\n",
    "\n",
    "\n",
    "date_transformer = ColumnTransformer(\n",
    "    [\n",
    "        ('cat', FunctionTransformer(extract_date_info, validate=False, feature_names_out=get_feature_names_out), ['date'])\n",
    "    ], remainder='passthrough'\n",
    ")\n",
    "date_transformer.set_output(transform=\"pandas\")\n",
    "\n",
    "numeric_features = X.select_dtypes(include=['int', 'float']).columns\n",
    "categorical_features = X.select_dtypes(include=['category']).columns\n",
    "\n",
    "preprocessor = ColumnTransformer(\n",
    "    transformers=[\n",
    "        ('minmax', MinMaxScaler(), [3,5,6,7,12]),\n",
    "        ('oh', OneHotEncoder(sparse_output=False), [0,1,2]),\n",
    "    ]\n",
    ")\n",
    "preprocessor.set_output(transform=\"pandas\")\n",
    "\n",
    "### Entrenamiento con regresor Dummy\n",
    "\n",
    "pipe = Pipeline(steps=[\n",
    "    ('date_extraction', date_transformer),\n",
    "    ('preprocessor', preprocessor),\n",
    "    ('regressor', DummyRegressor())\n",
    "])\n",
    "\n",
    "pipe.fit(X_train, y_train)\n",
    "y_pred = pipe.predict(X_val)\n",
    "mae_dummy = mean_absolute_error(y_val, y_pred)\n",
    "print(f'Dummy MAE: {mean_absolute_error(y_val, y_pred)}')\n",
    "\n",
    "with open('Dummy_model.pkl', 'wb') as f:\n",
    "    pickle.dump(pipe, f)\n",
    "\n",
    "### Entrenamiento con regresor XGBoost\n",
    "\n",
    "pipe = Pipeline(steps=[\n",
    "    ('date_extraction', date_transformer),\n",
    "    ('preprocessor', preprocessor),\n",
    "    ('regressor', XGBRegressor())\n",
    "])\n",
    "\n",
    "pipe.fit(X_train, y_train)\n",
    "y_pred = pipe.predict(X_val)\n",
    "mae_xgb_default = mean_absolute_error(y_val, y_pred)\n",
    "print(f'XGBoost MAE: {mae_xgb_default}')\n",
    "# pipe.fit_transform(X_train, y_train)\n",
    "\n",
    "with open('XGBoost_default_model.pkl', 'wb') as f:\n",
    "    pickle.dump(pipe, f)"
   ]
  },
  {
   "cell_type": "markdown",
   "metadata": {
    "cell_id": "7e17e46063774ec28226fe300d42ffe0",
    "deepnote_cell_type": "markdown"
   },
   "source": [
    "## 1.2 Forzando relaciones entre parámetros con XGBoost (1.0 puntos)\n",
    "\n",
    "<p align=\"center\">\n",
    "  <img src=\"https://64.media.tumblr.com/14cc45f9610a6ee341a45fd0d68f4dde/20d11b36022bca7b-bf/s640x960/67ab1db12ff73a530f649ac455c000945d99c0d6.gif\">\n",
    "</p>\n",
    "\n",
    "Un colega aficionado a la economía le *sopla* que la demanda guarda una relación inversa con el precio del producto. Motivado para impresionar al querido corpóreo, se propone hacer uso de esta información para mejorar su modelo.\n",
    "\n",
    "Vuelva a entrenar el `Pipeline`, pero esta vez forzando una relación monótona negativa entre el precio y la cantidad. Luego, vuelva a reportar el `MAE` sobre el conjunto de validación. ¿Cómo cambia el error al incluir esta relación? ¿Tenía razón su amigo?\n",
    "\n",
    "Nuevamente, guarde su modelo en un archivo .pkl\n",
    "\n",
    "Nota: Para realizar esta parte, debe apoyarse en la siguiente <a href = https://xgboost.readthedocs.io/en/stable/tutorials/monotonic.html>documentación</a>.\n",
    "\n",
    "Hint: Para implementar el constraint, se le sugiere hacerlo especificando el nombre de la variable. De ser así, probablemente le sea útil **mantener el formato de pandas** antes del step de entrenamiento."
   ]
  },
  {
   "cell_type": "code",
   "execution_count": 16,
   "metadata": {
    "cell_id": "f469f3b572be434191d2d5c3f11b20d2",
    "deepnote_cell_type": "code"
   },
   "outputs": [
    {
     "name": "stdout",
     "output_type": "stream",
     "text": [
      "XGBoost MAE: 7017.723224788185\n"
     ]
    }
   ],
   "source": [
    "# Inserte su código acá\n",
    "\n",
    "\n",
    "pipe = Pipeline(steps=[\n",
    "    ('date_extraction', date_transformer),\n",
    "    ('preprocessor', preprocessor),\n",
    "    ('regressor', XGBRegressor(monotone_constraints={'minmax__remainder__price': -1}))\n",
    "])\n",
    "\n",
    "pipe.fit(X_train, y_train)\n",
    "y_pred = pipe.predict(X_val)\n",
    "mae_xgb_mono = mean_absolute_error(y_val, y_pred)\n",
    "print(f'XGBoost MAE: {mean_absolute_error(y_val, y_pred)}')\n",
    "\n",
    "with open('XGBoost.pkl', 'wb') as f:\n",
    "    pickle.dump(pipe, f)"
   ]
  },
  {
   "cell_type": "markdown",
   "metadata": {
    "cell_id": "e59ef80ed20b4de8921f24da74e87374",
    "deepnote_cell_type": "markdown"
   },
   "source": [
    "## 1.3 Optimización de Hiperparámetros con Optuna (2.0 puntos)\n",
    "\n",
    "<p align=\"center\">\n",
    "  <img src=\"https://media.tenor.com/fmNdyGN4z5kAAAAi/hacking-lucy.gif\">\n",
    "</p>\n",
    "\n",
    "Luego de presentarle sus resultados, Fiu le pregunta si es posible mejorar *aun más* su modelo. En particular, le comenta de la optimización de hiperparámetros con metodologías bayesianas a través del paquete `optuna`. Como usted es un aficionado al entrenamiento de modelos de ML, se propone implementar la descabellada idea de su jefe.\n",
    "\n",
    "A partir de la mejor configuración obtenida en la sección anterior, utilice `optuna` para optimizar sus hiperparámetros. En particular, se le pide:\n",
    "\n",
    "- Fijar una semilla en las instancias necesarias para garantizar la reproducibilidad de resultados\n",
    "- Utilice `TPESampler` como método de muestreo\n",
    "- De `XGBRegressor`, optimice los siguientes hiperparámetros:\n",
    "    - `learning_rate` buscando valores flotantes en el rango (0.001, 0.1)\n",
    "    - `n_estimators` buscando valores enteros en el rango (50, 1000)\n",
    "    - `max_depth` buscando valores enteros en el rango (3, 10)\n",
    "    - `max_leaves` buscando valores enteros en el rango (0, 100)\n",
    "    - `min_child_weight` buscando valores enteros en el rango (1, 5)\n",
    "    - `reg_alpha` buscando valores flotantes en el rango (0, 1)\n",
    "    - `reg_lambda` buscando valores flotantes en el rango (0, 1)\n",
    "- De `OneHotEncoder`, optimice el hiperparámetro `min_frequency` buscando el mejor valor flotante en el rango (0.0, 1.0)\n",
    "- Explique cada hiperparámetro y su rol en el modelo. ¿Hacen sentido los rangos de optimización indicados?\n",
    "- Fije el tiempo de entrenamiento a 5 minutos\n",
    "- Reportar el número de *trials*, el `MAE` y los mejores hiperparámetros encontrados. ¿Cómo cambian sus resultados con respecto a la sección anterior? ¿A qué se puede deber esto?\n",
    "- Guardar su modelo en un archivo .pkl"
   ]
  },
  {
   "cell_type": "code",
   "execution_count": 29,
   "metadata": {
    "cell_id": "de5914621cc64cb0b1bacb9ff565a97e",
    "deepnote_cell_type": "code"
   },
   "outputs": [],
   "source": [
    "# Inserte su código acá\n",
    "import optuna\n",
    "\n",
    "def objective_function(trial):\n",
    "    # Split into features and target\n",
    "    X = df.loc[:, ~df.columns.isin(['quantity'])]\n",
    "    y = df.loc[:, 'quantity']\n",
    "\n",
    "    # Split into train and validation sets\n",
    "    X_train, X_test, y_train, y_test = train_test_split(X, y, test_size=0.1,random_state=42)\n",
    "    X_train, X_val, y_train, y_val = train_test_split(X_train, y_train, test_size= 0.2/(0.2 + 0.7), random_state=42)\n",
    "\n",
    "    # Define the hyperparameters to tune\n",
    "    params_xg = {\n",
    "        \"eval_metric\": mean_absolute_error,\n",
    "        \"learning_rate\": trial.suggest_float(\"learning_rate\", 0.001, 0.1),\n",
    "        \"n_estimators\": trial.suggest_int(\"n_estimators\", 50, 1000),\n",
    "        \"max_depth\": trial.suggest_int(\"max_depth\", 3, 10),\n",
    "        \"max_leaves\": trial.suggest_int(\"max_leaves\", 0, 100),\n",
    "        \"min_child_weight\": trial.suggest_int(\"min_child_weight\", 1, 5),\n",
    "        \"reg_alpha\": trial.suggest_float(\"reg_alpha\", 0, 1),\n",
    "        \"reg_lambda\": trial.suggest_float(\"reg_lambda\", 0, 1),\n",
    "    }\n",
    "    params_oh = {\n",
    "        \"min_frequency\": trial.suggest_float(\"min_frequency\", 0, 1)\n",
    "    }\n",
    "\n",
    "    def extract_date_info(df):\n",
    "        df['date'] = pd.to_datetime(df['date'])\n",
    "        df['day'] = df['date'].dt.day.astype('category')\n",
    "        df['month'] = df['date'].dt.month.astype('category')\n",
    "        df['year'] = df['date'].dt.year.astype('category')\n",
    "        return df.drop('date', axis=1)\n",
    "\n",
    "    def get_feature_names_out(transformer, input_features=None):\n",
    "        return ['dia', 'mes', 'anho']\n",
    "\n",
    "\n",
    "    date_transformer = ColumnTransformer(\n",
    "        [\n",
    "            ('cat', FunctionTransformer(extract_date_info, validate=False, feature_names_out=get_feature_names_out), ['date'])\n",
    "        ], remainder='passthrough'\n",
    "    )\n",
    "    date_transformer.set_output(transform=\"pandas\")\n",
    "\n",
    "    numeric_features = X.select_dtypes(include=['int', 'float']).columns\n",
    "    categorical_features = X.select_dtypes(include=['category']).columns\n",
    "\n",
    "    preprocessor = ColumnTransformer(\n",
    "        transformers=[\n",
    "            ('minmax', MinMaxScaler(), [3,5,6,7,12]),\n",
    "            ('oh', OneHotEncoder(sparse_output=False, **params_oh), [0,1,2]),\n",
    "        ]\n",
    "    )\n",
    "    preprocessor.set_output(transform=\"pandas\")\n",
    "\n",
    "    pipe = Pipeline(steps=[\n",
    "        ('date_extraction', date_transformer),\n",
    "        ('preprocessor', preprocessor),\n",
    "        ('regressor', XGBRegressor(seed=42, **params_xg))\n",
    "    ])\n",
    "\n",
    "\n",
    "    # Predict and evaluate the model\n",
    "    pipe.fit(X_train, y_train)\n",
    "    y_pred = pipe.predict(X_val)\n",
    "    mae = mean_absolute_error(y_val, y_pred)\n",
    "\n",
    "    return mae"
   ]
  },
  {
   "cell_type": "code",
   "execution_count": 30,
   "metadata": {},
   "outputs": [
    {
     "name": "stderr",
     "output_type": "stream",
     "text": [
      "Best trial: 211. Best value: 6581.59:  100%|██████████████████████████████████████████████████████████████| 05:00/05:00\n"
     ]
    }
   ],
   "source": [
    "optuna.logging.set_verbosity(optuna.logging.WARNING)\n",
    "study = optuna.create_study(direction=\"minimize\")\n",
    "study.optimize(objective_function, timeout=5*60, show_progress_bar = True)"
   ]
  },
  {
   "cell_type": "code",
   "execution_count": 31,
   "metadata": {},
   "outputs": [
    {
     "name": "stdout",
     "output_type": "stream",
     "text": [
      "XGBoost Best MAE: 6581.594174668872\n",
      "Optima Trials: 418\n"
     ]
    },
    {
     "data": {
      "text/plain": [
       "{'learning_rate': 0.08413604573426753,\n",
       " 'n_estimators': 578,\n",
       " 'max_depth': 3,\n",
       " 'max_leaves': 3,\n",
       " 'min_child_weight': 2,\n",
       " 'reg_alpha': 0.8262122480261269,\n",
       " 'reg_lambda': 0.7704823922790215,\n",
       " 'min_frequency': 0.035904239618016205}"
      ]
     },
     "execution_count": 31,
     "metadata": {},
     "output_type": "execute_result"
    }
   ],
   "source": [
    "mae_xgb_best = study.best_value\n",
    "print(f\"XGBoost Best MAE: {mae_xgb_best}\")\n",
    "print(f\"Optima Trials: {len(study.trials)}\")\n",
    "study.best_params"
   ]
  },
  {
   "cell_type": "code",
   "execution_count": 32,
   "metadata": {},
   "outputs": [],
   "source": [
    "params_oh = {k: v for k,v in list(study.best_params.items())[-1:]}\n",
    "params_xg = {k: v for k,v in list(study.best_params.items())[:-1]}\n",
    "\n",
    "preprocessor = ColumnTransformer(\n",
    "    transformers=[\n",
    "        ('minmax', MinMaxScaler(), [3,5,6,7,12]),\n",
    "        ('oh', OneHotEncoder(sparse_output=False, **params_oh), [0,1,2]),\n",
    "    ]\n",
    ")\n",
    "preprocessor.set_output(transform=\"pandas\")\n",
    "\n",
    "pipe = Pipeline(steps=[\n",
    "    ('date_extraction', date_transformer),\n",
    "    ('preprocessor', preprocessor),\n",
    "    ('regressor', XGBRegressor(seed=42, **params_xg))\n",
    "])\n",
    "\n",
    "\n",
    "with open('XGBoost_fitted.pkl', 'wb') as f:\n",
    "    pickle.dump(pipe, f)"
   ]
  },
  {
   "cell_type": "markdown",
   "metadata": {
    "cell_id": "5195ccfc37e044ad9453f6eb2754f631",
    "deepnote_cell_type": "markdown"
   },
   "source": [
    "## 1.4 Optimización de Hiperparámetros con Optuna y Prunners (1.7)\n",
    "\n",
    "<p align=\"center\">\n",
    "  <img src=\"https://i.pinimg.com/originals/90/16/f9/9016f919c2259f3d0e8fe465049638a7.gif\">\n",
    "</p>\n",
    "\n",
    "Después de optimizar el rendimiento de su modelo varias veces, Fiu le pregunta si no es posible optimizar el entrenamiento del modelo en sí mismo. Después de leer un par de post de personas de dudosa reputación en la *deepweb*, usted llega a la conclusión que puede cumplir este objetivo mediante la implementación de **Prunning**.\n",
    "\n",
    "Vuelva a optimizar los mismos hiperparámetros que la sección pasada, pero esta vez utilizando **Prunning** en la optimización. En particular, usted debe:\n",
    "\n",
    "- Responder: ¿Qué es prunning? ¿De qué forma debería impactar en el entrenamiento?\n",
    "- Utilizar `optuna.integration.XGBoostPruningCallback` como método de **Prunning**\n",
    "- Fijar nuevamente el tiempo de entrenamiento a 5 minutos\n",
    "- Reportar el número de *trials*, el `MAE` y los mejores hiperparámetros encontrados. ¿Cómo cambian sus resultados con respecto a la sección anterior? ¿A qué se puede deber esto?\n",
    "- Guardar su modelo en un archivo .pkl\n",
    "\n",
    "Nota: Si quieren silenciar los prints obtenidos en el prunning, pueden hacerlo mediante el siguiente comando:\n",
    "\n",
    "```\n",
    "optuna.logging.set_verbosity(optuna.logging.WARNING)\n",
    "```\n",
    "\n",
    "De implementar la opción anterior, pueden especificar `show_progress_bar = True` en el método `optimize` para *más sabor*.\n",
    "\n",
    "Hint: Si quieren especificar parámetros del método .fit() del modelo a través del pipeline, pueden hacerlo por medio de la siguiente sintaxis: `pipeline.fit(stepmodelo__parametro = valor)`\n",
    "\n",
    "Hint2: Este <a href = https://stackoverflow.com/questions/40329576/sklearn-pass-fit-parameters-to-xgboost-in-pipeline>enlace</a> les puede ser de ayuda en su implementación"
   ]
  },
  {
   "cell_type": "code",
   "execution_count": 33,
   "metadata": {
    "cell_id": "eeaa967cd8f6426d8c54f276c17dce79",
    "deepnote_cell_type": "code"
   },
   "outputs": [],
   "source": [
    "# Inserte su código acá\n",
    "\n",
    "\n",
    "def objective_function_pr(trial):\n",
    "    # Split into features and target\n",
    "    X = df.loc[:, ~df.columns.isin(['quantity'])]\n",
    "    y = df.loc[:, 'quantity']\n",
    "\n",
    "    # Split into train and validation sets\n",
    "    X_train, X_test, y_train, y_test = train_test_split(X, y, test_size=0.1,random_state=42)\n",
    "    X_train, X_val, y_train, y_val = train_test_split(X_train, y_train, test_size= 0.2/(0.2 + 0.7), random_state=42)\n",
    "\n",
    "    # Define the hyperparameters to tune\n",
    "    params_xg = {\n",
    "        \"eval_metric\": mean_absolute_error,\n",
    "        \"learning_rate\": trial.suggest_float(\"learning_rate\", 0.001, 0.1),\n",
    "        \"n_estimators\": trial.suggest_int(\"n_estimators\", 50, 1000),\n",
    "        \"max_depth\": trial.suggest_int(\"max_depth\", 3, 10),\n",
    "        \"max_leaves\": trial.suggest_int(\"max_leaves\", 0, 100),\n",
    "        \"min_child_weight\": trial.suggest_int(\"min_child_weight\", 1, 5),\n",
    "        \"reg_alpha\": trial.suggest_float(\"reg_alpha\", 0, 1),\n",
    "        \"reg_lambda\": trial.suggest_float(\"reg_lambda\", 0, 1),\n",
    "    }\n",
    "    params_oh = {\n",
    "        \"min_frequency\": trial.suggest_float(\"min_frequency\", 0, 1)\n",
    "    }\n",
    "\n",
    "    # Train the XGBoost model with prunning\n",
    "    pruning_callback = optuna.integration.XGBoostPruningCallback(\n",
    "        trial, observation_key=\"validation_0-mean_absolute_error\"\n",
    "    )\n",
    "\n",
    "    def extract_date_info(df):\n",
    "        df['date'] = pd.to_datetime(df['date'])\n",
    "        df['day'] = df['date'].dt.day.astype('category')\n",
    "        df['month'] = df['date'].dt.month.astype('category')\n",
    "        df['year'] = df['date'].dt.year.astype('category')\n",
    "        return df.drop('date', axis=1)\n",
    "\n",
    "    def get_feature_names_out(transformer, input_features=None):\n",
    "        return ['dia', 'mes', 'anho']\n",
    "\n",
    "\n",
    "    date_transformer = ColumnTransformer(\n",
    "        [\n",
    "            ('cat', FunctionTransformer(extract_date_info, validate=False, feature_names_out=get_feature_names_out), ['date'])\n",
    "        ], remainder='passthrough'\n",
    "    )\n",
    "    date_transformer.set_output(transform=\"pandas\")\n",
    "\n",
    "    numeric_features = X.select_dtypes(include=['int', 'float']).columns\n",
    "    categorical_features = X.select_dtypes(include=['category']).columns\n",
    "\n",
    "    preprocessor = ColumnTransformer(\n",
    "        transformers=[\n",
    "            ('minmax', MinMaxScaler(), [3,5,6,7,12]),\n",
    "            ('oh', OneHotEncoder(sparse_output=False, **params_oh), [0,1,2]),\n",
    "        ]\n",
    "    )\n",
    "    preprocessor.set_output(transform=\"pandas\")\n",
    "\n",
    "    pipe = Pipeline(steps=[\n",
    "        ('date_extraction', date_transformer),\n",
    "        ('preprocessor', preprocessor),\n",
    "        ('regressor', XGBRegressor(seed=42, **params_xg))\n",
    "    ])\n",
    "\n",
    "    semi_pipe = Pipeline(steps=[\n",
    "        ('date_extraction', date_transformer),\n",
    "        ('preprocessor', preprocessor),\n",
    "    ])\n",
    "\n",
    "    X_val_scaled = semi_pipe.fit_transform(X_val)\n",
    "\n",
    "\n",
    "    # Predict and evaluate the model\n",
    "    pipe.fit(X_train, y_train, regressor__callbacks=[pruning_callback], regressor__eval_set=[(X_val_scaled, y_val),])\n",
    "    y_pred = pipe.predict(X_val)\n",
    "    mae = mean_absolute_error(y_val, y_pred)\n",
    "\n",
    "    return mae"
   ]
  },
  {
   "cell_type": "code",
   "execution_count": 34,
   "metadata": {},
   "outputs": [
    {
     "name": "stderr",
     "output_type": "stream",
     "text": [
      "\r",
      "   0%|                                                                                                    | 00:00/05:00"
     ]
    },
    {
     "name": "stdout",
     "output_type": "stream",
     "text": [
      "[0]\tvalidation_0-rmse:31323.23665\tvalidation_0-mean_absolute_error:26386.21680\n",
      "[1]\tvalidation_0-rmse:29069.91426\tvalidation_0-mean_absolute_error:24159.15625\n",
      "[2]\tvalidation_0-rmse:27029.95286\tvalidation_0-mean_absolute_error:22129.70117\n",
      "[3]\tvalidation_0-rmse:25213.01238\tvalidation_0-mean_absolute_error:20292.32617\n",
      "[4]\tvalidation_0-rmse:23601.71087\tvalidation_0-mean_absolute_error:18643.86523\n",
      "[5]\tvalidation_0-rmse:22168.07812\tvalidation_0-mean_absolute_error:17174.52539\n",
      "[6]\tvalidation_0-rmse:20882.79417\tvalidation_0-mean_absolute_error:15886.06836\n",
      "[7]\tvalidation_0-rmse:19775.75359\tvalidation_0-mean_absolute_error:14778.34570\n",
      "[8]\tvalidation_0-rmse:18792.38245\tvalidation_0-mean_absolute_error:13831.65820\n",
      "[9]\tvalidation_0-rmse:17919.66157\tvalidation_0-mean_absolute_error:13018.31348\n",
      "[10]\tvalidation_0-rmse:17155.26006\tvalidation_0-mean_absolute_error:12333.06445\n",
      "[11]\tvalidation_0-rmse:16451.00056\tvalidation_0-mean_absolute_error:11725.12109\n",
      "[12]\tvalidation_0-rmse:15822.34604\tvalidation_0-mean_absolute_error:11207.12109\n",
      "[13]\tvalidation_0-rmse:15251.66731\tvalidation_0-mean_absolute_error:10746.66113\n",
      "[14]\tvalidation_0-rmse:14781.79510\tvalidation_0-mean_absolute_error:10385.85644\n",
      "[15]\tvalidation_0-rmse:14361.38929\tvalidation_0-mean_absolute_error:10068.20606\n",
      "[16]\tvalidation_0-rmse:13964.30615\tvalidation_0-mean_absolute_error:9772.95410\n",
      "[17]\tvalidation_0-rmse:13647.69255\tvalidation_0-mean_absolute_error:9547.97070\n",
      "[18]\tvalidation_0-rmse:13345.37956\tvalidation_0-mean_absolute_error:9343.19727\n",
      "[19]\tvalidation_0-rmse:13092.02925\tvalidation_0-mean_absolute_error:9173.16602\n",
      "[20]\tvalidation_0-rmse:12852.91948\tvalidation_0-mean_absolute_error:9014.15527\n",
      "[21]\tvalidation_0-rmse:12651.23017\tvalidation_0-mean_absolute_error:8869.67578\n",
      "[22]\tvalidation_0-rmse:12462.91135\tvalidation_0-mean_absolute_error:8754.64258\n",
      "[23]\tvalidation_0-rmse:12283.75345\tvalidation_0-mean_absolute_error:8636.49707\n",
      "[24]\tvalidation_0-rmse:12136.31958\tvalidation_0-mean_absolute_error:8536.26660\n",
      "[25]\tvalidation_0-rmse:11986.45735\tvalidation_0-mean_absolute_error:8445.24023\n",
      "[26]\tvalidation_0-rmse:11869.17406\tvalidation_0-mean_absolute_error:8360.13672\n",
      "[27]\tvalidation_0-rmse:11745.29435\tvalidation_0-mean_absolute_error:8282.05957\n"
     ]
    },
    {
     "name": "stderr",
     "output_type": "stream",
     "text": [
      "C:\\Users\\vicbe\\miniconda3\\envs\\MDS7202\\Lib\\site-packages\\xgboost\\sklearn.py:835: UserWarning:\n",
      "\n",
      "`callbacks` in `fit` method is deprecated for better compatibility with scikit-learn, use `callbacks` in constructor or`set_params` instead.\n",
      "\n"
     ]
    },
    {
     "name": "stdout",
     "output_type": "stream",
     "text": [
      "[28]\tvalidation_0-rmse:11630.20114\tvalidation_0-mean_absolute_error:8211.53418\n",
      "[29]\tvalidation_0-rmse:11536.26105\tvalidation_0-mean_absolute_error:8149.20898\n",
      "[30]\tvalidation_0-rmse:11440.68326\tvalidation_0-mean_absolute_error:8091.93359\n",
      "[31]\tvalidation_0-rmse:11368.92272\tvalidation_0-mean_absolute_error:8053.98145\n",
      "[32]\tvalidation_0-rmse:11295.62373\tvalidation_0-mean_absolute_error:8006.72119\n",
      "[33]\tvalidation_0-rmse:11227.66428\tvalidation_0-mean_absolute_error:7960.99756\n",
      "[34]\tvalidation_0-rmse:11171.49540\tvalidation_0-mean_absolute_error:7928.77490\n",
      "[35]\tvalidation_0-rmse:11131.74320\tvalidation_0-mean_absolute_error:7909.30957\n",
      "[36]\tvalidation_0-rmse:11075.05505\tvalidation_0-mean_absolute_error:7872.16748\n",
      "[37]\tvalidation_0-rmse:11036.74040\tvalidation_0-mean_absolute_error:7853.57129\n",
      "[38]\tvalidation_0-rmse:10983.69630\tvalidation_0-mean_absolute_error:7821.75537\n",
      "[39]\tvalidation_0-rmse:10945.77484\tvalidation_0-mean_absolute_error:7794.47363\n",
      "[40]\tvalidation_0-rmse:10908.12907\tvalidation_0-mean_absolute_error:7775.13428\n",
      "[41]\tvalidation_0-rmse:10875.93216\tvalidation_0-mean_absolute_error:7756.83398\n",
      "[42]\tvalidation_0-rmse:10846.47729\tvalidation_0-mean_absolute_error:7740.92578\n",
      "[43]\tvalidation_0-rmse:10817.13131\tvalidation_0-mean_absolute_error:7728.03467\n",
      "[44]\tvalidation_0-rmse:10802.19913\tvalidation_0-mean_absolute_error:7722.56982\n",
      "[45]\tvalidation_0-rmse:10788.47924\tvalidation_0-mean_absolute_error:7717.66016\n",
      "[46]\tvalidation_0-rmse:10774.02737\tvalidation_0-mean_absolute_error:7709.32861\n",
      "[47]\tvalidation_0-rmse:10759.00387\tvalidation_0-mean_absolute_error:7706.40820\n",
      "[48]\tvalidation_0-rmse:10751.06781\tvalidation_0-mean_absolute_error:7708.98340\n",
      "[49]\tvalidation_0-rmse:10730.92946\tvalidation_0-mean_absolute_error:7696.00928\n",
      "[50]\tvalidation_0-rmse:10723.38671\tvalidation_0-mean_absolute_error:7689.56885\n",
      "[51]\tvalidation_0-rmse:10726.05235\tvalidation_0-mean_absolute_error:7693.22461\n",
      "[52]\tvalidation_0-rmse:10714.99098\tvalidation_0-mean_absolute_error:7689.62988\n",
      "[53]\tvalidation_0-rmse:10696.86255\tvalidation_0-mean_absolute_error:7676.03467\n",
      "[54]\tvalidation_0-rmse:10692.33574\tvalidation_0-mean_absolute_error:7671.04834\n",
      "[55]\tvalidation_0-rmse:10678.12626\tvalidation_0-mean_absolute_error:7660.64209\n",
      "[56]\tvalidation_0-rmse:10677.47865\tvalidation_0-mean_absolute_error:7658.73730\n",
      "[57]\tvalidation_0-rmse:10672.80993\tvalidation_0-mean_absolute_error:7657.57910\n",
      "[58]\tvalidation_0-rmse:10669.15997\tvalidation_0-mean_absolute_error:7652.66553\n",
      "[59]\tvalidation_0-rmse:10671.26337\tvalidation_0-mean_absolute_error:7653.17969\n",
      "[60]\tvalidation_0-rmse:10671.03877\tvalidation_0-mean_absolute_error:7651.86865\n",
      "[61]\tvalidation_0-rmse:10664.40901\tvalidation_0-mean_absolute_error:7652.19434\n",
      "[62]\tvalidation_0-rmse:10657.06106\tvalidation_0-mean_absolute_error:7645.18018\n",
      "[63]\tvalidation_0-rmse:10653.36162\tvalidation_0-mean_absolute_error:7643.64062\n",
      "[64]\tvalidation_0-rmse:10651.42105\tvalidation_0-mean_absolute_error:7641.36572\n",
      "[65]\tvalidation_0-rmse:10656.19709\tvalidation_0-mean_absolute_error:7645.17676\n",
      "[66]\tvalidation_0-rmse:10644.41722\tvalidation_0-mean_absolute_error:7634.40772\n",
      "[67]\tvalidation_0-rmse:10640.21464\tvalidation_0-mean_absolute_error:7635.35107\n",
      "[68]\tvalidation_0-rmse:10636.12572\tvalidation_0-mean_absolute_error:7632.47852\n",
      "[69]\tvalidation_0-rmse:10640.35449\tvalidation_0-mean_absolute_error:7634.55225\n",
      "[70]\tvalidation_0-rmse:10639.80770\tvalidation_0-mean_absolute_error:7635.79199\n",
      "[71]\tvalidation_0-rmse:10640.40639\tvalidation_0-mean_absolute_error:7636.38184\n",
      "[72]\tvalidation_0-rmse:10637.43781\tvalidation_0-mean_absolute_error:7632.87207\n",
      "[73]\tvalidation_0-rmse:10643.19663\tvalidation_0-mean_absolute_error:7634.57617\n",
      "[74]\tvalidation_0-rmse:10641.20544\tvalidation_0-mean_absolute_error:7634.90088\n",
      "[75]\tvalidation_0-rmse:10643.66724\tvalidation_0-mean_absolute_error:7636.06152\n",
      "[76]\tvalidation_0-rmse:10645.79819\tvalidation_0-mean_absolute_error:7639.69629\n",
      "[77]\tvalidation_0-rmse:10652.53501\tvalidation_0-mean_absolute_error:7642.60205\n",
      "[78]\tvalidation_0-rmse:10649.77045\tvalidation_0-mean_absolute_error:7641.44482\n",
      "[79]\tvalidation_0-rmse:10653.41639\tvalidation_0-mean_absolute_error:7643.25049\n",
      "[80]\tvalidation_0-rmse:10655.71134\tvalidation_0-mean_absolute_error:7642.96240\n",
      "[81]\tvalidation_0-rmse:10660.85791\tvalidation_0-mean_absolute_error:7648.42773\n",
      "[82]\tvalidation_0-rmse:10662.36149\tvalidation_0-mean_absolute_error:7650.29639\n",
      "[83]\tvalidation_0-rmse:10667.69567\tvalidation_0-mean_absolute_error:7659.49219\n",
      "[84]\tvalidation_0-rmse:10664.12294\tvalidation_0-mean_absolute_error:7655.43018\n",
      "[85]\tvalidation_0-rmse:10665.96091\tvalidation_0-mean_absolute_error:7659.52686\n",
      "[86]\tvalidation_0-rmse:10666.62305\tvalidation_0-mean_absolute_error:7658.97070\n",
      "[87]\tvalidation_0-rmse:10666.67520\tvalidation_0-mean_absolute_error:7658.87647\n",
      "[88]\tvalidation_0-rmse:10669.12623\tvalidation_0-mean_absolute_error:7659.99853\n",
      "[89]\tvalidation_0-rmse:10672.73116\tvalidation_0-mean_absolute_error:7664.47266\n",
      "[90]\tvalidation_0-rmse:10673.74972\tvalidation_0-mean_absolute_error:7663.73340\n",
      "[91]\tvalidation_0-rmse:10677.21227\tvalidation_0-mean_absolute_error:7666.59473\n",
      "[92]\tvalidation_0-rmse:10677.38978\tvalidation_0-mean_absolute_error:7666.96387\n",
      "[93]\tvalidation_0-rmse:10680.21062\tvalidation_0-mean_absolute_error:7668.09766\n",
      "[94]\tvalidation_0-rmse:10684.76522\tvalidation_0-mean_absolute_error:7672.52832\n",
      "[95]\tvalidation_0-rmse:10691.68911\tvalidation_0-mean_absolute_error:7676.17236\n",
      "[96]\tvalidation_0-rmse:10690.02615\tvalidation_0-mean_absolute_error:7672.92871\n",
      "[97]\tvalidation_0-rmse:10693.97327\tvalidation_0-mean_absolute_error:7675.15137\n",
      "[98]\tvalidation_0-rmse:10692.95882\tvalidation_0-mean_absolute_error:7673.39160\n",
      "[99]\tvalidation_0-rmse:10690.32182\tvalidation_0-mean_absolute_error:7672.93701\n",
      "[100]\tvalidation_0-rmse:10687.13099\tvalidation_0-mean_absolute_error:7671.69971\n",
      "[101]\tvalidation_0-rmse:10686.18981\tvalidation_0-mean_absolute_error:7671.55518\n",
      "[102]\tvalidation_0-rmse:10687.90120\tvalidation_0-mean_absolute_error:7673.12353\n",
      "[103]\tvalidation_0-rmse:10688.13200\tvalidation_0-mean_absolute_error:7673.41309\n",
      "[104]\tvalidation_0-rmse:10688.29486\tvalidation_0-mean_absolute_error:7673.84180\n",
      "[105]\tvalidation_0-rmse:10689.48214\tvalidation_0-mean_absolute_error:7675.41309\n",
      "[106]\tvalidation_0-rmse:10689.09864\tvalidation_0-mean_absolute_error:7675.25537\n",
      "[107]\tvalidation_0-rmse:10694.54519\tvalidation_0-mean_absolute_error:7680.42773\n",
      "[108]\tvalidation_0-rmse:10695.36083\tvalidation_0-mean_absolute_error:7681.48584\n",
      "[109]\tvalidation_0-rmse:10696.11568\tvalidation_0-mean_absolute_error:7684.62451\n",
      "[110]\tvalidation_0-rmse:10699.24600\tvalidation_0-mean_absolute_error:7687.25488\n",
      "[111]\tvalidation_0-rmse:10696.01560\tvalidation_0-mean_absolute_error:7687.95850\n",
      "[112]\tvalidation_0-rmse:10695.76133\tvalidation_0-mean_absolute_error:7687.20898\n",
      "[113]\tvalidation_0-rmse:10702.88749\tvalidation_0-mean_absolute_error:7691.26953\n",
      "[114]\tvalidation_0-rmse:10702.27655\tvalidation_0-mean_absolute_error:7691.06299\n",
      "[115]\tvalidation_0-rmse:10704.16934\tvalidation_0-mean_absolute_error:7691.90869\n",
      "[116]\tvalidation_0-rmse:10705.02023\tvalidation_0-mean_absolute_error:7693.54688\n",
      "[117]\tvalidation_0-rmse:10706.41795\tvalidation_0-mean_absolute_error:7693.93311\n",
      "[118]\tvalidation_0-rmse:10706.53823\tvalidation_0-mean_absolute_error:7693.72803\n",
      "[119]\tvalidation_0-rmse:10706.66907\tvalidation_0-mean_absolute_error:7693.86914\n",
      "[120]\tvalidation_0-rmse:10707.17840\tvalidation_0-mean_absolute_error:7694.52539\n",
      "[121]\tvalidation_0-rmse:10708.12305\tvalidation_0-mean_absolute_error:7695.41406\n",
      "[122]\tvalidation_0-rmse:10709.68971\tvalidation_0-mean_absolute_error:7696.49512\n",
      "[123]\tvalidation_0-rmse:10716.15749\tvalidation_0-mean_absolute_error:7699.25195\n",
      "[124]\tvalidation_0-rmse:10717.23551\tvalidation_0-mean_absolute_error:7698.32715\n",
      "[125]\tvalidation_0-rmse:10718.46686\tvalidation_0-mean_absolute_error:7698.57129\n",
      "[126]\tvalidation_0-rmse:10720.23705\tvalidation_0-mean_absolute_error:7698.43701\n",
      "[127]\tvalidation_0-rmse:10721.12152\tvalidation_0-mean_absolute_error:7698.31836\n",
      "[128]\tvalidation_0-rmse:10722.40020\tvalidation_0-mean_absolute_error:7698.84570\n",
      "[129]\tvalidation_0-rmse:10733.13725\tvalidation_0-mean_absolute_error:7705.99853\n",
      "[130]\tvalidation_0-rmse:10732.41823\tvalidation_0-mean_absolute_error:7706.34326\n",
      "[131]\tvalidation_0-rmse:10729.08477\tvalidation_0-mean_absolute_error:7704.19824\n"
     ]
    },
    {
     "name": "stdout",
     "output_type": "stream",
     "text": [
      "[132]\tvalidation_0-rmse:10732.65630\tvalidation_0-mean_absolute_error:7707.17871\n",
      "[133]\tvalidation_0-rmse:10732.08064\tvalidation_0-mean_absolute_error:7707.79980\n",
      "[134]\tvalidation_0-rmse:10734.78094\tvalidation_0-mean_absolute_error:7710.05420\n",
      "[135]\tvalidation_0-rmse:10735.14383\tvalidation_0-mean_absolute_error:7712.42383\n",
      "[136]\tvalidation_0-rmse:10735.29176\tvalidation_0-mean_absolute_error:7712.54883\n",
      "[137]\tvalidation_0-rmse:10738.86163\tvalidation_0-mean_absolute_error:7717.05908\n",
      "[138]\tvalidation_0-rmse:10739.89709\tvalidation_0-mean_absolute_error:7717.29102\n",
      "[139]\tvalidation_0-rmse:10735.70925\tvalidation_0-mean_absolute_error:7714.01074\n",
      "[140]\tvalidation_0-rmse:10736.10504\tvalidation_0-mean_absolute_error:7714.64258\n",
      "[141]\tvalidation_0-rmse:10739.05673\tvalidation_0-mean_absolute_error:7717.11670\n",
      "[142]\tvalidation_0-rmse:10739.32249\tvalidation_0-mean_absolute_error:7717.37402\n",
      "[143]\tvalidation_0-rmse:10739.47658\tvalidation_0-mean_absolute_error:7717.31641\n",
      "[144]\tvalidation_0-rmse:10738.32521\tvalidation_0-mean_absolute_error:7717.74121\n",
      "[145]\tvalidation_0-rmse:10740.60154\tvalidation_0-mean_absolute_error:7721.02002\n",
      "[146]\tvalidation_0-rmse:10742.00027\tvalidation_0-mean_absolute_error:7720.45996\n",
      "[147]\tvalidation_0-rmse:10741.41937\tvalidation_0-mean_absolute_error:7720.27490\n",
      "[148]\tvalidation_0-rmse:10742.19518\tvalidation_0-mean_absolute_error:7720.61523\n",
      "[149]\tvalidation_0-rmse:10741.26256\tvalidation_0-mean_absolute_error:7721.19189\n",
      "[150]\tvalidation_0-rmse:10745.70451\tvalidation_0-mean_absolute_error:7723.13965\n",
      "[151]\tvalidation_0-rmse:10745.06921\tvalidation_0-mean_absolute_error:7723.16211\n",
      "[152]\tvalidation_0-rmse:10746.21045\tvalidation_0-mean_absolute_error:7722.67383\n",
      "[153]\tvalidation_0-rmse:10747.76127\tvalidation_0-mean_absolute_error:7724.52930\n",
      "[154]\tvalidation_0-rmse:10747.19028\tvalidation_0-mean_absolute_error:7725.98242\n",
      "[155]\tvalidation_0-rmse:10746.76228\tvalidation_0-mean_absolute_error:7725.47070\n",
      "[156]\tvalidation_0-rmse:10748.34434\tvalidation_0-mean_absolute_error:7726.67480\n",
      "[157]\tvalidation_0-rmse:10747.65621\tvalidation_0-mean_absolute_error:7726.96777\n",
      "[158]\tvalidation_0-rmse:10752.01520\tvalidation_0-mean_absolute_error:7729.32178\n",
      "[159]\tvalidation_0-rmse:10751.22465\tvalidation_0-mean_absolute_error:7730.56103\n",
      "[160]\tvalidation_0-rmse:10752.68234\tvalidation_0-mean_absolute_error:7732.30518\n",
      "[161]\tvalidation_0-rmse:10752.87316\tvalidation_0-mean_absolute_error:7732.44043\n"
     ]
    },
    {
     "name": "stderr",
     "output_type": "stream",
     "text": [
      "Best trial: 0. Best value: 7412.63:    0%|▏                                                               | 00:00/05:00"
     ]
    },
    {
     "name": "stdout",
     "output_type": "stream",
     "text": [
      "[0]\tvalidation_0-rmse:33150.68122\tvalidation_0-mean_absolute_error:28154.89062\n",
      "[1]\tvalidation_0-rmse:32448.34849\tvalidation_0-mean_absolute_error:27464.08008\n",
      "[2]\tvalidation_0-rmse:31764.64702\tvalidation_0-mean_absolute_error:26790.83984\n",
      "[3]\tvalidation_0-rmse:31105.82164\tvalidation_0-mean_absolute_error:26136.62109\n",
      "[4]\tvalidation_0-rmse:30466.56888\tvalidation_0-mean_absolute_error:25502.45508\n",
      "[5]\tvalidation_0-rmse:29844.63601\tvalidation_0-mean_absolute_error:24882.18164\n",
      "[6]\tvalidation_0-rmse:29243.04180\tvalidation_0-mean_absolute_error:24280.04883\n",
      "[7]\tvalidation_0-rmse:28660.44985\tvalidation_0-mean_absolute_error:23695.50977\n",
      "[8]\tvalidation_0-rmse:28094.79279\tvalidation_0-mean_absolute_error:23124.65430\n",
      "[9]\tvalidation_0-rmse:27546.30408\tvalidation_0-mean_absolute_error:22569.12695\n",
      "[10]\tvalidation_0-rmse:27016.05740\tvalidation_0-mean_absolute_error:22030.39453\n",
      "[11]\tvalidation_0-rmse:26501.28307\tvalidation_0-mean_absolute_error:21505.01367\n",
      "[12]\tvalidation_0-rmse:26000.80781\tvalidation_0-mean_absolute_error:20993.58203\n",
      "[13]\tvalidation_0-rmse:25517.12663\tvalidation_0-mean_absolute_error:20496.21484\n",
      "[14]\tvalidation_0-rmse:25046.48720\tvalidation_0-mean_absolute_error:20012.04102\n",
      "[15]\tvalidation_0-rmse:24594.52580\tvalidation_0-mean_absolute_error:19542.83008\n",
      "[16]\tvalidation_0-rmse:24152.12304\tvalidation_0-mean_absolute_error:19083.33203\n",
      "[17]\tvalidation_0-rmse:23721.62247\tvalidation_0-mean_absolute_error:18637.77344\n",
      "[18]\tvalidation_0-rmse:23306.69275\tvalidation_0-mean_absolute_error:18209.66016\n",
      "[19]\tvalidation_0-rmse:22906.14863\tvalidation_0-mean_absolute_error:17800.12109\n",
      "[20]\tvalidation_0-rmse:22521.68282\tvalidation_0-mean_absolute_error:17409.72852\n",
      "[21]\tvalidation_0-rmse:22147.83791\tvalidation_0-mean_absolute_error:17030.34570\n",
      "[22]\tvalidation_0-rmse:21787.34313\tvalidation_0-mean_absolute_error:16665.03516\n",
      "[23]\tvalidation_0-rmse:21438.13319\tvalidation_0-mean_absolute_error:16311.25879\n",
      "[24]\tvalidation_0-rmse:21100.69617\tvalidation_0-mean_absolute_error:15970.15918\n",
      "[25]\tvalidation_0-rmse:20774.40629\tvalidation_0-mean_absolute_error:15641.33203\n",
      "[26]\tvalidation_0-rmse:20455.85265\tvalidation_0-mean_absolute_error:15324.61133\n",
      "[27]\tvalidation_0-rmse:20149.95528\tvalidation_0-mean_absolute_error:15019.61914\n",
      "[28]\tvalidation_0-rmse:19849.94191\tvalidation_0-mean_absolute_error:14725.11523\n",
      "[29]\tvalidation_0-rmse:19563.99747\tvalidation_0-mean_absolute_error:14445.77734\n",
      "[30]\tvalidation_0-rmse:19287.30346\tvalidation_0-mean_absolute_error:14179.69824\n",
      "[31]\tvalidation_0-rmse:19016.29283\tvalidation_0-mean_absolute_error:13920.43652\n",
      "[32]\tvalidation_0-rmse:18751.76517\tvalidation_0-mean_absolute_error:13674.06934\n",
      "[33]\tvalidation_0-rmse:18503.42465\tvalidation_0-mean_absolute_error:13441.54785\n",
      "[34]\tvalidation_0-rmse:18253.81663\tvalidation_0-mean_absolute_error:13214.87891\n",
      "[35]\tvalidation_0-rmse:18020.08440\tvalidation_0-mean_absolute_error:13000.44238\n"
     ]
    },
    {
     "name": "stderr",
     "output_type": "stream",
     "text": [
      "C:\\Users\\vicbe\\miniconda3\\envs\\MDS7202\\Lib\\site-packages\\xgboost\\sklearn.py:835: UserWarning:\n",
      "\n",
      "`callbacks` in `fit` method is deprecated for better compatibility with scikit-learn, use `callbacks` in constructor or`set_params` instead.\n",
      "\n"
     ]
    },
    {
     "name": "stdout",
     "output_type": "stream",
     "text": [
      "[36]\tvalidation_0-rmse:17791.47757\tvalidation_0-mean_absolute_error:12796.74219\n",
      "[37]\tvalidation_0-rmse:17570.88402\tvalidation_0-mean_absolute_error:12604.68457\n",
      "[38]\tvalidation_0-rmse:17354.56293\tvalidation_0-mean_absolute_error:12420.21973\n",
      "[39]\tvalidation_0-rmse:17147.43491\tvalidation_0-mean_absolute_error:12246.26856\n",
      "[40]\tvalidation_0-rmse:16953.16854\tvalidation_0-mean_absolute_error:12079.86035\n",
      "[41]\tvalidation_0-rmse:16758.22428\tvalidation_0-mean_absolute_error:11919.28418\n",
      "[42]\tvalidation_0-rmse:16574.59074\tvalidation_0-mean_absolute_error:11768.07519\n",
      "[43]\tvalidation_0-rmse:16390.57064\tvalidation_0-mean_absolute_error:11616.54981\n",
      "[44]\tvalidation_0-rmse:16221.82792\tvalidation_0-mean_absolute_error:11479.86621\n",
      "[45]\tvalidation_0-rmse:16053.99990\tvalidation_0-mean_absolute_error:11348.75293\n",
      "[46]\tvalidation_0-rmse:15895.55144\tvalidation_0-mean_absolute_error:11222.93848\n",
      "[47]\tvalidation_0-rmse:15742.23011\tvalidation_0-mean_absolute_error:11102.52637\n",
      "[48]\tvalidation_0-rmse:15592.78440\tvalidation_0-mean_absolute_error:10986.43652\n",
      "[49]\tvalidation_0-rmse:15447.07556\tvalidation_0-mean_absolute_error:10875.48828\n",
      "[50]\tvalidation_0-rmse:15303.47527\tvalidation_0-mean_absolute_error:10768.20898\n",
      "[51]\tvalidation_0-rmse:15166.60954\tvalidation_0-mean_absolute_error:10665.07324\n",
      "[52]\tvalidation_0-rmse:15037.26107\tvalidation_0-mean_absolute_error:10569.70019\n",
      "[53]\tvalidation_0-rmse:14912.40830\tvalidation_0-mean_absolute_error:10476.40430\n",
      "[54]\tvalidation_0-rmse:14787.08842\tvalidation_0-mean_absolute_error:10381.37891\n",
      "[55]\tvalidation_0-rmse:14675.00414\tvalidation_0-mean_absolute_error:10302.64258\n",
      "[56]\tvalidation_0-rmse:14560.93177\tvalidation_0-mean_absolute_error:10219.58203\n",
      "[57]\tvalidation_0-rmse:14449.84713\tvalidation_0-mean_absolute_error:10136.56543\n",
      "[58]\tvalidation_0-rmse:14347.61624\tvalidation_0-mean_absolute_error:10059.47559\n",
      "[59]\tvalidation_0-rmse:14248.90940\tvalidation_0-mean_absolute_error:9989.03613\n",
      "[60]\tvalidation_0-rmse:14146.88295\tvalidation_0-mean_absolute_error:9913.28320\n",
      "[61]\tvalidation_0-rmse:14053.38744\tvalidation_0-mean_absolute_error:9844.27441\n",
      "[62]\tvalidation_0-rmse:13962.83612\tvalidation_0-mean_absolute_error:9779.46289\n",
      "[63]\tvalidation_0-rmse:13865.07139\tvalidation_0-mean_absolute_error:9710.02637\n",
      "[64]\tvalidation_0-rmse:13770.76480\tvalidation_0-mean_absolute_error:9643.04590\n",
      "[65]\tvalidation_0-rmse:13685.96463\tvalidation_0-mean_absolute_error:9586.08691\n",
      "[66]\tvalidation_0-rmse:13607.31308\tvalidation_0-mean_absolute_error:9531.41504\n",
      "[67]\tvalidation_0-rmse:13530.35594\tvalidation_0-mean_absolute_error:9475.55273\n",
      "[68]\tvalidation_0-rmse:13444.39948\tvalidation_0-mean_absolute_error:9413.65723\n",
      "[69]\tvalidation_0-rmse:13372.32518\tvalidation_0-mean_absolute_error:9364.21582\n",
      "[70]\tvalidation_0-rmse:13301.92747\tvalidation_0-mean_absolute_error:9316.48731\n",
      "[71]\tvalidation_0-rmse:13233.58136\tvalidation_0-mean_absolute_error:9270.52637\n",
      "[72]\tvalidation_0-rmse:13169.82207\tvalidation_0-mean_absolute_error:9227.74902\n",
      "[73]\tvalidation_0-rmse:13098.25114\tvalidation_0-mean_absolute_error:9176.90723\n",
      "[74]\tvalidation_0-rmse:13037.29616\tvalidation_0-mean_absolute_error:9134.83594\n",
      "[75]\tvalidation_0-rmse:12959.44095\tvalidation_0-mean_absolute_error:9079.71191\n",
      "[76]\tvalidation_0-rmse:12892.59443\tvalidation_0-mean_absolute_error:9033.78906\n",
      "[77]\tvalidation_0-rmse:12831.43814\tvalidation_0-mean_absolute_error:8991.75781\n",
      "[78]\tvalidation_0-rmse:12769.16660\tvalidation_0-mean_absolute_error:8951.18066\n",
      "[79]\tvalidation_0-rmse:12711.24184\tvalidation_0-mean_absolute_error:8913.51367\n",
      "[80]\tvalidation_0-rmse:12644.43308\tvalidation_0-mean_absolute_error:8867.31543\n",
      "[81]\tvalidation_0-rmse:12596.15384\tvalidation_0-mean_absolute_error:8838.47168\n",
      "[82]\tvalidation_0-rmse:12542.77534\tvalidation_0-mean_absolute_error:8805.08301\n",
      "[83]\tvalidation_0-rmse:12492.74865\tvalidation_0-mean_absolute_error:8772.81445\n",
      "[84]\tvalidation_0-rmse:12446.29622\tvalidation_0-mean_absolute_error:8743.87402\n",
      "[85]\tvalidation_0-rmse:12397.98425\tvalidation_0-mean_absolute_error:8712.19141\n",
      "[86]\tvalidation_0-rmse:12357.09813\tvalidation_0-mean_absolute_error:8687.35352\n",
      "[87]\tvalidation_0-rmse:12315.30205\tvalidation_0-mean_absolute_error:8663.44922\n",
      "[88]\tvalidation_0-rmse:12270.40964\tvalidation_0-mean_absolute_error:8633.51562\n",
      "[89]\tvalidation_0-rmse:12231.31326\tvalidation_0-mean_absolute_error:8611.18066\n",
      "[90]\tvalidation_0-rmse:12184.37426\tvalidation_0-mean_absolute_error:8579.42188\n",
      "[91]\tvalidation_0-rmse:12151.10912\tvalidation_0-mean_absolute_error:8561.47363\n",
      "[92]\tvalidation_0-rmse:12117.34745\tvalidation_0-mean_absolute_error:8543.90723\n",
      "[93]\tvalidation_0-rmse:12082.28451\tvalidation_0-mean_absolute_error:8523.60742\n",
      "[94]\tvalidation_0-rmse:12050.81328\tvalidation_0-mean_absolute_error:8505.97754\n",
      "[95]\tvalidation_0-rmse:12011.60960\tvalidation_0-mean_absolute_error:8480.74414\n",
      "[96]\tvalidation_0-rmse:11972.62433\tvalidation_0-mean_absolute_error:8455.86914\n",
      "[97]\tvalidation_0-rmse:11945.95638\tvalidation_0-mean_absolute_error:8441.00781\n",
      "[98]\tvalidation_0-rmse:11907.39502\tvalidation_0-mean_absolute_error:8414.61231\n",
      "[99]\tvalidation_0-rmse:11878.79350\tvalidation_0-mean_absolute_error:8398.69434\n",
      "[100]\tvalidation_0-rmse:11854.88950\tvalidation_0-mean_absolute_error:8386.07812\n",
      "[101]\tvalidation_0-rmse:11823.56062\tvalidation_0-mean_absolute_error:8365.11816\n",
      "[102]\tvalidation_0-rmse:11790.49799\tvalidation_0-mean_absolute_error:8341.95606\n",
      "[103]\tvalidation_0-rmse:11761.33133\tvalidation_0-mean_absolute_error:8322.22266\n",
      "[104]\tvalidation_0-rmse:11734.24674\tvalidation_0-mean_absolute_error:8307.01074\n",
      "[105]\tvalidation_0-rmse:11711.06599\tvalidation_0-mean_absolute_error:8295.33203\n",
      "[106]\tvalidation_0-rmse:11681.09606\tvalidation_0-mean_absolute_error:8274.88769\n",
      "[107]\tvalidation_0-rmse:11644.86544\tvalidation_0-mean_absolute_error:8248.34961\n",
      "[108]\tvalidation_0-rmse:11621.11475\tvalidation_0-mean_absolute_error:8235.11621\n",
      "[109]\tvalidation_0-rmse:11602.05646\tvalidation_0-mean_absolute_error:8224.20410\n",
      "[110]\tvalidation_0-rmse:11574.11439\tvalidation_0-mean_absolute_error:8205.29883\n",
      "[111]\tvalidation_0-rmse:11545.87335\tvalidation_0-mean_absolute_error:8186.03467\n",
      "[112]\tvalidation_0-rmse:11527.35282\tvalidation_0-mean_absolute_error:8174.90478\n",
      "[113]\tvalidation_0-rmse:11506.46922\tvalidation_0-mean_absolute_error:8162.53906\n",
      "[114]\tvalidation_0-rmse:11487.71012\tvalidation_0-mean_absolute_error:8151.17285\n",
      "[115]\tvalidation_0-rmse:11466.15790\tvalidation_0-mean_absolute_error:8138.78906\n",
      "[116]\tvalidation_0-rmse:11446.03014\tvalidation_0-mean_absolute_error:8125.96387\n",
      "[117]\tvalidation_0-rmse:11423.55308\tvalidation_0-mean_absolute_error:8114.02148\n",
      "[118]\tvalidation_0-rmse:11395.58350\tvalidation_0-mean_absolute_error:8095.76465\n",
      "[119]\tvalidation_0-rmse:11372.76601\tvalidation_0-mean_absolute_error:8080.16748\n",
      "[120]\tvalidation_0-rmse:11356.92562\tvalidation_0-mean_absolute_error:8070.92676\n",
      "[121]\tvalidation_0-rmse:11333.52943\tvalidation_0-mean_absolute_error:8055.69092\n",
      "[122]\tvalidation_0-rmse:11314.94825\tvalidation_0-mean_absolute_error:8045.99609\n",
      "[123]\tvalidation_0-rmse:11296.84972\tvalidation_0-mean_absolute_error:8032.98242\n",
      "[124]\tvalidation_0-rmse:11283.67069\tvalidation_0-mean_absolute_error:8024.82568\n",
      "[125]\tvalidation_0-rmse:11265.84108\tvalidation_0-mean_absolute_error:8013.57617\n",
      "[126]\tvalidation_0-rmse:11248.40884\tvalidation_0-mean_absolute_error:8003.34717\n",
      "[127]\tvalidation_0-rmse:11234.58231\tvalidation_0-mean_absolute_error:7993.85449\n",
      "[128]\tvalidation_0-rmse:11213.99626\tvalidation_0-mean_absolute_error:7977.80273\n",
      "[129]\tvalidation_0-rmse:11192.92831\tvalidation_0-mean_absolute_error:7962.87012\n",
      "[130]\tvalidation_0-rmse:11181.67624\tvalidation_0-mean_absolute_error:7955.41699\n",
      "[131]\tvalidation_0-rmse:11161.55655\tvalidation_0-mean_absolute_error:7941.91748\n",
      "[132]\tvalidation_0-rmse:11143.69111\tvalidation_0-mean_absolute_error:7931.27637\n",
      "[133]\tvalidation_0-rmse:11129.74013\tvalidation_0-mean_absolute_error:7921.80566\n",
      "[134]\tvalidation_0-rmse:11111.35426\tvalidation_0-mean_absolute_error:7907.84473\n",
      "[135]\tvalidation_0-rmse:11092.04652\tvalidation_0-mean_absolute_error:7895.94629\n",
      "[136]\tvalidation_0-rmse:11075.22487\tvalidation_0-mean_absolute_error:7883.32910\n",
      "[137]\tvalidation_0-rmse:11056.25051\tvalidation_0-mean_absolute_error:7870.74463\n",
      "[138]\tvalidation_0-rmse:11041.51099\tvalidation_0-mean_absolute_error:7860.63428\n"
     ]
    },
    {
     "name": "stdout",
     "output_type": "stream",
     "text": [
      "[139]\tvalidation_0-rmse:11031.41280\tvalidation_0-mean_absolute_error:7853.98779\n",
      "[140]\tvalidation_0-rmse:11015.82281\tvalidation_0-mean_absolute_error:7842.58496\n",
      "[141]\tvalidation_0-rmse:11002.93408\tvalidation_0-mean_absolute_error:7832.92627\n",
      "[142]\tvalidation_0-rmse:10986.22596\tvalidation_0-mean_absolute_error:7821.92236\n",
      "[143]\tvalidation_0-rmse:10974.77622\tvalidation_0-mean_absolute_error:7812.86035\n",
      "[144]\tvalidation_0-rmse:10959.99422\tvalidation_0-mean_absolute_error:7802.03467\n",
      "[145]\tvalidation_0-rmse:10949.81549\tvalidation_0-mean_absolute_error:7793.66748\n",
      "[146]\tvalidation_0-rmse:10937.80946\tvalidation_0-mean_absolute_error:7786.05518\n",
      "[147]\tvalidation_0-rmse:10925.69895\tvalidation_0-mean_absolute_error:7776.58691\n",
      "[148]\tvalidation_0-rmse:10897.75036\tvalidation_0-mean_absolute_error:7759.44092\n",
      "[149]\tvalidation_0-rmse:10887.16075\tvalidation_0-mean_absolute_error:7750.56885\n",
      "[150]\tvalidation_0-rmse:10874.83497\tvalidation_0-mean_absolute_error:7741.66602\n",
      "[151]\tvalidation_0-rmse:10862.89593\tvalidation_0-mean_absolute_error:7731.88135\n",
      "[152]\tvalidation_0-rmse:10851.13519\tvalidation_0-mean_absolute_error:7723.02393\n",
      "[153]\tvalidation_0-rmse:10831.79089\tvalidation_0-mean_absolute_error:7708.27686\n",
      "[154]\tvalidation_0-rmse:10821.01150\tvalidation_0-mean_absolute_error:7701.14014\n",
      "[155]\tvalidation_0-rmse:10808.31709\tvalidation_0-mean_absolute_error:7692.42773\n",
      "[156]\tvalidation_0-rmse:10798.30963\tvalidation_0-mean_absolute_error:7684.18311\n",
      "[157]\tvalidation_0-rmse:10773.79618\tvalidation_0-mean_absolute_error:7669.05762\n",
      "[158]\tvalidation_0-rmse:10763.13361\tvalidation_0-mean_absolute_error:7662.51660\n",
      "[159]\tvalidation_0-rmse:10751.76990\tvalidation_0-mean_absolute_error:7652.40527\n",
      "[160]\tvalidation_0-rmse:10741.61521\tvalidation_0-mean_absolute_error:7645.75195\n",
      "[161]\tvalidation_0-rmse:10724.47870\tvalidation_0-mean_absolute_error:7634.26025\n",
      "[162]\tvalidation_0-rmse:10716.31558\tvalidation_0-mean_absolute_error:7627.61914\n",
      "[163]\tvalidation_0-rmse:10703.29489\tvalidation_0-mean_absolute_error:7619.54199\n",
      "[164]\tvalidation_0-rmse:10694.28063\tvalidation_0-mean_absolute_error:7613.76416\n",
      "[165]\tvalidation_0-rmse:10674.20620\tvalidation_0-mean_absolute_error:7598.57568\n",
      "[166]\tvalidation_0-rmse:10655.67275\tvalidation_0-mean_absolute_error:7584.56689\n",
      "[167]\tvalidation_0-rmse:10647.88172\tvalidation_0-mean_absolute_error:7578.60449\n",
      "[168]\tvalidation_0-rmse:10639.45342\tvalidation_0-mean_absolute_error:7573.25537\n",
      "[169]\tvalidation_0-rmse:10632.98062\tvalidation_0-mean_absolute_error:7570.02832\n",
      "[170]\tvalidation_0-rmse:10619.10134\tvalidation_0-mean_absolute_error:7560.16309\n",
      "[171]\tvalidation_0-rmse:10611.05831\tvalidation_0-mean_absolute_error:7555.37939\n",
      "[172]\tvalidation_0-rmse:10604.66701\tvalidation_0-mean_absolute_error:7550.73242\n",
      "[173]\tvalidation_0-rmse:10585.82541\tvalidation_0-mean_absolute_error:7540.52002\n",
      "[174]\tvalidation_0-rmse:10575.55117\tvalidation_0-mean_absolute_error:7535.44482\n",
      "[175]\tvalidation_0-rmse:10567.27301\tvalidation_0-mean_absolute_error:7530.49609\n",
      "[176]\tvalidation_0-rmse:10556.92839\tvalidation_0-mean_absolute_error:7525.18652\n",
      "[177]\tvalidation_0-rmse:10541.87906\tvalidation_0-mean_absolute_error:7515.91406\n",
      "[178]\tvalidation_0-rmse:10534.94072\tvalidation_0-mean_absolute_error:7511.53467\n",
      "[179]\tvalidation_0-rmse:10525.75380\tvalidation_0-mean_absolute_error:7507.70312\n",
      "[180]\tvalidation_0-rmse:10519.94200\tvalidation_0-mean_absolute_error:7503.51562\n",
      "[181]\tvalidation_0-rmse:10512.02027\tvalidation_0-mean_absolute_error:7498.85938\n",
      "[182]\tvalidation_0-rmse:10499.09439\tvalidation_0-mean_absolute_error:7490.40772\n",
      "[183]\tvalidation_0-rmse:10491.51606\tvalidation_0-mean_absolute_error:7485.91699\n",
      "[184]\tvalidation_0-rmse:10486.35770\tvalidation_0-mean_absolute_error:7483.90869\n",
      "[185]\tvalidation_0-rmse:10478.23645\tvalidation_0-mean_absolute_error:7478.88086\n",
      "[186]\tvalidation_0-rmse:10458.53774\tvalidation_0-mean_absolute_error:7466.33984\n",
      "[187]\tvalidation_0-rmse:10446.37547\tvalidation_0-mean_absolute_error:7458.51416\n",
      "[188]\tvalidation_0-rmse:10441.43906\tvalidation_0-mean_absolute_error:7455.83984\n",
      "[189]\tvalidation_0-rmse:10422.76204\tvalidation_0-mean_absolute_error:7444.01660\n",
      "[190]\tvalidation_0-rmse:10411.98145\tvalidation_0-mean_absolute_error:7436.45703\n",
      "[191]\tvalidation_0-rmse:10394.82300\tvalidation_0-mean_absolute_error:7425.61279\n",
      "[192]\tvalidation_0-rmse:10390.55676\tvalidation_0-mean_absolute_error:7422.96436\n",
      "[193]\tvalidation_0-rmse:10374.26781\tvalidation_0-mean_absolute_error:7412.32959\n",
      "[194]\tvalidation_0-rmse:10365.59278\tvalidation_0-mean_absolute_error:7406.58154\n",
      "[195]\tvalidation_0-rmse:10360.50920\tvalidation_0-mean_absolute_error:7403.38867\n",
      "[196]\tvalidation_0-rmse:10346.01837\tvalidation_0-mean_absolute_error:7394.93848\n",
      "[197]\tvalidation_0-rmse:10338.68319\tvalidation_0-mean_absolute_error:7390.28272\n",
      "[198]\tvalidation_0-rmse:10335.30860\tvalidation_0-mean_absolute_error:7388.73877\n",
      "[199]\tvalidation_0-rmse:10321.51865\tvalidation_0-mean_absolute_error:7380.61279\n",
      "[200]\tvalidation_0-rmse:10312.91620\tvalidation_0-mean_absolute_error:7375.34375\n",
      "[201]\tvalidation_0-rmse:10301.03638\tvalidation_0-mean_absolute_error:7368.92139\n",
      "[202]\tvalidation_0-rmse:10297.54861\tvalidation_0-mean_absolute_error:7367.01025\n",
      "[203]\tvalidation_0-rmse:10290.63249\tvalidation_0-mean_absolute_error:7363.00488\n",
      "[204]\tvalidation_0-rmse:10286.92531\tvalidation_0-mean_absolute_error:7360.06689\n",
      "[205]\tvalidation_0-rmse:10284.63013\tvalidation_0-mean_absolute_error:7358.95361\n",
      "[206]\tvalidation_0-rmse:10279.84127\tvalidation_0-mean_absolute_error:7356.09522\n",
      "[207]\tvalidation_0-rmse:10272.21288\tvalidation_0-mean_absolute_error:7351.44385\n",
      "[208]\tvalidation_0-rmse:10260.90912\tvalidation_0-mean_absolute_error:7344.78027\n",
      "[209]\tvalidation_0-rmse:10258.40366\tvalidation_0-mean_absolute_error:7343.37402\n",
      "[210]\tvalidation_0-rmse:10251.39256\tvalidation_0-mean_absolute_error:7339.83252\n",
      "[211]\tvalidation_0-rmse:10248.77279\tvalidation_0-mean_absolute_error:7338.32617\n",
      "[212]\tvalidation_0-rmse:10244.53584\tvalidation_0-mean_absolute_error:7335.88086\n",
      "[213]\tvalidation_0-rmse:10237.40064\tvalidation_0-mean_absolute_error:7331.63525\n",
      "[214]\tvalidation_0-rmse:10233.31934\tvalidation_0-mean_absolute_error:7330.12109\n",
      "[215]\tvalidation_0-rmse:10230.47005\tvalidation_0-mean_absolute_error:7328.34570\n",
      "[216]\tvalidation_0-rmse:10228.76021\tvalidation_0-mean_absolute_error:7327.12598\n",
      "[217]\tvalidation_0-rmse:10225.80005\tvalidation_0-mean_absolute_error:7325.63086\n",
      "[218]\tvalidation_0-rmse:10222.02187\tvalidation_0-mean_absolute_error:7324.30811\n",
      "[219]\tvalidation_0-rmse:10222.31992\tvalidation_0-mean_absolute_error:7323.88477\n",
      "[220]\tvalidation_0-rmse:10215.99725\tvalidation_0-mean_absolute_error:7319.89893\n",
      "[221]\tvalidation_0-rmse:10205.52621\tvalidation_0-mean_absolute_error:7312.51025\n",
      "[222]\tvalidation_0-rmse:10204.46789\tvalidation_0-mean_absolute_error:7311.86182\n",
      "[223]\tvalidation_0-rmse:10194.88373\tvalidation_0-mean_absolute_error:7305.53809\n",
      "[224]\tvalidation_0-rmse:10188.50018\tvalidation_0-mean_absolute_error:7301.42627\n",
      "[225]\tvalidation_0-rmse:10184.92231\tvalidation_0-mean_absolute_error:7299.41309\n",
      "[226]\tvalidation_0-rmse:10184.08498\tvalidation_0-mean_absolute_error:7298.87891\n",
      "[227]\tvalidation_0-rmse:10180.32270\tvalidation_0-mean_absolute_error:7297.36182\n",
      "[228]\tvalidation_0-rmse:10172.55593\tvalidation_0-mean_absolute_error:7293.17871\n",
      "[229]\tvalidation_0-rmse:10168.26480\tvalidation_0-mean_absolute_error:7290.15967\n",
      "[230]\tvalidation_0-rmse:10165.77252\tvalidation_0-mean_absolute_error:7288.67432\n",
      "[231]\tvalidation_0-rmse:10163.19819\tvalidation_0-mean_absolute_error:7287.73975\n",
      "[232]\tvalidation_0-rmse:10162.74310\tvalidation_0-mean_absolute_error:7287.64014\n",
      "[233]\tvalidation_0-rmse:10156.49463\tvalidation_0-mean_absolute_error:7283.07129\n",
      "[234]\tvalidation_0-rmse:10153.53582\tvalidation_0-mean_absolute_error:7280.90234\n",
      "[235]\tvalidation_0-rmse:10145.39710\tvalidation_0-mean_absolute_error:7275.26318\n",
      "[236]\tvalidation_0-rmse:10143.33519\tvalidation_0-mean_absolute_error:7274.10400\n",
      "[237]\tvalidation_0-rmse:10138.16840\tvalidation_0-mean_absolute_error:7270.75195\n",
      "[238]\tvalidation_0-rmse:10130.97527\tvalidation_0-mean_absolute_error:7266.12891\n",
      "[239]\tvalidation_0-rmse:10129.46665\tvalidation_0-mean_absolute_error:7265.37402\n",
      "[240]\tvalidation_0-rmse:10128.86122\tvalidation_0-mean_absolute_error:7265.06152\n",
      "[241]\tvalidation_0-rmse:10124.16245\tvalidation_0-mean_absolute_error:7262.08838\n"
     ]
    },
    {
     "name": "stdout",
     "output_type": "stream",
     "text": [
      "[242]\tvalidation_0-rmse:10121.52423\tvalidation_0-mean_absolute_error:7260.25000\n",
      "[243]\tvalidation_0-rmse:10118.80629\tvalidation_0-mean_absolute_error:7258.92139\n",
      "[244]\tvalidation_0-rmse:10117.56724\tvalidation_0-mean_absolute_error:7259.24951\n",
      "[245]\tvalidation_0-rmse:10114.98717\tvalidation_0-mean_absolute_error:7257.36865\n",
      "[246]\tvalidation_0-rmse:10113.35715\tvalidation_0-mean_absolute_error:7257.09131\n",
      "[247]\tvalidation_0-rmse:10112.49818\tvalidation_0-mean_absolute_error:7256.87451\n",
      "[248]\tvalidation_0-rmse:10109.48363\tvalidation_0-mean_absolute_error:7255.37451\n",
      "[249]\tvalidation_0-rmse:10105.30505\tvalidation_0-mean_absolute_error:7252.12451\n",
      "[250]\tvalidation_0-rmse:10105.37309\tvalidation_0-mean_absolute_error:7252.39404\n",
      "[251]\tvalidation_0-rmse:10101.86633\tvalidation_0-mean_absolute_error:7250.02295\n",
      "[252]\tvalidation_0-rmse:10100.85598\tvalidation_0-mean_absolute_error:7250.13477\n",
      "[253]\tvalidation_0-rmse:10097.32264\tvalidation_0-mean_absolute_error:7248.54736\n",
      "[254]\tvalidation_0-rmse:10095.52356\tvalidation_0-mean_absolute_error:7246.63525\n",
      "[255]\tvalidation_0-rmse:10091.66944\tvalidation_0-mean_absolute_error:7243.62598\n",
      "[256]\tvalidation_0-rmse:10091.00967\tvalidation_0-mean_absolute_error:7244.11670\n",
      "[257]\tvalidation_0-rmse:10089.48635\tvalidation_0-mean_absolute_error:7243.57227\n",
      "[258]\tvalidation_0-rmse:10089.69392\tvalidation_0-mean_absolute_error:7243.82520\n",
      "[259]\tvalidation_0-rmse:10089.38464\tvalidation_0-mean_absolute_error:7244.14600\n",
      "[260]\tvalidation_0-rmse:10086.78854\tvalidation_0-mean_absolute_error:7242.32959\n",
      "[261]\tvalidation_0-rmse:10086.73670\tvalidation_0-mean_absolute_error:7242.76074\n",
      "[262]\tvalidation_0-rmse:10081.47652\tvalidation_0-mean_absolute_error:7239.03467\n",
      "[263]\tvalidation_0-rmse:10078.63159\tvalidation_0-mean_absolute_error:7237.31885\n",
      "[264]\tvalidation_0-rmse:10073.34766\tvalidation_0-mean_absolute_error:7233.90625\n",
      "[265]\tvalidation_0-rmse:10072.81215\tvalidation_0-mean_absolute_error:7233.79883\n",
      "[266]\tvalidation_0-rmse:10068.11753\tvalidation_0-mean_absolute_error:7230.35254\n",
      "[267]\tvalidation_0-rmse:10066.59448\tvalidation_0-mean_absolute_error:7229.12598\n",
      "[268]\tvalidation_0-rmse:10066.11571\tvalidation_0-mean_absolute_error:7228.89404\n",
      "[269]\tvalidation_0-rmse:10065.77314\tvalidation_0-mean_absolute_error:7228.98877\n",
      "[270]\tvalidation_0-rmse:10063.07308\tvalidation_0-mean_absolute_error:7227.30176\n",
      "[271]\tvalidation_0-rmse:10058.24907\tvalidation_0-mean_absolute_error:7223.83252\n",
      "[272]\tvalidation_0-rmse:10055.95361\tvalidation_0-mean_absolute_error:7221.73389\n",
      "[273]\tvalidation_0-rmse:10051.92776\tvalidation_0-mean_absolute_error:7219.23047\n",
      "[274]\tvalidation_0-rmse:10048.43693\tvalidation_0-mean_absolute_error:7217.33643\n",
      "[275]\tvalidation_0-rmse:10048.94314\tvalidation_0-mean_absolute_error:7217.67236\n",
      "[276]\tvalidation_0-rmse:10045.82631\tvalidation_0-mean_absolute_error:7215.59668\n",
      "[277]\tvalidation_0-rmse:10046.75258\tvalidation_0-mean_absolute_error:7215.38721\n",
      "[278]\tvalidation_0-rmse:10045.28202\tvalidation_0-mean_absolute_error:7215.00928\n",
      "[279]\tvalidation_0-rmse:10045.69683\tvalidation_0-mean_absolute_error:7216.07422\n",
      "[280]\tvalidation_0-rmse:10044.64204\tvalidation_0-mean_absolute_error:7214.76562\n",
      "[281]\tvalidation_0-rmse:10044.24257\tvalidation_0-mean_absolute_error:7214.67578\n",
      "[282]\tvalidation_0-rmse:10042.83855\tvalidation_0-mean_absolute_error:7214.11523\n",
      "[283]\tvalidation_0-rmse:10042.16119\tvalidation_0-mean_absolute_error:7214.06836\n",
      "[284]\tvalidation_0-rmse:10042.23995\tvalidation_0-mean_absolute_error:7214.70654\n",
      "[285]\tvalidation_0-rmse:10039.13382\tvalidation_0-mean_absolute_error:7212.28467\n",
      "[286]\tvalidation_0-rmse:10037.19968\tvalidation_0-mean_absolute_error:7210.83105\n",
      "[287]\tvalidation_0-rmse:10038.23056\tvalidation_0-mean_absolute_error:7211.07373\n",
      "[288]\tvalidation_0-rmse:10037.97463\tvalidation_0-mean_absolute_error:7210.90967\n",
      "[289]\tvalidation_0-rmse:10035.56234\tvalidation_0-mean_absolute_error:7209.40088\n",
      "[290]\tvalidation_0-rmse:10035.61525\tvalidation_0-mean_absolute_error:7209.00537\n",
      "[291]\tvalidation_0-rmse:10036.36851\tvalidation_0-mean_absolute_error:7209.19922\n",
      "[292]\tvalidation_0-rmse:10034.97236\tvalidation_0-mean_absolute_error:7209.68945\n",
      "[293]\tvalidation_0-rmse:10034.96227\tvalidation_0-mean_absolute_error:7209.22900\n",
      "[294]\tvalidation_0-rmse:10034.65900\tvalidation_0-mean_absolute_error:7209.07129\n",
      "[295]\tvalidation_0-rmse:10033.97830\tvalidation_0-mean_absolute_error:7209.08301\n",
      "[296]\tvalidation_0-rmse:10034.76696\tvalidation_0-mean_absolute_error:7210.13281\n",
      "[297]\tvalidation_0-rmse:10032.52144\tvalidation_0-mean_absolute_error:7208.56885\n",
      "[298]\tvalidation_0-rmse:10032.60407\tvalidation_0-mean_absolute_error:7209.02490\n",
      "[299]\tvalidation_0-rmse:10033.64390\tvalidation_0-mean_absolute_error:7208.58594\n",
      "[300]\tvalidation_0-rmse:10032.41764\tvalidation_0-mean_absolute_error:7208.17432\n",
      "[301]\tvalidation_0-rmse:10032.66029\tvalidation_0-mean_absolute_error:7209.03467\n",
      "[302]\tvalidation_0-rmse:10032.33024\tvalidation_0-mean_absolute_error:7210.51807\n",
      "[303]\tvalidation_0-rmse:10032.30434\tvalidation_0-mean_absolute_error:7209.95117\n",
      "[304]\tvalidation_0-rmse:10031.38952\tvalidation_0-mean_absolute_error:7209.52686\n",
      "[305]\tvalidation_0-rmse:10030.69041\tvalidation_0-mean_absolute_error:7209.36865\n",
      "[306]\tvalidation_0-rmse:10029.92337\tvalidation_0-mean_absolute_error:7208.52393\n",
      "[307]\tvalidation_0-rmse:10029.90338\tvalidation_0-mean_absolute_error:7208.30029\n",
      "[308]\tvalidation_0-rmse:10030.16723\tvalidation_0-mean_absolute_error:7208.54541\n",
      "[309]\tvalidation_0-rmse:10028.99888\tvalidation_0-mean_absolute_error:7209.00879\n",
      "[310]\tvalidation_0-rmse:10028.55955\tvalidation_0-mean_absolute_error:7208.30420\n",
      "[311]\tvalidation_0-rmse:10027.08602\tvalidation_0-mean_absolute_error:7207.82373\n",
      "[312]\tvalidation_0-rmse:10026.33639\tvalidation_0-mean_absolute_error:7207.51270\n",
      "[313]\tvalidation_0-rmse:10026.15719\tvalidation_0-mean_absolute_error:7207.32178\n",
      "[314]\tvalidation_0-rmse:10026.13406\tvalidation_0-mean_absolute_error:7207.23877\n",
      "[315]\tvalidation_0-rmse:10026.38166\tvalidation_0-mean_absolute_error:7207.72998\n",
      "[316]\tvalidation_0-rmse:10027.33249\tvalidation_0-mean_absolute_error:7209.14697\n",
      "[317]\tvalidation_0-rmse:10027.58402\tvalidation_0-mean_absolute_error:7209.03613\n",
      "[318]\tvalidation_0-rmse:10028.25824\tvalidation_0-mean_absolute_error:7209.62207\n",
      "[319]\tvalidation_0-rmse:10027.26788\tvalidation_0-mean_absolute_error:7209.09228\n",
      "[320]\tvalidation_0-rmse:10026.98748\tvalidation_0-mean_absolute_error:7208.53467\n",
      "[321]\tvalidation_0-rmse:10027.15632\tvalidation_0-mean_absolute_error:7208.69971\n",
      "[322]\tvalidation_0-rmse:10026.86210\tvalidation_0-mean_absolute_error:7208.85986\n",
      "[323]\tvalidation_0-rmse:10026.43997\tvalidation_0-mean_absolute_error:7209.07910\n",
      "[324]\tvalidation_0-rmse:10025.99994\tvalidation_0-mean_absolute_error:7208.97070\n",
      "[325]\tvalidation_0-rmse:10025.73083\tvalidation_0-mean_absolute_error:7208.62451\n",
      "[326]\tvalidation_0-rmse:10025.34640\tvalidation_0-mean_absolute_error:7209.28418\n",
      "[327]\tvalidation_0-rmse:10024.74096\tvalidation_0-mean_absolute_error:7209.57715\n",
      "[328]\tvalidation_0-rmse:10024.92802\tvalidation_0-mean_absolute_error:7209.79980\n",
      "[329]\tvalidation_0-rmse:10024.18595\tvalidation_0-mean_absolute_error:7209.60596\n",
      "[330]\tvalidation_0-rmse:10023.97427\tvalidation_0-mean_absolute_error:7208.91699\n",
      "[331]\tvalidation_0-rmse:10024.50070\tvalidation_0-mean_absolute_error:7209.52148\n",
      "[332]\tvalidation_0-rmse:10024.47011\tvalidation_0-mean_absolute_error:7209.53418\n",
      "[333]\tvalidation_0-rmse:10023.74679\tvalidation_0-mean_absolute_error:7209.76123\n",
      "[334]\tvalidation_0-rmse:10023.34615\tvalidation_0-mean_absolute_error:7209.74658\n",
      "[335]\tvalidation_0-rmse:10024.11977\tvalidation_0-mean_absolute_error:7210.77637\n",
      "[336]\tvalidation_0-rmse:10024.92187\tvalidation_0-mean_absolute_error:7210.78174\n",
      "[337]\tvalidation_0-rmse:10024.37165\tvalidation_0-mean_absolute_error:7211.13672\n",
      "[338]\tvalidation_0-rmse:10023.05473\tvalidation_0-mean_absolute_error:7210.16602\n",
      "[339]\tvalidation_0-rmse:10022.56558\tvalidation_0-mean_absolute_error:7209.12793\n",
      "[340]\tvalidation_0-rmse:10019.99434\tvalidation_0-mean_absolute_error:7207.67139\n",
      "[341]\tvalidation_0-rmse:10021.76687\tvalidation_0-mean_absolute_error:7209.62061\n",
      "[342]\tvalidation_0-rmse:10022.15302\tvalidation_0-mean_absolute_error:7209.55615\n",
      "[343]\tvalidation_0-rmse:10021.77702\tvalidation_0-mean_absolute_error:7209.94385\n",
      "[344]\tvalidation_0-rmse:10018.48255\tvalidation_0-mean_absolute_error:7207.92383\n"
     ]
    },
    {
     "name": "stdout",
     "output_type": "stream",
     "text": [
      "[345]\tvalidation_0-rmse:10018.94866\tvalidation_0-mean_absolute_error:7207.95703\n",
      "[346]\tvalidation_0-rmse:10020.86562\tvalidation_0-mean_absolute_error:7208.68555\n",
      "[347]\tvalidation_0-rmse:10018.29125\tvalidation_0-mean_absolute_error:7206.63135\n",
      "[348]\tvalidation_0-rmse:10018.31479\tvalidation_0-mean_absolute_error:7206.86328\n",
      "[349]\tvalidation_0-rmse:10017.77941\tvalidation_0-mean_absolute_error:7206.50244\n",
      "[350]\tvalidation_0-rmse:10018.63349\tvalidation_0-mean_absolute_error:7207.02832\n",
      "[351]\tvalidation_0-rmse:10016.86099\tvalidation_0-mean_absolute_error:7205.91553\n",
      "[352]\tvalidation_0-rmse:10017.95201\tvalidation_0-mean_absolute_error:7206.97705\n",
      "[353]\tvalidation_0-rmse:10017.33517\tvalidation_0-mean_absolute_error:7207.37647\n",
      "[354]\tvalidation_0-rmse:10017.49345\tvalidation_0-mean_absolute_error:7207.35400\n",
      "[355]\tvalidation_0-rmse:10016.14392\tvalidation_0-mean_absolute_error:7206.57715\n",
      "[356]\tvalidation_0-rmse:10016.12940\tvalidation_0-mean_absolute_error:7206.73535\n",
      "[357]\tvalidation_0-rmse:10016.61356\tvalidation_0-mean_absolute_error:7207.57568\n",
      "[358]\tvalidation_0-rmse:10015.75635\tvalidation_0-mean_absolute_error:7207.57617\n",
      "[359]\tvalidation_0-rmse:10014.56250\tvalidation_0-mean_absolute_error:7206.62988\n",
      "[360]\tvalidation_0-rmse:10014.33995\tvalidation_0-mean_absolute_error:7206.83105\n",
      "[361]\tvalidation_0-rmse:10015.40179\tvalidation_0-mean_absolute_error:7207.80273\n",
      "[362]\tvalidation_0-rmse:10014.98792\tvalidation_0-mean_absolute_error:7207.48682\n",
      "[363]\tvalidation_0-rmse:10013.38827\tvalidation_0-mean_absolute_error:7206.04004\n",
      "[364]\tvalidation_0-rmse:10013.25985\tvalidation_0-mean_absolute_error:7206.09766\n",
      "[365]\tvalidation_0-rmse:10011.43380\tvalidation_0-mean_absolute_error:7206.28272\n",
      "[366]\tvalidation_0-rmse:10011.11635\tvalidation_0-mean_absolute_error:7206.78467\n",
      "[367]\tvalidation_0-rmse:10011.28055\tvalidation_0-mean_absolute_error:7207.30957\n",
      "[368]\tvalidation_0-rmse:10011.49785\tvalidation_0-mean_absolute_error:7207.39209\n",
      "[369]\tvalidation_0-rmse:10011.03095\tvalidation_0-mean_absolute_error:7208.02734\n",
      "[370]\tvalidation_0-rmse:10009.98952\tvalidation_0-mean_absolute_error:7207.06299\n",
      "[371]\tvalidation_0-rmse:10011.57239\tvalidation_0-mean_absolute_error:7207.62207\n",
      "[372]\tvalidation_0-rmse:10012.35965\tvalidation_0-mean_absolute_error:7208.05176\n",
      "[373]\tvalidation_0-rmse:10011.79239\tvalidation_0-mean_absolute_error:7208.12061\n",
      "[374]\tvalidation_0-rmse:10012.73205\tvalidation_0-mean_absolute_error:7208.74463\n",
      "[375]\tvalidation_0-rmse:10012.06916\tvalidation_0-mean_absolute_error:7208.71045\n",
      "[376]\tvalidation_0-rmse:10012.52031\tvalidation_0-mean_absolute_error:7208.83496\n",
      "[377]\tvalidation_0-rmse:10012.93663\tvalidation_0-mean_absolute_error:7208.92432\n",
      "[378]\tvalidation_0-rmse:10012.76428\tvalidation_0-mean_absolute_error:7209.06494\n",
      "[379]\tvalidation_0-rmse:10011.04680\tvalidation_0-mean_absolute_error:7209.11670\n",
      "[380]\tvalidation_0-rmse:10012.11616\tvalidation_0-mean_absolute_error:7209.97705\n",
      "[381]\tvalidation_0-rmse:10014.24114\tvalidation_0-mean_absolute_error:7211.02686\n",
      "[382]\tvalidation_0-rmse:10014.00049\tvalidation_0-mean_absolute_error:7210.38867\n",
      "[383]\tvalidation_0-rmse:10012.77623\tvalidation_0-mean_absolute_error:7209.83154\n",
      "[384]\tvalidation_0-rmse:10011.47433\tvalidation_0-mean_absolute_error:7209.15820\n",
      "[385]\tvalidation_0-rmse:10013.24896\tvalidation_0-mean_absolute_error:7209.64404\n",
      "[386]\tvalidation_0-rmse:10012.30006\tvalidation_0-mean_absolute_error:7209.43115\n",
      "[387]\tvalidation_0-rmse:10013.04995\tvalidation_0-mean_absolute_error:7210.16016\n",
      "[388]\tvalidation_0-rmse:10011.32974\tvalidation_0-mean_absolute_error:7209.20557\n",
      "[389]\tvalidation_0-rmse:10011.93344\tvalidation_0-mean_absolute_error:7209.15772\n",
      "[390]\tvalidation_0-rmse:10012.24112\tvalidation_0-mean_absolute_error:7209.25000\n",
      "[391]\tvalidation_0-rmse:10011.19851\tvalidation_0-mean_absolute_error:7208.96924\n",
      "[392]\tvalidation_0-rmse:10011.01613\tvalidation_0-mean_absolute_error:7209.45166\n",
      "[393]\tvalidation_0-rmse:10010.89197\tvalidation_0-mean_absolute_error:7209.94482\n",
      "[394]\tvalidation_0-rmse:10009.80695\tvalidation_0-mean_absolute_error:7208.73193\n",
      "[395]\tvalidation_0-rmse:10010.73880\tvalidation_0-mean_absolute_error:7210.30811\n",
      "[396]\tvalidation_0-rmse:10010.30784\tvalidation_0-mean_absolute_error:7209.94092\n",
      "[397]\tvalidation_0-rmse:10010.15544\tvalidation_0-mean_absolute_error:7210.28076\n",
      "[398]\tvalidation_0-rmse:10010.02217\tvalidation_0-mean_absolute_error:7209.79346\n",
      "[399]\tvalidation_0-rmse:10008.73449\tvalidation_0-mean_absolute_error:7209.39453\n",
      "[400]\tvalidation_0-rmse:10008.54747\tvalidation_0-mean_absolute_error:7209.42773\n",
      "[401]\tvalidation_0-rmse:10010.42789\tvalidation_0-mean_absolute_error:7210.37744\n",
      "[402]\tvalidation_0-rmse:10011.35097\tvalidation_0-mean_absolute_error:7211.26025\n",
      "[403]\tvalidation_0-rmse:10011.18592\tvalidation_0-mean_absolute_error:7211.49512\n",
      "[404]\tvalidation_0-rmse:10011.24154\tvalidation_0-mean_absolute_error:7211.33398\n",
      "[405]\tvalidation_0-rmse:10010.94812\tvalidation_0-mean_absolute_error:7211.22119\n",
      "[406]\tvalidation_0-rmse:10012.60667\tvalidation_0-mean_absolute_error:7212.46533\n",
      "[407]\tvalidation_0-rmse:10011.43675\tvalidation_0-mean_absolute_error:7212.27100\n",
      "[408]\tvalidation_0-rmse:10011.30215\tvalidation_0-mean_absolute_error:7212.14893\n",
      "[409]\tvalidation_0-rmse:10012.68747\tvalidation_0-mean_absolute_error:7212.85645\n",
      "[410]\tvalidation_0-rmse:10013.47934\tvalidation_0-mean_absolute_error:7213.49268\n",
      "[411]\tvalidation_0-rmse:10013.54879\tvalidation_0-mean_absolute_error:7213.58447\n",
      "[412]\tvalidation_0-rmse:10013.62421\tvalidation_0-mean_absolute_error:7213.85645\n",
      "[413]\tvalidation_0-rmse:10013.42217\tvalidation_0-mean_absolute_error:7214.00244\n",
      "[414]\tvalidation_0-rmse:10013.15669\tvalidation_0-mean_absolute_error:7213.69629\n",
      "[415]\tvalidation_0-rmse:10015.41507\tvalidation_0-mean_absolute_error:7215.68164\n"
     ]
    },
    {
     "name": "stderr",
     "output_type": "stream",
     "text": [
      "Best trial: 1. Best value: 6955.45:    1%|▌                                                               | 00:02/05:00"
     ]
    },
    {
     "name": "stdout",
     "output_type": "stream",
     "text": [
      "[0]\tvalidation_0-rmse:32810.51719\tvalidation_0-mean_absolute_error:27832.09961\n",
      "[1]\tvalidation_0-rmse:31794.97926\tvalidation_0-mean_absolute_error:26841.21094\n",
      "[2]\tvalidation_0-rmse:30827.95479\tvalidation_0-mean_absolute_error:25893.86523\n",
      "[3]\tvalidation_0-rmse:29906.10488\tvalidation_0-mean_absolute_error:24986.68164\n",
      "[4]\tvalidation_0-rmse:29020.28794\tvalidation_0-mean_absolute_error:24108.39648\n",
      "[5]\tvalidation_0-rmse:28174.20066\tvalidation_0-mean_absolute_error:23266.38281\n",
      "[6]\tvalidation_0-rmse:27364.59228\tvalidation_0-mean_absolute_error:22454.69922\n",
      "[7]\tvalidation_0-rmse:26596.34257\tvalidation_0-mean_absolute_error:21679.51172\n",
      "[8]\tvalidation_0-rmse:25866.31925\tvalidation_0-mean_absolute_error:20937.64062\n",
      "[9]\tvalidation_0-rmse:25162.78935\tvalidation_0-mean_absolute_error:20221.49023\n",
      "[10]\tvalidation_0-rmse:24497.01744\tvalidation_0-mean_absolute_error:19535.30078\n",
      "[11]\tvalidation_0-rmse:23867.28243\tvalidation_0-mean_absolute_error:18887.54492\n",
      "[12]\tvalidation_0-rmse:23259.34579\tvalidation_0-mean_absolute_error:18264.88281\n",
      "[13]\tvalidation_0-rmse:22681.45500\tvalidation_0-mean_absolute_error:17672.30469\n",
      "[14]\tvalidation_0-rmse:22138.53855\tvalidation_0-mean_absolute_error:17115.68945\n",
      "[15]\tvalidation_0-rmse:21615.71433\tvalidation_0-mean_absolute_error:16591.23828\n",
      "[16]\tvalidation_0-rmse:21112.06883\tvalidation_0-mean_absolute_error:16087.15820\n",
      "[17]\tvalidation_0-rmse:20628.75104\tvalidation_0-mean_absolute_error:15605.69434\n",
      "[18]\tvalidation_0-rmse:20176.33118\tvalidation_0-mean_absolute_error:15158.64062\n",
      "[19]\tvalidation_0-rmse:19738.32872\tvalidation_0-mean_absolute_error:14726.19434\n",
      "[20]\tvalidation_0-rmse:19327.14500\tvalidation_0-mean_absolute_error:14330.09668\n",
      "[21]\tvalidation_0-rmse:18933.28354\tvalidation_0-mean_absolute_error:13954.25977\n",
      "[22]\tvalidation_0-rmse:18561.60664\tvalidation_0-mean_absolute_error:13600.50391\n",
      "[23]\tvalidation_0-rmse:18209.93596\tvalidation_0-mean_absolute_error:13273.26172\n",
      "[24]\tvalidation_0-rmse:17874.01798\tvalidation_0-mean_absolute_error:12967.10156\n",
      "[25]\tvalidation_0-rmse:17545.76979\tvalidation_0-mean_absolute_error:12668.62207\n",
      "[26]\tvalidation_0-rmse:17242.71378\tvalidation_0-mean_absolute_error:12397.33496\n",
      "[27]\tvalidation_0-rmse:16951.13303\tvalidation_0-mean_absolute_error:12140.46777\n",
      "[28]\tvalidation_0-rmse:16673.59380\tvalidation_0-mean_absolute_error:11899.18652\n",
      "[29]\tvalidation_0-rmse:16404.37910\tvalidation_0-mean_absolute_error:11668.07519\n",
      "[30]\tvalidation_0-rmse:16150.65577\tvalidation_0-mean_absolute_error:11455.98926\n",
      "[31]\tvalidation_0-rmse:15914.93196\tvalidation_0-mean_absolute_error:11261.84961\n",
      "[32]\tvalidation_0-rmse:15694.83389\tvalidation_0-mean_absolute_error:11083.94141\n",
      "[33]\tvalidation_0-rmse:15485.00662\tvalidation_0-mean_absolute_error:10912.78125\n",
      "[34]\tvalidation_0-rmse:15275.74169\tvalidation_0-mean_absolute_error:10748.73828\n",
      "[35]\tvalidation_0-rmse:15087.41294\tvalidation_0-mean_absolute_error:10598.45019\n",
      "[36]\tvalidation_0-rmse:14902.16667\tvalidation_0-mean_absolute_error:10458.03223\n"
     ]
    },
    {
     "name": "stderr",
     "output_type": "stream",
     "text": [
      "C:\\Users\\vicbe\\miniconda3\\envs\\MDS7202\\Lib\\site-packages\\xgboost\\sklearn.py:835: UserWarning:\n",
      "\n",
      "`callbacks` in `fit` method is deprecated for better compatibility with scikit-learn, use `callbacks` in constructor or`set_params` instead.\n",
      "\n"
     ]
    },
    {
     "name": "stdout",
     "output_type": "stream",
     "text": [
      "[37]\tvalidation_0-rmse:14731.41655\tvalidation_0-mean_absolute_error:10325.84180\n",
      "[38]\tvalidation_0-rmse:14565.61040\tvalidation_0-mean_absolute_error:10202.87012\n",
      "[39]\tvalidation_0-rmse:14396.83815\tvalidation_0-mean_absolute_error:10078.19727\n",
      "[40]\tvalidation_0-rmse:14249.18345\tvalidation_0-mean_absolute_error:9968.41113\n",
      "[41]\tvalidation_0-rmse:14096.84385\tvalidation_0-mean_absolute_error:9860.70410\n",
      "[42]\tvalidation_0-rmse:13959.89078\tvalidation_0-mean_absolute_error:9765.37500\n",
      "[43]\tvalidation_0-rmse:13829.85845\tvalidation_0-mean_absolute_error:9669.55469\n",
      "[44]\tvalidation_0-rmse:13697.98937\tvalidation_0-mean_absolute_error:9573.27832\n",
      "[45]\tvalidation_0-rmse:13578.34009\tvalidation_0-mean_absolute_error:9489.33008\n",
      "[46]\tvalidation_0-rmse:13467.01467\tvalidation_0-mean_absolute_error:9409.61816\n",
      "[47]\tvalidation_0-rmse:13349.79806\tvalidation_0-mean_absolute_error:9329.64258\n",
      "[48]\tvalidation_0-rmse:13238.31368\tvalidation_0-mean_absolute_error:9253.83691\n",
      "[49]\tvalidation_0-rmse:13131.39303\tvalidation_0-mean_absolute_error:9182.55664\n",
      "[50]\tvalidation_0-rmse:13037.42057\tvalidation_0-mean_absolute_error:9122.02148\n",
      "[51]\tvalidation_0-rmse:12950.56672\tvalidation_0-mean_absolute_error:9063.49707\n",
      "[52]\tvalidation_0-rmse:12864.63354\tvalidation_0-mean_absolute_error:9002.08008\n",
      "[53]\tvalidation_0-rmse:12784.01693\tvalidation_0-mean_absolute_error:8949.71191\n",
      "[54]\tvalidation_0-rmse:12702.03144\tvalidation_0-mean_absolute_error:8892.83106\n",
      "[55]\tvalidation_0-rmse:12628.39042\tvalidation_0-mean_absolute_error:8846.18457\n",
      "[56]\tvalidation_0-rmse:12553.44018\tvalidation_0-mean_absolute_error:8795.36914\n",
      "[57]\tvalidation_0-rmse:12478.43686\tvalidation_0-mean_absolute_error:8742.99609\n",
      "[58]\tvalidation_0-rmse:12410.16851\tvalidation_0-mean_absolute_error:8697.64258\n",
      "[59]\tvalidation_0-rmse:12349.25163\tvalidation_0-mean_absolute_error:8657.77051\n",
      "[60]\tvalidation_0-rmse:12282.66488\tvalidation_0-mean_absolute_error:8613.78125\n",
      "[61]\tvalidation_0-rmse:12226.40003\tvalidation_0-mean_absolute_error:8577.29199\n",
      "[62]\tvalidation_0-rmse:12158.52327\tvalidation_0-mean_absolute_error:8535.32129\n",
      "[63]\tvalidation_0-rmse:12100.89856\tvalidation_0-mean_absolute_error:8498.57617\n",
      "[64]\tvalidation_0-rmse:12046.32740\tvalidation_0-mean_absolute_error:8464.26660\n",
      "[65]\tvalidation_0-rmse:11996.82524\tvalidation_0-mean_absolute_error:8433.92969\n",
      "[66]\tvalidation_0-rmse:11938.68851\tvalidation_0-mean_absolute_error:8396.54785\n",
      "[67]\tvalidation_0-rmse:11889.86462\tvalidation_0-mean_absolute_error:8366.40039\n",
      "[68]\tvalidation_0-rmse:11838.36167\tvalidation_0-mean_absolute_error:8333.66211\n",
      "[69]\tvalidation_0-rmse:11793.15469\tvalidation_0-mean_absolute_error:8307.46777\n",
      "[70]\tvalidation_0-rmse:11742.19074\tvalidation_0-mean_absolute_error:8274.10644\n",
      "[71]\tvalidation_0-rmse:11701.45432\tvalidation_0-mean_absolute_error:8249.10156\n",
      "[72]\tvalidation_0-rmse:11658.67182\tvalidation_0-mean_absolute_error:8220.11523\n",
      "[73]\tvalidation_0-rmse:11620.97900\tvalidation_0-mean_absolute_error:8196.15723\n",
      "[74]\tvalidation_0-rmse:11578.10283\tvalidation_0-mean_absolute_error:8167.16553\n",
      "[75]\tvalidation_0-rmse:11540.37503\tvalidation_0-mean_absolute_error:8143.17676\n",
      "[76]\tvalidation_0-rmse:11500.59790\tvalidation_0-mean_absolute_error:8117.88086\n",
      "[77]\tvalidation_0-rmse:11466.34249\tvalidation_0-mean_absolute_error:8095.60596\n",
      "[78]\tvalidation_0-rmse:11432.19353\tvalidation_0-mean_absolute_error:8071.47461\n",
      "[79]\tvalidation_0-rmse:11401.09893\tvalidation_0-mean_absolute_error:8051.18408\n",
      "[80]\tvalidation_0-rmse:11359.92325\tvalidation_0-mean_absolute_error:8024.14355\n",
      "[81]\tvalidation_0-rmse:11324.64685\tvalidation_0-mean_absolute_error:7999.11914\n",
      "[82]\tvalidation_0-rmse:11295.79025\tvalidation_0-mean_absolute_error:7979.44922\n",
      "[83]\tvalidation_0-rmse:11269.28159\tvalidation_0-mean_absolute_error:7962.28467\n",
      "[84]\tvalidation_0-rmse:11238.19083\tvalidation_0-mean_absolute_error:7939.04150\n",
      "[85]\tvalidation_0-rmse:11214.39887\tvalidation_0-mean_absolute_error:7924.86865\n",
      "[86]\tvalidation_0-rmse:11190.74514\tvalidation_0-mean_absolute_error:7914.77344\n",
      "[87]\tvalidation_0-rmse:11169.41730\tvalidation_0-mean_absolute_error:7900.34522\n",
      "[88]\tvalidation_0-rmse:11149.26764\tvalidation_0-mean_absolute_error:7887.20850\n",
      "[89]\tvalidation_0-rmse:11124.58418\tvalidation_0-mean_absolute_error:7869.10449\n",
      "[90]\tvalidation_0-rmse:11101.54121\tvalidation_0-mean_absolute_error:7853.17139\n",
      "[91]\tvalidation_0-rmse:11080.76931\tvalidation_0-mean_absolute_error:7839.73340\n",
      "[92]\tvalidation_0-rmse:11060.55490\tvalidation_0-mean_absolute_error:7827.61328\n",
      "[93]\tvalidation_0-rmse:11046.14939\tvalidation_0-mean_absolute_error:7822.06836\n",
      "[94]\tvalidation_0-rmse:11035.30148\tvalidation_0-mean_absolute_error:7817.19580\n",
      "[95]\tvalidation_0-rmse:11022.95617\tvalidation_0-mean_absolute_error:7812.19043\n",
      "[96]\tvalidation_0-rmse:11006.71518\tvalidation_0-mean_absolute_error:7800.51221\n",
      "[97]\tvalidation_0-rmse:10988.72890\tvalidation_0-mean_absolute_error:7789.31055\n",
      "[98]\tvalidation_0-rmse:10971.22307\tvalidation_0-mean_absolute_error:7777.59717\n",
      "[99]\tvalidation_0-rmse:10959.23900\tvalidation_0-mean_absolute_error:7772.94775\n",
      "[100]\tvalidation_0-rmse:10942.50546\tvalidation_0-mean_absolute_error:7761.52148\n",
      "[101]\tvalidation_0-rmse:10930.36797\tvalidation_0-mean_absolute_error:7756.16699\n",
      "[102]\tvalidation_0-rmse:10922.19915\tvalidation_0-mean_absolute_error:7753.93213\n",
      "[103]\tvalidation_0-rmse:10911.20644\tvalidation_0-mean_absolute_error:7748.10547\n",
      "[104]\tvalidation_0-rmse:10900.47923\tvalidation_0-mean_absolute_error:7742.47119\n",
      "[105]\tvalidation_0-rmse:10886.21194\tvalidation_0-mean_absolute_error:7732.86475\n",
      "[106]\tvalidation_0-rmse:10881.24324\tvalidation_0-mean_absolute_error:7732.06152\n",
      "[107]\tvalidation_0-rmse:10871.72103\tvalidation_0-mean_absolute_error:7725.12891\n",
      "[108]\tvalidation_0-rmse:10865.10685\tvalidation_0-mean_absolute_error:7722.03076\n",
      "[109]\tvalidation_0-rmse:10852.08282\tvalidation_0-mean_absolute_error:7716.05566\n",
      "[110]\tvalidation_0-rmse:10842.16187\tvalidation_0-mean_absolute_error:7708.99072\n",
      "[111]\tvalidation_0-rmse:10829.76521\tvalidation_0-mean_absolute_error:7702.36475\n",
      "[112]\tvalidation_0-rmse:10820.94640\tvalidation_0-mean_absolute_error:7698.14600\n",
      "[113]\tvalidation_0-rmse:10808.84484\tvalidation_0-mean_absolute_error:7692.04834\n",
      "[114]\tvalidation_0-rmse:10802.22717\tvalidation_0-mean_absolute_error:7688.07910\n",
      "[115]\tvalidation_0-rmse:10793.16433\tvalidation_0-mean_absolute_error:7684.50586\n",
      "[116]\tvalidation_0-rmse:10787.09839\tvalidation_0-mean_absolute_error:7680.22168\n",
      "[117]\tvalidation_0-rmse:10780.33064\tvalidation_0-mean_absolute_error:7678.06445\n",
      "[118]\tvalidation_0-rmse:10775.50546\tvalidation_0-mean_absolute_error:7676.85010\n",
      "[119]\tvalidation_0-rmse:10769.70710\tvalidation_0-mean_absolute_error:7674.65772\n",
      "[120]\tvalidation_0-rmse:10765.23563\tvalidation_0-mean_absolute_error:7670.82861\n",
      "[121]\tvalidation_0-rmse:10755.81918\tvalidation_0-mean_absolute_error:7664.22803\n",
      "[122]\tvalidation_0-rmse:10754.30497\tvalidation_0-mean_absolute_error:7662.49121\n",
      "[123]\tvalidation_0-rmse:10746.26282\tvalidation_0-mean_absolute_error:7656.05762\n",
      "[124]\tvalidation_0-rmse:10744.13963\tvalidation_0-mean_absolute_error:7654.61865\n",
      "[125]\tvalidation_0-rmse:10736.82192\tvalidation_0-mean_absolute_error:7649.14160\n",
      "[126]\tvalidation_0-rmse:10732.81562\tvalidation_0-mean_absolute_error:7647.93408\n",
      "[127]\tvalidation_0-rmse:10726.23865\tvalidation_0-mean_absolute_error:7643.82031\n",
      "[128]\tvalidation_0-rmse:10718.23568\tvalidation_0-mean_absolute_error:7638.44385\n",
      "[129]\tvalidation_0-rmse:10716.07810\tvalidation_0-mean_absolute_error:7637.75195\n",
      "[130]\tvalidation_0-rmse:10709.05246\tvalidation_0-mean_absolute_error:7631.61816\n",
      "[131]\tvalidation_0-rmse:10706.52501\tvalidation_0-mean_absolute_error:7629.20654\n",
      "[132]\tvalidation_0-rmse:10705.08819\tvalidation_0-mean_absolute_error:7628.51465\n",
      "[133]\tvalidation_0-rmse:10701.93261\tvalidation_0-mean_absolute_error:7628.46387\n",
      "[134]\tvalidation_0-rmse:10700.99344\tvalidation_0-mean_absolute_error:7627.56689\n",
      "[135]\tvalidation_0-rmse:10696.01676\tvalidation_0-mean_absolute_error:7625.62988\n",
      "[136]\tvalidation_0-rmse:10690.87099\tvalidation_0-mean_absolute_error:7623.42090\n",
      "[137]\tvalidation_0-rmse:10687.87534\tvalidation_0-mean_absolute_error:7622.65137\n",
      "[138]\tvalidation_0-rmse:10686.14244\tvalidation_0-mean_absolute_error:7621.48535\n",
      "[139]\tvalidation_0-rmse:10681.90322\tvalidation_0-mean_absolute_error:7619.17578\n",
      "[140]\tvalidation_0-rmse:10677.92432\tvalidation_0-mean_absolute_error:7616.16064\n"
     ]
    },
    {
     "name": "stdout",
     "output_type": "stream",
     "text": [
      "[141]\tvalidation_0-rmse:10673.14703\tvalidation_0-mean_absolute_error:7613.43555\n",
      "[142]\tvalidation_0-rmse:10672.55775\tvalidation_0-mean_absolute_error:7613.55225\n",
      "[143]\tvalidation_0-rmse:10672.97052\tvalidation_0-mean_absolute_error:7613.42236\n",
      "[144]\tvalidation_0-rmse:10668.32467\tvalidation_0-mean_absolute_error:7610.35107\n",
      "[145]\tvalidation_0-rmse:10663.85562\tvalidation_0-mean_absolute_error:7608.17285\n",
      "[146]\tvalidation_0-rmse:10662.27979\tvalidation_0-mean_absolute_error:7606.65527\n",
      "[147]\tvalidation_0-rmse:10663.75056\tvalidation_0-mean_absolute_error:7608.14062\n",
      "[148]\tvalidation_0-rmse:10664.96420\tvalidation_0-mean_absolute_error:7609.37598\n",
      "[149]\tvalidation_0-rmse:10661.44124\tvalidation_0-mean_absolute_error:7607.72119\n",
      "[150]\tvalidation_0-rmse:10659.21944\tvalidation_0-mean_absolute_error:7605.31299\n",
      "[151]\tvalidation_0-rmse:10659.13926\tvalidation_0-mean_absolute_error:7603.90088\n",
      "[152]\tvalidation_0-rmse:10660.14520\tvalidation_0-mean_absolute_error:7604.23682\n",
      "[153]\tvalidation_0-rmse:10659.09125\tvalidation_0-mean_absolute_error:7602.91016\n",
      "[154]\tvalidation_0-rmse:10656.37314\tvalidation_0-mean_absolute_error:7602.35449\n",
      "[155]\tvalidation_0-rmse:10655.63813\tvalidation_0-mean_absolute_error:7601.87256\n",
      "[156]\tvalidation_0-rmse:10650.95791\tvalidation_0-mean_absolute_error:7598.62598\n",
      "[157]\tvalidation_0-rmse:10648.91063\tvalidation_0-mean_absolute_error:7597.95020\n",
      "[158]\tvalidation_0-rmse:10650.12603\tvalidation_0-mean_absolute_error:7598.47607\n",
      "[159]\tvalidation_0-rmse:10650.24454\tvalidation_0-mean_absolute_error:7598.96973\n",
      "[160]\tvalidation_0-rmse:10648.96122\tvalidation_0-mean_absolute_error:7599.49463\n",
      "[161]\tvalidation_0-rmse:10649.40666\tvalidation_0-mean_absolute_error:7599.20264\n",
      "[162]\tvalidation_0-rmse:10649.15757\tvalidation_0-mean_absolute_error:7600.02734\n",
      "[163]\tvalidation_0-rmse:10646.39090\tvalidation_0-mean_absolute_error:7597.09766\n",
      "[164]\tvalidation_0-rmse:10645.83083\tvalidation_0-mean_absolute_error:7597.67676\n",
      "[165]\tvalidation_0-rmse:10650.80796\tvalidation_0-mean_absolute_error:7600.45459\n",
      "[166]\tvalidation_0-rmse:10651.01785\tvalidation_0-mean_absolute_error:7600.31592\n",
      "[167]\tvalidation_0-rmse:10651.11415\tvalidation_0-mean_absolute_error:7601.10449\n",
      "[168]\tvalidation_0-rmse:10647.79818\tvalidation_0-mean_absolute_error:7598.74658\n",
      "[169]\tvalidation_0-rmse:10645.73342\tvalidation_0-mean_absolute_error:7598.04736\n",
      "[170]\tvalidation_0-rmse:10644.94074\tvalidation_0-mean_absolute_error:7599.02539\n",
      "[171]\tvalidation_0-rmse:10648.28038\tvalidation_0-mean_absolute_error:7601.28418\n",
      "[172]\tvalidation_0-rmse:10645.93735\tvalidation_0-mean_absolute_error:7600.28955\n",
      "[173]\tvalidation_0-rmse:10646.60482\tvalidation_0-mean_absolute_error:7600.83691\n",
      "[174]\tvalidation_0-rmse:10644.67717\tvalidation_0-mean_absolute_error:7600.26807\n",
      "[175]\tvalidation_0-rmse:10645.15648\tvalidation_0-mean_absolute_error:7600.02100\n",
      "[176]\tvalidation_0-rmse:10645.61346\tvalidation_0-mean_absolute_error:7600.86182\n",
      "[177]\tvalidation_0-rmse:10644.46175\tvalidation_0-mean_absolute_error:7600.25537\n",
      "[178]\tvalidation_0-rmse:10646.57057\tvalidation_0-mean_absolute_error:7601.17139\n",
      "[179]\tvalidation_0-rmse:10646.28631\tvalidation_0-mean_absolute_error:7601.82178\n",
      "[180]\tvalidation_0-rmse:10642.24797\tvalidation_0-mean_absolute_error:7598.98926\n",
      "[181]\tvalidation_0-rmse:10641.46030\tvalidation_0-mean_absolute_error:7598.35254\n",
      "[182]\tvalidation_0-rmse:10640.95500\tvalidation_0-mean_absolute_error:7598.31348\n",
      "[183]\tvalidation_0-rmse:10642.01556\tvalidation_0-mean_absolute_error:7598.92773\n",
      "[184]\tvalidation_0-rmse:10640.47754\tvalidation_0-mean_absolute_error:7597.53027\n",
      "[185]\tvalidation_0-rmse:10639.61642\tvalidation_0-mean_absolute_error:7596.91406\n",
      "[186]\tvalidation_0-rmse:10640.88758\tvalidation_0-mean_absolute_error:7597.44775\n",
      "[187]\tvalidation_0-rmse:10641.20963\tvalidation_0-mean_absolute_error:7598.44385\n",
      "[188]\tvalidation_0-rmse:10639.91247\tvalidation_0-mean_absolute_error:7598.43897\n",
      "[189]\tvalidation_0-rmse:10638.44060\tvalidation_0-mean_absolute_error:7598.01074\n",
      "[190]\tvalidation_0-rmse:10636.49766\tvalidation_0-mean_absolute_error:7596.54443\n",
      "[191]\tvalidation_0-rmse:10637.97831\tvalidation_0-mean_absolute_error:7596.14209\n",
      "[192]\tvalidation_0-rmse:10637.43997\tvalidation_0-mean_absolute_error:7595.25781\n",
      "[193]\tvalidation_0-rmse:10639.59306\tvalidation_0-mean_absolute_error:7597.22363\n",
      "[194]\tvalidation_0-rmse:10639.18962\tvalidation_0-mean_absolute_error:7597.39355\n",
      "[195]\tvalidation_0-rmse:10640.32293\tvalidation_0-mean_absolute_error:7598.39600\n",
      "[196]\tvalidation_0-rmse:10643.02230\tvalidation_0-mean_absolute_error:7599.12451\n",
      "[197]\tvalidation_0-rmse:10641.55140\tvalidation_0-mean_absolute_error:7598.14600\n",
      "[198]\tvalidation_0-rmse:10642.90261\tvalidation_0-mean_absolute_error:7599.24121\n",
      "[199]\tvalidation_0-rmse:10641.54876\tvalidation_0-mean_absolute_error:7597.49853\n",
      "[200]\tvalidation_0-rmse:10640.67292\tvalidation_0-mean_absolute_error:7596.84717\n",
      "[201]\tvalidation_0-rmse:10640.76526\tvalidation_0-mean_absolute_error:7596.19824\n",
      "[202]\tvalidation_0-rmse:10641.69772\tvalidation_0-mean_absolute_error:7597.38623\n",
      "[203]\tvalidation_0-rmse:10643.42416\tvalidation_0-mean_absolute_error:7597.68018\n",
      "[204]\tvalidation_0-rmse:10643.91747\tvalidation_0-mean_absolute_error:7598.30518\n",
      "[205]\tvalidation_0-rmse:10643.70543\tvalidation_0-mean_absolute_error:7599.61914\n",
      "[206]\tvalidation_0-rmse:10644.22027\tvalidation_0-mean_absolute_error:7599.08447\n",
      "[207]\tvalidation_0-rmse:10643.61722\tvalidation_0-mean_absolute_error:7598.33936\n",
      "[208]\tvalidation_0-rmse:10644.11216\tvalidation_0-mean_absolute_error:7597.49316\n",
      "[209]\tvalidation_0-rmse:10645.05832\tvalidation_0-mean_absolute_error:7597.91162\n",
      "[210]\tvalidation_0-rmse:10646.23956\tvalidation_0-mean_absolute_error:7598.82422\n",
      "[211]\tvalidation_0-rmse:10647.43946\tvalidation_0-mean_absolute_error:7599.93652\n",
      "[212]\tvalidation_0-rmse:10649.01052\tvalidation_0-mean_absolute_error:7601.87353\n",
      "[213]\tvalidation_0-rmse:10648.49456\tvalidation_0-mean_absolute_error:7601.70264\n",
      "[214]\tvalidation_0-rmse:10650.32130\tvalidation_0-mean_absolute_error:7602.83789\n",
      "[215]\tvalidation_0-rmse:10649.69965\tvalidation_0-mean_absolute_error:7603.10205\n",
      "[216]\tvalidation_0-rmse:10649.45344\tvalidation_0-mean_absolute_error:7603.22070\n",
      "[217]\tvalidation_0-rmse:10650.57430\tvalidation_0-mean_absolute_error:7604.42480\n",
      "[218]\tvalidation_0-rmse:10652.84770\tvalidation_0-mean_absolute_error:7605.11572\n",
      "[219]\tvalidation_0-rmse:10655.57786\tvalidation_0-mean_absolute_error:7606.37012\n",
      "[220]\tvalidation_0-rmse:10654.96587\tvalidation_0-mean_absolute_error:7605.54541\n",
      "[221]\tvalidation_0-rmse:10656.83791\tvalidation_0-mean_absolute_error:7606.42969\n",
      "[222]\tvalidation_0-rmse:10656.72631\tvalidation_0-mean_absolute_error:7606.67676\n",
      "[223]\tvalidation_0-rmse:10660.50982\tvalidation_0-mean_absolute_error:7609.05518\n",
      "[224]\tvalidation_0-rmse:10658.75663\tvalidation_0-mean_absolute_error:7607.50537\n",
      "[225]\tvalidation_0-rmse:10658.37673\tvalidation_0-mean_absolute_error:7607.74609\n",
      "[226]\tvalidation_0-rmse:10660.01170\tvalidation_0-mean_absolute_error:7609.58496\n",
      "[227]\tvalidation_0-rmse:10660.08448\tvalidation_0-mean_absolute_error:7610.17139\n",
      "[228]\tvalidation_0-rmse:10660.23336\tvalidation_0-mean_absolute_error:7608.85303\n",
      "[229]\tvalidation_0-rmse:10660.53858\tvalidation_0-mean_absolute_error:7609.36719\n",
      "[230]\tvalidation_0-rmse:10661.92564\tvalidation_0-mean_absolute_error:7608.75049\n",
      "[231]\tvalidation_0-rmse:10661.04582\tvalidation_0-mean_absolute_error:7609.26855\n",
      "[232]\tvalidation_0-rmse:10662.17309\tvalidation_0-mean_absolute_error:7610.54541\n",
      "[233]\tvalidation_0-rmse:10662.60971\tvalidation_0-mean_absolute_error:7611.15478\n",
      "[234]\tvalidation_0-rmse:10663.65052\tvalidation_0-mean_absolute_error:7612.42773\n",
      "[235]\tvalidation_0-rmse:10663.58109\tvalidation_0-mean_absolute_error:7612.54688\n",
      "[236]\tvalidation_0-rmse:10663.64829\tvalidation_0-mean_absolute_error:7613.38135\n",
      "[237]\tvalidation_0-rmse:10664.74602\tvalidation_0-mean_absolute_error:7613.28418\n",
      "[238]\tvalidation_0-rmse:10663.74198\tvalidation_0-mean_absolute_error:7612.31494\n",
      "[239]\tvalidation_0-rmse:10665.37199\tvalidation_0-mean_absolute_error:7613.33105\n",
      "[240]\tvalidation_0-rmse:10664.88695\tvalidation_0-mean_absolute_error:7613.48682\n",
      "[241]\tvalidation_0-rmse:10666.69655\tvalidation_0-mean_absolute_error:7615.53369\n",
      "[242]\tvalidation_0-rmse:10666.34821\tvalidation_0-mean_absolute_error:7615.40869\n",
      "[243]\tvalidation_0-rmse:10665.68849\tvalidation_0-mean_absolute_error:7613.49463\n"
     ]
    },
    {
     "name": "stdout",
     "output_type": "stream",
     "text": [
      "[244]\tvalidation_0-rmse:10667.03347\tvalidation_0-mean_absolute_error:7615.47998\n",
      "[245]\tvalidation_0-rmse:10667.22512\tvalidation_0-mean_absolute_error:7615.80029\n",
      "[246]\tvalidation_0-rmse:10667.55181\tvalidation_0-mean_absolute_error:7617.61182\n",
      "[247]\tvalidation_0-rmse:10667.46443\tvalidation_0-mean_absolute_error:7617.71436\n",
      "[248]\tvalidation_0-rmse:10668.75791\tvalidation_0-mean_absolute_error:7617.31982\n",
      "[249]\tvalidation_0-rmse:10668.73460\tvalidation_0-mean_absolute_error:7617.47607\n",
      "[250]\tvalidation_0-rmse:10668.00772\tvalidation_0-mean_absolute_error:7616.95117\n",
      "[251]\tvalidation_0-rmse:10669.43987\tvalidation_0-mean_absolute_error:7618.94092\n",
      "[252]\tvalidation_0-rmse:10670.65621\tvalidation_0-mean_absolute_error:7618.11914\n",
      "[253]\tvalidation_0-rmse:10670.70678\tvalidation_0-mean_absolute_error:7618.35010\n",
      "[254]\tvalidation_0-rmse:10671.06261\tvalidation_0-mean_absolute_error:7618.71973\n",
      "[255]\tvalidation_0-rmse:10671.21257\tvalidation_0-mean_absolute_error:7618.95557\n",
      "[256]\tvalidation_0-rmse:10673.69958\tvalidation_0-mean_absolute_error:7619.47070\n",
      "[257]\tvalidation_0-rmse:10673.27858\tvalidation_0-mean_absolute_error:7619.33643\n",
      "[258]\tvalidation_0-rmse:10674.81162\tvalidation_0-mean_absolute_error:7620.22510\n",
      "[259]\tvalidation_0-rmse:10674.15170\tvalidation_0-mean_absolute_error:7620.03760\n",
      "[260]\tvalidation_0-rmse:10672.97126\tvalidation_0-mean_absolute_error:7618.82324\n",
      "[261]\tvalidation_0-rmse:10672.89862\tvalidation_0-mean_absolute_error:7618.71973\n",
      "[262]\tvalidation_0-rmse:10673.98851\tvalidation_0-mean_absolute_error:7619.79883\n",
      "[263]\tvalidation_0-rmse:10674.17746\tvalidation_0-mean_absolute_error:7620.57373\n",
      "[264]\tvalidation_0-rmse:10674.16874\tvalidation_0-mean_absolute_error:7620.46436\n",
      "[265]\tvalidation_0-rmse:10675.60010\tvalidation_0-mean_absolute_error:7622.30566\n",
      "[266]\tvalidation_0-rmse:10677.34352\tvalidation_0-mean_absolute_error:7622.86816\n",
      "[267]\tvalidation_0-rmse:10676.80888\tvalidation_0-mean_absolute_error:7623.14453\n",
      "[268]\tvalidation_0-rmse:10676.88477\tvalidation_0-mean_absolute_error:7623.28418\n",
      "[269]\tvalidation_0-rmse:10677.53805\tvalidation_0-mean_absolute_error:7623.63281\n",
      "[270]\tvalidation_0-rmse:10679.02347\tvalidation_0-mean_absolute_error:7624.09766\n",
      "[271]\tvalidation_0-rmse:10678.93092\tvalidation_0-mean_absolute_error:7623.99512\n",
      "[272]\tvalidation_0-rmse:10679.74576\tvalidation_0-mean_absolute_error:7624.25879\n",
      "[273]\tvalidation_0-rmse:10679.75688\tvalidation_0-mean_absolute_error:7624.30566\n",
      "[274]\tvalidation_0-rmse:10679.59275\tvalidation_0-mean_absolute_error:7623.76953\n",
      "[275]\tvalidation_0-rmse:10679.13657\tvalidation_0-mean_absolute_error:7623.63965\n",
      "[276]\tvalidation_0-rmse:10679.69429\tvalidation_0-mean_absolute_error:7623.70020\n",
      "[277]\tvalidation_0-rmse:10678.39810\tvalidation_0-mean_absolute_error:7622.97607\n",
      "[278]\tvalidation_0-rmse:10678.29693\tvalidation_0-mean_absolute_error:7622.93945\n",
      "[279]\tvalidation_0-rmse:10678.96261\tvalidation_0-mean_absolute_error:7625.02148\n",
      "[280]\tvalidation_0-rmse:10679.39165\tvalidation_0-mean_absolute_error:7625.46191\n",
      "[281]\tvalidation_0-rmse:10681.04470\tvalidation_0-mean_absolute_error:7626.18555\n",
      "[282]\tvalidation_0-rmse:10681.16845\tvalidation_0-mean_absolute_error:7626.38477\n",
      "[283]\tvalidation_0-rmse:10683.65565\tvalidation_0-mean_absolute_error:7627.90332\n",
      "[284]\tvalidation_0-rmse:10683.34146\tvalidation_0-mean_absolute_error:7627.86182\n",
      "[285]\tvalidation_0-rmse:10683.86326\tvalidation_0-mean_absolute_error:7629.32568\n",
      "[286]\tvalidation_0-rmse:10685.12704\tvalidation_0-mean_absolute_error:7631.75342\n",
      "[287]\tvalidation_0-rmse:10685.40354\tvalidation_0-mean_absolute_error:7632.51562\n",
      "[288]\tvalidation_0-rmse:10685.88692\tvalidation_0-mean_absolute_error:7632.70801\n",
      "[289]\tvalidation_0-rmse:10686.14560\tvalidation_0-mean_absolute_error:7632.67041\n",
      "[290]\tvalidation_0-rmse:10688.95505\tvalidation_0-mean_absolute_error:7634.12353\n",
      "[291]\tvalidation_0-rmse:10691.56068\tvalidation_0-mean_absolute_error:7635.56152\n",
      "[292]\tvalidation_0-rmse:10691.62091\tvalidation_0-mean_absolute_error:7635.52734\n",
      "[293]\tvalidation_0-rmse:10690.94258\tvalidation_0-mean_absolute_error:7635.35010\n",
      "[294]\tvalidation_0-rmse:10693.48816\tvalidation_0-mean_absolute_error:7636.39697\n",
      "[295]\tvalidation_0-rmse:10698.14717\tvalidation_0-mean_absolute_error:7639.07373\n",
      "[296]\tvalidation_0-rmse:10698.12775\tvalidation_0-mean_absolute_error:7638.68652\n",
      "[297]\tvalidation_0-rmse:10699.10176\tvalidation_0-mean_absolute_error:7639.27637\n",
      "[298]\tvalidation_0-rmse:10697.64511\tvalidation_0-mean_absolute_error:7638.29492\n",
      "[299]\tvalidation_0-rmse:10695.50440\tvalidation_0-mean_absolute_error:7637.18115\n",
      "[300]\tvalidation_0-rmse:10694.47848\tvalidation_0-mean_absolute_error:7636.63867\n",
      "[301]\tvalidation_0-rmse:10694.69450\tvalidation_0-mean_absolute_error:7636.62988\n",
      "[302]\tvalidation_0-rmse:10695.63735\tvalidation_0-mean_absolute_error:7636.96338\n",
      "[303]\tvalidation_0-rmse:10694.74042\tvalidation_0-mean_absolute_error:7636.34228\n",
      "[304]\tvalidation_0-rmse:10695.43433\tvalidation_0-mean_absolute_error:7636.47070\n",
      "[305]\tvalidation_0-rmse:10693.93285\tvalidation_0-mean_absolute_error:7635.62256\n",
      "[306]\tvalidation_0-rmse:10695.98651\tvalidation_0-mean_absolute_error:7636.70264\n",
      "[307]\tvalidation_0-rmse:10696.72033\tvalidation_0-mean_absolute_error:7637.77295\n",
      "[308]\tvalidation_0-rmse:10696.97062\tvalidation_0-mean_absolute_error:7638.26562\n",
      "[309]\tvalidation_0-rmse:10699.74391\tvalidation_0-mean_absolute_error:7640.04150\n",
      "[310]\tvalidation_0-rmse:10700.10474\tvalidation_0-mean_absolute_error:7640.99072\n",
      "[311]\tvalidation_0-rmse:10701.64681\tvalidation_0-mean_absolute_error:7642.19043\n",
      "[312]\tvalidation_0-rmse:10701.37717\tvalidation_0-mean_absolute_error:7642.36035\n",
      "[313]\tvalidation_0-rmse:10701.44688\tvalidation_0-mean_absolute_error:7642.31885\n",
      "[314]\tvalidation_0-rmse:10703.25096\tvalidation_0-mean_absolute_error:7643.45166\n",
      "[315]\tvalidation_0-rmse:10702.00965\tvalidation_0-mean_absolute_error:7642.92090\n",
      "[316]\tvalidation_0-rmse:10705.05454\tvalidation_0-mean_absolute_error:7645.04541\n",
      "[317]\tvalidation_0-rmse:10703.56135\tvalidation_0-mean_absolute_error:7645.03613\n",
      "[318]\tvalidation_0-rmse:10706.38364\tvalidation_0-mean_absolute_error:7647.39990\n",
      "[319]\tvalidation_0-rmse:10707.72733\tvalidation_0-mean_absolute_error:7649.18359\n",
      "[320]\tvalidation_0-rmse:10708.17588\tvalidation_0-mean_absolute_error:7649.65283\n",
      "[321]\tvalidation_0-rmse:10708.55358\tvalidation_0-mean_absolute_error:7649.99316\n",
      "[322]\tvalidation_0-rmse:10708.36425\tvalidation_0-mean_absolute_error:7650.13672\n",
      "[323]\tvalidation_0-rmse:10709.75669\tvalidation_0-mean_absolute_error:7652.13281\n",
      "[324]\tvalidation_0-rmse:10712.04077\tvalidation_0-mean_absolute_error:7653.14453\n",
      "[325]\tvalidation_0-rmse:10713.34271\tvalidation_0-mean_absolute_error:7653.73779\n",
      "[326]\tvalidation_0-rmse:10713.78850\tvalidation_0-mean_absolute_error:7654.13477\n",
      "[327]\tvalidation_0-rmse:10714.80718\tvalidation_0-mean_absolute_error:7654.41553\n",
      "[328]\tvalidation_0-rmse:10713.54195\tvalidation_0-mean_absolute_error:7653.15430\n",
      "[329]\tvalidation_0-rmse:10713.89461\tvalidation_0-mean_absolute_error:7653.63818\n",
      "[330]\tvalidation_0-rmse:10715.40665\tvalidation_0-mean_absolute_error:7655.73975\n",
      "[331]\tvalidation_0-rmse:10716.19661\tvalidation_0-mean_absolute_error:7656.89355\n",
      "[332]\tvalidation_0-rmse:10717.12780\tvalidation_0-mean_absolute_error:7657.36377\n",
      "[333]\tvalidation_0-rmse:10716.16552\tvalidation_0-mean_absolute_error:7657.33496\n",
      "[334]\tvalidation_0-rmse:10716.12898\tvalidation_0-mean_absolute_error:7657.42871\n",
      "[335]\tvalidation_0-rmse:10716.10872\tvalidation_0-mean_absolute_error:7657.84522\n",
      "[336]\tvalidation_0-rmse:10716.24070\tvalidation_0-mean_absolute_error:7657.97607\n",
      "[337]\tvalidation_0-rmse:10715.53429\tvalidation_0-mean_absolute_error:7657.43555\n",
      "[338]\tvalidation_0-rmse:10715.93943\tvalidation_0-mean_absolute_error:7657.44043\n",
      "[339]\tvalidation_0-rmse:10716.80307\tvalidation_0-mean_absolute_error:7657.96924\n",
      "[340]\tvalidation_0-rmse:10717.09563\tvalidation_0-mean_absolute_error:7657.95996\n",
      "[341]\tvalidation_0-rmse:10716.87733\tvalidation_0-mean_absolute_error:7658.16211\n",
      "[342]\tvalidation_0-rmse:10717.81307\tvalidation_0-mean_absolute_error:7658.98145\n",
      "[343]\tvalidation_0-rmse:10718.03349\tvalidation_0-mean_absolute_error:7659.08984\n",
      "[344]\tvalidation_0-rmse:10717.99263\tvalidation_0-mean_absolute_error:7659.09375\n",
      "[345]\tvalidation_0-rmse:10720.51196\tvalidation_0-mean_absolute_error:7660.27197\n",
      "[346]\tvalidation_0-rmse:10719.60038\tvalidation_0-mean_absolute_error:7659.98682\n"
     ]
    },
    {
     "name": "stdout",
     "output_type": "stream",
     "text": [
      "[347]\tvalidation_0-rmse:10721.56532\tvalidation_0-mean_absolute_error:7663.19727\n",
      "[348]\tvalidation_0-rmse:10724.31123\tvalidation_0-mean_absolute_error:7665.34863\n",
      "[349]\tvalidation_0-rmse:10723.50824\tvalidation_0-mean_absolute_error:7665.10596\n",
      "[350]\tvalidation_0-rmse:10723.15110\tvalidation_0-mean_absolute_error:7665.27490\n",
      "[351]\tvalidation_0-rmse:10723.76648\tvalidation_0-mean_absolute_error:7665.33105\n",
      "[352]\tvalidation_0-rmse:10722.33273\tvalidation_0-mean_absolute_error:7663.58447\n",
      "[353]\tvalidation_0-rmse:10723.39260\tvalidation_0-mean_absolute_error:7664.26123\n",
      "[354]\tvalidation_0-rmse:10723.68306\tvalidation_0-mean_absolute_error:7664.36182\n",
      "[355]\tvalidation_0-rmse:10724.50401\tvalidation_0-mean_absolute_error:7665.11377\n",
      "[356]\tvalidation_0-rmse:10724.98961\tvalidation_0-mean_absolute_error:7665.58643\n",
      "[357]\tvalidation_0-rmse:10725.35337\tvalidation_0-mean_absolute_error:7665.70020\n",
      "[358]\tvalidation_0-rmse:10725.72542\tvalidation_0-mean_absolute_error:7667.02881\n",
      "[359]\tvalidation_0-rmse:10726.13203\tvalidation_0-mean_absolute_error:7667.50195\n",
      "[360]\tvalidation_0-rmse:10726.62918\tvalidation_0-mean_absolute_error:7667.63281\n",
      "[361]\tvalidation_0-rmse:10727.58920\tvalidation_0-mean_absolute_error:7668.00781\n",
      "[362]\tvalidation_0-rmse:10727.28213\tvalidation_0-mean_absolute_error:7668.38721\n",
      "[363]\tvalidation_0-rmse:10727.06886\tvalidation_0-mean_absolute_error:7668.34473\n",
      "[364]\tvalidation_0-rmse:10727.47989\tvalidation_0-mean_absolute_error:7668.78760\n",
      "[365]\tvalidation_0-rmse:10726.92408\tvalidation_0-mean_absolute_error:7668.70898\n",
      "[366]\tvalidation_0-rmse:10726.23457\tvalidation_0-mean_absolute_error:7668.48438\n",
      "[367]\tvalidation_0-rmse:10726.30392\tvalidation_0-mean_absolute_error:7668.72119\n",
      "[368]\tvalidation_0-rmse:10724.59201\tvalidation_0-mean_absolute_error:7666.72705\n",
      "[369]\tvalidation_0-rmse:10724.52196\tvalidation_0-mean_absolute_error:7666.55615\n",
      "[370]\tvalidation_0-rmse:10724.66796\tvalidation_0-mean_absolute_error:7666.83936\n",
      "[371]\tvalidation_0-rmse:10723.83795\tvalidation_0-mean_absolute_error:7666.61328\n",
      "[372]\tvalidation_0-rmse:10725.01173\tvalidation_0-mean_absolute_error:7667.16162\n",
      "[373]\tvalidation_0-rmse:10724.73246\tvalidation_0-mean_absolute_error:7667.80908\n",
      "[374]\tvalidation_0-rmse:10724.88007\tvalidation_0-mean_absolute_error:7669.14600\n",
      "[375]\tvalidation_0-rmse:10725.27300\tvalidation_0-mean_absolute_error:7669.64697\n",
      "[376]\tvalidation_0-rmse:10725.68421\tvalidation_0-mean_absolute_error:7670.14795\n",
      "[377]\tvalidation_0-rmse:10725.86021\tvalidation_0-mean_absolute_error:7670.35645\n",
      "[378]\tvalidation_0-rmse:10726.36552\tvalidation_0-mean_absolute_error:7671.47803\n",
      "[379]\tvalidation_0-rmse:10726.77193\tvalidation_0-mean_absolute_error:7671.95850\n",
      "[380]\tvalidation_0-rmse:10725.89677\tvalidation_0-mean_absolute_error:7671.54834\n",
      "[381]\tvalidation_0-rmse:10726.29730\tvalidation_0-mean_absolute_error:7672.17578\n",
      "[382]\tvalidation_0-rmse:10725.66181\tvalidation_0-mean_absolute_error:7671.33594\n",
      "[383]\tvalidation_0-rmse:10726.12080\tvalidation_0-mean_absolute_error:7671.46094\n",
      "[384]\tvalidation_0-rmse:10726.04124\tvalidation_0-mean_absolute_error:7671.42480\n",
      "[385]\tvalidation_0-rmse:10726.03440\tvalidation_0-mean_absolute_error:7671.38721\n",
      "[386]\tvalidation_0-rmse:10725.22613\tvalidation_0-mean_absolute_error:7670.97266\n",
      "[387]\tvalidation_0-rmse:10725.75094\tvalidation_0-mean_absolute_error:7671.82178\n",
      "[388]\tvalidation_0-rmse:10726.32659\tvalidation_0-mean_absolute_error:7672.67676\n",
      "[389]\tvalidation_0-rmse:10726.53280\tvalidation_0-mean_absolute_error:7672.56445\n",
      "[390]\tvalidation_0-rmse:10729.35206\tvalidation_0-mean_absolute_error:7674.84473\n",
      "[391]\tvalidation_0-rmse:10729.44742\tvalidation_0-mean_absolute_error:7674.87793\n",
      "[392]\tvalidation_0-rmse:10729.14358\tvalidation_0-mean_absolute_error:7675.28369\n",
      "[393]\tvalidation_0-rmse:10728.40644\tvalidation_0-mean_absolute_error:7675.12207\n",
      "[394]\tvalidation_0-rmse:10728.86352\tvalidation_0-mean_absolute_error:7675.79346\n",
      "[395]\tvalidation_0-rmse:10728.89102\tvalidation_0-mean_absolute_error:7675.84570\n",
      "[396]\tvalidation_0-rmse:10727.95362\tvalidation_0-mean_absolute_error:7676.39795\n",
      "[397]\tvalidation_0-rmse:10727.86124\tvalidation_0-mean_absolute_error:7676.18164\n",
      "[398]\tvalidation_0-rmse:10728.24148\tvalidation_0-mean_absolute_error:7676.47168\n",
      "[399]\tvalidation_0-rmse:10727.90023\tvalidation_0-mean_absolute_error:7676.71826\n",
      "[400]\tvalidation_0-rmse:10727.16696\tvalidation_0-mean_absolute_error:7676.15527\n",
      "[401]\tvalidation_0-rmse:10728.10438\tvalidation_0-mean_absolute_error:7676.81250\n",
      "[402]\tvalidation_0-rmse:10728.62847\tvalidation_0-mean_absolute_error:7677.10205\n",
      "[403]\tvalidation_0-rmse:10729.48166\tvalidation_0-mean_absolute_error:7677.73584\n",
      "[404]\tvalidation_0-rmse:10729.65662\tvalidation_0-mean_absolute_error:7677.62353\n",
      "[405]\tvalidation_0-rmse:10728.62901\tvalidation_0-mean_absolute_error:7677.28955\n",
      "[406]\tvalidation_0-rmse:10728.61621\tvalidation_0-mean_absolute_error:7677.34326\n",
      "[407]\tvalidation_0-rmse:10729.75528\tvalidation_0-mean_absolute_error:7677.89941\n",
      "[408]\tvalidation_0-rmse:10730.59266\tvalidation_0-mean_absolute_error:7678.45117\n",
      "[409]\tvalidation_0-rmse:10730.89039\tvalidation_0-mean_absolute_error:7679.14453\n",
      "[410]\tvalidation_0-rmse:10732.61513\tvalidation_0-mean_absolute_error:7680.41162\n",
      "[411]\tvalidation_0-rmse:10732.63501\tvalidation_0-mean_absolute_error:7680.65625\n",
      "[412]\tvalidation_0-rmse:10733.63932\tvalidation_0-mean_absolute_error:7681.18750\n",
      "[413]\tvalidation_0-rmse:10735.44513\tvalidation_0-mean_absolute_error:7682.07910\n",
      "[414]\tvalidation_0-rmse:10738.11483\tvalidation_0-mean_absolute_error:7683.33447\n",
      "[415]\tvalidation_0-rmse:10737.61931\tvalidation_0-mean_absolute_error:7682.62451\n",
      "[416]\tvalidation_0-rmse:10737.62349\tvalidation_0-mean_absolute_error:7682.67041\n",
      "[417]\tvalidation_0-rmse:10738.69346\tvalidation_0-mean_absolute_error:7683.20898\n",
      "[418]\tvalidation_0-rmse:10738.30074\tvalidation_0-mean_absolute_error:7682.74414\n"
     ]
    },
    {
     "name": "stderr",
     "output_type": "stream",
     "text": [
      "Best trial: 1. Best value: 6955.45:    1%|▉                                                               | 00:04/05:00C:\\Users\\vicbe\\miniconda3\\envs\\MDS7202\\Lib\\site-packages\\xgboost\\sklearn.py:835: UserWarning:\n",
      "\n",
      "`callbacks` in `fit` method is deprecated for better compatibility with scikit-learn, use `callbacks` in constructor or`set_params` instead.\n",
      "\n",
      "Best trial: 1. Best value: 6955.45:    1%|▉                                                               | 00:04/05:00"
     ]
    },
    {
     "name": "stdout",
     "output_type": "stream",
     "text": [
      "[W 2023-11-16 23:38:59,863] Trial 3 failed with parameters: {'learning_rate': 0.053723907114161855, 'n_estimators': 842, 'max_depth': 4, 'max_leaves': 78, 'min_child_weight': 2, 'reg_alpha': 0.38249412207847044, 'reg_lambda': 0.029488758938357007, 'min_frequency': 0.09408769155494312} because of the following error: ValueError(\"feature_names mismatch: ['minmax__remainder__id', 'minmax__remainder__lat', 'minmax__remainder__long', 'minmax__remainder__pop', 'minmax__remainder__price', 'oh__cat__dia_30', 'oh__cat__dia_31', 'oh__cat__dia_infrequent_sklearn', 'oh__cat__mes_infrequent_sklearn', 'oh__cat__anho_2012', 'oh__cat__anho_2013', 'oh__cat__anho_2014', 'oh__cat__anho_2015', 'oh__cat__anho_2016', 'oh__cat__anho_2017', 'oh__cat__anho_2018'] ['minmax__remainder__id', 'minmax__remainder__lat', 'minmax__remainder__long', 'minmax__remainder__pop', 'minmax__remainder__price', 'oh__cat__dia_30', 'oh__cat__dia_31', 'oh__cat__dia_infrequent_sklearn', 'oh__cat__mes_2', 'oh__cat__mes_3', 'oh__cat__mes_infrequent_sklearn', 'oh__cat__anho_2012', 'oh__cat__anho_2013', 'oh__cat__anho_2014', 'oh__cat__anho_2015', 'oh__cat__anho_2016', 'oh__cat__anho_2017', 'oh__cat__anho_2018']\\ntraining data did not have the following fields: oh__cat__mes_3, oh__cat__mes_2\").\n",
      "Traceback (most recent call last):\n",
      "  File \"C:\\Users\\vicbe\\miniconda3\\envs\\MDS7202\\Lib\\site-packages\\optuna\\study\\_optimize.py\", line 200, in _run_trial\n",
      "    value_or_values = func(trial)\n",
      "                      ^^^^^^^^^^^\n",
      "  File \"C:\\Users\\vicbe\\AppData\\Local\\Temp\\ipykernel_4188\\736625638.py\", line 77, in objective_function_pr\n",
      "    pipe.fit(X_train, y_train, regressor__callbacks=[pruning_callback], regressor__eval_set=[(X_val_scaled, y_val),])\n",
      "  File \"C:\\Users\\vicbe\\miniconda3\\envs\\MDS7202\\Lib\\site-packages\\sklearn\\pipeline.py\", line 405, in fit\n",
      "    self._final_estimator.fit(Xt, y, **fit_params_last_step)\n",
      "  File \"C:\\Users\\vicbe\\miniconda3\\envs\\MDS7202\\Lib\\site-packages\\xgboost\\core.py\", line 620, in inner_f\n",
      "    return func(**kwargs)\n",
      "           ^^^^^^^^^^^^^^\n",
      "  File \"C:\\Users\\vicbe\\miniconda3\\envs\\MDS7202\\Lib\\site-packages\\xgboost\\sklearn.py\", line 1025, in fit\n",
      "    self._Booster = train(\n",
      "                    ^^^^^^\n",
      "  File \"C:\\Users\\vicbe\\miniconda3\\envs\\MDS7202\\Lib\\site-packages\\xgboost\\core.py\", line 620, in inner_f\n",
      "    return func(**kwargs)\n",
      "           ^^^^^^^^^^^^^^\n",
      "  File \"C:\\Users\\vicbe\\miniconda3\\envs\\MDS7202\\Lib\\site-packages\\xgboost\\training.py\", line 160, in train\n",
      "    bst = Booster(params, [dtrain] + [d[0] for d in evals], model_file=xgb_model)\n",
      "          ^^^^^^^^^^^^^^^^^^^^^^^^^^^^^^^^^^^^^^^^^^^^^^^^^^^^^^^^^^^^^^^^^^^^^^^\n",
      "  File \"C:\\Users\\vicbe\\miniconda3\\envs\\MDS7202\\Lib\\site-packages\\xgboost\\core.py\", line 1556, in __init__\n",
      "    self._validate_dmatrix_features(d)\n",
      "  File \"C:\\Users\\vicbe\\miniconda3\\envs\\MDS7202\\Lib\\site-packages\\xgboost\\core.py\", line 2747, in _validate_dmatrix_features\n",
      "    self._validate_features(fn)\n",
      "  File \"C:\\Users\\vicbe\\miniconda3\\envs\\MDS7202\\Lib\\site-packages\\xgboost\\core.py\", line 2782, in _validate_features\n",
      "    raise ValueError(msg.format(self.feature_names, feature_names))\n",
      "ValueError: feature_names mismatch: ['minmax__remainder__id', 'minmax__remainder__lat', 'minmax__remainder__long', 'minmax__remainder__pop', 'minmax__remainder__price', 'oh__cat__dia_30', 'oh__cat__dia_31', 'oh__cat__dia_infrequent_sklearn', 'oh__cat__mes_infrequent_sklearn', 'oh__cat__anho_2012', 'oh__cat__anho_2013', 'oh__cat__anho_2014', 'oh__cat__anho_2015', 'oh__cat__anho_2016', 'oh__cat__anho_2017', 'oh__cat__anho_2018'] ['minmax__remainder__id', 'minmax__remainder__lat', 'minmax__remainder__long', 'minmax__remainder__pop', 'minmax__remainder__price', 'oh__cat__dia_30', 'oh__cat__dia_31', 'oh__cat__dia_infrequent_sklearn', 'oh__cat__mes_2', 'oh__cat__mes_3', 'oh__cat__mes_infrequent_sklearn', 'oh__cat__anho_2012', 'oh__cat__anho_2013', 'oh__cat__anho_2014', 'oh__cat__anho_2015', 'oh__cat__anho_2016', 'oh__cat__anho_2017', 'oh__cat__anho_2018']\n",
      "training data did not have the following fields: oh__cat__mes_3, oh__cat__mes_2\n",
      "[W 2023-11-16 23:38:59,867] Trial 3 failed with value None.\n"
     ]
    },
    {
     "name": "stderr",
     "output_type": "stream",
     "text": [
      "\n"
     ]
    },
    {
     "ename": "ValueError",
     "evalue": "feature_names mismatch: ['minmax__remainder__id', 'minmax__remainder__lat', 'minmax__remainder__long', 'minmax__remainder__pop', 'minmax__remainder__price', 'oh__cat__dia_30', 'oh__cat__dia_31', 'oh__cat__dia_infrequent_sklearn', 'oh__cat__mes_infrequent_sklearn', 'oh__cat__anho_2012', 'oh__cat__anho_2013', 'oh__cat__anho_2014', 'oh__cat__anho_2015', 'oh__cat__anho_2016', 'oh__cat__anho_2017', 'oh__cat__anho_2018'] ['minmax__remainder__id', 'minmax__remainder__lat', 'minmax__remainder__long', 'minmax__remainder__pop', 'minmax__remainder__price', 'oh__cat__dia_30', 'oh__cat__dia_31', 'oh__cat__dia_infrequent_sklearn', 'oh__cat__mes_2', 'oh__cat__mes_3', 'oh__cat__mes_infrequent_sklearn', 'oh__cat__anho_2012', 'oh__cat__anho_2013', 'oh__cat__anho_2014', 'oh__cat__anho_2015', 'oh__cat__anho_2016', 'oh__cat__anho_2017', 'oh__cat__anho_2018']\ntraining data did not have the following fields: oh__cat__mes_3, oh__cat__mes_2",
     "output_type": "error",
     "traceback": [
      "\u001b[1;31m---------------------------------------------------------------------------\u001b[0m",
      "\u001b[1;31mValueError\u001b[0m                                Traceback (most recent call last)",
      "Cell \u001b[1;32mIn[34], line 2\u001b[0m\n\u001b[0;32m      1\u001b[0m study_pr \u001b[38;5;241m=\u001b[39m optuna\u001b[38;5;241m.\u001b[39mcreate_study(direction\u001b[38;5;241m=\u001b[39m\u001b[38;5;124m\"\u001b[39m\u001b[38;5;124mminimize\u001b[39m\u001b[38;5;124m\"\u001b[39m)\n\u001b[1;32m----> 2\u001b[0m \u001b[43mstudy_pr\u001b[49m\u001b[38;5;241;43m.\u001b[39;49m\u001b[43moptimize\u001b[49m\u001b[43m(\u001b[49m\u001b[43mobjective_function_pr\u001b[49m\u001b[43m,\u001b[49m\u001b[43m \u001b[49m\u001b[43mtimeout\u001b[49m\u001b[38;5;241;43m=\u001b[39;49m\u001b[38;5;241;43m5\u001b[39;49m\u001b[38;5;241;43m*\u001b[39;49m\u001b[38;5;241;43m60\u001b[39;49m\u001b[43m,\u001b[49m\u001b[43m \u001b[49m\u001b[43mshow_progress_bar\u001b[49m\u001b[43m \u001b[49m\u001b[38;5;241;43m=\u001b[39;49m\u001b[43m \u001b[49m\u001b[38;5;28;43;01mTrue\u001b[39;49;00m\u001b[43m)\u001b[49m\n",
      "File \u001b[1;32m~\\miniconda3\\envs\\MDS7202\\Lib\\site-packages\\optuna\\study\\study.py:451\u001b[0m, in \u001b[0;36mStudy.optimize\u001b[1;34m(self, func, n_trials, timeout, n_jobs, catch, callbacks, gc_after_trial, show_progress_bar)\u001b[0m\n\u001b[0;32m    348\u001b[0m \u001b[38;5;28;01mdef\u001b[39;00m \u001b[38;5;21moptimize\u001b[39m(\n\u001b[0;32m    349\u001b[0m     \u001b[38;5;28mself\u001b[39m,\n\u001b[0;32m    350\u001b[0m     func: ObjectiveFuncType,\n\u001b[1;32m   (...)\u001b[0m\n\u001b[0;32m    357\u001b[0m     show_progress_bar: \u001b[38;5;28mbool\u001b[39m \u001b[38;5;241m=\u001b[39m \u001b[38;5;28;01mFalse\u001b[39;00m,\n\u001b[0;32m    358\u001b[0m ) \u001b[38;5;241m-\u001b[39m\u001b[38;5;241m>\u001b[39m \u001b[38;5;28;01mNone\u001b[39;00m:\n\u001b[0;32m    359\u001b[0m \u001b[38;5;250m    \u001b[39m\u001b[38;5;124;03m\"\"\"Optimize an objective function.\u001b[39;00m\n\u001b[0;32m    360\u001b[0m \n\u001b[0;32m    361\u001b[0m \u001b[38;5;124;03m    Optimization is done by choosing a suitable set of hyperparameter values from a given\u001b[39;00m\n\u001b[1;32m   (...)\u001b[0m\n\u001b[0;32m    449\u001b[0m \u001b[38;5;124;03m            If nested invocation of this method occurs.\u001b[39;00m\n\u001b[0;32m    450\u001b[0m \u001b[38;5;124;03m    \"\"\"\u001b[39;00m\n\u001b[1;32m--> 451\u001b[0m     \u001b[43m_optimize\u001b[49m\u001b[43m(\u001b[49m\n\u001b[0;32m    452\u001b[0m \u001b[43m        \u001b[49m\u001b[43mstudy\u001b[49m\u001b[38;5;241;43m=\u001b[39;49m\u001b[38;5;28;43mself\u001b[39;49m\u001b[43m,\u001b[49m\n\u001b[0;32m    453\u001b[0m \u001b[43m        \u001b[49m\u001b[43mfunc\u001b[49m\u001b[38;5;241;43m=\u001b[39;49m\u001b[43mfunc\u001b[49m\u001b[43m,\u001b[49m\n\u001b[0;32m    454\u001b[0m \u001b[43m        \u001b[49m\u001b[43mn_trials\u001b[49m\u001b[38;5;241;43m=\u001b[39;49m\u001b[43mn_trials\u001b[49m\u001b[43m,\u001b[49m\n\u001b[0;32m    455\u001b[0m \u001b[43m        \u001b[49m\u001b[43mtimeout\u001b[49m\u001b[38;5;241;43m=\u001b[39;49m\u001b[43mtimeout\u001b[49m\u001b[43m,\u001b[49m\n\u001b[0;32m    456\u001b[0m \u001b[43m        \u001b[49m\u001b[43mn_jobs\u001b[49m\u001b[38;5;241;43m=\u001b[39;49m\u001b[43mn_jobs\u001b[49m\u001b[43m,\u001b[49m\n\u001b[0;32m    457\u001b[0m \u001b[43m        \u001b[49m\u001b[43mcatch\u001b[49m\u001b[38;5;241;43m=\u001b[39;49m\u001b[38;5;28;43mtuple\u001b[39;49m\u001b[43m(\u001b[49m\u001b[43mcatch\u001b[49m\u001b[43m)\u001b[49m\u001b[43m \u001b[49m\u001b[38;5;28;43;01mif\u001b[39;49;00m\u001b[43m \u001b[49m\u001b[38;5;28;43misinstance\u001b[39;49m\u001b[43m(\u001b[49m\u001b[43mcatch\u001b[49m\u001b[43m,\u001b[49m\u001b[43m \u001b[49m\u001b[43mIterable\u001b[49m\u001b[43m)\u001b[49m\u001b[43m \u001b[49m\u001b[38;5;28;43;01melse\u001b[39;49;00m\u001b[43m \u001b[49m\u001b[43m(\u001b[49m\u001b[43mcatch\u001b[49m\u001b[43m,\u001b[49m\u001b[43m)\u001b[49m\u001b[43m,\u001b[49m\n\u001b[0;32m    458\u001b[0m \u001b[43m        \u001b[49m\u001b[43mcallbacks\u001b[49m\u001b[38;5;241;43m=\u001b[39;49m\u001b[43mcallbacks\u001b[49m\u001b[43m,\u001b[49m\n\u001b[0;32m    459\u001b[0m \u001b[43m        \u001b[49m\u001b[43mgc_after_trial\u001b[49m\u001b[38;5;241;43m=\u001b[39;49m\u001b[43mgc_after_trial\u001b[49m\u001b[43m,\u001b[49m\n\u001b[0;32m    460\u001b[0m \u001b[43m        \u001b[49m\u001b[43mshow_progress_bar\u001b[49m\u001b[38;5;241;43m=\u001b[39;49m\u001b[43mshow_progress_bar\u001b[49m\u001b[43m,\u001b[49m\n\u001b[0;32m    461\u001b[0m \u001b[43m    \u001b[49m\u001b[43m)\u001b[49m\n",
      "File \u001b[1;32m~\\miniconda3\\envs\\MDS7202\\Lib\\site-packages\\optuna\\study\\_optimize.py:66\u001b[0m, in \u001b[0;36m_optimize\u001b[1;34m(study, func, n_trials, timeout, n_jobs, catch, callbacks, gc_after_trial, show_progress_bar)\u001b[0m\n\u001b[0;32m     64\u001b[0m \u001b[38;5;28;01mtry\u001b[39;00m:\n\u001b[0;32m     65\u001b[0m     \u001b[38;5;28;01mif\u001b[39;00m n_jobs \u001b[38;5;241m==\u001b[39m \u001b[38;5;241m1\u001b[39m:\n\u001b[1;32m---> 66\u001b[0m         \u001b[43m_optimize_sequential\u001b[49m\u001b[43m(\u001b[49m\n\u001b[0;32m     67\u001b[0m \u001b[43m            \u001b[49m\u001b[43mstudy\u001b[49m\u001b[43m,\u001b[49m\n\u001b[0;32m     68\u001b[0m \u001b[43m            \u001b[49m\u001b[43mfunc\u001b[49m\u001b[43m,\u001b[49m\n\u001b[0;32m     69\u001b[0m \u001b[43m            \u001b[49m\u001b[43mn_trials\u001b[49m\u001b[43m,\u001b[49m\n\u001b[0;32m     70\u001b[0m \u001b[43m            \u001b[49m\u001b[43mtimeout\u001b[49m\u001b[43m,\u001b[49m\n\u001b[0;32m     71\u001b[0m \u001b[43m            \u001b[49m\u001b[43mcatch\u001b[49m\u001b[43m,\u001b[49m\n\u001b[0;32m     72\u001b[0m \u001b[43m            \u001b[49m\u001b[43mcallbacks\u001b[49m\u001b[43m,\u001b[49m\n\u001b[0;32m     73\u001b[0m \u001b[43m            \u001b[49m\u001b[43mgc_after_trial\u001b[49m\u001b[43m,\u001b[49m\n\u001b[0;32m     74\u001b[0m \u001b[43m            \u001b[49m\u001b[43mreseed_sampler_rng\u001b[49m\u001b[38;5;241;43m=\u001b[39;49m\u001b[38;5;28;43;01mFalse\u001b[39;49;00m\u001b[43m,\u001b[49m\n\u001b[0;32m     75\u001b[0m \u001b[43m            \u001b[49m\u001b[43mtime_start\u001b[49m\u001b[38;5;241;43m=\u001b[39;49m\u001b[38;5;28;43;01mNone\u001b[39;49;00m\u001b[43m,\u001b[49m\n\u001b[0;32m     76\u001b[0m \u001b[43m            \u001b[49m\u001b[43mprogress_bar\u001b[49m\u001b[38;5;241;43m=\u001b[39;49m\u001b[43mprogress_bar\u001b[49m\u001b[43m,\u001b[49m\n\u001b[0;32m     77\u001b[0m \u001b[43m        \u001b[49m\u001b[43m)\u001b[49m\n\u001b[0;32m     78\u001b[0m     \u001b[38;5;28;01melse\u001b[39;00m:\n\u001b[0;32m     79\u001b[0m         \u001b[38;5;28;01mif\u001b[39;00m n_jobs \u001b[38;5;241m==\u001b[39m \u001b[38;5;241m-\u001b[39m\u001b[38;5;241m1\u001b[39m:\n",
      "File \u001b[1;32m~\\miniconda3\\envs\\MDS7202\\Lib\\site-packages\\optuna\\study\\_optimize.py:163\u001b[0m, in \u001b[0;36m_optimize_sequential\u001b[1;34m(study, func, n_trials, timeout, catch, callbacks, gc_after_trial, reseed_sampler_rng, time_start, progress_bar)\u001b[0m\n\u001b[0;32m    160\u001b[0m         \u001b[38;5;28;01mbreak\u001b[39;00m\n\u001b[0;32m    162\u001b[0m \u001b[38;5;28;01mtry\u001b[39;00m:\n\u001b[1;32m--> 163\u001b[0m     frozen_trial \u001b[38;5;241m=\u001b[39m \u001b[43m_run_trial\u001b[49m\u001b[43m(\u001b[49m\u001b[43mstudy\u001b[49m\u001b[43m,\u001b[49m\u001b[43m \u001b[49m\u001b[43mfunc\u001b[49m\u001b[43m,\u001b[49m\u001b[43m \u001b[49m\u001b[43mcatch\u001b[49m\u001b[43m)\u001b[49m\n\u001b[0;32m    164\u001b[0m \u001b[38;5;28;01mfinally\u001b[39;00m:\n\u001b[0;32m    165\u001b[0m     \u001b[38;5;66;03m# The following line mitigates memory problems that can be occurred in some\u001b[39;00m\n\u001b[0;32m    166\u001b[0m     \u001b[38;5;66;03m# environments (e.g., services that use computing containers such as GitHub Actions).\u001b[39;00m\n\u001b[0;32m    167\u001b[0m     \u001b[38;5;66;03m# Please refer to the following PR for further details:\u001b[39;00m\n\u001b[0;32m    168\u001b[0m     \u001b[38;5;66;03m# https://github.com/optuna/optuna/pull/325.\u001b[39;00m\n\u001b[0;32m    169\u001b[0m     \u001b[38;5;28;01mif\u001b[39;00m gc_after_trial:\n",
      "File \u001b[1;32m~\\miniconda3\\envs\\MDS7202\\Lib\\site-packages\\optuna\\study\\_optimize.py:251\u001b[0m, in \u001b[0;36m_run_trial\u001b[1;34m(study, func, catch)\u001b[0m\n\u001b[0;32m    244\u001b[0m         \u001b[38;5;28;01massert\u001b[39;00m \u001b[38;5;28;01mFalse\u001b[39;00m, \u001b[38;5;124m\"\u001b[39m\u001b[38;5;124mShould not reach.\u001b[39m\u001b[38;5;124m\"\u001b[39m\n\u001b[0;32m    246\u001b[0m \u001b[38;5;28;01mif\u001b[39;00m (\n\u001b[0;32m    247\u001b[0m     frozen_trial\u001b[38;5;241m.\u001b[39mstate \u001b[38;5;241m==\u001b[39m TrialState\u001b[38;5;241m.\u001b[39mFAIL\n\u001b[0;32m    248\u001b[0m     \u001b[38;5;129;01mand\u001b[39;00m func_err \u001b[38;5;129;01mis\u001b[39;00m \u001b[38;5;129;01mnot\u001b[39;00m \u001b[38;5;28;01mNone\u001b[39;00m\n\u001b[0;32m    249\u001b[0m     \u001b[38;5;129;01mand\u001b[39;00m \u001b[38;5;129;01mnot\u001b[39;00m \u001b[38;5;28misinstance\u001b[39m(func_err, catch)\n\u001b[0;32m    250\u001b[0m ):\n\u001b[1;32m--> 251\u001b[0m     \u001b[38;5;28;01mraise\u001b[39;00m func_err\n\u001b[0;32m    252\u001b[0m \u001b[38;5;28;01mreturn\u001b[39;00m frozen_trial\n",
      "File \u001b[1;32m~\\miniconda3\\envs\\MDS7202\\Lib\\site-packages\\optuna\\study\\_optimize.py:200\u001b[0m, in \u001b[0;36m_run_trial\u001b[1;34m(study, func, catch)\u001b[0m\n\u001b[0;32m    198\u001b[0m \u001b[38;5;28;01mwith\u001b[39;00m get_heartbeat_thread(trial\u001b[38;5;241m.\u001b[39m_trial_id, study\u001b[38;5;241m.\u001b[39m_storage):\n\u001b[0;32m    199\u001b[0m     \u001b[38;5;28;01mtry\u001b[39;00m:\n\u001b[1;32m--> 200\u001b[0m         value_or_values \u001b[38;5;241m=\u001b[39m \u001b[43mfunc\u001b[49m\u001b[43m(\u001b[49m\u001b[43mtrial\u001b[49m\u001b[43m)\u001b[49m\n\u001b[0;32m    201\u001b[0m     \u001b[38;5;28;01mexcept\u001b[39;00m exceptions\u001b[38;5;241m.\u001b[39mTrialPruned \u001b[38;5;28;01mas\u001b[39;00m e:\n\u001b[0;32m    202\u001b[0m         \u001b[38;5;66;03m# TODO(mamu): Handle multi-objective cases.\u001b[39;00m\n\u001b[0;32m    203\u001b[0m         state \u001b[38;5;241m=\u001b[39m TrialState\u001b[38;5;241m.\u001b[39mPRUNED\n",
      "Cell \u001b[1;32mIn[33], line 77\u001b[0m, in \u001b[0;36mobjective_function_pr\u001b[1;34m(trial)\u001b[0m\n\u001b[0;32m     73\u001b[0m X_val_scaled \u001b[38;5;241m=\u001b[39m semi_pipe\u001b[38;5;241m.\u001b[39mfit_transform(X_val)\n\u001b[0;32m     76\u001b[0m \u001b[38;5;66;03m# Predict and evaluate the model\u001b[39;00m\n\u001b[1;32m---> 77\u001b[0m \u001b[43mpipe\u001b[49m\u001b[38;5;241;43m.\u001b[39;49m\u001b[43mfit\u001b[49m\u001b[43m(\u001b[49m\u001b[43mX_train\u001b[49m\u001b[43m,\u001b[49m\u001b[43m \u001b[49m\u001b[43my_train\u001b[49m\u001b[43m,\u001b[49m\u001b[43m \u001b[49m\u001b[43mregressor__callbacks\u001b[49m\u001b[38;5;241;43m=\u001b[39;49m\u001b[43m[\u001b[49m\u001b[43mpruning_callback\u001b[49m\u001b[43m]\u001b[49m\u001b[43m,\u001b[49m\u001b[43m \u001b[49m\u001b[43mregressor__eval_set\u001b[49m\u001b[38;5;241;43m=\u001b[39;49m\u001b[43m[\u001b[49m\u001b[43m(\u001b[49m\u001b[43mX_val_scaled\u001b[49m\u001b[43m,\u001b[49m\u001b[43m \u001b[49m\u001b[43my_val\u001b[49m\u001b[43m)\u001b[49m\u001b[43m,\u001b[49m\u001b[43m]\u001b[49m\u001b[43m)\u001b[49m\n\u001b[0;32m     78\u001b[0m y_pred \u001b[38;5;241m=\u001b[39m pipe\u001b[38;5;241m.\u001b[39mpredict(X_val)\n\u001b[0;32m     79\u001b[0m mae \u001b[38;5;241m=\u001b[39m mean_absolute_error(y_val, y_pred)\n",
      "File \u001b[1;32m~\\miniconda3\\envs\\MDS7202\\Lib\\site-packages\\sklearn\\pipeline.py:405\u001b[0m, in \u001b[0;36mPipeline.fit\u001b[1;34m(self, X, y, **fit_params)\u001b[0m\n\u001b[0;32m    403\u001b[0m     \u001b[38;5;28;01mif\u001b[39;00m \u001b[38;5;28mself\u001b[39m\u001b[38;5;241m.\u001b[39m_final_estimator \u001b[38;5;241m!=\u001b[39m \u001b[38;5;124m\"\u001b[39m\u001b[38;5;124mpassthrough\u001b[39m\u001b[38;5;124m\"\u001b[39m:\n\u001b[0;32m    404\u001b[0m         fit_params_last_step \u001b[38;5;241m=\u001b[39m fit_params_steps[\u001b[38;5;28mself\u001b[39m\u001b[38;5;241m.\u001b[39msteps[\u001b[38;5;241m-\u001b[39m\u001b[38;5;241m1\u001b[39m][\u001b[38;5;241m0\u001b[39m]]\n\u001b[1;32m--> 405\u001b[0m         \u001b[38;5;28;43mself\u001b[39;49m\u001b[38;5;241;43m.\u001b[39;49m\u001b[43m_final_estimator\u001b[49m\u001b[38;5;241;43m.\u001b[39;49m\u001b[43mfit\u001b[49m\u001b[43m(\u001b[49m\u001b[43mXt\u001b[49m\u001b[43m,\u001b[49m\u001b[43m \u001b[49m\u001b[43my\u001b[49m\u001b[43m,\u001b[49m\u001b[43m \u001b[49m\u001b[38;5;241;43m*\u001b[39;49m\u001b[38;5;241;43m*\u001b[39;49m\u001b[43mfit_params_last_step\u001b[49m\u001b[43m)\u001b[49m\n\u001b[0;32m    407\u001b[0m \u001b[38;5;28;01mreturn\u001b[39;00m \u001b[38;5;28mself\u001b[39m\n",
      "File \u001b[1;32m~\\miniconda3\\envs\\MDS7202\\Lib\\site-packages\\xgboost\\core.py:620\u001b[0m, in \u001b[0;36mrequire_keyword_args.<locals>.throw_if.<locals>.inner_f\u001b[1;34m(*args, **kwargs)\u001b[0m\n\u001b[0;32m    618\u001b[0m \u001b[38;5;28;01mfor\u001b[39;00m k, arg \u001b[38;5;129;01min\u001b[39;00m \u001b[38;5;28mzip\u001b[39m(sig\u001b[38;5;241m.\u001b[39mparameters, args):\n\u001b[0;32m    619\u001b[0m     kwargs[k] \u001b[38;5;241m=\u001b[39m arg\n\u001b[1;32m--> 620\u001b[0m \u001b[38;5;28;01mreturn\u001b[39;00m \u001b[43mfunc\u001b[49m\u001b[43m(\u001b[49m\u001b[38;5;241;43m*\u001b[39;49m\u001b[38;5;241;43m*\u001b[39;49m\u001b[43mkwargs\u001b[49m\u001b[43m)\u001b[49m\n",
      "File \u001b[1;32m~\\miniconda3\\envs\\MDS7202\\Lib\\site-packages\\xgboost\\sklearn.py:1025\u001b[0m, in \u001b[0;36mXGBModel.fit\u001b[1;34m(self, X, y, sample_weight, base_margin, eval_set, eval_metric, early_stopping_rounds, verbose, xgb_model, sample_weight_eval_set, base_margin_eval_set, feature_weights, callbacks)\u001b[0m\n\u001b[0;32m   1014\u001b[0m     obj \u001b[38;5;241m=\u001b[39m \u001b[38;5;28;01mNone\u001b[39;00m\n\u001b[0;32m   1016\u001b[0m (\n\u001b[0;32m   1017\u001b[0m     model,\n\u001b[0;32m   1018\u001b[0m     metric,\n\u001b[1;32m   (...)\u001b[0m\n\u001b[0;32m   1023\u001b[0m     xgb_model, eval_metric, params, early_stopping_rounds, callbacks\n\u001b[0;32m   1024\u001b[0m )\n\u001b[1;32m-> 1025\u001b[0m \u001b[38;5;28mself\u001b[39m\u001b[38;5;241m.\u001b[39m_Booster \u001b[38;5;241m=\u001b[39m \u001b[43mtrain\u001b[49m\u001b[43m(\u001b[49m\n\u001b[0;32m   1026\u001b[0m \u001b[43m    \u001b[49m\u001b[43mparams\u001b[49m\u001b[43m,\u001b[49m\n\u001b[0;32m   1027\u001b[0m \u001b[43m    \u001b[49m\u001b[43mtrain_dmatrix\u001b[49m\u001b[43m,\u001b[49m\n\u001b[0;32m   1028\u001b[0m \u001b[43m    \u001b[49m\u001b[38;5;28;43mself\u001b[39;49m\u001b[38;5;241;43m.\u001b[39;49m\u001b[43mget_num_boosting_rounds\u001b[49m\u001b[43m(\u001b[49m\u001b[43m)\u001b[49m\u001b[43m,\u001b[49m\n\u001b[0;32m   1029\u001b[0m \u001b[43m    \u001b[49m\u001b[43mevals\u001b[49m\u001b[38;5;241;43m=\u001b[39;49m\u001b[43mevals\u001b[49m\u001b[43m,\u001b[49m\n\u001b[0;32m   1030\u001b[0m \u001b[43m    \u001b[49m\u001b[43mearly_stopping_rounds\u001b[49m\u001b[38;5;241;43m=\u001b[39;49m\u001b[43mearly_stopping_rounds\u001b[49m\u001b[43m,\u001b[49m\n\u001b[0;32m   1031\u001b[0m \u001b[43m    \u001b[49m\u001b[43mevals_result\u001b[49m\u001b[38;5;241;43m=\u001b[39;49m\u001b[43mevals_result\u001b[49m\u001b[43m,\u001b[49m\n\u001b[0;32m   1032\u001b[0m \u001b[43m    \u001b[49m\u001b[43mobj\u001b[49m\u001b[38;5;241;43m=\u001b[39;49m\u001b[43mobj\u001b[49m\u001b[43m,\u001b[49m\n\u001b[0;32m   1033\u001b[0m \u001b[43m    \u001b[49m\u001b[43mcustom_metric\u001b[49m\u001b[38;5;241;43m=\u001b[39;49m\u001b[43mmetric\u001b[49m\u001b[43m,\u001b[49m\n\u001b[0;32m   1034\u001b[0m \u001b[43m    \u001b[49m\u001b[43mverbose_eval\u001b[49m\u001b[38;5;241;43m=\u001b[39;49m\u001b[43mverbose\u001b[49m\u001b[43m,\u001b[49m\n\u001b[0;32m   1035\u001b[0m \u001b[43m    \u001b[49m\u001b[43mxgb_model\u001b[49m\u001b[38;5;241;43m=\u001b[39;49m\u001b[43mmodel\u001b[49m\u001b[43m,\u001b[49m\n\u001b[0;32m   1036\u001b[0m \u001b[43m    \u001b[49m\u001b[43mcallbacks\u001b[49m\u001b[38;5;241;43m=\u001b[39;49m\u001b[43mcallbacks\u001b[49m\u001b[43m,\u001b[49m\n\u001b[0;32m   1037\u001b[0m \u001b[43m\u001b[49m\u001b[43m)\u001b[49m\n\u001b[0;32m   1039\u001b[0m \u001b[38;5;28mself\u001b[39m\u001b[38;5;241m.\u001b[39m_set_evaluation_result(evals_result)\n\u001b[0;32m   1040\u001b[0m \u001b[38;5;28;01mreturn\u001b[39;00m \u001b[38;5;28mself\u001b[39m\n",
      "File \u001b[1;32m~\\miniconda3\\envs\\MDS7202\\Lib\\site-packages\\xgboost\\core.py:620\u001b[0m, in \u001b[0;36mrequire_keyword_args.<locals>.throw_if.<locals>.inner_f\u001b[1;34m(*args, **kwargs)\u001b[0m\n\u001b[0;32m    618\u001b[0m \u001b[38;5;28;01mfor\u001b[39;00m k, arg \u001b[38;5;129;01min\u001b[39;00m \u001b[38;5;28mzip\u001b[39m(sig\u001b[38;5;241m.\u001b[39mparameters, args):\n\u001b[0;32m    619\u001b[0m     kwargs[k] \u001b[38;5;241m=\u001b[39m arg\n\u001b[1;32m--> 620\u001b[0m \u001b[38;5;28;01mreturn\u001b[39;00m \u001b[43mfunc\u001b[49m\u001b[43m(\u001b[49m\u001b[38;5;241;43m*\u001b[39;49m\u001b[38;5;241;43m*\u001b[39;49m\u001b[43mkwargs\u001b[49m\u001b[43m)\u001b[49m\n",
      "File \u001b[1;32m~\\miniconda3\\envs\\MDS7202\\Lib\\site-packages\\xgboost\\training.py:160\u001b[0m, in \u001b[0;36mtrain\u001b[1;34m(params, dtrain, num_boost_round, evals, obj, feval, maximize, early_stopping_rounds, evals_result, verbose_eval, xgb_model, callbacks, custom_metric)\u001b[0m\n\u001b[0;32m    157\u001b[0m metric_fn \u001b[38;5;241m=\u001b[39m _configure_custom_metric(feval, custom_metric)\n\u001b[0;32m    158\u001b[0m evals \u001b[38;5;241m=\u001b[39m \u001b[38;5;28mlist\u001b[39m(evals) \u001b[38;5;28;01mif\u001b[39;00m evals \u001b[38;5;28;01melse\u001b[39;00m []\n\u001b[1;32m--> 160\u001b[0m bst \u001b[38;5;241m=\u001b[39m \u001b[43mBooster\u001b[49m\u001b[43m(\u001b[49m\u001b[43mparams\u001b[49m\u001b[43m,\u001b[49m\u001b[43m \u001b[49m\u001b[43m[\u001b[49m\u001b[43mdtrain\u001b[49m\u001b[43m]\u001b[49m\u001b[43m \u001b[49m\u001b[38;5;241;43m+\u001b[39;49m\u001b[43m \u001b[49m\u001b[43m[\u001b[49m\u001b[43md\u001b[49m\u001b[43m[\u001b[49m\u001b[38;5;241;43m0\u001b[39;49m\u001b[43m]\u001b[49m\u001b[43m \u001b[49m\u001b[38;5;28;43;01mfor\u001b[39;49;00m\u001b[43m \u001b[49m\u001b[43md\u001b[49m\u001b[43m \u001b[49m\u001b[38;5;129;43;01min\u001b[39;49;00m\u001b[43m \u001b[49m\u001b[43mevals\u001b[49m\u001b[43m]\u001b[49m\u001b[43m,\u001b[49m\u001b[43m \u001b[49m\u001b[43mmodel_file\u001b[49m\u001b[38;5;241;43m=\u001b[39;49m\u001b[43mxgb_model\u001b[49m\u001b[43m)\u001b[49m\n\u001b[0;32m    161\u001b[0m start_iteration \u001b[38;5;241m=\u001b[39m \u001b[38;5;241m0\u001b[39m\n\u001b[0;32m    163\u001b[0m _assert_new_callback(callbacks)\n",
      "File \u001b[1;32m~\\miniconda3\\envs\\MDS7202\\Lib\\site-packages\\xgboost\\core.py:1556\u001b[0m, in \u001b[0;36mBooster.__init__\u001b[1;34m(self, params, cache, model_file)\u001b[0m\n\u001b[0;32m   1552\u001b[0m _check_call(_LIB\u001b[38;5;241m.\u001b[39mXGBoosterCreate(dmats, c_bst_ulong(\u001b[38;5;28mlen\u001b[39m(cache)),\n\u001b[0;32m   1553\u001b[0m                                  ctypes\u001b[38;5;241m.\u001b[39mbyref(\u001b[38;5;28mself\u001b[39m\u001b[38;5;241m.\u001b[39mhandle)))\n\u001b[0;32m   1554\u001b[0m \u001b[38;5;28;01mfor\u001b[39;00m d \u001b[38;5;129;01min\u001b[39;00m cache:\n\u001b[0;32m   1555\u001b[0m     \u001b[38;5;66;03m# Validate feature only after the feature names are saved into booster.\u001b[39;00m\n\u001b[1;32m-> 1556\u001b[0m     \u001b[38;5;28;43mself\u001b[39;49m\u001b[38;5;241;43m.\u001b[39;49m\u001b[43m_validate_dmatrix_features\u001b[49m\u001b[43m(\u001b[49m\u001b[43md\u001b[49m\u001b[43m)\u001b[49m\n\u001b[0;32m   1558\u001b[0m \u001b[38;5;28;01mif\u001b[39;00m \u001b[38;5;28misinstance\u001b[39m(model_file, Booster):\n\u001b[0;32m   1559\u001b[0m     \u001b[38;5;28;01massert\u001b[39;00m \u001b[38;5;28mself\u001b[39m\u001b[38;5;241m.\u001b[39mhandle \u001b[38;5;129;01mis\u001b[39;00m \u001b[38;5;129;01mnot\u001b[39;00m \u001b[38;5;28;01mNone\u001b[39;00m\n",
      "File \u001b[1;32m~\\miniconda3\\envs\\MDS7202\\Lib\\site-packages\\xgboost\\core.py:2747\u001b[0m, in \u001b[0;36mBooster._validate_dmatrix_features\u001b[1;34m(self, data)\u001b[0m\n\u001b[0;32m   2744\u001b[0m \u001b[38;5;28;01mif\u001b[39;00m \u001b[38;5;28mself\u001b[39m\u001b[38;5;241m.\u001b[39mfeature_types \u001b[38;5;129;01mis\u001b[39;00m \u001b[38;5;28;01mNone\u001b[39;00m:\n\u001b[0;32m   2745\u001b[0m     \u001b[38;5;28mself\u001b[39m\u001b[38;5;241m.\u001b[39mfeature_types \u001b[38;5;241m=\u001b[39m ft\n\u001b[1;32m-> 2747\u001b[0m \u001b[38;5;28;43mself\u001b[39;49m\u001b[38;5;241;43m.\u001b[39;49m\u001b[43m_validate_features\u001b[49m\u001b[43m(\u001b[49m\u001b[43mfn\u001b[49m\u001b[43m)\u001b[49m\n",
      "File \u001b[1;32m~\\miniconda3\\envs\\MDS7202\\Lib\\site-packages\\xgboost\\core.py:2782\u001b[0m, in \u001b[0;36mBooster._validate_features\u001b[1;34m(self, feature_names)\u001b[0m\n\u001b[0;32m   2776\u001b[0m \u001b[38;5;28;01mif\u001b[39;00m my_missing:\n\u001b[0;32m   2777\u001b[0m     msg \u001b[38;5;241m+\u001b[39m\u001b[38;5;241m=\u001b[39m (\n\u001b[0;32m   2778\u001b[0m         \u001b[38;5;124m\"\u001b[39m\u001b[38;5;130;01m\\n\u001b[39;00m\u001b[38;5;124mtraining data did not have the following fields: \u001b[39m\u001b[38;5;124m\"\u001b[39m\n\u001b[0;32m   2779\u001b[0m         \u001b[38;5;241m+\u001b[39m \u001b[38;5;124m\"\u001b[39m\u001b[38;5;124m, \u001b[39m\u001b[38;5;124m\"\u001b[39m\u001b[38;5;241m.\u001b[39mjoin(\u001b[38;5;28mstr\u001b[39m(s) \u001b[38;5;28;01mfor\u001b[39;00m s \u001b[38;5;129;01min\u001b[39;00m my_missing)\n\u001b[0;32m   2780\u001b[0m     )\n\u001b[1;32m-> 2782\u001b[0m \u001b[38;5;28;01mraise\u001b[39;00m \u001b[38;5;167;01mValueError\u001b[39;00m(msg\u001b[38;5;241m.\u001b[39mformat(\u001b[38;5;28mself\u001b[39m\u001b[38;5;241m.\u001b[39mfeature_names, feature_names))\n",
      "\u001b[1;31mValueError\u001b[0m: feature_names mismatch: ['minmax__remainder__id', 'minmax__remainder__lat', 'minmax__remainder__long', 'minmax__remainder__pop', 'minmax__remainder__price', 'oh__cat__dia_30', 'oh__cat__dia_31', 'oh__cat__dia_infrequent_sklearn', 'oh__cat__mes_infrequent_sklearn', 'oh__cat__anho_2012', 'oh__cat__anho_2013', 'oh__cat__anho_2014', 'oh__cat__anho_2015', 'oh__cat__anho_2016', 'oh__cat__anho_2017', 'oh__cat__anho_2018'] ['minmax__remainder__id', 'minmax__remainder__lat', 'minmax__remainder__long', 'minmax__remainder__pop', 'minmax__remainder__price', 'oh__cat__dia_30', 'oh__cat__dia_31', 'oh__cat__dia_infrequent_sklearn', 'oh__cat__mes_2', 'oh__cat__mes_3', 'oh__cat__mes_infrequent_sklearn', 'oh__cat__anho_2012', 'oh__cat__anho_2013', 'oh__cat__anho_2014', 'oh__cat__anho_2015', 'oh__cat__anho_2016', 'oh__cat__anho_2017', 'oh__cat__anho_2018']\ntraining data did not have the following fields: oh__cat__mes_3, oh__cat__mes_2"
     ]
    }
   ],
   "source": [
    "study_pr = optuna.create_study(direction=\"minimize\")\n",
    "study_pr.optimize(objective_function_pr, timeout=5*60, show_progress_bar = True)"
   ]
  },
  {
   "cell_type": "code",
   "execution_count": 35,
   "metadata": {},
   "outputs": [
    {
     "name": "stdout",
     "output_type": "stream",
     "text": [
      "XGBoost Best MAE: 6955.445573167571\n",
      "Optima Trials: 4\n"
     ]
    },
    {
     "data": {
      "text/plain": [
       "{'learning_rate': 0.02625721429737358,\n",
       " 'n_estimators': 416,\n",
       " 'max_depth': 6,\n",
       " 'max_leaves': 50,\n",
       " 'min_child_weight': 5,\n",
       " 'reg_alpha': 0.523281577730208,\n",
       " 'reg_lambda': 0.18273613412240297,\n",
       " 'min_frequency': 0.4410867022803}"
      ]
     },
     "execution_count": 35,
     "metadata": {},
     "output_type": "execute_result"
    }
   ],
   "source": [
    "mae_xgb_best_prunned = study_pr.best_value\n",
    "print(f\"XGBoost Best MAE: {study_pr.best_value}\")\n",
    "print(f\"Optima Trials: {len(study_pr.trials)}\")\n",
    "study_pr.best_params"
   ]
  },
  {
   "cell_type": "code",
   "execution_count": 36,
   "metadata": {},
   "outputs": [],
   "source": [
    "params_oh = {k: v for k,v in list(study_pr.best_params.items())[-1:]}\n",
    "params_xg = {k: v for k,v in list(study_pr.best_params.items())[:-1]}\n",
    "\n",
    "preprocessor = ColumnTransformer(\n",
    "    transformers=[\n",
    "        ('minmax', MinMaxScaler(), [3,5,6,7,12]),\n",
    "        ('oh', OneHotEncoder(sparse_output=False, **params_oh), [0,1,2]),\n",
    "    ]\n",
    ")\n",
    "preprocessor.set_output(transform=\"pandas\")\n",
    "\n",
    "pipe = Pipeline(steps=[\n",
    "    ('date_extraction', date_transformer),\n",
    "    ('preprocessor', preprocessor),\n",
    "    ('regressor', XGBRegressor(seed=42, **params_xg))\n",
    "])\n",
    "\n",
    "\n",
    "with open('XGBoost_fitted_pruned.pkl', 'wb') as f:\n",
    "    pickle.dump(pipe, f)"
   ]
  },
  {
   "cell_type": "markdown",
   "metadata": {
    "cell_id": "8a081778cc704fc6bed05393a5419327",
    "deepnote_cell_type": "markdown"
   },
   "source": [
    "## 1.5 Visualizaciones (0.5 puntos)\n",
    "\n",
    "<p align=\"center\">\n",
    "  <img src=\"https://media.tenor.com/F-LgB1xTebEAAAAd/look-at-this-graph-nickelback.gif\">\n",
    "</p>\n",
    "\n",
    "\n",
    "Satisfecho con su trabajo, Fiu le pregunta si es posible generar visualizaciones que permitan entender el entrenamiento de su modelo.\n",
    "\n",
    "A partir del siguiente <a href = https://optuna.readthedocs.io/en/stable/tutorial/10_key_features/005_visualization.html#visualization>enlace</a>, genere las siguientes visualizaciones:\n",
    "\n",
    "- Gráfico de historial de optimización\n",
    "- Gráfico de coordenadas paralelas\n",
    "- Gráfico de importancia de hiperparámetros\n",
    "\n",
    "Comente sus resultados: ¿Desde qué *trial* se empiezan a observar mejoras notables en sus resultados? ¿Qué tendencias puede observar a partir del gráfico de coordenadas paralelas? ¿Cuáles son los hiperparámetros con mayor importancia para la optimización de su modelo?"
   ]
  },
  {
   "cell_type": "code",
   "execution_count": 42,
   "metadata": {
    "cell_id": "0e706dc9a8d946eda7a9eb1f0463c6d7",
    "deepnote_cell_type": "code"
   },
   "outputs": [
    {
     "data": {
      "application/vnd.plotly.v1+json": {
       "config": {
        "plotlyServerURL": "https://plot.ly"
       },
       "data": [
        {
         "mode": "markers",
         "name": "Objective Value",
         "type": "scatter",
         "x": [
          0,
          1,
          2,
          3,
          4,
          5,
          6,
          7,
          8,
          9,
          10,
          11,
          12,
          13,
          14,
          15,
          16,
          17,
          18,
          19,
          20,
          21,
          22,
          23,
          24,
          25,
          26,
          27,
          28,
          29,
          30,
          31,
          32,
          33,
          34,
          35,
          36,
          37,
          38,
          39,
          40,
          41,
          42,
          43,
          44,
          45,
          46,
          47,
          48,
          49,
          50,
          51,
          52,
          53,
          54,
          55,
          56,
          57,
          58,
          59,
          60,
          61,
          62,
          63,
          64,
          65,
          66,
          67,
          68,
          69,
          70,
          71,
          72,
          73,
          74,
          75,
          76,
          77,
          78,
          79,
          80,
          81,
          82,
          83,
          84,
          85,
          86,
          87,
          88,
          89,
          90,
          91,
          92,
          93,
          94,
          95,
          96,
          97,
          98,
          99,
          100,
          101,
          102,
          103,
          104,
          105,
          106,
          107,
          108,
          109,
          110,
          111,
          112,
          113,
          114,
          115,
          116,
          117,
          118,
          119,
          120,
          121,
          122,
          123,
          124,
          125,
          126,
          127,
          128,
          129,
          130,
          131,
          132,
          133,
          134,
          135,
          136,
          137,
          138,
          139,
          140,
          141,
          142,
          143,
          144,
          145,
          146,
          147,
          148,
          149,
          150,
          151,
          152,
          153,
          154,
          155,
          156,
          157,
          158,
          159,
          160,
          161,
          162,
          163,
          164,
          165,
          166,
          167,
          168,
          169,
          170,
          171,
          172,
          173,
          174,
          175,
          176,
          177,
          178,
          179,
          180,
          181,
          182,
          183,
          184,
          185,
          186,
          187,
          188,
          189,
          190,
          191,
          192,
          193,
          194,
          195,
          196,
          197,
          198,
          199,
          200,
          201,
          202,
          203,
          204,
          205,
          206,
          207,
          208,
          209,
          210,
          211,
          212,
          213,
          214,
          215,
          216,
          217,
          218,
          219,
          220,
          221,
          222,
          223,
          224,
          225,
          226,
          227,
          228,
          229,
          230,
          231,
          232,
          233,
          234,
          235,
          236,
          237,
          238,
          239,
          240,
          241,
          242,
          243,
          244,
          245,
          246,
          247,
          248,
          249,
          250,
          251,
          252,
          253,
          254,
          255,
          256,
          257,
          258,
          259,
          260,
          261,
          262,
          263,
          264,
          265,
          266,
          267,
          268,
          269,
          270,
          271,
          272,
          273,
          274,
          275,
          276,
          277,
          278,
          279,
          280,
          281,
          282,
          283,
          284,
          285,
          286,
          287,
          288,
          289,
          290,
          291,
          292,
          293,
          294,
          295,
          296,
          297,
          298,
          299,
          300,
          301,
          302,
          303,
          304,
          305,
          306,
          307,
          308,
          309,
          310,
          311,
          312,
          313,
          314,
          315,
          316,
          317,
          318,
          319,
          320,
          321,
          322,
          323,
          324,
          325,
          326,
          327,
          328,
          329,
          330,
          331,
          332,
          333,
          334,
          335,
          336,
          337,
          338,
          339,
          340,
          341,
          342,
          343,
          344,
          345,
          346,
          347,
          348,
          349,
          350,
          351,
          352,
          353,
          354,
          355,
          356,
          357,
          358,
          359,
          360,
          361,
          362,
          363,
          364,
          365,
          366,
          367,
          368,
          369,
          370,
          371,
          372,
          373,
          374,
          375,
          376,
          377,
          378,
          379,
          380,
          381,
          382,
          383,
          384,
          385,
          386,
          387,
          388,
          389,
          390,
          391,
          392,
          393,
          394,
          395,
          396,
          397,
          398,
          399,
          400,
          401,
          402,
          403,
          404,
          405,
          406,
          407,
          408,
          409,
          410,
          411,
          412,
          413,
          414,
          415,
          416,
          417
         ],
         "y": [
          6916.665387805601,
          9221.389001923017,
          7221.751804055221,
          6621.410326428451,
          6901.705755484328,
          7165.6050725942005,
          7564.210910173268,
          6892.663920466446,
          6913.18398274685,
          8134.616638347227,
          8080.741002141631,
          6790.558098432525,
          6813.431291431908,
          6784.97080858655,
          6856.710274798621,
          7075.810352887928,
          6897.701196992685,
          6968.199473342691,
          6903.022388243484,
          7443.983343293136,
          6812.676901973285,
          6820.979483433128,
          6800.235181296479,
          7085.1509568774345,
          6836.755289113554,
          7201.144848370999,
          6837.1687075535665,
          6786.914891547236,
          6875.73686088378,
          6897.42027614072,
          7382.449373383305,
          6831.868513930579,
          6855.790400773527,
          6876.95207913887,
          7108.327094520385,
          6870.652565472887,
          6940.42409501063,
          6870.2414143743845,
          6963.1724012441355,
          7169.1730302498745,
          6796.5604806854,
          6623.8921944871345,
          6644.386026254608,
          6653.869296935544,
          6632.45749073182,
          6629.6370604926715,
          6638.255027464184,
          6635.314244247314,
          6676.894753750144,
          6637.6929343788615,
          6630.455067693389,
          6832.852444226876,
          6639.488469141737,
          6656.46788532165,
          6619.021635122018,
          6664.746299452181,
          6831.3383118166685,
          6622.932871759736,
          6790.978878358734,
          6834.124715605626,
          6628.0033326340745,
          6646.307164660088,
          7133.084282841823,
          6767.780241692673,
          6636.72649275138,
          6689.055924811887,
          6645.578286833163,
          6852.417892967408,
          6788.773225861005,
          6826.29753967776,
          6794.467948013592,
          6630.990170823984,
          6637.259077220436,
          6642.131667027205,
          6738.881751911889,
          6630.41218317354,
          7244.40728465226,
          7704.37101160617,
          6637.780612966011,
          6822.901889013541,
          6637.415361092493,
          6634.05885075628,
          6651.160612295524,
          6791.8468066668065,
          6620.128117620146,
          6636.536427474853,
          6929.689622239836,
          6637.34155142531,
          6694.006117997157,
          6850.478192055833,
          6686.047905234165,
          6643.317714987747,
          6626.724519172239,
          6643.525732536418,
          6627.318296417155,
          6635.388008874479,
          6646.05511043027,
          6803.757885071292,
          6805.939443020655,
          6678.398385873748,
          6623.507467684094,
          6653.060824496497,
          6624.998767944827,
          6886.52000762694,
          6606.7149511342395,
          6866.364269757718,
          6630.662906759227,
          6865.063179987685,
          6987.980098775501,
          6610.6394920860475,
          6626.675357440202,
          6645.01023819747,
          6634.712352272013,
          6792.554482304059,
          6636.8098807245415,
          6641.036011478536,
          6852.546030980333,
          6647.926377692746,
          6673.330032471357,
          6636.234290319857,
          6978.167325140004,
          6648.480641822713,
          6632.079018764138,
          6634.032115005616,
          6646.345621185712,
          6955.648706676493,
          6889.369708713194,
          6809.328238397757,
          6805.862699288785,
          6653.334373642868,
          6672.712419525228,
          6654.242101858512,
          6623.136398356338,
          6650.278983108479,
          6652.661033405376,
          6619.287172537387,
          6889.961545816375,
          6625.810194409245,
          6650.134334778977,
          6815.516698658306,
          6699.037252758527,
          6637.223650321244,
          6637.190831161376,
          6628.9961627622715,
          6817.579722959298,
          6844.737829745295,
          6797.577305770751,
          6637.047884289125,
          6643.030145435487,
          6637.728010898621,
          6720.967533714969,
          6643.325115991342,
          6662.10821893196,
          6872.579131302821,
          6636.32730912523,
          6638.966940043759,
          6919.709141299169,
          6678.036028087299,
          6647.016274132614,
          6852.535831850272,
          6967.750405482888,
          6624.576814155476,
          6651.998696375788,
          6629.014040724522,
          6631.303572462966,
          6620.616788449939,
          6788.153000737004,
          6628.141624062055,
          6651.5440050795,
          6838.042949686741,
          6643.601048446532,
          6621.292575294147,
          6636.78061007175,
          6646.5994169628975,
          7006.0773739239485,
          6633.1558998251085,
          6635.3849026677435,
          6630.904490371172,
          6736.221101571664,
          6874.262223647683,
          6821.260443229778,
          6634.768152395458,
          6896.339350968839,
          6630.344369146843,
          6831.210023465808,
          6642.322856258771,
          6645.451907201363,
          6640.660750483699,
          7029.610419961147,
          6690.699589542665,
          6648.325787807597,
          6693.548833218081,
          6633.578606449567,
          6600.058004548019,
          6821.556082983759,
          6626.754700852463,
          6625.1294131854265,
          6607.6907798214825,
          6617.8420908214575,
          6854.484830800075,
          6630.333664922228,
          6637.100582951195,
          6634.48449344993,
          6624.010498121022,
          7379.256133215037,
          6608.744577443632,
          6616.0825474306985,
          6637.414650464505,
          6594.982397084581,
          6675.712429343216,
          6613.01060817197,
          6581.594174668872,
          6620.039478700858,
          6640.428160240439,
          6649.023457688237,
          6611.126215916856,
          6632.621802117806,
          6618.553294532101,
          6783.5443798402675,
          6632.801768060024,
          6850.648237844574,
          6606.490008685608,
          6619.943147736005,
          6625.857726166139,
          6610.139865046852,
          6607.316654767811,
          6816.002048686746,
          6877.377183234084,
          6619.580301167179,
          6628.4137347326205,
          6794.259745252676,
          6607.240837097168,
          6617.035463041659,
          6615.865097864064,
          6810.827357642453,
          6649.701501902562,
          6611.724550467075,
          6613.04327684561,
          6766.816828218925,
          6636.158373078456,
          6622.096964286416,
          6880.6943363465825,
          6639.731504752233,
          6800.642558039033,
          6887.363302312651,
          6813.513247022041,
          6641.919757098998,
          6844.983762347347,
          6781.622530510214,
          6644.03743494356,
          6644.641286323282,
          6627.161078184603,
          6842.716338947695,
          6830.419205161905,
          6620.461884695467,
          6781.751993982146,
          6613.884016681292,
          6813.1556127371805,
          6641.199368474311,
          6826.295232900666,
          6803.91740691566,
          6858.450103918285,
          6890.28309598621,
          6648.43301040813,
          6644.436119263677,
          6628.1617786929055,
          6652.16250680407,
          6820.216292475887,
          6633.530131603374,
          6724.4680468991355,
          6798.061980899473,
          6667.075810613965,
          6607.5869989676385,
          6819.850297656839,
          6648.189275358062,
          6890.075505059782,
          6834.673845695107,
          6811.525839000221,
          6837.545511199705,
          6869.144031073389,
          6846.47707839434,
          6634.623558678512,
          6858.888995623141,
          6620.623350823533,
          6827.923639558276,
          6621.118856690844,
          6649.492655490742,
          6797.929065448669,
          6883.50753158283,
          6865.826527142972,
          6880.166387154014,
          6992.500887873345,
          6873.941076201983,
          6652.9910297956285,
          6825.0030767936805,
          6645.523991214047,
          6627.064841273003,
          6648.732247973895,
          6834.584053039551,
          6641.874773204487,
          6638.891373212472,
          6619.7702798511,
          6796.570069504807,
          6619.781248200035,
          6836.490705137278,
          6790.074080316374,
          6650.317003756362,
          6813.617263998487,
          6620.173180526447,
          6813.805810534603,
          6633.226936844016,
          6634.173363979637,
          6622.457602084162,
          7163.934914596599,
          7247.831882506849,
          6808.48682698104,
          6623.137060947776,
          6829.717236189037,
          6822.6980117920575,
          6639.351636901937,
          6645.1348757143,
          6630.694698303059,
          6667.1067508155475,
          6625.330849246109,
          6927.351228933871,
          6823.657284447719,
          6652.369513994887,
          6813.783971505254,
          6953.374001347028,
          6869.18831252029,
          7022.140796860805,
          6820.934955913963,
          6652.288128113938,
          6626.561056408103,
          6832.165065980149,
          6827.22426320912,
          6819.606802564524,
          6895.098349768099,
          9517.703502010723,
          6800.972401698217,
          6852.369373894249,
          6629.949316336706,
          6637.739512011449,
          6619.056993704379,
          7451.8173157229185,
          6809.179930229289,
          6889.6156017927315,
          6760.173789998482,
          6667.183678021061,
          6876.376444594151,
          6619.1591652673305,
          6629.943832192919,
          6855.349497449942,
          6628.154433713202,
          6639.219332927673,
          6833.027761536054,
          6623.136427523943,
          6840.4912295916765,
          6861.860926960492,
          6627.123799546474,
          6824.997102711859,
          6865.094082175247,
          6614.247839674554,
          6817.695080713676,
          6636.6228986642955,
          6632.106336138523,
          6792.620795237155,
          6900.516753856362,
          6968.445699083261,
          6640.978572961153,
          6644.6103612168545,
          6619.483133699555,
          6644.598195871144,
          6860.77455118706,
          6694.46800673743,
          6641.537940938096,
          6900.469361023992,
          6610.726945076807,
          6605.009948986146,
          6832.050161663393,
          6832.716506303475,
          6781.831384858241,
          6790.772989554316,
          6641.320526859396,
          6871.980297722702,
          6867.907708912049,
          6610.734842499843,
          6876.76142341266,
          6861.60800327117,
          6792.170024411608,
          6814.875170587535,
          6632.28294814368,
          6797.17628524003,
          6857.468277263897,
          6787.923408937838,
          6807.84372120057,
          6640.172771545901,
          6857.81500058008,
          6837.355895505194,
          6894.906324207623,
          6840.274192462338,
          6615.636295349284,
          6621.974225757589,
          6872.875434727196,
          6644.278954799949,
          6635.88109030225,
          6847.810784511208,
          6895.944530579104,
          6819.629169617518,
          6889.062927614268,
          6902.797113832776,
          6627.188512091343,
          6625.273955731226,
          6824.536451201656,
          6875.00772106999,
          6634.711181047455,
          7084.248044747769,
          7102.510203834513
         ]
        },
        {
         "mode": "lines",
         "name": "Best Value",
         "type": "scatter",
         "x": [
          0,
          1,
          2,
          3,
          4,
          5,
          6,
          7,
          8,
          9,
          10,
          11,
          12,
          13,
          14,
          15,
          16,
          17,
          18,
          19,
          20,
          21,
          22,
          23,
          24,
          25,
          26,
          27,
          28,
          29,
          30,
          31,
          32,
          33,
          34,
          35,
          36,
          37,
          38,
          39,
          40,
          41,
          42,
          43,
          44,
          45,
          46,
          47,
          48,
          49,
          50,
          51,
          52,
          53,
          54,
          55,
          56,
          57,
          58,
          59,
          60,
          61,
          62,
          63,
          64,
          65,
          66,
          67,
          68,
          69,
          70,
          71,
          72,
          73,
          74,
          75,
          76,
          77,
          78,
          79,
          80,
          81,
          82,
          83,
          84,
          85,
          86,
          87,
          88,
          89,
          90,
          91,
          92,
          93,
          94,
          95,
          96,
          97,
          98,
          99,
          100,
          101,
          102,
          103,
          104,
          105,
          106,
          107,
          108,
          109,
          110,
          111,
          112,
          113,
          114,
          115,
          116,
          117,
          118,
          119,
          120,
          121,
          122,
          123,
          124,
          125,
          126,
          127,
          128,
          129,
          130,
          131,
          132,
          133,
          134,
          135,
          136,
          137,
          138,
          139,
          140,
          141,
          142,
          143,
          144,
          145,
          146,
          147,
          148,
          149,
          150,
          151,
          152,
          153,
          154,
          155,
          156,
          157,
          158,
          159,
          160,
          161,
          162,
          163,
          164,
          165,
          166,
          167,
          168,
          169,
          170,
          171,
          172,
          173,
          174,
          175,
          176,
          177,
          178,
          179,
          180,
          181,
          182,
          183,
          184,
          185,
          186,
          187,
          188,
          189,
          190,
          191,
          192,
          193,
          194,
          195,
          196,
          197,
          198,
          199,
          200,
          201,
          202,
          203,
          204,
          205,
          206,
          207,
          208,
          209,
          210,
          211,
          212,
          213,
          214,
          215,
          216,
          217,
          218,
          219,
          220,
          221,
          222,
          223,
          224,
          225,
          226,
          227,
          228,
          229,
          230,
          231,
          232,
          233,
          234,
          235,
          236,
          237,
          238,
          239,
          240,
          241,
          242,
          243,
          244,
          245,
          246,
          247,
          248,
          249,
          250,
          251,
          252,
          253,
          254,
          255,
          256,
          257,
          258,
          259,
          260,
          261,
          262,
          263,
          264,
          265,
          266,
          267,
          268,
          269,
          270,
          271,
          272,
          273,
          274,
          275,
          276,
          277,
          278,
          279,
          280,
          281,
          282,
          283,
          284,
          285,
          286,
          287,
          288,
          289,
          290,
          291,
          292,
          293,
          294,
          295,
          296,
          297,
          298,
          299,
          300,
          301,
          302,
          303,
          304,
          305,
          306,
          307,
          308,
          309,
          310,
          311,
          312,
          313,
          314,
          315,
          316,
          317,
          318,
          319,
          320,
          321,
          322,
          323,
          324,
          325,
          326,
          327,
          328,
          329,
          330,
          331,
          332,
          333,
          334,
          335,
          336,
          337,
          338,
          339,
          340,
          341,
          342,
          343,
          344,
          345,
          346,
          347,
          348,
          349,
          350,
          351,
          352,
          353,
          354,
          355,
          356,
          357,
          358,
          359,
          360,
          361,
          362,
          363,
          364,
          365,
          366,
          367,
          368,
          369,
          370,
          371,
          372,
          373,
          374,
          375,
          376,
          377,
          378,
          379,
          380,
          381,
          382,
          383,
          384,
          385,
          386,
          387,
          388,
          389,
          390,
          391,
          392,
          393,
          394,
          395,
          396,
          397,
          398,
          399,
          400,
          401,
          402,
          403,
          404,
          405,
          406,
          407,
          408,
          409,
          410,
          411,
          412,
          413,
          414,
          415,
          416,
          417
         ],
         "y": [
          6916.665387805601,
          6916.665387805601,
          6916.665387805601,
          6621.410326428451,
          6621.410326428451,
          6621.410326428451,
          6621.410326428451,
          6621.410326428451,
          6621.410326428451,
          6621.410326428451,
          6621.410326428451,
          6621.410326428451,
          6621.410326428451,
          6621.410326428451,
          6621.410326428451,
          6621.410326428451,
          6621.410326428451,
          6621.410326428451,
          6621.410326428451,
          6621.410326428451,
          6621.410326428451,
          6621.410326428451,
          6621.410326428451,
          6621.410326428451,
          6621.410326428451,
          6621.410326428451,
          6621.410326428451,
          6621.410326428451,
          6621.410326428451,
          6621.410326428451,
          6621.410326428451,
          6621.410326428451,
          6621.410326428451,
          6621.410326428451,
          6621.410326428451,
          6621.410326428451,
          6621.410326428451,
          6621.410326428451,
          6621.410326428451,
          6621.410326428451,
          6621.410326428451,
          6621.410326428451,
          6621.410326428451,
          6621.410326428451,
          6621.410326428451,
          6621.410326428451,
          6621.410326428451,
          6621.410326428451,
          6621.410326428451,
          6621.410326428451,
          6621.410326428451,
          6621.410326428451,
          6621.410326428451,
          6621.410326428451,
          6619.021635122018,
          6619.021635122018,
          6619.021635122018,
          6619.021635122018,
          6619.021635122018,
          6619.021635122018,
          6619.021635122018,
          6619.021635122018,
          6619.021635122018,
          6619.021635122018,
          6619.021635122018,
          6619.021635122018,
          6619.021635122018,
          6619.021635122018,
          6619.021635122018,
          6619.021635122018,
          6619.021635122018,
          6619.021635122018,
          6619.021635122018,
          6619.021635122018,
          6619.021635122018,
          6619.021635122018,
          6619.021635122018,
          6619.021635122018,
          6619.021635122018,
          6619.021635122018,
          6619.021635122018,
          6619.021635122018,
          6619.021635122018,
          6619.021635122018,
          6619.021635122018,
          6619.021635122018,
          6619.021635122018,
          6619.021635122018,
          6619.021635122018,
          6619.021635122018,
          6619.021635122018,
          6619.021635122018,
          6619.021635122018,
          6619.021635122018,
          6619.021635122018,
          6619.021635122018,
          6619.021635122018,
          6619.021635122018,
          6619.021635122018,
          6619.021635122018,
          6619.021635122018,
          6619.021635122018,
          6619.021635122018,
          6619.021635122018,
          6606.7149511342395,
          6606.7149511342395,
          6606.7149511342395,
          6606.7149511342395,
          6606.7149511342395,
          6606.7149511342395,
          6606.7149511342395,
          6606.7149511342395,
          6606.7149511342395,
          6606.7149511342395,
          6606.7149511342395,
          6606.7149511342395,
          6606.7149511342395,
          6606.7149511342395,
          6606.7149511342395,
          6606.7149511342395,
          6606.7149511342395,
          6606.7149511342395,
          6606.7149511342395,
          6606.7149511342395,
          6606.7149511342395,
          6606.7149511342395,
          6606.7149511342395,
          6606.7149511342395,
          6606.7149511342395,
          6606.7149511342395,
          6606.7149511342395,
          6606.7149511342395,
          6606.7149511342395,
          6606.7149511342395,
          6606.7149511342395,
          6606.7149511342395,
          6606.7149511342395,
          6606.7149511342395,
          6606.7149511342395,
          6606.7149511342395,
          6606.7149511342395,
          6606.7149511342395,
          6606.7149511342395,
          6606.7149511342395,
          6606.7149511342395,
          6606.7149511342395,
          6606.7149511342395,
          6606.7149511342395,
          6606.7149511342395,
          6606.7149511342395,
          6606.7149511342395,
          6606.7149511342395,
          6606.7149511342395,
          6606.7149511342395,
          6606.7149511342395,
          6606.7149511342395,
          6606.7149511342395,
          6606.7149511342395,
          6606.7149511342395,
          6606.7149511342395,
          6606.7149511342395,
          6606.7149511342395,
          6606.7149511342395,
          6606.7149511342395,
          6606.7149511342395,
          6606.7149511342395,
          6606.7149511342395,
          6606.7149511342395,
          6606.7149511342395,
          6606.7149511342395,
          6606.7149511342395,
          6606.7149511342395,
          6606.7149511342395,
          6606.7149511342395,
          6606.7149511342395,
          6606.7149511342395,
          6606.7149511342395,
          6606.7149511342395,
          6606.7149511342395,
          6606.7149511342395,
          6606.7149511342395,
          6606.7149511342395,
          6606.7149511342395,
          6606.7149511342395,
          6606.7149511342395,
          6606.7149511342395,
          6606.7149511342395,
          6606.7149511342395,
          6606.7149511342395,
          6606.7149511342395,
          6606.7149511342395,
          6606.7149511342395,
          6606.7149511342395,
          6600.058004548019,
          6600.058004548019,
          6600.058004548019,
          6600.058004548019,
          6600.058004548019,
          6600.058004548019,
          6600.058004548019,
          6600.058004548019,
          6600.058004548019,
          6600.058004548019,
          6600.058004548019,
          6600.058004548019,
          6600.058004548019,
          6600.058004548019,
          6600.058004548019,
          6594.982397084581,
          6594.982397084581,
          6594.982397084581,
          6581.594174668872,
          6581.594174668872,
          6581.594174668872,
          6581.594174668872,
          6581.594174668872,
          6581.594174668872,
          6581.594174668872,
          6581.594174668872,
          6581.594174668872,
          6581.594174668872,
          6581.594174668872,
          6581.594174668872,
          6581.594174668872,
          6581.594174668872,
          6581.594174668872,
          6581.594174668872,
          6581.594174668872,
          6581.594174668872,
          6581.594174668872,
          6581.594174668872,
          6581.594174668872,
          6581.594174668872,
          6581.594174668872,
          6581.594174668872,
          6581.594174668872,
          6581.594174668872,
          6581.594174668872,
          6581.594174668872,
          6581.594174668872,
          6581.594174668872,
          6581.594174668872,
          6581.594174668872,
          6581.594174668872,
          6581.594174668872,
          6581.594174668872,
          6581.594174668872,
          6581.594174668872,
          6581.594174668872,
          6581.594174668872,
          6581.594174668872,
          6581.594174668872,
          6581.594174668872,
          6581.594174668872,
          6581.594174668872,
          6581.594174668872,
          6581.594174668872,
          6581.594174668872,
          6581.594174668872,
          6581.594174668872,
          6581.594174668872,
          6581.594174668872,
          6581.594174668872,
          6581.594174668872,
          6581.594174668872,
          6581.594174668872,
          6581.594174668872,
          6581.594174668872,
          6581.594174668872,
          6581.594174668872,
          6581.594174668872,
          6581.594174668872,
          6581.594174668872,
          6581.594174668872,
          6581.594174668872,
          6581.594174668872,
          6581.594174668872,
          6581.594174668872,
          6581.594174668872,
          6581.594174668872,
          6581.594174668872,
          6581.594174668872,
          6581.594174668872,
          6581.594174668872,
          6581.594174668872,
          6581.594174668872,
          6581.594174668872,
          6581.594174668872,
          6581.594174668872,
          6581.594174668872,
          6581.594174668872,
          6581.594174668872,
          6581.594174668872,
          6581.594174668872,
          6581.594174668872,
          6581.594174668872,
          6581.594174668872,
          6581.594174668872,
          6581.594174668872,
          6581.594174668872,
          6581.594174668872,
          6581.594174668872,
          6581.594174668872,
          6581.594174668872,
          6581.594174668872,
          6581.594174668872,
          6581.594174668872,
          6581.594174668872,
          6581.594174668872,
          6581.594174668872,
          6581.594174668872,
          6581.594174668872,
          6581.594174668872,
          6581.594174668872,
          6581.594174668872,
          6581.594174668872,
          6581.594174668872,
          6581.594174668872,
          6581.594174668872,
          6581.594174668872,
          6581.594174668872,
          6581.594174668872,
          6581.594174668872,
          6581.594174668872,
          6581.594174668872,
          6581.594174668872,
          6581.594174668872,
          6581.594174668872,
          6581.594174668872,
          6581.594174668872,
          6581.594174668872,
          6581.594174668872,
          6581.594174668872,
          6581.594174668872,
          6581.594174668872,
          6581.594174668872,
          6581.594174668872,
          6581.594174668872,
          6581.594174668872,
          6581.594174668872,
          6581.594174668872,
          6581.594174668872,
          6581.594174668872,
          6581.594174668872,
          6581.594174668872,
          6581.594174668872,
          6581.594174668872,
          6581.594174668872,
          6581.594174668872,
          6581.594174668872,
          6581.594174668872,
          6581.594174668872,
          6581.594174668872,
          6581.594174668872,
          6581.594174668872,
          6581.594174668872,
          6581.594174668872,
          6581.594174668872,
          6581.594174668872,
          6581.594174668872,
          6581.594174668872,
          6581.594174668872,
          6581.594174668872,
          6581.594174668872,
          6581.594174668872,
          6581.594174668872,
          6581.594174668872,
          6581.594174668872,
          6581.594174668872,
          6581.594174668872,
          6581.594174668872,
          6581.594174668872,
          6581.594174668872,
          6581.594174668872,
          6581.594174668872,
          6581.594174668872,
          6581.594174668872,
          6581.594174668872,
          6581.594174668872,
          6581.594174668872,
          6581.594174668872,
          6581.594174668872,
          6581.594174668872,
          6581.594174668872,
          6581.594174668872,
          6581.594174668872,
          6581.594174668872,
          6581.594174668872,
          6581.594174668872,
          6581.594174668872,
          6581.594174668872,
          6581.594174668872,
          6581.594174668872,
          6581.594174668872,
          6581.594174668872,
          6581.594174668872,
          6581.594174668872,
          6581.594174668872,
          6581.594174668872,
          6581.594174668872,
          6581.594174668872,
          6581.594174668872,
          6581.594174668872,
          6581.594174668872,
          6581.594174668872,
          6581.594174668872,
          6581.594174668872,
          6581.594174668872,
          6581.594174668872,
          6581.594174668872,
          6581.594174668872,
          6581.594174668872,
          6581.594174668872,
          6581.594174668872,
          6581.594174668872,
          6581.594174668872,
          6581.594174668872,
          6581.594174668872
         ]
        },
        {
         "marker": {
          "color": "#cccccc"
         },
         "mode": "markers",
         "name": "Infeasible Trial",
         "showlegend": false,
         "type": "scatter",
         "x": [],
         "y": []
        }
       ],
       "layout": {
        "template": {
         "data": {
          "bar": [
           {
            "error_x": {
             "color": "#2a3f5f"
            },
            "error_y": {
             "color": "#2a3f5f"
            },
            "marker": {
             "line": {
              "color": "#E5ECF6",
              "width": 0.5
             },
             "pattern": {
              "fillmode": "overlay",
              "size": 10,
              "solidity": 0.2
             }
            },
            "type": "bar"
           }
          ],
          "barpolar": [
           {
            "marker": {
             "line": {
              "color": "#E5ECF6",
              "width": 0.5
             },
             "pattern": {
              "fillmode": "overlay",
              "size": 10,
              "solidity": 0.2
             }
            },
            "type": "barpolar"
           }
          ],
          "carpet": [
           {
            "aaxis": {
             "endlinecolor": "#2a3f5f",
             "gridcolor": "white",
             "linecolor": "white",
             "minorgridcolor": "white",
             "startlinecolor": "#2a3f5f"
            },
            "baxis": {
             "endlinecolor": "#2a3f5f",
             "gridcolor": "white",
             "linecolor": "white",
             "minorgridcolor": "white",
             "startlinecolor": "#2a3f5f"
            },
            "type": "carpet"
           }
          ],
          "choropleth": [
           {
            "colorbar": {
             "outlinewidth": 0,
             "ticks": ""
            },
            "type": "choropleth"
           }
          ],
          "contour": [
           {
            "colorbar": {
             "outlinewidth": 0,
             "ticks": ""
            },
            "colorscale": [
             [
              0,
              "#0d0887"
             ],
             [
              0.1111111111111111,
              "#46039f"
             ],
             [
              0.2222222222222222,
              "#7201a8"
             ],
             [
              0.3333333333333333,
              "#9c179e"
             ],
             [
              0.4444444444444444,
              "#bd3786"
             ],
             [
              0.5555555555555556,
              "#d8576b"
             ],
             [
              0.6666666666666666,
              "#ed7953"
             ],
             [
              0.7777777777777778,
              "#fb9f3a"
             ],
             [
              0.8888888888888888,
              "#fdca26"
             ],
             [
              1,
              "#f0f921"
             ]
            ],
            "type": "contour"
           }
          ],
          "contourcarpet": [
           {
            "colorbar": {
             "outlinewidth": 0,
             "ticks": ""
            },
            "type": "contourcarpet"
           }
          ],
          "heatmap": [
           {
            "colorbar": {
             "outlinewidth": 0,
             "ticks": ""
            },
            "colorscale": [
             [
              0,
              "#0d0887"
             ],
             [
              0.1111111111111111,
              "#46039f"
             ],
             [
              0.2222222222222222,
              "#7201a8"
             ],
             [
              0.3333333333333333,
              "#9c179e"
             ],
             [
              0.4444444444444444,
              "#bd3786"
             ],
             [
              0.5555555555555556,
              "#d8576b"
             ],
             [
              0.6666666666666666,
              "#ed7953"
             ],
             [
              0.7777777777777778,
              "#fb9f3a"
             ],
             [
              0.8888888888888888,
              "#fdca26"
             ],
             [
              1,
              "#f0f921"
             ]
            ],
            "type": "heatmap"
           }
          ],
          "heatmapgl": [
           {
            "colorbar": {
             "outlinewidth": 0,
             "ticks": ""
            },
            "colorscale": [
             [
              0,
              "#0d0887"
             ],
             [
              0.1111111111111111,
              "#46039f"
             ],
             [
              0.2222222222222222,
              "#7201a8"
             ],
             [
              0.3333333333333333,
              "#9c179e"
             ],
             [
              0.4444444444444444,
              "#bd3786"
             ],
             [
              0.5555555555555556,
              "#d8576b"
             ],
             [
              0.6666666666666666,
              "#ed7953"
             ],
             [
              0.7777777777777778,
              "#fb9f3a"
             ],
             [
              0.8888888888888888,
              "#fdca26"
             ],
             [
              1,
              "#f0f921"
             ]
            ],
            "type": "heatmapgl"
           }
          ],
          "histogram": [
           {
            "marker": {
             "pattern": {
              "fillmode": "overlay",
              "size": 10,
              "solidity": 0.2
             }
            },
            "type": "histogram"
           }
          ],
          "histogram2d": [
           {
            "colorbar": {
             "outlinewidth": 0,
             "ticks": ""
            },
            "colorscale": [
             [
              0,
              "#0d0887"
             ],
             [
              0.1111111111111111,
              "#46039f"
             ],
             [
              0.2222222222222222,
              "#7201a8"
             ],
             [
              0.3333333333333333,
              "#9c179e"
             ],
             [
              0.4444444444444444,
              "#bd3786"
             ],
             [
              0.5555555555555556,
              "#d8576b"
             ],
             [
              0.6666666666666666,
              "#ed7953"
             ],
             [
              0.7777777777777778,
              "#fb9f3a"
             ],
             [
              0.8888888888888888,
              "#fdca26"
             ],
             [
              1,
              "#f0f921"
             ]
            ],
            "type": "histogram2d"
           }
          ],
          "histogram2dcontour": [
           {
            "colorbar": {
             "outlinewidth": 0,
             "ticks": ""
            },
            "colorscale": [
             [
              0,
              "#0d0887"
             ],
             [
              0.1111111111111111,
              "#46039f"
             ],
             [
              0.2222222222222222,
              "#7201a8"
             ],
             [
              0.3333333333333333,
              "#9c179e"
             ],
             [
              0.4444444444444444,
              "#bd3786"
             ],
             [
              0.5555555555555556,
              "#d8576b"
             ],
             [
              0.6666666666666666,
              "#ed7953"
             ],
             [
              0.7777777777777778,
              "#fb9f3a"
             ],
             [
              0.8888888888888888,
              "#fdca26"
             ],
             [
              1,
              "#f0f921"
             ]
            ],
            "type": "histogram2dcontour"
           }
          ],
          "mesh3d": [
           {
            "colorbar": {
             "outlinewidth": 0,
             "ticks": ""
            },
            "type": "mesh3d"
           }
          ],
          "parcoords": [
           {
            "line": {
             "colorbar": {
              "outlinewidth": 0,
              "ticks": ""
             }
            },
            "type": "parcoords"
           }
          ],
          "pie": [
           {
            "automargin": true,
            "type": "pie"
           }
          ],
          "scatter": [
           {
            "fillpattern": {
             "fillmode": "overlay",
             "size": 10,
             "solidity": 0.2
            },
            "type": "scatter"
           }
          ],
          "scatter3d": [
           {
            "line": {
             "colorbar": {
              "outlinewidth": 0,
              "ticks": ""
             }
            },
            "marker": {
             "colorbar": {
              "outlinewidth": 0,
              "ticks": ""
             }
            },
            "type": "scatter3d"
           }
          ],
          "scattercarpet": [
           {
            "marker": {
             "colorbar": {
              "outlinewidth": 0,
              "ticks": ""
             }
            },
            "type": "scattercarpet"
           }
          ],
          "scattergeo": [
           {
            "marker": {
             "colorbar": {
              "outlinewidth": 0,
              "ticks": ""
             }
            },
            "type": "scattergeo"
           }
          ],
          "scattergl": [
           {
            "marker": {
             "colorbar": {
              "outlinewidth": 0,
              "ticks": ""
             }
            },
            "type": "scattergl"
           }
          ],
          "scattermapbox": [
           {
            "marker": {
             "colorbar": {
              "outlinewidth": 0,
              "ticks": ""
             }
            },
            "type": "scattermapbox"
           }
          ],
          "scatterpolar": [
           {
            "marker": {
             "colorbar": {
              "outlinewidth": 0,
              "ticks": ""
             }
            },
            "type": "scatterpolar"
           }
          ],
          "scatterpolargl": [
           {
            "marker": {
             "colorbar": {
              "outlinewidth": 0,
              "ticks": ""
             }
            },
            "type": "scatterpolargl"
           }
          ],
          "scatterternary": [
           {
            "marker": {
             "colorbar": {
              "outlinewidth": 0,
              "ticks": ""
             }
            },
            "type": "scatterternary"
           }
          ],
          "surface": [
           {
            "colorbar": {
             "outlinewidth": 0,
             "ticks": ""
            },
            "colorscale": [
             [
              0,
              "#0d0887"
             ],
             [
              0.1111111111111111,
              "#46039f"
             ],
             [
              0.2222222222222222,
              "#7201a8"
             ],
             [
              0.3333333333333333,
              "#9c179e"
             ],
             [
              0.4444444444444444,
              "#bd3786"
             ],
             [
              0.5555555555555556,
              "#d8576b"
             ],
             [
              0.6666666666666666,
              "#ed7953"
             ],
             [
              0.7777777777777778,
              "#fb9f3a"
             ],
             [
              0.8888888888888888,
              "#fdca26"
             ],
             [
              1,
              "#f0f921"
             ]
            ],
            "type": "surface"
           }
          ],
          "table": [
           {
            "cells": {
             "fill": {
              "color": "#EBF0F8"
             },
             "line": {
              "color": "white"
             }
            },
            "header": {
             "fill": {
              "color": "#C8D4E3"
             },
             "line": {
              "color": "white"
             }
            },
            "type": "table"
           }
          ]
         },
         "layout": {
          "annotationdefaults": {
           "arrowcolor": "#2a3f5f",
           "arrowhead": 0,
           "arrowwidth": 1
          },
          "autotypenumbers": "strict",
          "coloraxis": {
           "colorbar": {
            "outlinewidth": 0,
            "ticks": ""
           }
          },
          "colorscale": {
           "diverging": [
            [
             0,
             "#8e0152"
            ],
            [
             0.1,
             "#c51b7d"
            ],
            [
             0.2,
             "#de77ae"
            ],
            [
             0.3,
             "#f1b6da"
            ],
            [
             0.4,
             "#fde0ef"
            ],
            [
             0.5,
             "#f7f7f7"
            ],
            [
             0.6,
             "#e6f5d0"
            ],
            [
             0.7,
             "#b8e186"
            ],
            [
             0.8,
             "#7fbc41"
            ],
            [
             0.9,
             "#4d9221"
            ],
            [
             1,
             "#276419"
            ]
           ],
           "sequential": [
            [
             0,
             "#0d0887"
            ],
            [
             0.1111111111111111,
             "#46039f"
            ],
            [
             0.2222222222222222,
             "#7201a8"
            ],
            [
             0.3333333333333333,
             "#9c179e"
            ],
            [
             0.4444444444444444,
             "#bd3786"
            ],
            [
             0.5555555555555556,
             "#d8576b"
            ],
            [
             0.6666666666666666,
             "#ed7953"
            ],
            [
             0.7777777777777778,
             "#fb9f3a"
            ],
            [
             0.8888888888888888,
             "#fdca26"
            ],
            [
             1,
             "#f0f921"
            ]
           ],
           "sequentialminus": [
            [
             0,
             "#0d0887"
            ],
            [
             0.1111111111111111,
             "#46039f"
            ],
            [
             0.2222222222222222,
             "#7201a8"
            ],
            [
             0.3333333333333333,
             "#9c179e"
            ],
            [
             0.4444444444444444,
             "#bd3786"
            ],
            [
             0.5555555555555556,
             "#d8576b"
            ],
            [
             0.6666666666666666,
             "#ed7953"
            ],
            [
             0.7777777777777778,
             "#fb9f3a"
            ],
            [
             0.8888888888888888,
             "#fdca26"
            ],
            [
             1,
             "#f0f921"
            ]
           ]
          },
          "colorway": [
           "#636efa",
           "#EF553B",
           "#00cc96",
           "#ab63fa",
           "#FFA15A",
           "#19d3f3",
           "#FF6692",
           "#B6E880",
           "#FF97FF",
           "#FECB52"
          ],
          "font": {
           "color": "#2a3f5f"
          },
          "geo": {
           "bgcolor": "white",
           "lakecolor": "white",
           "landcolor": "#E5ECF6",
           "showlakes": true,
           "showland": true,
           "subunitcolor": "white"
          },
          "hoverlabel": {
           "align": "left"
          },
          "hovermode": "closest",
          "mapbox": {
           "style": "light"
          },
          "paper_bgcolor": "white",
          "plot_bgcolor": "#E5ECF6",
          "polar": {
           "angularaxis": {
            "gridcolor": "white",
            "linecolor": "white",
            "ticks": ""
           },
           "bgcolor": "#E5ECF6",
           "radialaxis": {
            "gridcolor": "white",
            "linecolor": "white",
            "ticks": ""
           }
          },
          "scene": {
           "xaxis": {
            "backgroundcolor": "#E5ECF6",
            "gridcolor": "white",
            "gridwidth": 2,
            "linecolor": "white",
            "showbackground": true,
            "ticks": "",
            "zerolinecolor": "white"
           },
           "yaxis": {
            "backgroundcolor": "#E5ECF6",
            "gridcolor": "white",
            "gridwidth": 2,
            "linecolor": "white",
            "showbackground": true,
            "ticks": "",
            "zerolinecolor": "white"
           },
           "zaxis": {
            "backgroundcolor": "#E5ECF6",
            "gridcolor": "white",
            "gridwidth": 2,
            "linecolor": "white",
            "showbackground": true,
            "ticks": "",
            "zerolinecolor": "white"
           }
          },
          "shapedefaults": {
           "line": {
            "color": "#2a3f5f"
           }
          },
          "ternary": {
           "aaxis": {
            "gridcolor": "white",
            "linecolor": "white",
            "ticks": ""
           },
           "baxis": {
            "gridcolor": "white",
            "linecolor": "white",
            "ticks": ""
           },
           "bgcolor": "#E5ECF6",
           "caxis": {
            "gridcolor": "white",
            "linecolor": "white",
            "ticks": ""
           }
          },
          "title": {
           "x": 0.05
          },
          "xaxis": {
           "automargin": true,
           "gridcolor": "white",
           "linecolor": "white",
           "ticks": "",
           "title": {
            "standoff": 15
           },
           "zerolinecolor": "white",
           "zerolinewidth": 2
          },
          "yaxis": {
           "automargin": true,
           "gridcolor": "white",
           "linecolor": "white",
           "ticks": "",
           "title": {
            "standoff": 15
           },
           "zerolinecolor": "white",
           "zerolinewidth": 2
          }
         }
        },
        "title": {
         "text": "Optimization History Plot"
        },
        "xaxis": {
         "title": {
          "text": "Trial"
         }
        },
        "yaxis": {
         "title": {
          "text": "Objective Value"
         }
        }
       }
      },
      "text/html": [
       "<div>                            <div id=\"1dfffbad-6306-48b7-98c7-b2f593ca379d\" class=\"plotly-graph-div\" style=\"height:525px; width:100%;\"></div>            <script type=\"text/javascript\">                require([\"plotly\"], function(Plotly) {                    window.PLOTLYENV=window.PLOTLYENV || {};                                    if (document.getElementById(\"1dfffbad-6306-48b7-98c7-b2f593ca379d\")) {                    Plotly.newPlot(                        \"1dfffbad-6306-48b7-98c7-b2f593ca379d\",                        [{\"mode\":\"markers\",\"name\":\"Objective Value\",\"x\":[0,1,2,3,4,5,6,7,8,9,10,11,12,13,14,15,16,17,18,19,20,21,22,23,24,25,26,27,28,29,30,31,32,33,34,35,36,37,38,39,40,41,42,43,44,45,46,47,48,49,50,51,52,53,54,55,56,57,58,59,60,61,62,63,64,65,66,67,68,69,70,71,72,73,74,75,76,77,78,79,80,81,82,83,84,85,86,87,88,89,90,91,92,93,94,95,96,97,98,99,100,101,102,103,104,105,106,107,108,109,110,111,112,113,114,115,116,117,118,119,120,121,122,123,124,125,126,127,128,129,130,131,132,133,134,135,136,137,138,139,140,141,142,143,144,145,146,147,148,149,150,151,152,153,154,155,156,157,158,159,160,161,162,163,164,165,166,167,168,169,170,171,172,173,174,175,176,177,178,179,180,181,182,183,184,185,186,187,188,189,190,191,192,193,194,195,196,197,198,199,200,201,202,203,204,205,206,207,208,209,210,211,212,213,214,215,216,217,218,219,220,221,222,223,224,225,226,227,228,229,230,231,232,233,234,235,236,237,238,239,240,241,242,243,244,245,246,247,248,249,250,251,252,253,254,255,256,257,258,259,260,261,262,263,264,265,266,267,268,269,270,271,272,273,274,275,276,277,278,279,280,281,282,283,284,285,286,287,288,289,290,291,292,293,294,295,296,297,298,299,300,301,302,303,304,305,306,307,308,309,310,311,312,313,314,315,316,317,318,319,320,321,322,323,324,325,326,327,328,329,330,331,332,333,334,335,336,337,338,339,340,341,342,343,344,345,346,347,348,349,350,351,352,353,354,355,356,357,358,359,360,361,362,363,364,365,366,367,368,369,370,371,372,373,374,375,376,377,378,379,380,381,382,383,384,385,386,387,388,389,390,391,392,393,394,395,396,397,398,399,400,401,402,403,404,405,406,407,408,409,410,411,412,413,414,415,416,417],\"y\":[6916.665387805601,9221.389001923017,7221.751804055221,6621.410326428451,6901.705755484328,7165.6050725942005,7564.210910173268,6892.663920466446,6913.18398274685,8134.616638347227,8080.741002141631,6790.558098432525,6813.431291431908,6784.97080858655,6856.710274798621,7075.810352887928,6897.701196992685,6968.199473342691,6903.022388243484,7443.983343293136,6812.676901973285,6820.979483433128,6800.235181296479,7085.1509568774345,6836.755289113554,7201.144848370999,6837.1687075535665,6786.914891547236,6875.73686088378,6897.42027614072,7382.449373383305,6831.868513930579,6855.790400773527,6876.95207913887,7108.327094520385,6870.652565472887,6940.42409501063,6870.2414143743845,6963.1724012441355,7169.1730302498745,6796.5604806854,6623.8921944871345,6644.386026254608,6653.869296935544,6632.45749073182,6629.6370604926715,6638.255027464184,6635.314244247314,6676.894753750144,6637.6929343788615,6630.455067693389,6832.852444226876,6639.488469141737,6656.46788532165,6619.021635122018,6664.746299452181,6831.3383118166685,6622.932871759736,6790.978878358734,6834.124715605626,6628.0033326340745,6646.307164660088,7133.084282841823,6767.780241692673,6636.72649275138,6689.055924811887,6645.578286833163,6852.417892967408,6788.773225861005,6826.29753967776,6794.467948013592,6630.990170823984,6637.259077220436,6642.131667027205,6738.881751911889,6630.41218317354,7244.40728465226,7704.37101160617,6637.780612966011,6822.901889013541,6637.415361092493,6634.05885075628,6651.160612295524,6791.8468066668065,6620.128117620146,6636.536427474853,6929.689622239836,6637.34155142531,6694.006117997157,6850.478192055833,6686.047905234165,6643.317714987747,6626.724519172239,6643.525732536418,6627.318296417155,6635.388008874479,6646.05511043027,6803.757885071292,6805.939443020655,6678.398385873748,6623.507467684094,6653.060824496497,6624.998767944827,6886.52000762694,6606.7149511342395,6866.364269757718,6630.662906759227,6865.063179987685,6987.980098775501,6610.6394920860475,6626.675357440202,6645.01023819747,6634.712352272013,6792.554482304059,6636.8098807245415,6641.036011478536,6852.546030980333,6647.926377692746,6673.330032471357,6636.234290319857,6978.167325140004,6648.480641822713,6632.079018764138,6634.032115005616,6646.345621185712,6955.648706676493,6889.369708713194,6809.328238397757,6805.862699288785,6653.334373642868,6672.712419525228,6654.242101858512,6623.136398356338,6650.278983108479,6652.661033405376,6619.287172537387,6889.961545816375,6625.810194409245,6650.134334778977,6815.516698658306,6699.037252758527,6637.223650321244,6637.190831161376,6628.9961627622715,6817.579722959298,6844.737829745295,6797.577305770751,6637.047884289125,6643.030145435487,6637.728010898621,6720.967533714969,6643.325115991342,6662.10821893196,6872.579131302821,6636.32730912523,6638.966940043759,6919.709141299169,6678.036028087299,6647.016274132614,6852.535831850272,6967.750405482888,6624.576814155476,6651.998696375788,6629.014040724522,6631.303572462966,6620.616788449939,6788.153000737004,6628.141624062055,6651.5440050795,6838.042949686741,6643.601048446532,6621.292575294147,6636.78061007175,6646.5994169628975,7006.0773739239485,6633.1558998251085,6635.3849026677435,6630.904490371172,6736.221101571664,6874.262223647683,6821.260443229778,6634.768152395458,6896.339350968839,6630.344369146843,6831.210023465808,6642.322856258771,6645.451907201363,6640.660750483699,7029.610419961147,6690.699589542665,6648.325787807597,6693.548833218081,6633.578606449567,6600.058004548019,6821.556082983759,6626.754700852463,6625.1294131854265,6607.6907798214825,6617.8420908214575,6854.484830800075,6630.333664922228,6637.100582951195,6634.48449344993,6624.010498121022,7379.256133215037,6608.744577443632,6616.0825474306985,6637.414650464505,6594.982397084581,6675.712429343216,6613.01060817197,6581.594174668872,6620.039478700858,6640.428160240439,6649.023457688237,6611.126215916856,6632.621802117806,6618.553294532101,6783.5443798402675,6632.801768060024,6850.648237844574,6606.490008685608,6619.943147736005,6625.857726166139,6610.139865046852,6607.316654767811,6816.002048686746,6877.377183234084,6619.580301167179,6628.4137347326205,6794.259745252676,6607.240837097168,6617.035463041659,6615.865097864064,6810.827357642453,6649.701501902562,6611.724550467075,6613.04327684561,6766.816828218925,6636.158373078456,6622.096964286416,6880.6943363465825,6639.731504752233,6800.642558039033,6887.363302312651,6813.513247022041,6641.919757098998,6844.983762347347,6781.622530510214,6644.03743494356,6644.641286323282,6627.161078184603,6842.716338947695,6830.419205161905,6620.461884695467,6781.751993982146,6613.884016681292,6813.1556127371805,6641.199368474311,6826.295232900666,6803.91740691566,6858.450103918285,6890.28309598621,6648.43301040813,6644.436119263677,6628.1617786929055,6652.16250680407,6820.216292475887,6633.530131603374,6724.4680468991355,6798.061980899473,6667.075810613965,6607.5869989676385,6819.850297656839,6648.189275358062,6890.075505059782,6834.673845695107,6811.525839000221,6837.545511199705,6869.144031073389,6846.47707839434,6634.623558678512,6858.888995623141,6620.623350823533,6827.923639558276,6621.118856690844,6649.492655490742,6797.929065448669,6883.50753158283,6865.826527142972,6880.166387154014,6992.500887873345,6873.941076201983,6652.9910297956285,6825.0030767936805,6645.523991214047,6627.064841273003,6648.732247973895,6834.584053039551,6641.874773204487,6638.891373212472,6619.7702798511,6796.570069504807,6619.781248200035,6836.490705137278,6790.074080316374,6650.317003756362,6813.617263998487,6620.173180526447,6813.805810534603,6633.226936844016,6634.173363979637,6622.457602084162,7163.934914596599,7247.831882506849,6808.48682698104,6623.137060947776,6829.717236189037,6822.6980117920575,6639.351636901937,6645.1348757143,6630.694698303059,6667.1067508155475,6625.330849246109,6927.351228933871,6823.657284447719,6652.369513994887,6813.783971505254,6953.374001347028,6869.18831252029,7022.140796860805,6820.934955913963,6652.288128113938,6626.561056408103,6832.165065980149,6827.22426320912,6819.606802564524,6895.098349768099,9517.703502010723,6800.972401698217,6852.369373894249,6629.949316336706,6637.739512011449,6619.056993704379,7451.8173157229185,6809.179930229289,6889.6156017927315,6760.173789998482,6667.183678021061,6876.376444594151,6619.1591652673305,6629.943832192919,6855.349497449942,6628.154433713202,6639.219332927673,6833.027761536054,6623.136427523943,6840.4912295916765,6861.860926960492,6627.123799546474,6824.997102711859,6865.094082175247,6614.247839674554,6817.695080713676,6636.6228986642955,6632.106336138523,6792.620795237155,6900.516753856362,6968.445699083261,6640.978572961153,6644.6103612168545,6619.483133699555,6644.598195871144,6860.77455118706,6694.46800673743,6641.537940938096,6900.469361023992,6610.726945076807,6605.009948986146,6832.050161663393,6832.716506303475,6781.831384858241,6790.772989554316,6641.320526859396,6871.980297722702,6867.907708912049,6610.734842499843,6876.76142341266,6861.60800327117,6792.170024411608,6814.875170587535,6632.28294814368,6797.17628524003,6857.468277263897,6787.923408937838,6807.84372120057,6640.172771545901,6857.81500058008,6837.355895505194,6894.906324207623,6840.274192462338,6615.636295349284,6621.974225757589,6872.875434727196,6644.278954799949,6635.88109030225,6847.810784511208,6895.944530579104,6819.629169617518,6889.062927614268,6902.797113832776,6627.188512091343,6625.273955731226,6824.536451201656,6875.00772106999,6634.711181047455,7084.248044747769,7102.510203834513],\"type\":\"scatter\"},{\"mode\":\"lines\",\"name\":\"Best Value\",\"x\":[0,1,2,3,4,5,6,7,8,9,10,11,12,13,14,15,16,17,18,19,20,21,22,23,24,25,26,27,28,29,30,31,32,33,34,35,36,37,38,39,40,41,42,43,44,45,46,47,48,49,50,51,52,53,54,55,56,57,58,59,60,61,62,63,64,65,66,67,68,69,70,71,72,73,74,75,76,77,78,79,80,81,82,83,84,85,86,87,88,89,90,91,92,93,94,95,96,97,98,99,100,101,102,103,104,105,106,107,108,109,110,111,112,113,114,115,116,117,118,119,120,121,122,123,124,125,126,127,128,129,130,131,132,133,134,135,136,137,138,139,140,141,142,143,144,145,146,147,148,149,150,151,152,153,154,155,156,157,158,159,160,161,162,163,164,165,166,167,168,169,170,171,172,173,174,175,176,177,178,179,180,181,182,183,184,185,186,187,188,189,190,191,192,193,194,195,196,197,198,199,200,201,202,203,204,205,206,207,208,209,210,211,212,213,214,215,216,217,218,219,220,221,222,223,224,225,226,227,228,229,230,231,232,233,234,235,236,237,238,239,240,241,242,243,244,245,246,247,248,249,250,251,252,253,254,255,256,257,258,259,260,261,262,263,264,265,266,267,268,269,270,271,272,273,274,275,276,277,278,279,280,281,282,283,284,285,286,287,288,289,290,291,292,293,294,295,296,297,298,299,300,301,302,303,304,305,306,307,308,309,310,311,312,313,314,315,316,317,318,319,320,321,322,323,324,325,326,327,328,329,330,331,332,333,334,335,336,337,338,339,340,341,342,343,344,345,346,347,348,349,350,351,352,353,354,355,356,357,358,359,360,361,362,363,364,365,366,367,368,369,370,371,372,373,374,375,376,377,378,379,380,381,382,383,384,385,386,387,388,389,390,391,392,393,394,395,396,397,398,399,400,401,402,403,404,405,406,407,408,409,410,411,412,413,414,415,416,417],\"y\":[6916.665387805601,6916.665387805601,6916.665387805601,6621.410326428451,6621.410326428451,6621.410326428451,6621.410326428451,6621.410326428451,6621.410326428451,6621.410326428451,6621.410326428451,6621.410326428451,6621.410326428451,6621.410326428451,6621.410326428451,6621.410326428451,6621.410326428451,6621.410326428451,6621.410326428451,6621.410326428451,6621.410326428451,6621.410326428451,6621.410326428451,6621.410326428451,6621.410326428451,6621.410326428451,6621.410326428451,6621.410326428451,6621.410326428451,6621.410326428451,6621.410326428451,6621.410326428451,6621.410326428451,6621.410326428451,6621.410326428451,6621.410326428451,6621.410326428451,6621.410326428451,6621.410326428451,6621.410326428451,6621.410326428451,6621.410326428451,6621.410326428451,6621.410326428451,6621.410326428451,6621.410326428451,6621.410326428451,6621.410326428451,6621.410326428451,6621.410326428451,6621.410326428451,6621.410326428451,6621.410326428451,6621.410326428451,6619.021635122018,6619.021635122018,6619.021635122018,6619.021635122018,6619.021635122018,6619.021635122018,6619.021635122018,6619.021635122018,6619.021635122018,6619.021635122018,6619.021635122018,6619.021635122018,6619.021635122018,6619.021635122018,6619.021635122018,6619.021635122018,6619.021635122018,6619.021635122018,6619.021635122018,6619.021635122018,6619.021635122018,6619.021635122018,6619.021635122018,6619.021635122018,6619.021635122018,6619.021635122018,6619.021635122018,6619.021635122018,6619.021635122018,6619.021635122018,6619.021635122018,6619.021635122018,6619.021635122018,6619.021635122018,6619.021635122018,6619.021635122018,6619.021635122018,6619.021635122018,6619.021635122018,6619.021635122018,6619.021635122018,6619.021635122018,6619.021635122018,6619.021635122018,6619.021635122018,6619.021635122018,6619.021635122018,6619.021635122018,6619.021635122018,6619.021635122018,6606.7149511342395,6606.7149511342395,6606.7149511342395,6606.7149511342395,6606.7149511342395,6606.7149511342395,6606.7149511342395,6606.7149511342395,6606.7149511342395,6606.7149511342395,6606.7149511342395,6606.7149511342395,6606.7149511342395,6606.7149511342395,6606.7149511342395,6606.7149511342395,6606.7149511342395,6606.7149511342395,6606.7149511342395,6606.7149511342395,6606.7149511342395,6606.7149511342395,6606.7149511342395,6606.7149511342395,6606.7149511342395,6606.7149511342395,6606.7149511342395,6606.7149511342395,6606.7149511342395,6606.7149511342395,6606.7149511342395,6606.7149511342395,6606.7149511342395,6606.7149511342395,6606.7149511342395,6606.7149511342395,6606.7149511342395,6606.7149511342395,6606.7149511342395,6606.7149511342395,6606.7149511342395,6606.7149511342395,6606.7149511342395,6606.7149511342395,6606.7149511342395,6606.7149511342395,6606.7149511342395,6606.7149511342395,6606.7149511342395,6606.7149511342395,6606.7149511342395,6606.7149511342395,6606.7149511342395,6606.7149511342395,6606.7149511342395,6606.7149511342395,6606.7149511342395,6606.7149511342395,6606.7149511342395,6606.7149511342395,6606.7149511342395,6606.7149511342395,6606.7149511342395,6606.7149511342395,6606.7149511342395,6606.7149511342395,6606.7149511342395,6606.7149511342395,6606.7149511342395,6606.7149511342395,6606.7149511342395,6606.7149511342395,6606.7149511342395,6606.7149511342395,6606.7149511342395,6606.7149511342395,6606.7149511342395,6606.7149511342395,6606.7149511342395,6606.7149511342395,6606.7149511342395,6606.7149511342395,6606.7149511342395,6606.7149511342395,6606.7149511342395,6606.7149511342395,6606.7149511342395,6606.7149511342395,6606.7149511342395,6600.058004548019,6600.058004548019,6600.058004548019,6600.058004548019,6600.058004548019,6600.058004548019,6600.058004548019,6600.058004548019,6600.058004548019,6600.058004548019,6600.058004548019,6600.058004548019,6600.058004548019,6600.058004548019,6600.058004548019,6594.982397084581,6594.982397084581,6594.982397084581,6581.594174668872,6581.594174668872,6581.594174668872,6581.594174668872,6581.594174668872,6581.594174668872,6581.594174668872,6581.594174668872,6581.594174668872,6581.594174668872,6581.594174668872,6581.594174668872,6581.594174668872,6581.594174668872,6581.594174668872,6581.594174668872,6581.594174668872,6581.594174668872,6581.594174668872,6581.594174668872,6581.594174668872,6581.594174668872,6581.594174668872,6581.594174668872,6581.594174668872,6581.594174668872,6581.594174668872,6581.594174668872,6581.594174668872,6581.594174668872,6581.594174668872,6581.594174668872,6581.594174668872,6581.594174668872,6581.594174668872,6581.594174668872,6581.594174668872,6581.594174668872,6581.594174668872,6581.594174668872,6581.594174668872,6581.594174668872,6581.594174668872,6581.594174668872,6581.594174668872,6581.594174668872,6581.594174668872,6581.594174668872,6581.594174668872,6581.594174668872,6581.594174668872,6581.594174668872,6581.594174668872,6581.594174668872,6581.594174668872,6581.594174668872,6581.594174668872,6581.594174668872,6581.594174668872,6581.594174668872,6581.594174668872,6581.594174668872,6581.594174668872,6581.594174668872,6581.594174668872,6581.594174668872,6581.594174668872,6581.594174668872,6581.594174668872,6581.594174668872,6581.594174668872,6581.594174668872,6581.594174668872,6581.594174668872,6581.594174668872,6581.594174668872,6581.594174668872,6581.594174668872,6581.594174668872,6581.594174668872,6581.594174668872,6581.594174668872,6581.594174668872,6581.594174668872,6581.594174668872,6581.594174668872,6581.594174668872,6581.594174668872,6581.594174668872,6581.594174668872,6581.594174668872,6581.594174668872,6581.594174668872,6581.594174668872,6581.594174668872,6581.594174668872,6581.594174668872,6581.594174668872,6581.594174668872,6581.594174668872,6581.594174668872,6581.594174668872,6581.594174668872,6581.594174668872,6581.594174668872,6581.594174668872,6581.594174668872,6581.594174668872,6581.594174668872,6581.594174668872,6581.594174668872,6581.594174668872,6581.594174668872,6581.594174668872,6581.594174668872,6581.594174668872,6581.594174668872,6581.594174668872,6581.594174668872,6581.594174668872,6581.594174668872,6581.594174668872,6581.594174668872,6581.594174668872,6581.594174668872,6581.594174668872,6581.594174668872,6581.594174668872,6581.594174668872,6581.594174668872,6581.594174668872,6581.594174668872,6581.594174668872,6581.594174668872,6581.594174668872,6581.594174668872,6581.594174668872,6581.594174668872,6581.594174668872,6581.594174668872,6581.594174668872,6581.594174668872,6581.594174668872,6581.594174668872,6581.594174668872,6581.594174668872,6581.594174668872,6581.594174668872,6581.594174668872,6581.594174668872,6581.594174668872,6581.594174668872,6581.594174668872,6581.594174668872,6581.594174668872,6581.594174668872,6581.594174668872,6581.594174668872,6581.594174668872,6581.594174668872,6581.594174668872,6581.594174668872,6581.594174668872,6581.594174668872,6581.594174668872,6581.594174668872,6581.594174668872,6581.594174668872,6581.594174668872,6581.594174668872,6581.594174668872,6581.594174668872,6581.594174668872,6581.594174668872,6581.594174668872,6581.594174668872,6581.594174668872,6581.594174668872,6581.594174668872,6581.594174668872,6581.594174668872,6581.594174668872,6581.594174668872,6581.594174668872,6581.594174668872,6581.594174668872,6581.594174668872,6581.594174668872,6581.594174668872,6581.594174668872,6581.594174668872,6581.594174668872,6581.594174668872,6581.594174668872,6581.594174668872,6581.594174668872,6581.594174668872,6581.594174668872,6581.594174668872,6581.594174668872,6581.594174668872,6581.594174668872,6581.594174668872,6581.594174668872,6581.594174668872,6581.594174668872,6581.594174668872],\"type\":\"scatter\"},{\"marker\":{\"color\":\"#cccccc\"},\"mode\":\"markers\",\"name\":\"Infeasible Trial\",\"showlegend\":false,\"x\":[],\"y\":[],\"type\":\"scatter\"}],                        {\"title\":{\"text\":\"Optimization History Plot\"},\"xaxis\":{\"title\":{\"text\":\"Trial\"}},\"yaxis\":{\"title\":{\"text\":\"Objective Value\"}},\"template\":{\"data\":{\"histogram2dcontour\":[{\"type\":\"histogram2dcontour\",\"colorbar\":{\"outlinewidth\":0,\"ticks\":\"\"},\"colorscale\":[[0.0,\"#0d0887\"],[0.1111111111111111,\"#46039f\"],[0.2222222222222222,\"#7201a8\"],[0.3333333333333333,\"#9c179e\"],[0.4444444444444444,\"#bd3786\"],[0.5555555555555556,\"#d8576b\"],[0.6666666666666666,\"#ed7953\"],[0.7777777777777778,\"#fb9f3a\"],[0.8888888888888888,\"#fdca26\"],[1.0,\"#f0f921\"]]}],\"choropleth\":[{\"type\":\"choropleth\",\"colorbar\":{\"outlinewidth\":0,\"ticks\":\"\"}}],\"histogram2d\":[{\"type\":\"histogram2d\",\"colorbar\":{\"outlinewidth\":0,\"ticks\":\"\"},\"colorscale\":[[0.0,\"#0d0887\"],[0.1111111111111111,\"#46039f\"],[0.2222222222222222,\"#7201a8\"],[0.3333333333333333,\"#9c179e\"],[0.4444444444444444,\"#bd3786\"],[0.5555555555555556,\"#d8576b\"],[0.6666666666666666,\"#ed7953\"],[0.7777777777777778,\"#fb9f3a\"],[0.8888888888888888,\"#fdca26\"],[1.0,\"#f0f921\"]]}],\"heatmap\":[{\"type\":\"heatmap\",\"colorbar\":{\"outlinewidth\":0,\"ticks\":\"\"},\"colorscale\":[[0.0,\"#0d0887\"],[0.1111111111111111,\"#46039f\"],[0.2222222222222222,\"#7201a8\"],[0.3333333333333333,\"#9c179e\"],[0.4444444444444444,\"#bd3786\"],[0.5555555555555556,\"#d8576b\"],[0.6666666666666666,\"#ed7953\"],[0.7777777777777778,\"#fb9f3a\"],[0.8888888888888888,\"#fdca26\"],[1.0,\"#f0f921\"]]}],\"heatmapgl\":[{\"type\":\"heatmapgl\",\"colorbar\":{\"outlinewidth\":0,\"ticks\":\"\"},\"colorscale\":[[0.0,\"#0d0887\"],[0.1111111111111111,\"#46039f\"],[0.2222222222222222,\"#7201a8\"],[0.3333333333333333,\"#9c179e\"],[0.4444444444444444,\"#bd3786\"],[0.5555555555555556,\"#d8576b\"],[0.6666666666666666,\"#ed7953\"],[0.7777777777777778,\"#fb9f3a\"],[0.8888888888888888,\"#fdca26\"],[1.0,\"#f0f921\"]]}],\"contourcarpet\":[{\"type\":\"contourcarpet\",\"colorbar\":{\"outlinewidth\":0,\"ticks\":\"\"}}],\"contour\":[{\"type\":\"contour\",\"colorbar\":{\"outlinewidth\":0,\"ticks\":\"\"},\"colorscale\":[[0.0,\"#0d0887\"],[0.1111111111111111,\"#46039f\"],[0.2222222222222222,\"#7201a8\"],[0.3333333333333333,\"#9c179e\"],[0.4444444444444444,\"#bd3786\"],[0.5555555555555556,\"#d8576b\"],[0.6666666666666666,\"#ed7953\"],[0.7777777777777778,\"#fb9f3a\"],[0.8888888888888888,\"#fdca26\"],[1.0,\"#f0f921\"]]}],\"surface\":[{\"type\":\"surface\",\"colorbar\":{\"outlinewidth\":0,\"ticks\":\"\"},\"colorscale\":[[0.0,\"#0d0887\"],[0.1111111111111111,\"#46039f\"],[0.2222222222222222,\"#7201a8\"],[0.3333333333333333,\"#9c179e\"],[0.4444444444444444,\"#bd3786\"],[0.5555555555555556,\"#d8576b\"],[0.6666666666666666,\"#ed7953\"],[0.7777777777777778,\"#fb9f3a\"],[0.8888888888888888,\"#fdca26\"],[1.0,\"#f0f921\"]]}],\"mesh3d\":[{\"type\":\"mesh3d\",\"colorbar\":{\"outlinewidth\":0,\"ticks\":\"\"}}],\"scatter\":[{\"fillpattern\":{\"fillmode\":\"overlay\",\"size\":10,\"solidity\":0.2},\"type\":\"scatter\"}],\"parcoords\":[{\"type\":\"parcoords\",\"line\":{\"colorbar\":{\"outlinewidth\":0,\"ticks\":\"\"}}}],\"scatterpolargl\":[{\"type\":\"scatterpolargl\",\"marker\":{\"colorbar\":{\"outlinewidth\":0,\"ticks\":\"\"}}}],\"bar\":[{\"error_x\":{\"color\":\"#2a3f5f\"},\"error_y\":{\"color\":\"#2a3f5f\"},\"marker\":{\"line\":{\"color\":\"#E5ECF6\",\"width\":0.5},\"pattern\":{\"fillmode\":\"overlay\",\"size\":10,\"solidity\":0.2}},\"type\":\"bar\"}],\"scattergeo\":[{\"type\":\"scattergeo\",\"marker\":{\"colorbar\":{\"outlinewidth\":0,\"ticks\":\"\"}}}],\"scatterpolar\":[{\"type\":\"scatterpolar\",\"marker\":{\"colorbar\":{\"outlinewidth\":0,\"ticks\":\"\"}}}],\"histogram\":[{\"marker\":{\"pattern\":{\"fillmode\":\"overlay\",\"size\":10,\"solidity\":0.2}},\"type\":\"histogram\"}],\"scattergl\":[{\"type\":\"scattergl\",\"marker\":{\"colorbar\":{\"outlinewidth\":0,\"ticks\":\"\"}}}],\"scatter3d\":[{\"type\":\"scatter3d\",\"line\":{\"colorbar\":{\"outlinewidth\":0,\"ticks\":\"\"}},\"marker\":{\"colorbar\":{\"outlinewidth\":0,\"ticks\":\"\"}}}],\"scattermapbox\":[{\"type\":\"scattermapbox\",\"marker\":{\"colorbar\":{\"outlinewidth\":0,\"ticks\":\"\"}}}],\"scatterternary\":[{\"type\":\"scatterternary\",\"marker\":{\"colorbar\":{\"outlinewidth\":0,\"ticks\":\"\"}}}],\"scattercarpet\":[{\"type\":\"scattercarpet\",\"marker\":{\"colorbar\":{\"outlinewidth\":0,\"ticks\":\"\"}}}],\"carpet\":[{\"aaxis\":{\"endlinecolor\":\"#2a3f5f\",\"gridcolor\":\"white\",\"linecolor\":\"white\",\"minorgridcolor\":\"white\",\"startlinecolor\":\"#2a3f5f\"},\"baxis\":{\"endlinecolor\":\"#2a3f5f\",\"gridcolor\":\"white\",\"linecolor\":\"white\",\"minorgridcolor\":\"white\",\"startlinecolor\":\"#2a3f5f\"},\"type\":\"carpet\"}],\"table\":[{\"cells\":{\"fill\":{\"color\":\"#EBF0F8\"},\"line\":{\"color\":\"white\"}},\"header\":{\"fill\":{\"color\":\"#C8D4E3\"},\"line\":{\"color\":\"white\"}},\"type\":\"table\"}],\"barpolar\":[{\"marker\":{\"line\":{\"color\":\"#E5ECF6\",\"width\":0.5},\"pattern\":{\"fillmode\":\"overlay\",\"size\":10,\"solidity\":0.2}},\"type\":\"barpolar\"}],\"pie\":[{\"automargin\":true,\"type\":\"pie\"}]},\"layout\":{\"autotypenumbers\":\"strict\",\"colorway\":[\"#636efa\",\"#EF553B\",\"#00cc96\",\"#ab63fa\",\"#FFA15A\",\"#19d3f3\",\"#FF6692\",\"#B6E880\",\"#FF97FF\",\"#FECB52\"],\"font\":{\"color\":\"#2a3f5f\"},\"hovermode\":\"closest\",\"hoverlabel\":{\"align\":\"left\"},\"paper_bgcolor\":\"white\",\"plot_bgcolor\":\"#E5ECF6\",\"polar\":{\"bgcolor\":\"#E5ECF6\",\"angularaxis\":{\"gridcolor\":\"white\",\"linecolor\":\"white\",\"ticks\":\"\"},\"radialaxis\":{\"gridcolor\":\"white\",\"linecolor\":\"white\",\"ticks\":\"\"}},\"ternary\":{\"bgcolor\":\"#E5ECF6\",\"aaxis\":{\"gridcolor\":\"white\",\"linecolor\":\"white\",\"ticks\":\"\"},\"baxis\":{\"gridcolor\":\"white\",\"linecolor\":\"white\",\"ticks\":\"\"},\"caxis\":{\"gridcolor\":\"white\",\"linecolor\":\"white\",\"ticks\":\"\"}},\"coloraxis\":{\"colorbar\":{\"outlinewidth\":0,\"ticks\":\"\"}},\"colorscale\":{\"sequential\":[[0.0,\"#0d0887\"],[0.1111111111111111,\"#46039f\"],[0.2222222222222222,\"#7201a8\"],[0.3333333333333333,\"#9c179e\"],[0.4444444444444444,\"#bd3786\"],[0.5555555555555556,\"#d8576b\"],[0.6666666666666666,\"#ed7953\"],[0.7777777777777778,\"#fb9f3a\"],[0.8888888888888888,\"#fdca26\"],[1.0,\"#f0f921\"]],\"sequentialminus\":[[0.0,\"#0d0887\"],[0.1111111111111111,\"#46039f\"],[0.2222222222222222,\"#7201a8\"],[0.3333333333333333,\"#9c179e\"],[0.4444444444444444,\"#bd3786\"],[0.5555555555555556,\"#d8576b\"],[0.6666666666666666,\"#ed7953\"],[0.7777777777777778,\"#fb9f3a\"],[0.8888888888888888,\"#fdca26\"],[1.0,\"#f0f921\"]],\"diverging\":[[0,\"#8e0152\"],[0.1,\"#c51b7d\"],[0.2,\"#de77ae\"],[0.3,\"#f1b6da\"],[0.4,\"#fde0ef\"],[0.5,\"#f7f7f7\"],[0.6,\"#e6f5d0\"],[0.7,\"#b8e186\"],[0.8,\"#7fbc41\"],[0.9,\"#4d9221\"],[1,\"#276419\"]]},\"xaxis\":{\"gridcolor\":\"white\",\"linecolor\":\"white\",\"ticks\":\"\",\"title\":{\"standoff\":15},\"zerolinecolor\":\"white\",\"automargin\":true,\"zerolinewidth\":2},\"yaxis\":{\"gridcolor\":\"white\",\"linecolor\":\"white\",\"ticks\":\"\",\"title\":{\"standoff\":15},\"zerolinecolor\":\"white\",\"automargin\":true,\"zerolinewidth\":2},\"scene\":{\"xaxis\":{\"backgroundcolor\":\"#E5ECF6\",\"gridcolor\":\"white\",\"linecolor\":\"white\",\"showbackground\":true,\"ticks\":\"\",\"zerolinecolor\":\"white\",\"gridwidth\":2},\"yaxis\":{\"backgroundcolor\":\"#E5ECF6\",\"gridcolor\":\"white\",\"linecolor\":\"white\",\"showbackground\":true,\"ticks\":\"\",\"zerolinecolor\":\"white\",\"gridwidth\":2},\"zaxis\":{\"backgroundcolor\":\"#E5ECF6\",\"gridcolor\":\"white\",\"linecolor\":\"white\",\"showbackground\":true,\"ticks\":\"\",\"zerolinecolor\":\"white\",\"gridwidth\":2}},\"shapedefaults\":{\"line\":{\"color\":\"#2a3f5f\"}},\"annotationdefaults\":{\"arrowcolor\":\"#2a3f5f\",\"arrowhead\":0,\"arrowwidth\":1},\"geo\":{\"bgcolor\":\"white\",\"landcolor\":\"#E5ECF6\",\"subunitcolor\":\"white\",\"showland\":true,\"showlakes\":true,\"lakecolor\":\"white\"},\"title\":{\"x\":0.05},\"mapbox\":{\"style\":\"light\"}}}},                        {\"responsive\": true}                    ).then(function(){\n",
       "                            \n",
       "var gd = document.getElementById('1dfffbad-6306-48b7-98c7-b2f593ca379d');\n",
       "var x = new MutationObserver(function (mutations, observer) {{\n",
       "        var display = window.getComputedStyle(gd).display;\n",
       "        if (!display || display === 'none') {{\n",
       "            console.log([gd, 'removed!']);\n",
       "            Plotly.purge(gd);\n",
       "            observer.disconnect();\n",
       "        }}\n",
       "}});\n",
       "\n",
       "// Listen for the removal of the full notebook cells\n",
       "var notebookContainer = gd.closest('#notebook-container');\n",
       "if (notebookContainer) {{\n",
       "    x.observe(notebookContainer, {childList: true});\n",
       "}}\n",
       "\n",
       "// Listen for the clearing of the current output cell\n",
       "var outputEl = gd.closest('.output');\n",
       "if (outputEl) {{\n",
       "    x.observe(outputEl, {childList: true});\n",
       "}}\n",
       "\n",
       "                        })                };                });            </script>        </div>"
      ]
     },
     "metadata": {},
     "output_type": "display_data"
    }
   ],
   "source": [
    "# Inserte su código acá\n",
    "from optuna.visualization import plot_optimization_history\n",
    "from optuna.visualization import plot_parallel_coordinate\n",
    "from optuna.visualization import plot_param_importances\n",
    "\n",
    "# Gráfico de historial de optimización con Optuna\n",
    "plot_optimization_history(study)"
   ]
  },
  {
   "cell_type": "code",
   "execution_count": 43,
   "metadata": {},
   "outputs": [
    {
     "data": {
      "application/vnd.plotly.v1+json": {
       "config": {
        "plotlyServerURL": "https://plot.ly"
       },
       "data": [
        {
         "mode": "markers",
         "name": "Objective Value",
         "type": "scatter",
         "x": [
          0,
          1,
          2
         ],
         "y": [
          7412.625504317296,
          6955.445573167571,
          7318.605740544624
         ]
        },
        {
         "mode": "lines",
         "name": "Best Value",
         "type": "scatter",
         "x": [
          0,
          1,
          2,
          3
         ],
         "y": [
          7412.625504317296,
          6955.445573167571,
          6955.445573167571,
          6955.445573167571
         ]
        },
        {
         "marker": {
          "color": "#cccccc"
         },
         "mode": "markers",
         "name": "Infeasible Trial",
         "showlegend": false,
         "type": "scatter",
         "x": [],
         "y": []
        }
       ],
       "layout": {
        "template": {
         "data": {
          "bar": [
           {
            "error_x": {
             "color": "#2a3f5f"
            },
            "error_y": {
             "color": "#2a3f5f"
            },
            "marker": {
             "line": {
              "color": "#E5ECF6",
              "width": 0.5
             },
             "pattern": {
              "fillmode": "overlay",
              "size": 10,
              "solidity": 0.2
             }
            },
            "type": "bar"
           }
          ],
          "barpolar": [
           {
            "marker": {
             "line": {
              "color": "#E5ECF6",
              "width": 0.5
             },
             "pattern": {
              "fillmode": "overlay",
              "size": 10,
              "solidity": 0.2
             }
            },
            "type": "barpolar"
           }
          ],
          "carpet": [
           {
            "aaxis": {
             "endlinecolor": "#2a3f5f",
             "gridcolor": "white",
             "linecolor": "white",
             "minorgridcolor": "white",
             "startlinecolor": "#2a3f5f"
            },
            "baxis": {
             "endlinecolor": "#2a3f5f",
             "gridcolor": "white",
             "linecolor": "white",
             "minorgridcolor": "white",
             "startlinecolor": "#2a3f5f"
            },
            "type": "carpet"
           }
          ],
          "choropleth": [
           {
            "colorbar": {
             "outlinewidth": 0,
             "ticks": ""
            },
            "type": "choropleth"
           }
          ],
          "contour": [
           {
            "colorbar": {
             "outlinewidth": 0,
             "ticks": ""
            },
            "colorscale": [
             [
              0,
              "#0d0887"
             ],
             [
              0.1111111111111111,
              "#46039f"
             ],
             [
              0.2222222222222222,
              "#7201a8"
             ],
             [
              0.3333333333333333,
              "#9c179e"
             ],
             [
              0.4444444444444444,
              "#bd3786"
             ],
             [
              0.5555555555555556,
              "#d8576b"
             ],
             [
              0.6666666666666666,
              "#ed7953"
             ],
             [
              0.7777777777777778,
              "#fb9f3a"
             ],
             [
              0.8888888888888888,
              "#fdca26"
             ],
             [
              1,
              "#f0f921"
             ]
            ],
            "type": "contour"
           }
          ],
          "contourcarpet": [
           {
            "colorbar": {
             "outlinewidth": 0,
             "ticks": ""
            },
            "type": "contourcarpet"
           }
          ],
          "heatmap": [
           {
            "colorbar": {
             "outlinewidth": 0,
             "ticks": ""
            },
            "colorscale": [
             [
              0,
              "#0d0887"
             ],
             [
              0.1111111111111111,
              "#46039f"
             ],
             [
              0.2222222222222222,
              "#7201a8"
             ],
             [
              0.3333333333333333,
              "#9c179e"
             ],
             [
              0.4444444444444444,
              "#bd3786"
             ],
             [
              0.5555555555555556,
              "#d8576b"
             ],
             [
              0.6666666666666666,
              "#ed7953"
             ],
             [
              0.7777777777777778,
              "#fb9f3a"
             ],
             [
              0.8888888888888888,
              "#fdca26"
             ],
             [
              1,
              "#f0f921"
             ]
            ],
            "type": "heatmap"
           }
          ],
          "heatmapgl": [
           {
            "colorbar": {
             "outlinewidth": 0,
             "ticks": ""
            },
            "colorscale": [
             [
              0,
              "#0d0887"
             ],
             [
              0.1111111111111111,
              "#46039f"
             ],
             [
              0.2222222222222222,
              "#7201a8"
             ],
             [
              0.3333333333333333,
              "#9c179e"
             ],
             [
              0.4444444444444444,
              "#bd3786"
             ],
             [
              0.5555555555555556,
              "#d8576b"
             ],
             [
              0.6666666666666666,
              "#ed7953"
             ],
             [
              0.7777777777777778,
              "#fb9f3a"
             ],
             [
              0.8888888888888888,
              "#fdca26"
             ],
             [
              1,
              "#f0f921"
             ]
            ],
            "type": "heatmapgl"
           }
          ],
          "histogram": [
           {
            "marker": {
             "pattern": {
              "fillmode": "overlay",
              "size": 10,
              "solidity": 0.2
             }
            },
            "type": "histogram"
           }
          ],
          "histogram2d": [
           {
            "colorbar": {
             "outlinewidth": 0,
             "ticks": ""
            },
            "colorscale": [
             [
              0,
              "#0d0887"
             ],
             [
              0.1111111111111111,
              "#46039f"
             ],
             [
              0.2222222222222222,
              "#7201a8"
             ],
             [
              0.3333333333333333,
              "#9c179e"
             ],
             [
              0.4444444444444444,
              "#bd3786"
             ],
             [
              0.5555555555555556,
              "#d8576b"
             ],
             [
              0.6666666666666666,
              "#ed7953"
             ],
             [
              0.7777777777777778,
              "#fb9f3a"
             ],
             [
              0.8888888888888888,
              "#fdca26"
             ],
             [
              1,
              "#f0f921"
             ]
            ],
            "type": "histogram2d"
           }
          ],
          "histogram2dcontour": [
           {
            "colorbar": {
             "outlinewidth": 0,
             "ticks": ""
            },
            "colorscale": [
             [
              0,
              "#0d0887"
             ],
             [
              0.1111111111111111,
              "#46039f"
             ],
             [
              0.2222222222222222,
              "#7201a8"
             ],
             [
              0.3333333333333333,
              "#9c179e"
             ],
             [
              0.4444444444444444,
              "#bd3786"
             ],
             [
              0.5555555555555556,
              "#d8576b"
             ],
             [
              0.6666666666666666,
              "#ed7953"
             ],
             [
              0.7777777777777778,
              "#fb9f3a"
             ],
             [
              0.8888888888888888,
              "#fdca26"
             ],
             [
              1,
              "#f0f921"
             ]
            ],
            "type": "histogram2dcontour"
           }
          ],
          "mesh3d": [
           {
            "colorbar": {
             "outlinewidth": 0,
             "ticks": ""
            },
            "type": "mesh3d"
           }
          ],
          "parcoords": [
           {
            "line": {
             "colorbar": {
              "outlinewidth": 0,
              "ticks": ""
             }
            },
            "type": "parcoords"
           }
          ],
          "pie": [
           {
            "automargin": true,
            "type": "pie"
           }
          ],
          "scatter": [
           {
            "fillpattern": {
             "fillmode": "overlay",
             "size": 10,
             "solidity": 0.2
            },
            "type": "scatter"
           }
          ],
          "scatter3d": [
           {
            "line": {
             "colorbar": {
              "outlinewidth": 0,
              "ticks": ""
             }
            },
            "marker": {
             "colorbar": {
              "outlinewidth": 0,
              "ticks": ""
             }
            },
            "type": "scatter3d"
           }
          ],
          "scattercarpet": [
           {
            "marker": {
             "colorbar": {
              "outlinewidth": 0,
              "ticks": ""
             }
            },
            "type": "scattercarpet"
           }
          ],
          "scattergeo": [
           {
            "marker": {
             "colorbar": {
              "outlinewidth": 0,
              "ticks": ""
             }
            },
            "type": "scattergeo"
           }
          ],
          "scattergl": [
           {
            "marker": {
             "colorbar": {
              "outlinewidth": 0,
              "ticks": ""
             }
            },
            "type": "scattergl"
           }
          ],
          "scattermapbox": [
           {
            "marker": {
             "colorbar": {
              "outlinewidth": 0,
              "ticks": ""
             }
            },
            "type": "scattermapbox"
           }
          ],
          "scatterpolar": [
           {
            "marker": {
             "colorbar": {
              "outlinewidth": 0,
              "ticks": ""
             }
            },
            "type": "scatterpolar"
           }
          ],
          "scatterpolargl": [
           {
            "marker": {
             "colorbar": {
              "outlinewidth": 0,
              "ticks": ""
             }
            },
            "type": "scatterpolargl"
           }
          ],
          "scatterternary": [
           {
            "marker": {
             "colorbar": {
              "outlinewidth": 0,
              "ticks": ""
             }
            },
            "type": "scatterternary"
           }
          ],
          "surface": [
           {
            "colorbar": {
             "outlinewidth": 0,
             "ticks": ""
            },
            "colorscale": [
             [
              0,
              "#0d0887"
             ],
             [
              0.1111111111111111,
              "#46039f"
             ],
             [
              0.2222222222222222,
              "#7201a8"
             ],
             [
              0.3333333333333333,
              "#9c179e"
             ],
             [
              0.4444444444444444,
              "#bd3786"
             ],
             [
              0.5555555555555556,
              "#d8576b"
             ],
             [
              0.6666666666666666,
              "#ed7953"
             ],
             [
              0.7777777777777778,
              "#fb9f3a"
             ],
             [
              0.8888888888888888,
              "#fdca26"
             ],
             [
              1,
              "#f0f921"
             ]
            ],
            "type": "surface"
           }
          ],
          "table": [
           {
            "cells": {
             "fill": {
              "color": "#EBF0F8"
             },
             "line": {
              "color": "white"
             }
            },
            "header": {
             "fill": {
              "color": "#C8D4E3"
             },
             "line": {
              "color": "white"
             }
            },
            "type": "table"
           }
          ]
         },
         "layout": {
          "annotationdefaults": {
           "arrowcolor": "#2a3f5f",
           "arrowhead": 0,
           "arrowwidth": 1
          },
          "autotypenumbers": "strict",
          "coloraxis": {
           "colorbar": {
            "outlinewidth": 0,
            "ticks": ""
           }
          },
          "colorscale": {
           "diverging": [
            [
             0,
             "#8e0152"
            ],
            [
             0.1,
             "#c51b7d"
            ],
            [
             0.2,
             "#de77ae"
            ],
            [
             0.3,
             "#f1b6da"
            ],
            [
             0.4,
             "#fde0ef"
            ],
            [
             0.5,
             "#f7f7f7"
            ],
            [
             0.6,
             "#e6f5d0"
            ],
            [
             0.7,
             "#b8e186"
            ],
            [
             0.8,
             "#7fbc41"
            ],
            [
             0.9,
             "#4d9221"
            ],
            [
             1,
             "#276419"
            ]
           ],
           "sequential": [
            [
             0,
             "#0d0887"
            ],
            [
             0.1111111111111111,
             "#46039f"
            ],
            [
             0.2222222222222222,
             "#7201a8"
            ],
            [
             0.3333333333333333,
             "#9c179e"
            ],
            [
             0.4444444444444444,
             "#bd3786"
            ],
            [
             0.5555555555555556,
             "#d8576b"
            ],
            [
             0.6666666666666666,
             "#ed7953"
            ],
            [
             0.7777777777777778,
             "#fb9f3a"
            ],
            [
             0.8888888888888888,
             "#fdca26"
            ],
            [
             1,
             "#f0f921"
            ]
           ],
           "sequentialminus": [
            [
             0,
             "#0d0887"
            ],
            [
             0.1111111111111111,
             "#46039f"
            ],
            [
             0.2222222222222222,
             "#7201a8"
            ],
            [
             0.3333333333333333,
             "#9c179e"
            ],
            [
             0.4444444444444444,
             "#bd3786"
            ],
            [
             0.5555555555555556,
             "#d8576b"
            ],
            [
             0.6666666666666666,
             "#ed7953"
            ],
            [
             0.7777777777777778,
             "#fb9f3a"
            ],
            [
             0.8888888888888888,
             "#fdca26"
            ],
            [
             1,
             "#f0f921"
            ]
           ]
          },
          "colorway": [
           "#636efa",
           "#EF553B",
           "#00cc96",
           "#ab63fa",
           "#FFA15A",
           "#19d3f3",
           "#FF6692",
           "#B6E880",
           "#FF97FF",
           "#FECB52"
          ],
          "font": {
           "color": "#2a3f5f"
          },
          "geo": {
           "bgcolor": "white",
           "lakecolor": "white",
           "landcolor": "#E5ECF6",
           "showlakes": true,
           "showland": true,
           "subunitcolor": "white"
          },
          "hoverlabel": {
           "align": "left"
          },
          "hovermode": "closest",
          "mapbox": {
           "style": "light"
          },
          "paper_bgcolor": "white",
          "plot_bgcolor": "#E5ECF6",
          "polar": {
           "angularaxis": {
            "gridcolor": "white",
            "linecolor": "white",
            "ticks": ""
           },
           "bgcolor": "#E5ECF6",
           "radialaxis": {
            "gridcolor": "white",
            "linecolor": "white",
            "ticks": ""
           }
          },
          "scene": {
           "xaxis": {
            "backgroundcolor": "#E5ECF6",
            "gridcolor": "white",
            "gridwidth": 2,
            "linecolor": "white",
            "showbackground": true,
            "ticks": "",
            "zerolinecolor": "white"
           },
           "yaxis": {
            "backgroundcolor": "#E5ECF6",
            "gridcolor": "white",
            "gridwidth": 2,
            "linecolor": "white",
            "showbackground": true,
            "ticks": "",
            "zerolinecolor": "white"
           },
           "zaxis": {
            "backgroundcolor": "#E5ECF6",
            "gridcolor": "white",
            "gridwidth": 2,
            "linecolor": "white",
            "showbackground": true,
            "ticks": "",
            "zerolinecolor": "white"
           }
          },
          "shapedefaults": {
           "line": {
            "color": "#2a3f5f"
           }
          },
          "ternary": {
           "aaxis": {
            "gridcolor": "white",
            "linecolor": "white",
            "ticks": ""
           },
           "baxis": {
            "gridcolor": "white",
            "linecolor": "white",
            "ticks": ""
           },
           "bgcolor": "#E5ECF6",
           "caxis": {
            "gridcolor": "white",
            "linecolor": "white",
            "ticks": ""
           }
          },
          "title": {
           "x": 0.05
          },
          "xaxis": {
           "automargin": true,
           "gridcolor": "white",
           "linecolor": "white",
           "ticks": "",
           "title": {
            "standoff": 15
           },
           "zerolinecolor": "white",
           "zerolinewidth": 2
          },
          "yaxis": {
           "automargin": true,
           "gridcolor": "white",
           "linecolor": "white",
           "ticks": "",
           "title": {
            "standoff": 15
           },
           "zerolinecolor": "white",
           "zerolinewidth": 2
          }
         }
        },
        "title": {
         "text": "Optimization History Plot"
        },
        "xaxis": {
         "title": {
          "text": "Trial"
         }
        },
        "yaxis": {
         "title": {
          "text": "Objective Value"
         }
        }
       }
      },
      "text/html": [
       "<div>                            <div id=\"494ee143-5099-4961-8c66-8412ce033fc3\" class=\"plotly-graph-div\" style=\"height:525px; width:100%;\"></div>            <script type=\"text/javascript\">                require([\"plotly\"], function(Plotly) {                    window.PLOTLYENV=window.PLOTLYENV || {};                                    if (document.getElementById(\"494ee143-5099-4961-8c66-8412ce033fc3\")) {                    Plotly.newPlot(                        \"494ee143-5099-4961-8c66-8412ce033fc3\",                        [{\"mode\":\"markers\",\"name\":\"Objective Value\",\"x\":[0,1,2],\"y\":[7412.625504317296,6955.445573167571,7318.605740544624],\"type\":\"scatter\"},{\"mode\":\"lines\",\"name\":\"Best Value\",\"x\":[0,1,2,3],\"y\":[7412.625504317296,6955.445573167571,6955.445573167571,6955.445573167571],\"type\":\"scatter\"},{\"marker\":{\"color\":\"#cccccc\"},\"mode\":\"markers\",\"name\":\"Infeasible Trial\",\"showlegend\":false,\"x\":[],\"y\":[],\"type\":\"scatter\"}],                        {\"title\":{\"text\":\"Optimization History Plot\"},\"xaxis\":{\"title\":{\"text\":\"Trial\"}},\"yaxis\":{\"title\":{\"text\":\"Objective Value\"}},\"template\":{\"data\":{\"histogram2dcontour\":[{\"type\":\"histogram2dcontour\",\"colorbar\":{\"outlinewidth\":0,\"ticks\":\"\"},\"colorscale\":[[0.0,\"#0d0887\"],[0.1111111111111111,\"#46039f\"],[0.2222222222222222,\"#7201a8\"],[0.3333333333333333,\"#9c179e\"],[0.4444444444444444,\"#bd3786\"],[0.5555555555555556,\"#d8576b\"],[0.6666666666666666,\"#ed7953\"],[0.7777777777777778,\"#fb9f3a\"],[0.8888888888888888,\"#fdca26\"],[1.0,\"#f0f921\"]]}],\"choropleth\":[{\"type\":\"choropleth\",\"colorbar\":{\"outlinewidth\":0,\"ticks\":\"\"}}],\"histogram2d\":[{\"type\":\"histogram2d\",\"colorbar\":{\"outlinewidth\":0,\"ticks\":\"\"},\"colorscale\":[[0.0,\"#0d0887\"],[0.1111111111111111,\"#46039f\"],[0.2222222222222222,\"#7201a8\"],[0.3333333333333333,\"#9c179e\"],[0.4444444444444444,\"#bd3786\"],[0.5555555555555556,\"#d8576b\"],[0.6666666666666666,\"#ed7953\"],[0.7777777777777778,\"#fb9f3a\"],[0.8888888888888888,\"#fdca26\"],[1.0,\"#f0f921\"]]}],\"heatmap\":[{\"type\":\"heatmap\",\"colorbar\":{\"outlinewidth\":0,\"ticks\":\"\"},\"colorscale\":[[0.0,\"#0d0887\"],[0.1111111111111111,\"#46039f\"],[0.2222222222222222,\"#7201a8\"],[0.3333333333333333,\"#9c179e\"],[0.4444444444444444,\"#bd3786\"],[0.5555555555555556,\"#d8576b\"],[0.6666666666666666,\"#ed7953\"],[0.7777777777777778,\"#fb9f3a\"],[0.8888888888888888,\"#fdca26\"],[1.0,\"#f0f921\"]]}],\"heatmapgl\":[{\"type\":\"heatmapgl\",\"colorbar\":{\"outlinewidth\":0,\"ticks\":\"\"},\"colorscale\":[[0.0,\"#0d0887\"],[0.1111111111111111,\"#46039f\"],[0.2222222222222222,\"#7201a8\"],[0.3333333333333333,\"#9c179e\"],[0.4444444444444444,\"#bd3786\"],[0.5555555555555556,\"#d8576b\"],[0.6666666666666666,\"#ed7953\"],[0.7777777777777778,\"#fb9f3a\"],[0.8888888888888888,\"#fdca26\"],[1.0,\"#f0f921\"]]}],\"contourcarpet\":[{\"type\":\"contourcarpet\",\"colorbar\":{\"outlinewidth\":0,\"ticks\":\"\"}}],\"contour\":[{\"type\":\"contour\",\"colorbar\":{\"outlinewidth\":0,\"ticks\":\"\"},\"colorscale\":[[0.0,\"#0d0887\"],[0.1111111111111111,\"#46039f\"],[0.2222222222222222,\"#7201a8\"],[0.3333333333333333,\"#9c179e\"],[0.4444444444444444,\"#bd3786\"],[0.5555555555555556,\"#d8576b\"],[0.6666666666666666,\"#ed7953\"],[0.7777777777777778,\"#fb9f3a\"],[0.8888888888888888,\"#fdca26\"],[1.0,\"#f0f921\"]]}],\"surface\":[{\"type\":\"surface\",\"colorbar\":{\"outlinewidth\":0,\"ticks\":\"\"},\"colorscale\":[[0.0,\"#0d0887\"],[0.1111111111111111,\"#46039f\"],[0.2222222222222222,\"#7201a8\"],[0.3333333333333333,\"#9c179e\"],[0.4444444444444444,\"#bd3786\"],[0.5555555555555556,\"#d8576b\"],[0.6666666666666666,\"#ed7953\"],[0.7777777777777778,\"#fb9f3a\"],[0.8888888888888888,\"#fdca26\"],[1.0,\"#f0f921\"]]}],\"mesh3d\":[{\"type\":\"mesh3d\",\"colorbar\":{\"outlinewidth\":0,\"ticks\":\"\"}}],\"scatter\":[{\"fillpattern\":{\"fillmode\":\"overlay\",\"size\":10,\"solidity\":0.2},\"type\":\"scatter\"}],\"parcoords\":[{\"type\":\"parcoords\",\"line\":{\"colorbar\":{\"outlinewidth\":0,\"ticks\":\"\"}}}],\"scatterpolargl\":[{\"type\":\"scatterpolargl\",\"marker\":{\"colorbar\":{\"outlinewidth\":0,\"ticks\":\"\"}}}],\"bar\":[{\"error_x\":{\"color\":\"#2a3f5f\"},\"error_y\":{\"color\":\"#2a3f5f\"},\"marker\":{\"line\":{\"color\":\"#E5ECF6\",\"width\":0.5},\"pattern\":{\"fillmode\":\"overlay\",\"size\":10,\"solidity\":0.2}},\"type\":\"bar\"}],\"scattergeo\":[{\"type\":\"scattergeo\",\"marker\":{\"colorbar\":{\"outlinewidth\":0,\"ticks\":\"\"}}}],\"scatterpolar\":[{\"type\":\"scatterpolar\",\"marker\":{\"colorbar\":{\"outlinewidth\":0,\"ticks\":\"\"}}}],\"histogram\":[{\"marker\":{\"pattern\":{\"fillmode\":\"overlay\",\"size\":10,\"solidity\":0.2}},\"type\":\"histogram\"}],\"scattergl\":[{\"type\":\"scattergl\",\"marker\":{\"colorbar\":{\"outlinewidth\":0,\"ticks\":\"\"}}}],\"scatter3d\":[{\"type\":\"scatter3d\",\"line\":{\"colorbar\":{\"outlinewidth\":0,\"ticks\":\"\"}},\"marker\":{\"colorbar\":{\"outlinewidth\":0,\"ticks\":\"\"}}}],\"scattermapbox\":[{\"type\":\"scattermapbox\",\"marker\":{\"colorbar\":{\"outlinewidth\":0,\"ticks\":\"\"}}}],\"scatterternary\":[{\"type\":\"scatterternary\",\"marker\":{\"colorbar\":{\"outlinewidth\":0,\"ticks\":\"\"}}}],\"scattercarpet\":[{\"type\":\"scattercarpet\",\"marker\":{\"colorbar\":{\"outlinewidth\":0,\"ticks\":\"\"}}}],\"carpet\":[{\"aaxis\":{\"endlinecolor\":\"#2a3f5f\",\"gridcolor\":\"white\",\"linecolor\":\"white\",\"minorgridcolor\":\"white\",\"startlinecolor\":\"#2a3f5f\"},\"baxis\":{\"endlinecolor\":\"#2a3f5f\",\"gridcolor\":\"white\",\"linecolor\":\"white\",\"minorgridcolor\":\"white\",\"startlinecolor\":\"#2a3f5f\"},\"type\":\"carpet\"}],\"table\":[{\"cells\":{\"fill\":{\"color\":\"#EBF0F8\"},\"line\":{\"color\":\"white\"}},\"header\":{\"fill\":{\"color\":\"#C8D4E3\"},\"line\":{\"color\":\"white\"}},\"type\":\"table\"}],\"barpolar\":[{\"marker\":{\"line\":{\"color\":\"#E5ECF6\",\"width\":0.5},\"pattern\":{\"fillmode\":\"overlay\",\"size\":10,\"solidity\":0.2}},\"type\":\"barpolar\"}],\"pie\":[{\"automargin\":true,\"type\":\"pie\"}]},\"layout\":{\"autotypenumbers\":\"strict\",\"colorway\":[\"#636efa\",\"#EF553B\",\"#00cc96\",\"#ab63fa\",\"#FFA15A\",\"#19d3f3\",\"#FF6692\",\"#B6E880\",\"#FF97FF\",\"#FECB52\"],\"font\":{\"color\":\"#2a3f5f\"},\"hovermode\":\"closest\",\"hoverlabel\":{\"align\":\"left\"},\"paper_bgcolor\":\"white\",\"plot_bgcolor\":\"#E5ECF6\",\"polar\":{\"bgcolor\":\"#E5ECF6\",\"angularaxis\":{\"gridcolor\":\"white\",\"linecolor\":\"white\",\"ticks\":\"\"},\"radialaxis\":{\"gridcolor\":\"white\",\"linecolor\":\"white\",\"ticks\":\"\"}},\"ternary\":{\"bgcolor\":\"#E5ECF6\",\"aaxis\":{\"gridcolor\":\"white\",\"linecolor\":\"white\",\"ticks\":\"\"},\"baxis\":{\"gridcolor\":\"white\",\"linecolor\":\"white\",\"ticks\":\"\"},\"caxis\":{\"gridcolor\":\"white\",\"linecolor\":\"white\",\"ticks\":\"\"}},\"coloraxis\":{\"colorbar\":{\"outlinewidth\":0,\"ticks\":\"\"}},\"colorscale\":{\"sequential\":[[0.0,\"#0d0887\"],[0.1111111111111111,\"#46039f\"],[0.2222222222222222,\"#7201a8\"],[0.3333333333333333,\"#9c179e\"],[0.4444444444444444,\"#bd3786\"],[0.5555555555555556,\"#d8576b\"],[0.6666666666666666,\"#ed7953\"],[0.7777777777777778,\"#fb9f3a\"],[0.8888888888888888,\"#fdca26\"],[1.0,\"#f0f921\"]],\"sequentialminus\":[[0.0,\"#0d0887\"],[0.1111111111111111,\"#46039f\"],[0.2222222222222222,\"#7201a8\"],[0.3333333333333333,\"#9c179e\"],[0.4444444444444444,\"#bd3786\"],[0.5555555555555556,\"#d8576b\"],[0.6666666666666666,\"#ed7953\"],[0.7777777777777778,\"#fb9f3a\"],[0.8888888888888888,\"#fdca26\"],[1.0,\"#f0f921\"]],\"diverging\":[[0,\"#8e0152\"],[0.1,\"#c51b7d\"],[0.2,\"#de77ae\"],[0.3,\"#f1b6da\"],[0.4,\"#fde0ef\"],[0.5,\"#f7f7f7\"],[0.6,\"#e6f5d0\"],[0.7,\"#b8e186\"],[0.8,\"#7fbc41\"],[0.9,\"#4d9221\"],[1,\"#276419\"]]},\"xaxis\":{\"gridcolor\":\"white\",\"linecolor\":\"white\",\"ticks\":\"\",\"title\":{\"standoff\":15},\"zerolinecolor\":\"white\",\"automargin\":true,\"zerolinewidth\":2},\"yaxis\":{\"gridcolor\":\"white\",\"linecolor\":\"white\",\"ticks\":\"\",\"title\":{\"standoff\":15},\"zerolinecolor\":\"white\",\"automargin\":true,\"zerolinewidth\":2},\"scene\":{\"xaxis\":{\"backgroundcolor\":\"#E5ECF6\",\"gridcolor\":\"white\",\"linecolor\":\"white\",\"showbackground\":true,\"ticks\":\"\",\"zerolinecolor\":\"white\",\"gridwidth\":2},\"yaxis\":{\"backgroundcolor\":\"#E5ECF6\",\"gridcolor\":\"white\",\"linecolor\":\"white\",\"showbackground\":true,\"ticks\":\"\",\"zerolinecolor\":\"white\",\"gridwidth\":2},\"zaxis\":{\"backgroundcolor\":\"#E5ECF6\",\"gridcolor\":\"white\",\"linecolor\":\"white\",\"showbackground\":true,\"ticks\":\"\",\"zerolinecolor\":\"white\",\"gridwidth\":2}},\"shapedefaults\":{\"line\":{\"color\":\"#2a3f5f\"}},\"annotationdefaults\":{\"arrowcolor\":\"#2a3f5f\",\"arrowhead\":0,\"arrowwidth\":1},\"geo\":{\"bgcolor\":\"white\",\"landcolor\":\"#E5ECF6\",\"subunitcolor\":\"white\",\"showland\":true,\"showlakes\":true,\"lakecolor\":\"white\"},\"title\":{\"x\":0.05},\"mapbox\":{\"style\":\"light\"}}}},                        {\"responsive\": true}                    ).then(function(){\n",
       "                            \n",
       "var gd = document.getElementById('494ee143-5099-4961-8c66-8412ce033fc3');\n",
       "var x = new MutationObserver(function (mutations, observer) {{\n",
       "        var display = window.getComputedStyle(gd).display;\n",
       "        if (!display || display === 'none') {{\n",
       "            console.log([gd, 'removed!']);\n",
       "            Plotly.purge(gd);\n",
       "            observer.disconnect();\n",
       "        }}\n",
       "}});\n",
       "\n",
       "// Listen for the removal of the full notebook cells\n",
       "var notebookContainer = gd.closest('#notebook-container');\n",
       "if (notebookContainer) {{\n",
       "    x.observe(notebookContainer, {childList: true});\n",
       "}}\n",
       "\n",
       "// Listen for the clearing of the current output cell\n",
       "var outputEl = gd.closest('.output');\n",
       "if (outputEl) {{\n",
       "    x.observe(outputEl, {childList: true});\n",
       "}}\n",
       "\n",
       "                        })                };                });            </script>        </div>"
      ]
     },
     "metadata": {},
     "output_type": "display_data"
    }
   ],
   "source": [
    "# Gráfico de historial de optimización con Optuna y Prunning\n",
    "plot_optimization_history(study_pr)"
   ]
  },
  {
   "cell_type": "code",
   "execution_count": 44,
   "metadata": {},
   "outputs": [
    {
     "data": {
      "application/vnd.plotly.v1+json": {
       "config": {
        "plotlyServerURL": "https://plot.ly"
       },
       "data": [
        {
         "dimensions": [
          {
           "label": "Objective Value",
           "range": [
            6581.594174668872,
            9517.703502010723
           ],
           "values": [
            6916.665387805601,
            9221.389001923017,
            7221.751804055221,
            6621.410326428451,
            6901.705755484328,
            7165.6050725942005,
            7564.210910173268,
            6892.663920466446,
            6913.18398274685,
            8134.616638347227,
            8080.741002141631,
            6790.558098432525,
            6813.431291431908,
            6784.97080858655,
            6856.710274798621,
            7075.810352887928,
            6897.701196992685,
            6968.199473342691,
            6903.022388243484,
            7443.983343293136,
            6812.676901973285,
            6820.979483433128,
            6800.235181296479,
            7085.1509568774345,
            6836.755289113554,
            7201.144848370999,
            6837.1687075535665,
            6786.914891547236,
            6875.73686088378,
            6897.42027614072,
            7382.449373383305,
            6831.868513930579,
            6855.790400773527,
            6876.95207913887,
            7108.327094520385,
            6870.652565472887,
            6940.42409501063,
            6870.2414143743845,
            6963.1724012441355,
            7169.1730302498745,
            6796.5604806854,
            6623.8921944871345,
            6644.386026254608,
            6653.869296935544,
            6632.45749073182,
            6629.6370604926715,
            6638.255027464184,
            6635.314244247314,
            6676.894753750144,
            6637.6929343788615,
            6630.455067693389,
            6832.852444226876,
            6639.488469141737,
            6656.46788532165,
            6619.021635122018,
            6664.746299452181,
            6831.3383118166685,
            6622.932871759736,
            6790.978878358734,
            6834.124715605626,
            6628.0033326340745,
            6646.307164660088,
            7133.084282841823,
            6767.780241692673,
            6636.72649275138,
            6689.055924811887,
            6645.578286833163,
            6852.417892967408,
            6788.773225861005,
            6826.29753967776,
            6794.467948013592,
            6630.990170823984,
            6637.259077220436,
            6642.131667027205,
            6738.881751911889,
            6630.41218317354,
            7244.40728465226,
            7704.37101160617,
            6637.780612966011,
            6822.901889013541,
            6637.415361092493,
            6634.05885075628,
            6651.160612295524,
            6791.8468066668065,
            6620.128117620146,
            6636.536427474853,
            6929.689622239836,
            6637.34155142531,
            6694.006117997157,
            6850.478192055833,
            6686.047905234165,
            6643.317714987747,
            6626.724519172239,
            6643.525732536418,
            6627.318296417155,
            6635.388008874479,
            6646.05511043027,
            6803.757885071292,
            6805.939443020655,
            6678.398385873748,
            6623.507467684094,
            6653.060824496497,
            6624.998767944827,
            6886.52000762694,
            6606.7149511342395,
            6866.364269757718,
            6630.662906759227,
            6865.063179987685,
            6987.980098775501,
            6610.6394920860475,
            6626.675357440202,
            6645.01023819747,
            6634.712352272013,
            6792.554482304059,
            6636.8098807245415,
            6641.036011478536,
            6852.546030980333,
            6647.926377692746,
            6673.330032471357,
            6636.234290319857,
            6978.167325140004,
            6648.480641822713,
            6632.079018764138,
            6634.032115005616,
            6646.345621185712,
            6955.648706676493,
            6889.369708713194,
            6809.328238397757,
            6805.862699288785,
            6653.334373642868,
            6672.712419525228,
            6654.242101858512,
            6623.136398356338,
            6650.278983108479,
            6652.661033405376,
            6619.287172537387,
            6889.961545816375,
            6625.810194409245,
            6650.134334778977,
            6815.516698658306,
            6699.037252758527,
            6637.223650321244,
            6637.190831161376,
            6628.9961627622715,
            6817.579722959298,
            6844.737829745295,
            6797.577305770751,
            6637.047884289125,
            6643.030145435487,
            6637.728010898621,
            6720.967533714969,
            6643.325115991342,
            6662.10821893196,
            6872.579131302821,
            6636.32730912523,
            6638.966940043759,
            6919.709141299169,
            6678.036028087299,
            6647.016274132614,
            6852.535831850272,
            6967.750405482888,
            6624.576814155476,
            6651.998696375788,
            6629.014040724522,
            6631.303572462966,
            6620.616788449939,
            6788.153000737004,
            6628.141624062055,
            6651.5440050795,
            6838.042949686741,
            6643.601048446532,
            6621.292575294147,
            6636.78061007175,
            6646.5994169628975,
            7006.0773739239485,
            6633.1558998251085,
            6635.3849026677435,
            6630.904490371172,
            6736.221101571664,
            6874.262223647683,
            6821.260443229778,
            6634.768152395458,
            6896.339350968839,
            6630.344369146843,
            6831.210023465808,
            6642.322856258771,
            6645.451907201363,
            6640.660750483699,
            7029.610419961147,
            6690.699589542665,
            6648.325787807597,
            6693.548833218081,
            6633.578606449567,
            6600.058004548019,
            6821.556082983759,
            6626.754700852463,
            6625.1294131854265,
            6607.6907798214825,
            6617.8420908214575,
            6854.484830800075,
            6630.333664922228,
            6637.100582951195,
            6634.48449344993,
            6624.010498121022,
            7379.256133215037,
            6608.744577443632,
            6616.0825474306985,
            6637.414650464505,
            6594.982397084581,
            6675.712429343216,
            6613.01060817197,
            6581.594174668872,
            6620.039478700858,
            6640.428160240439,
            6649.023457688237,
            6611.126215916856,
            6632.621802117806,
            6618.553294532101,
            6783.5443798402675,
            6632.801768060024,
            6850.648237844574,
            6606.490008685608,
            6619.943147736005,
            6625.857726166139,
            6610.139865046852,
            6607.316654767811,
            6816.002048686746,
            6877.377183234084,
            6619.580301167179,
            6628.4137347326205,
            6794.259745252676,
            6607.240837097168,
            6617.035463041659,
            6615.865097864064,
            6810.827357642453,
            6649.701501902562,
            6611.724550467075,
            6613.04327684561,
            6766.816828218925,
            6636.158373078456,
            6622.096964286416,
            6880.6943363465825,
            6639.731504752233,
            6800.642558039033,
            6887.363302312651,
            6813.513247022041,
            6641.919757098998,
            6844.983762347347,
            6781.622530510214,
            6644.03743494356,
            6644.641286323282,
            6627.161078184603,
            6842.716338947695,
            6830.419205161905,
            6620.461884695467,
            6781.751993982146,
            6613.884016681292,
            6813.1556127371805,
            6641.199368474311,
            6826.295232900666,
            6803.91740691566,
            6858.450103918285,
            6890.28309598621,
            6648.43301040813,
            6644.436119263677,
            6628.1617786929055,
            6652.16250680407,
            6820.216292475887,
            6633.530131603374,
            6724.4680468991355,
            6798.061980899473,
            6667.075810613965,
            6607.5869989676385,
            6819.850297656839,
            6648.189275358062,
            6890.075505059782,
            6834.673845695107,
            6811.525839000221,
            6837.545511199705,
            6869.144031073389,
            6846.47707839434,
            6634.623558678512,
            6858.888995623141,
            6620.623350823533,
            6827.923639558276,
            6621.118856690844,
            6649.492655490742,
            6797.929065448669,
            6883.50753158283,
            6865.826527142972,
            6880.166387154014,
            6992.500887873345,
            6873.941076201983,
            6652.9910297956285,
            6825.0030767936805,
            6645.523991214047,
            6627.064841273003,
            6648.732247973895,
            6834.584053039551,
            6641.874773204487,
            6638.891373212472,
            6619.7702798511,
            6796.570069504807,
            6619.781248200035,
            6836.490705137278,
            6790.074080316374,
            6650.317003756362,
            6813.617263998487,
            6620.173180526447,
            6813.805810534603,
            6633.226936844016,
            6634.173363979637,
            6622.457602084162,
            7163.934914596599,
            7247.831882506849,
            6808.48682698104,
            6623.137060947776,
            6829.717236189037,
            6822.6980117920575,
            6639.351636901937,
            6645.1348757143,
            6630.694698303059,
            6667.1067508155475,
            6625.330849246109,
            6927.351228933871,
            6823.657284447719,
            6652.369513994887,
            6813.783971505254,
            6953.374001347028,
            6869.18831252029,
            7022.140796860805,
            6820.934955913963,
            6652.288128113938,
            6626.561056408103,
            6832.165065980149,
            6827.22426320912,
            6819.606802564524,
            6895.098349768099,
            9517.703502010723,
            6800.972401698217,
            6852.369373894249,
            6629.949316336706,
            6637.739512011449,
            6619.056993704379,
            7451.8173157229185,
            6809.179930229289,
            6889.6156017927315,
            6760.173789998482,
            6667.183678021061,
            6876.376444594151,
            6619.1591652673305,
            6629.943832192919,
            6855.349497449942,
            6628.154433713202,
            6639.219332927673,
            6833.027761536054,
            6623.136427523943,
            6840.4912295916765,
            6861.860926960492,
            6627.123799546474,
            6824.997102711859,
            6865.094082175247,
            6614.247839674554,
            6817.695080713676,
            6636.6228986642955,
            6632.106336138523,
            6792.620795237155,
            6900.516753856362,
            6968.445699083261,
            6640.978572961153,
            6644.6103612168545,
            6619.483133699555,
            6644.598195871144,
            6860.77455118706,
            6694.46800673743,
            6641.537940938096,
            6900.469361023992,
            6610.726945076807,
            6605.009948986146,
            6832.050161663393,
            6832.716506303475,
            6781.831384858241,
            6790.772989554316,
            6641.320526859396,
            6871.980297722702,
            6867.907708912049,
            6610.734842499843,
            6876.76142341266,
            6861.60800327117,
            6792.170024411608,
            6814.875170587535,
            6632.28294814368,
            6797.17628524003,
            6857.468277263897,
            6787.923408937838,
            6807.84372120057,
            6640.172771545901,
            6857.81500058008,
            6837.355895505194,
            6894.906324207623,
            6840.274192462338,
            6615.636295349284,
            6621.974225757589,
            6872.875434727196,
            6644.278954799949,
            6635.88109030225,
            6847.810784511208,
            6895.944530579104,
            6819.629169617518,
            6889.062927614268,
            6902.797113832776,
            6627.188512091343,
            6625.273955731226,
            6824.536451201656,
            6875.00772106999,
            6634.711181047455,
            7084.248044747769,
            7102.510203834513
           ]
          },
          {
           "label": "learning_rate",
           "range": [
            0.0024591864921208184,
            0.09973894942886619
           ],
           "values": [
            0.080212040364047,
            0.0110440944151389,
            0.05437852882083781,
            0.058202003883521966,
            0.05044333541406114,
            0.06847192994046869,
            0.08198919660700785,
            0.09817627042009662,
            0.03795556499415451,
            0.013170341938205286,
            0.03223388403546092,
            0.09899490350161202,
            0.09869703109584563,
            0.07006077409686576,
            0.06795103318234483,
            0.0589059961846752,
            0.04336120713442971,
            0.03109713318174278,
            0.06689445876563624,
            0.04929193147527727,
            0.0799510737778905,
            0.08909282923146655,
            0.08882667326942884,
            0.06181896803649112,
            0.07345650720179575,
            0.06054406818341479,
            0.07491050099815479,
            0.0905547200071758,
            0.08945188087367868,
            0.07780056095667845,
            0.08288255420719078,
            0.09492694126108922,
            0.09969873424655923,
            0.09202594667054012,
            0.0826580351499408,
            0.08635237302601409,
            0.07386598555547413,
            0.09175017899880589,
            0.09494265815685618,
            0.08442286354788187,
            0.06997323310068325,
            0.06528415349597264,
            0.0560669590750972,
            0.054612813589404736,
            0.05686581006059147,
            0.05560912692537487,
            0.05449885862951107,
            0.04982097901745327,
            0.04922243512635777,
            0.06368868479386802,
            0.06371029134975059,
            0.06451140704108435,
            0.058248904687548037,
            0.06535054729783157,
            0.05170464889034426,
            0.0592189373957389,
            0.05190815990870981,
            0.0613994510542177,
            0.062312243247251306,
            0.06856180229161055,
            0.043872032191680156,
            0.04323225478690134,
            0.06102642532123386,
            0.06681249987493891,
            0.052852008386010466,
            0.04788137006218084,
            0.0576023428886952,
            0.045970977270292014,
            0.05394713720783031,
            0.06294497719727325,
            0.052090634366849284,
            0.057495176239410875,
            0.060514179835771495,
            0.05692144626864919,
            0.06994495381185464,
            0.06617193255455574,
            0.06523840849379307,
            0.06727291936737083,
            0.07228396683351086,
            0.06120570083668369,
            0.06377427386175014,
            0.05920284119783999,
            0.056327444497379704,
            0.054553304867930044,
            0.05086921169582293,
            0.051532304710832935,
            0.04553275482747667,
            0.04096456819946858,
            0.049069218456166866,
            0.050691191049530106,
            0.05981985847030476,
            0.056399905367490843,
            0.061963989567856904,
            0.06583099934926152,
            0.06288924958722164,
            0.05400940577797826,
            0.06114862280211765,
            0.07148032411863829,
            0.06721381117736452,
            0.06307203031847729,
            0.0759335660046251,
            0.07392275692236942,
            0.07556214229000482,
            0.07962423398445517,
            0.07686184441785082,
            0.07769458898093518,
            0.07633545941138199,
            0.0714513746857262,
            0.075686791034501,
            0.06870274568092073,
            0.06904593444496761,
            0.06906990351829152,
            0.06850223083393014,
            0.0734102594158465,
            0.0707570531609097,
            0.08004676223331952,
            0.07253522415721354,
            0.06970572939860202,
            0.0652389166433726,
            0.07481044780642448,
            0.06779354967136207,
            0.059319592163518835,
            0.06298208241358094,
            0.07724867956660472,
            0.07509034208731685,
            0.06195265713979192,
            0.05838328719268048,
            0.07156682800501327,
            0.07948799933189278,
            0.0644127669095355,
            0.0527626895582988,
            0.05444660717398902,
            0.06049892811611996,
            0.06617297502748232,
            0.06128175550549561,
            0.058418007770408974,
            0.058666877248548105,
            0.05629674910216132,
            0.05751394487693181,
            0.06053555002918223,
            0.08186350557191763,
            0.05548301300484863,
            0.06286709029642759,
            0.06901428741446453,
            0.06496255888233199,
            0.05999068678639219,
            0.056815357105340324,
            0.05077207677232361,
            0.062468495045009266,
            0.06770475684249351,
            0.053273439616021295,
            0.04774719981270788,
            0.05878435274895774,
            0.05502664169507584,
            0.06371572291474677,
            0.05215067852919278,
            0.07354562426958415,
            0.07800710765557628,
            0.0666309480222122,
            0.056229666019352656,
            0.061079976956268246,
            0.0705554192521465,
            0.06972795509318293,
            0.0708543039446628,
            0.07291585322418874,
            0.07569875598730637,
            0.07615797722885781,
            0.07784722287600984,
            0.0748284601577477,
            0.06497950014504722,
            0.06831807075950114,
            0.03567062378284364,
            0.03341299113802179,
            0.02031435775395803,
            0.07281554032597871,
            0.058107800915911126,
            0.0709602708764687,
            0.04988129359728312,
            0.06182872857231874,
            0.07598389340923806,
            0.06600097709403642,
            0.043860774893157047,
            0.046204075598533165,
            0.036909475417565264,
            0.051464169316513084,
            0.06005254349972692,
            0.08118805433042696,
            0.04024465729027141,
            0.0853236136455636,
            0.06368906692547104,
            0.07841025379262631,
            0.07938746784240214,
            0.07718642063774793,
            0.08360922529997762,
            0.08319302590110805,
            0.08684544150768907,
            0.08733536316234261,
            0.08708095662979233,
            0.08747223939784697,
            0.08606374515475686,
            0.08810570990643007,
            0.08352611181967917,
            0.09250452631096429,
            0.08086407719164432,
            0.0822010310846523,
            0.08515505583338202,
            0.0838507346007455,
            0.08737815919343131,
            0.08440981765521509,
            0.0850741582635791,
            0.08440716655008199,
            0.08413604573426753,
            0.0825773946323635,
            0.08341507378623111,
            0.08538919743441731,
            0.08135695079300648,
            0.0836775652421882,
            0.08144958932888291,
            0.08190622426883283,
            0.08923785049275422,
            0.08452226688482203,
            0.08125454618378339,
            0.0811428574524016,
            0.08132586068708203,
            0.08028717718750897,
            0.08030601558949267,
            0.08009112984458926,
            0.08216189705581109,
            0.08458803972365612,
            0.08523303882225414,
            0.08362532432956318,
            0.07957663608178797,
            0.07951251597741221,
            0.07959291068642362,
            0.07970924077791432,
            0.08106482898156968,
            0.08343869837424013,
            0.08286311772480286,
            0.08633726448987389,
            0.07907498248523304,
            0.08445156603762977,
            0.08240437683901218,
            0.08089879325740744,
            0.0834834558302292,
            0.0884234291405788,
            0.07925012925738441,
            0.08256968815353945,
            0.08578565874477098,
            0.08056892277358686,
            0.08428942621157902,
            0.08671213125869973,
            0.08978382487677274,
            0.07830656781799633,
            0.08220395458645505,
            0.08464955041202504,
            0.0811509547065033,
            0.07828269462878944,
            0.0790505777474479,
            0.07701203532531944,
            0.08686725070971898,
            0.07979839096340707,
            0.0836862780734589,
            0.0901778646158714,
            0.07774302076047086,
            0.08090656485882149,
            0.08797997066353558,
            0.08509407951702623,
            0.08253933747383356,
            0.07845589296611352,
            0.0806028564178596,
            0.08581273409713566,
            0.08360191084280516,
            0.0882012908900798,
            0.0883325692768529,
            0.09035868861976809,
            0.08731609081985812,
            0.09260650109876711,
            0.08485702788758785,
            0.0772113913907024,
            0.08215239667260486,
            0.08711215437593163,
            0.07919664824188287,
            0.0838900944833923,
            0.08885026929722284,
            0.08520665186035793,
            0.0744016794452795,
            0.08247626288049498,
            0.07984738108865236,
            0.07677484811463044,
            0.08632001176945439,
            0.08340195363750669,
            0.08082332955134663,
            0.078320306147622,
            0.08560684771378464,
            0.09112439238893479,
            0.0825803947017843,
            0.08935632883515825,
            0.08042060204583995,
            0.07532055792389679,
            0.08381522727504769,
            0.08738490835457573,
            0.07879042738664127,
            0.08218382629400513,
            0.08520294551466534,
            0.07675018847770365,
            0.08104149616188813,
            0.08405041617856952,
            0.09189221836853123,
            0.04753703819980788,
            0.0947582766239941,
            0.08837437744524483,
            0.07377812334868777,
            0.0787702580598822,
            0.08189032054700789,
            0.0862721300814253,
            0.07992481954401746,
            0.07704446023506781,
            0.08247244617780249,
            0.08452789642927644,
            0.08753313697946821,
            0.08057777448643978,
            0.08563253285977619,
            0.07515522176732368,
            0.08973101194959977,
            0.05333121784410667,
            0.07779134126279806,
            0.08320400658477682,
            0.07955278480862157,
            0.04947898931493681,
            0.07310010305179666,
            0.08389214500581868,
            0.08170607961123354,
            0.08639044431903381,
            0.08847654465336978,
            0.026329604478805512,
            0.04546502877883875,
            0.07828701868817524,
            0.08092074576571995,
            0.0024591864921208184,
            0.08437772967964431,
            0.08241514254192174,
            0.07610360932762293,
            0.042001266034109114,
            0.08551090257040299,
            0.08651790789075668,
            0.07970519015054575,
            0.09117753382158517,
            0.09670771180143206,
            0.08793817679842576,
            0.08296374461670969,
            0.07261131625290228,
            0.0742891761318877,
            0.07741593328214266,
            0.03876223771204243,
            0.0711463369501084,
            0.07266624367182489,
            0.07563449117729176,
            0.04197460243814709,
            0.07921826485260389,
            0.08086775633874346,
            0.08537701958781514,
            0.03151165397573165,
            0.07661602738008141,
            0.08988611215033396,
            0.07717167369807855,
            0.08293006841980405,
            0.07937221484929169,
            0.09321759044435006,
            0.0863467421757376,
            0.08072525119789493,
            0.08937320777000507,
            0.04398225848669983,
            0.08430655622468708,
            0.07630014519753262,
            0.06827846322431264,
            0.08151945781817763,
            0.07858273616260508,
            0.08762670897593285,
            0.09145156622125758,
            0.09050119676324431,
            0.09283957062831234,
            0.09428082361544288,
            0.09753717726737471,
            0.09115319192071,
            0.08674176656052107,
            0.08819316303534627,
            0.09159789338015091,
            0.09197933432123631,
            0.09607677666009742,
            0.09315339245604963,
            0.09088590807624604,
            0.09826235966519942,
            0.08817752345198203,
            0.08896771266825293,
            0.09333143122750516,
            0.09585094346225403,
            0.08360731620592585,
            0.08647556224821358,
            0.09054480116179826,
            0.07779757095119154,
            0.07411590153164768,
            0.09464763137660337,
            0.09455948436385563,
            0.09237825118067489,
            0.09973894942886619,
            0.08218691898605879,
            0.09538057259797601,
            0.09773951396788996,
            0.079205893156689,
            0.07532472327700013,
            0.08416218361527547,
            0.08071503917655758,
            0.08982661780318521,
            0.09402536060842161,
            0.07745358581077122,
            0.08536956065011446,
            0.018149546459701883,
            0.08282955022412351
           ]
          },
          {
           "label": "max_depth",
           "range": [
            3,
            10
           ],
           "values": [
            5,
            6,
            8,
            4,
            6,
            7,
            10,
            6,
            6,
            3,
            3,
            4,
            4,
            4,
            4,
            8,
            5,
            3,
            5,
            10,
            4,
            4,
            5,
            3,
            4,
            7,
            5,
            4,
            3,
            5,
            9,
            4,
            4,
            5,
            3,
            4,
            6,
            5,
            6,
            7,
            3,
            3,
            4,
            3,
            3,
            3,
            3,
            3,
            3,
            3,
            3,
            3,
            3,
            3,
            3,
            3,
            4,
            3,
            4,
            3,
            3,
            3,
            8,
            4,
            3,
            4,
            3,
            3,
            4,
            3,
            4,
            3,
            3,
            3,
            4,
            3,
            9,
            4,
            3,
            3,
            3,
            3,
            3,
            4,
            3,
            3,
            3,
            3,
            4,
            3,
            4,
            3,
            3,
            3,
            3,
            3,
            3,
            4,
            3,
            4,
            3,
            3,
            3,
            3,
            3,
            3,
            3,
            3,
            7,
            4,
            4,
            4,
            5,
            6,
            5,
            4,
            5,
            4,
            4,
            3,
            3,
            3,
            3,
            3,
            3,
            9,
            3,
            4,
            3,
            3,
            4,
            3,
            3,
            3,
            3,
            3,
            3,
            3,
            3,
            3,
            4,
            3,
            3,
            3,
            3,
            3,
            3,
            3,
            4,
            3,
            6,
            3,
            3,
            3,
            3,
            3,
            3,
            3,
            5,
            3,
            3,
            3,
            3,
            3,
            3,
            3,
            4,
            3,
            3,
            3,
            3,
            3,
            3,
            3,
            10,
            3,
            3,
            3,
            4,
            3,
            3,
            3,
            3,
            3,
            3,
            3,
            3,
            3,
            7,
            5,
            3,
            3,
            3,
            3,
            3,
            3,
            3,
            3,
            3,
            4,
            3,
            3,
            3,
            3,
            8,
            3,
            3,
            3,
            3,
            3,
            3,
            3,
            3,
            3,
            3,
            3,
            3,
            3,
            3,
            3,
            3,
            3,
            3,
            3,
            3,
            3,
            3,
            3,
            3,
            3,
            3,
            3,
            3,
            3,
            3,
            3,
            3,
            3,
            3,
            3,
            3,
            3,
            3,
            3,
            3,
            3,
            3,
            3,
            3,
            3,
            3,
            3,
            3,
            3,
            3,
            3,
            3,
            3,
            3,
            3,
            3,
            3,
            3,
            3,
            3,
            3,
            3,
            3,
            3,
            3,
            3,
            3,
            3,
            3,
            3,
            3,
            3,
            3,
            3,
            3,
            3,
            3,
            3,
            3,
            3,
            3,
            3,
            3,
            3,
            3,
            3,
            7,
            6,
            3,
            3,
            3,
            3,
            3,
            3,
            3,
            3,
            3,
            3,
            3,
            3,
            3,
            3,
            3,
            3,
            3,
            3,
            3,
            3,
            9,
            8,
            3,
            3,
            3,
            3,
            3,
            3,
            3,
            4,
            3,
            3,
            3,
            3,
            3,
            3,
            3,
            3,
            3,
            3,
            3,
            4,
            3,
            3,
            3,
            3,
            3,
            3,
            3,
            3,
            3,
            10,
            3,
            3,
            4,
            3,
            3,
            3,
            3,
            3,
            3,
            3,
            3,
            3,
            3,
            3,
            3,
            3,
            4,
            3,
            5,
            3,
            3,
            3,
            3,
            6,
            3,
            3,
            3,
            3,
            3,
            3,
            3,
            3,
            3,
            3,
            3,
            4,
            3,
            3,
            3,
            3,
            3,
            3,
            3,
            3,
            3,
            3,
            3,
            3,
            3,
            4,
            5,
            3,
            3,
            3,
            3,
            3,
            3,
            3,
            3,
            4,
            3,
            3,
            3,
            3,
            3,
            3,
            3,
            3,
            3,
            3,
            3,
            8,
            7
           ]
          },
          {
           "label": "max_leaves",
           "range": [
            0,
            100
           ],
           "values": [
            34,
            75,
            84,
            40,
            27,
            64,
            68,
            21,
            28,
            3,
            47,
            3,
            0,
            48,
            54,
            38,
            50,
            13,
            93,
            58,
            42,
            17,
            13,
            76,
            32,
            45,
            64,
            7,
            22,
            39,
            100,
            9,
            4,
            10,
            32,
            22,
            76,
            57,
            27,
            69,
            5,
            6,
            0,
            18,
            19,
            15,
            15,
            27,
            25,
            35,
            28,
            28,
            21,
            37,
            32,
            43,
            32,
            17,
            39,
            12,
            16,
            15,
            24,
            16,
            30,
            50,
            8,
            11,
            20,
            24,
            3,
            35,
            36,
            42,
            30,
            46,
            54,
            45,
            7,
            13,
            46,
            39,
            34,
            41,
            30,
            25,
            18,
            50,
            29,
            22,
            5,
            33,
            36,
            37,
            48,
            48,
            56,
            44,
            41,
            64,
            49,
            51,
            40,
            48,
            14,
            40,
            53,
            1,
            61,
            11,
            11,
            10,
            10,
            6,
            13,
            2,
            43,
            31,
            38,
            8,
            34,
            16,
            14,
            19,
            26,
            17,
            11,
            20,
            4,
            52,
            23,
            15,
            12,
            8,
            84,
            13,
            12,
            9,
            7,
            9,
            5,
            13,
            10,
            12,
            18,
            36,
            49,
            44,
            6,
            0,
            41,
            15,
            11,
            32,
            17,
            9,
            39,
            14,
            60,
            46,
            3,
            12,
            21,
            13,
            16,
            11,
            7,
            9,
            11,
            37,
            29,
            13,
            12,
            14,
            10,
            7,
            55,
            34,
            9,
            18,
            12,
            16,
            15,
            14,
            5,
            20,
            11,
            8,
            18,
            13,
            43,
            10,
            9,
            6,
            3,
            6,
            6,
            5,
            4,
            3,
            5,
            2,
            7,
            4,
            0,
            4,
            5,
            4,
            4,
            1,
            4,
            3,
            3,
            3,
            1,
            4,
            2,
            5,
            5,
            0,
            4,
            6,
            2,
            3,
            5,
            6,
            6,
            2,
            4,
            5,
            7,
            0,
            1,
            0,
            2,
            0,
            2,
            2,
            0,
            2,
            4,
            2,
            4,
            0,
            5,
            3,
            2,
            6,
            0,
            4,
            7,
            2,
            4,
            5,
            7,
            2,
            0,
            0,
            0,
            6,
            4,
            8,
            2,
            5,
            2,
            0,
            7,
            4,
            2,
            6,
            8,
            3,
            5,
            5,
            8,
            5,
            0,
            4,
            7,
            3,
            6,
            73,
            9,
            0,
            99,
            2,
            4,
            6,
            2,
            8,
            4,
            0,
            6,
            2,
            4,
            9,
            6,
            2,
            4,
            0,
            7,
            4,
            2,
            9,
            5,
            0,
            7,
            2,
            4,
            6,
            9,
            3,
            1,
            5,
            8,
            0,
            83,
            3,
            10,
            6,
            2,
            4,
            6,
            0,
            8,
            3,
            5,
            2,
            7,
            4,
            10,
            1,
            5,
            2,
            0,
            8,
            4,
            6,
            3,
            11,
            7,
            2,
            0,
            5,
            10,
            6,
            4,
            8,
            3,
            5,
            2,
            0,
            2,
            2,
            5,
            0,
            6,
            3,
            8,
            2,
            4,
            6,
            0,
            0,
            0,
            4,
            8,
            2,
            5,
            7,
            2,
            4,
            1,
            9,
            6,
            0,
            4,
            3,
            2,
            2,
            67,
            3,
            0,
            2,
            0,
            4,
            7,
            10,
            8,
            7,
            3,
            6,
            2,
            4,
            0,
            6,
            10,
            2,
            7,
            4,
            2,
            0,
            0,
            0,
            2,
            0,
            5,
            3,
            8,
            92,
            2,
            5,
            0,
            6,
            11,
            3,
            9,
            2
           ]
          },
          {
           "label": "min_child_weight",
           "range": [
            1,
            5
           ],
           "values": [
            3,
            1,
            4,
            2,
            5,
            5,
            4,
            3,
            1,
            2,
            2,
            3,
            2,
            3,
            2,
            4,
            1,
            2,
            3,
            4,
            2,
            3,
            3,
            3,
            4,
            2,
            3,
            3,
            1,
            2,
            3,
            3,
            4,
            3,
            4,
            5,
            3,
            3,
            2,
            1,
            4,
            5,
            5,
            5,
            5,
            5,
            5,
            5,
            5,
            5,
            5,
            5,
            5,
            5,
            5,
            5,
            4,
            5,
            5,
            4,
            5,
            5,
            5,
            5,
            5,
            4,
            5,
            5,
            5,
            4,
            5,
            5,
            5,
            5,
            5,
            5,
            5,
            5,
            4,
            1,
            5,
            5,
            5,
            5,
            5,
            2,
            5,
            5,
            5,
            5,
            4,
            5,
            5,
            5,
            5,
            5,
            5,
            5,
            2,
            5,
            4,
            4,
            5,
            5,
            5,
            4,
            5,
            5,
            4,
            5,
            5,
            5,
            5,
            5,
            5,
            5,
            5,
            5,
            5,
            5,
            1,
            5,
            5,
            5,
            5,
            5,
            5,
            5,
            5,
            3,
            5,
            5,
            5,
            5,
            5,
            5,
            5,
            5,
            5,
            5,
            5,
            5,
            5,
            5,
            5,
            5,
            5,
            5,
            5,
            5,
            4,
            5,
            5,
            2,
            5,
            5,
            5,
            5,
            5,
            5,
            5,
            5,
            5,
            5,
            5,
            5,
            1,
            3,
            5,
            5,
            5,
            5,
            5,
            5,
            5,
            5,
            5,
            5,
            5,
            5,
            5,
            5,
            5,
            5,
            5,
            5,
            5,
            5,
            5,
            5,
            5,
            3,
            3,
            2,
            2,
            2,
            2,
            2,
            2,
            2,
            2,
            2,
            2,
            2,
            2,
            2,
            2,
            2,
            2,
            2,
            2,
            2,
            2,
            2,
            2,
            2,
            2,
            2,
            2,
            2,
            2,
            2,
            2,
            2,
            2,
            2,
            2,
            2,
            2,
            2,
            2,
            2,
            2,
            2,
            2,
            2,
            2,
            2,
            2,
            2,
            2,
            2,
            2,
            2,
            2,
            2,
            2,
            2,
            2,
            2,
            2,
            2,
            2,
            2,
            2,
            2,
            2,
            2,
            2,
            2,
            2,
            2,
            2,
            2,
            2,
            2,
            2,
            2,
            2,
            2,
            2,
            2,
            2,
            2,
            2,
            2,
            2,
            2,
            2,
            2,
            2,
            2,
            2,
            2,
            2,
            2,
            2,
            2,
            2,
            2,
            2,
            2,
            2,
            2,
            2,
            2,
            2,
            2,
            2,
            2,
            2,
            2,
            2,
            2,
            2,
            2,
            2,
            2,
            2,
            1,
            2,
            2,
            2,
            2,
            2,
            2,
            2,
            2,
            2,
            2,
            2,
            2,
            2,
            2,
            2,
            2,
            2,
            2,
            2,
            2,
            2,
            2,
            2,
            2,
            2,
            2,
            3,
            2,
            2,
            2,
            2,
            2,
            2,
            2,
            2,
            2,
            2,
            2,
            1,
            2,
            2,
            2,
            2,
            2,
            2,
            2,
            2,
            2,
            2,
            2,
            2,
            2,
            2,
            2,
            2,
            2,
            2,
            2,
            2,
            2,
            2,
            2,
            2,
            2,
            2,
            2,
            2,
            2,
            2,
            1,
            2,
            2,
            2,
            2,
            3,
            2,
            2,
            2,
            2,
            2,
            2,
            2,
            2,
            2,
            2,
            2,
            2,
            2,
            2,
            2,
            2,
            2,
            2,
            2,
            4,
            2,
            2,
            2,
            2,
            2,
            3,
            2,
            2,
            2,
            2,
            2,
            2,
            2
           ]
          },
          {
           "label": "min_frequency",
           "range": [
            1.1491825887784135e-05,
            0.9989346712416348
           ],
           "values": [
            0.22158375303941724,
            0.0928997077946343,
            0.405204108791811,
            0.022021083546735376,
            0.6941524927370188,
            0.659750266519583,
            0.5489812575815101,
            0.7774510304618985,
            0.863417213326277,
            0.5992044985624347,
            0.008207659467469349,
            0.9651748115397834,
            0.9423809703909172,
            0.9936183145106409,
            0.39391150043606626,
            0.2508078595469976,
            0.7993099389680205,
            0.4590408696894044,
            0.9817200909719953,
            0.49887292498345304,
            0.29879538265076755,
            0.9989346712416348,
            0.8456502512257055,
            0.9020507208232252,
            0.7358499587096944,
            0.8988624628415031,
            0.7915779137784009,
            0.63718889111586,
            0.6175185675932887,
            0.15414182019993572,
            0.6925273867856678,
            0.9335034981752991,
            0.8419499909061599,
            0.998847232847844,
            0.7468454690249403,
            0.3798203965034208,
            0.5719464606719611,
            0.523544589243603,
            0.6305250154228996,
            0.6482485200056685,
            0.14370330951723198,
            0.0036687081624923734,
            0.027428266853627217,
            0.016848102296555874,
            0.008066076297196915,
            0.0048002261855194265,
            0.04539745273682008,
            0.06302111414425346,
            0.08260567801273104,
            0.0651279724069989,
            0.007024668927761846,
            0.10709362390774421,
            0.013318208031768086,
            0.06025847321356673,
            0.0008947471879895749,
            0.009108125871786903,
            0.11516751233610845,
            0.0438926765399289,
            0.16599496851070936,
            0.11735151160764981,
            0.046751380140701154,
            0.04537841162055521,
            0.09431512513523738,
            0.044791240082727134,
            0.07649047845326866,
            1.1491825887784135e-05,
            0.03620779968462443,
            0.08766260150104194,
            0.19753479974927443,
            0.12914115323509356,
            0.08935332880109481,
            0.010319564155141864,
            0.037783119370475446,
            0.003515034094145393,
            0.06472710667928011,
            0.03699197739876717,
            0.10635059046876608,
            0.14596446793382462,
            0.033899964819680425,
            0.17928865017924445,
            0.06658839665233175,
            0.029958721644853643,
            0.027606851159694745,
            0.13234779364303817,
            0.0007822809298572301,
            0.05249542297357122,
            0.09300220755298778,
            0.00026277757094770107,
            0.07141888204521937,
            0.12087947051751034,
            0.05221137867833882,
            0.022586024943194075,
            0.004757884180043748,
            0.03108796385525803,
            0.0762753194732702,
            0.07779828461089924,
            0.050840731432204925,
            0.11345617942766698,
            0.10114230021674997,
            0.02599074362903068,
            0.0734056887948308,
            0.057112295033134336,
            0.07733471100743089,
            0.08372580221931288,
            0.07265318818954244,
            0.15807662373110482,
            0.07530457662432408,
            0.13551640254655237,
            0.10159598427184889,
            0.02123986130051585,
            0.0190918929546058,
            0.018964021729990545,
            0.06134707110990268,
            0.0003772451425956905,
            0.022192352362072974,
            0.04582279492136528,
            0.08582117337826221,
            0.06754176696643466,
            0.027748232502503203,
            0.0011465798323887222,
            0.10793509639686252,
            0.04433464325445531,
            0.05221288688593598,
            0.02317366571727581,
            0.07920135922793813,
            0.040439317772716435,
            0.125363327342718,
            0.09033724022431615,
            0.24471631854934034,
            0.0011253036942387995,
            0.06355938649574344,
            0.023033744998824365,
            0.015614493115588051,
            0.04482341347947165,
            0.024767812017446794,
            0.0659377462214123,
            0.1429194186989822,
            0.06708840198517735,
            0.0009217288759660741,
            0.10030593092600865,
            0.06074781949250728,
            0.07413362624021383,
            0.03738485974467389,
            0.015939498691413412,
            0.12240139380997153,
            0.1746614433616281,
            0.08749805575433678,
            0.05550151723255798,
            0.028999619337203634,
            0.07497017497479815,
            0.01630436458907622,
            0.04648847993463311,
            0.04869019612917551,
            0.09571435210717341,
            0.018536569693921846,
            0.06875956967336938,
            0.0347981550140839,
            0.0013165681446373236,
            0.06215004753700435,
            0.1163105560726784,
            0.35450158979814067,
            0.01820013711835844,
            0.03741948034204001,
            0.0006854818535855585,
            0.0209024682754731,
            0.048060464531416894,
            0.19815356020017644,
            0.07805125408802058,
            0.053091968966307,
            0.10060433196347456,
            0.021564766744673187,
            0.04000835141468647,
            0.03592016917534804,
            0.00024191470286119565,
            0.061504209514005106,
            0.037003477961856615,
            0.07780642083907267,
            0.019832103387680718,
            0.05273023251840267,
            0.2892844874028464,
            0.14852738418844486,
            0.041295947813795586,
            0.43810868792803304,
            0.02027341954496588,
            0.08823652560389433,
            0.06012001592786347,
            0.038000820328986946,
            8.747488707157303e-05,
            0.10122711167137713,
            0.07130104441363122,
            0.018029152288762167,
            0.08315340070202702,
            0.04728791962642226,
            0.0735729089143274,
            0.12063531788510665,
            0.031869193471071186,
            0.017649853360177107,
            0.019276508399960306,
            0.01194805207189165,
            0.5772122546030619,
            0.02038455447091265,
            0.0035544227310259913,
            0.016157634799520176,
            0.042556057178493464,
            0.4982841163883436,
            0.057686206802456036,
            0.05891444083065842,
            0.047201849579139976,
            0.05502396628039048,
            0.05484149837793616,
            0.03860906227970067,
            0.035904239618016205,
            0.03603733585738776,
            0.04165219863599435,
            0.0606662214680802,
            0.04270514497101652,
            0.034818829330179324,
            0.059779987620720086,
            0.09605644297448981,
            0.06361120815913297,
            0.6573687510984335,
            0.03299705811198384,
            0.06055981268409992,
            0.03732365448246431,
            0.06324334024425693,
            0.05764036276428381,
            0.08582875407087753,
            0.704213976789219,
            0.05999727968657606,
            0.06302704909763951,
            0.10605732130961903,
            0.056560290235641006,
            0.05993796758569315,
            0.07872340617837574,
            0.08961784499609876,
            0.07669207624068196,
            0.06732860091231285,
            0.0688607588577442,
            0.10659884762803443,
            0.0715338094518101,
            0.06709919129995798,
            0.6217266375817914,
            0.05923179324168561,
            0.08486573917499864,
            0.34733489030676856,
            0.13269027697106803,
            0.05685990325694934,
            0.2499774014448658,
            0.09355575502186307,
            0.05288218898327219,
            0.07732338065940467,
            0.03683738565194001,
            0.19825440514562398,
            0.11717693210747263,
            0.05776390879649851,
            0.1612110568895233,
            0.03285987685207793,
            0.2757421990267443,
            0.07577264821609406,
            0.22040266385401852,
            0.09657851176694066,
            0.8696833566721921,
            0.8127103512060323,
            0.03186607543379233,
            0.05482097764776907,
            0.07135112539921885,
            0.0290688590861344,
            0.10688928965652718,
            0.04987574864535482,
            0.08333286341078776,
            0.1387046257689903,
            0.03378751567186782,
            0.06213166975162323,
            0.5510991967347332,
            0.02180387116120861,
            0.6778978354215764,
            0.3471127886121802,
            0.09350176486150769,
            0.5191247117810501,
            0.7650980553806834,
            0.9479864857492082,
            0.051315395081729,
            0.5997138056814003,
            0.07686320177038461,
            0.12328250001838245,
            0.022470953520675328,
            0.0504963466234201,
            0.31360651889668706,
            0.4328249390185459,
            0.37992721045302236,
            0.4751113132738943,
            0.07257538588360461,
            0.03803388075326334,
            0.0164596204245747,
            0.10708616166289706,
            0.000751134775524645,
            0.07156370106519125,
            0.049432586844114536,
            0.09075321435771579,
            0.03214925501148044,
            0.05992566328555343,
            0.03673129067749595,
            0.16905603620353524,
            0.0682014919443675,
            0.4068271705733573,
            0.09181795982570298,
            0.01928502871955754,
            0.23346801193470457,
            0.04880323596712198,
            0.12024211348143542,
            0.06494911546004833,
            0.02874042001115249,
            0.01221922254094765,
            0.07603120774999282,
            0.15055120171206576,
            0.10440549401075551,
            0.049702767731442624,
            0.08640717362686907,
            0.25938241366380255,
            0.039079739738454064,
            0.0010469693963780988,
            0.0581068159836501,
            0.023939919483048668,
            0.07399775550830137,
            0.7214963957870723,
            0.1806579445099531,
            0.04450328853282657,
            0.12387042610354985,
            0.6546071349357013,
            0.10137232284352005,
            0.6128004942012992,
            0.26886356005308426,
            0.06228475440800701,
            0.019564015890429234,
            0.3227830329675673,
            0.22666987882921175,
            0.3128245781338796,
            0.5426133546703618,
            0.041251320506072234,
            0.08425249964819617,
            0.7527652709459045,
            0.02835701867902389,
            0.05852467309304731,
            0.013272689845101101,
            0.001083539538666481,
            0.2921419122993864,
            0.9072208829529125,
            0.019098648543229985,
            0.0018134288619519462,
            0.37165604943890634,
            0.0373739499396517,
            0.033873356898955216,
            0.5869876268807006,
            0.0180480768588755,
            0.04042587411766208,
            0.28056872264010824,
            0.041886502786314526,
            0.1430515773811737,
            0.4424435316118112,
            0.020414453194773252,
            0.08369958470476338,
            0.7362445501065771,
            0.00040999319405516516,
            0.009581854714324399,
            0.012709626365128145,
            0.06251271898483045,
            0.10780149002804615,
            0.9767208806414996,
            0.19446201891426984,
            0.0015980874520331485,
            0.0005134970203106593,
            0.04999311991920653,
            0.030283763848049865,
            0.6889569723502842,
            0.08182423424253371,
            0.052080207962983495,
            0.4634285840170603,
            0.028816008613015705,
            0.07012340724958778,
            0.09314450501769544,
            0.4961425818034166,
            0.2591536896695444,
            0.13148809081314164,
            0.06972450762680121,
            0.09817703409403213,
            0.5515254285610642,
            0.07291843563632137,
            0.6317239007827506,
            0.8253305220995282,
            0.10797233863683697,
            0.23291524940233732,
            0.07821079381258056,
            0.16020072587326553,
            0.4284435192134356,
            0.20113708120555918,
            0.06613431562569927,
            0.041268682802483636,
            0.6680583655696956,
            0.1213559213164926,
            0.8598018026519565,
            0.08741068850409792,
            0.05000155320012041,
            0.05957987359029462,
            0.3440718957532425,
            0.07299444664878707,
            0.04767326008613776,
            0.5159842269480828,
            0.48707313343709274,
            0.09467966820732487,
            0.7638665037974182,
            0.3998639837233897,
            0.05164069054764209,
            0.0326408002948834,
            0.25065892718369304,
            0.3705006008634865,
            0.07285785078011194,
            0.29397248669133025,
            0.1178281712240416
           ]
          },
          {
           "label": "n_estimators",
           "range": [
            54,
            999
           ],
           "values": [
            928,
            131,
            598,
            535,
            562,
            913,
            895,
            364,
            792,
            408,
            72,
            324,
            272,
            696,
            689,
            717,
            483,
            657,
            794,
            506,
            193,
            336,
            456,
            240,
            588,
            792,
            322,
            436,
            999,
            634,
            535,
            416,
            421,
            735,
            180,
            553,
            287,
            627,
            378,
            446,
            510,
            492,
            365,
            585,
            559,
            578,
            485,
            556,
            561,
            615,
            767,
            660,
            821,
            870,
            522,
            755,
            473,
            670,
            670,
            512,
            703,
            756,
            711,
            829,
            590,
            696,
            645,
            613,
            740,
            531,
            678,
            477,
            482,
            587,
            783,
            390,
            397,
            54,
            640,
            534,
            443,
            330,
            475,
            389,
            417,
            415,
            360,
            510,
            716,
            454,
            575,
            303,
            428,
            433,
            365,
            352,
            257,
            380,
            611,
            502,
            306,
            210,
            317,
            297,
            314,
            313,
            246,
            344,
            333,
            269,
            141,
            272,
            156,
            408,
            108,
            224,
            113,
            280,
            365,
            428,
            175,
            460,
            316,
            255,
            404,
            232,
            289,
            372,
            493,
            962,
            524,
            538,
            574,
            346,
            546,
            683,
            323,
            659,
            679,
            651,
            733,
            605,
            566,
            635,
            457,
            667,
            698,
            423,
            298,
            517,
            342,
            701,
            723,
            390,
            267,
            684,
            80,
            658,
            205,
            619,
            361,
            625,
            636,
            582,
            594,
            495,
            470,
            492,
            564,
            504,
            546,
            665,
            654,
            617,
            151,
            311,
            446,
            517,
            686,
            328,
            597,
            662,
            703,
            674,
            631,
            740,
            713,
            529,
            292,
            487,
            401,
            504,
            480,
            547,
            533,
            567,
            550,
            572,
            542,
            556,
            549,
            524,
            572,
            546,
            551,
            588,
            601,
            602,
            587,
            586,
            578,
            578,
            579,
            577,
            586,
            579,
            598,
            575,
            569,
            600,
            572,
            534,
            534,
            543,
            579,
            529,
            529,
            564,
            512,
            518,
            588,
            537,
            542,
            538,
            540,
            562,
            529,
            527,
            521,
            530,
            550,
            581,
            556,
            611,
            506,
            536,
            561,
            517,
            585,
            541,
            567,
            602,
            511,
            534,
            557,
            579,
            613,
            619,
            543,
            604,
            500,
            525,
            562,
            591,
            553,
            615,
            532,
            581,
            499,
            513,
            558,
            638,
            598,
            601,
            621,
            573,
            591,
            566,
            808,
            543,
            600,
            578,
            632,
            518,
            553,
            615,
            591,
            885,
            544,
            485,
            570,
            525,
            562,
            604,
            541,
            582,
            503,
            846,
            523,
            552,
            626,
            593,
            571,
            534,
            468,
            512,
            644,
            560,
            609,
            580,
            544,
            242,
            497,
            590,
            559,
            533,
            614,
            781,
            577,
            547,
            186,
            518,
            595,
            564,
            484,
            532,
            577,
            623,
            509,
            269,
            219,
            551,
            924,
            603,
            568,
            643,
            537,
            521,
            592,
            554,
            570,
            500,
            585,
            610,
            640,
            617,
            620,
            753,
            602,
            587,
            603,
            608,
            632,
            605,
            575,
            593,
            560,
            632,
            579,
            544,
            611,
            560,
            596,
            581,
            535,
            553,
            572,
            626,
            526,
            592,
            544,
            573,
            654,
            591,
            614,
            559,
            531,
            486,
            492,
            465,
            501,
            480,
            487,
            511,
            258,
            540,
            452,
            434,
            462,
            472,
            488,
            512,
            500,
            524,
            452,
            514,
            480,
            549,
            527,
            560,
            497,
            541,
            279,
            524,
            240,
            553,
            587,
            574,
            542,
            502,
            446,
            564,
            594,
            533,
            969,
            474,
            518,
            569
           ]
          },
          {
           "label": "reg_alpha",
           "range": [
            0.010608617223583638,
            0.9998235323670907
           ],
           "values": [
            0.0731018898314395,
            0.8638565502518448,
            0.47788429118689435,
            0.8123655615066537,
            0.8369126992525343,
            0.4870074414896619,
            0.7488776149138628,
            0.41767836941415193,
            0.019419877599792135,
            0.23781012759783937,
            0.9646441175278874,
            0.655737038112698,
            0.6715413542310216,
            0.6381063846393391,
            0.6044288777761857,
            0.957215462677613,
            0.7678703220138644,
            0.5751063589824921,
            0.747127043429607,
            0.8864265513533364,
            0.35870658403143213,
            0.6440505043061582,
            0.5741872138423941,
            0.713751293226893,
            0.7997775464805305,
            0.6580174344258263,
            0.6963268359728042,
            0.5417016628942359,
            0.5495688304627535,
            0.9033780590398696,
            0.8289595232893306,
            0.6260527426765291,
            0.7266223172341365,
            0.5410254570353051,
            0.7894726858202182,
            0.6293804456659855,
            0.5041309368330704,
            0.8442748975104091,
            0.6831732774931942,
            0.4446110457469438,
            0.7512985775960582,
            0.7584321686743706,
            0.7016600866890904,
            0.8033216772607523,
            0.8140657223969681,
            0.8170020204400267,
            0.8651666012962158,
            0.9236545403696239,
            0.9925892931342051,
            0.9259252583282209,
            0.9213494976498089,
            0.923670523797764,
            0.8615221074060309,
            0.891947663540524,
            0.9476948618820782,
            0.9544363848512767,
            0.9998235323670907,
            0.8207227072499683,
            0.7697031072192441,
            0.8431549511552308,
            0.8706924851031971,
            0.8760205457607795,
            0.8338492785127466,
            0.7856295191192899,
            0.8964549229223129,
            0.9510800076198055,
            0.8215737823860104,
            0.7437568990374043,
            0.864347664094735,
            0.7933429648844226,
            0.9062154229352867,
            0.8204523392534921,
            0.7677406631605679,
            0.8476820246250829,
            0.8123547525108485,
            0.8716333985759573,
            0.9646535067082658,
            0.8901734870708656,
            0.8669430768425154,
            0.9260583880141741,
            0.7214118755104494,
            0.8281509598020996,
            0.7726489563827739,
            0.8541301242364157,
            0.8084529599712226,
            0.8785170456533415,
            0.7411778154351906,
            0.674955624561079,
            0.7986267686183638,
            0.909337651174129,
            0.84393239417914,
            0.8241217890760705,
            0.7989106195509021,
            0.7774110476089501,
            0.7184767494468856,
            0.7206697595044949,
            0.7590981677599701,
            0.696778428296832,
            0.8003106245524833,
            0.731504425543384,
            0.7546785895267373,
            0.7436086155134637,
            0.7868706474119574,
            0.7581876154049795,
            0.7844642310536174,
            0.7828070996079769,
            0.7136512976345643,
            0.7961151233829512,
            0.7559867900202015,
            0.6823880884384045,
            0.6641063878346741,
            0.6897225940395482,
            0.6556839674818552,
            0.7034475366008932,
            0.7331094519584637,
            0.6690224038330954,
            0.6230749320752088,
            0.7769913714750816,
            0.7130884511476739,
            0.8084007715566762,
            0.7550619614925368,
            0.8350315627580384,
            0.7951559911217323,
            0.6845540134594057,
            0.7783724011286648,
            0.850427179691374,
            0.7373432143059382,
            0.8303352474471799,
            0.8131750721242107,
            0.6530451721918,
            0.7243002950353197,
            0.7677877578129524,
            0.8096964908806422,
            0.7890063283400185,
            0.8802579597351798,
            0.8541772978191678,
            0.8156984176038331,
            0.7568876859444194,
            0.8522272997639418,
            0.7551557837146737,
            0.8355997579315164,
            0.7820586940885235,
            0.8037352967749438,
            0.7055210003485376,
            0.757621029828321,
            0.672986877627117,
            0.7372850656244472,
            0.7772838327708722,
            0.8141290709643616,
            0.8556202448144353,
            0.7215650809256126,
            0.794384522899623,
            0.8332176141710023,
            0.8879523697805871,
            0.8644802578341398,
            0.7609770965323808,
            0.743289962271613,
            0.8201805247857183,
            0.6926386038647474,
            0.8038598512271798,
            0.8716688430816623,
            0.7001241578051389,
            0.5923074239580195,
            0.6417465167428584,
            0.7763553001239877,
            0.7068361765396642,
            0.7020905089019853,
            0.7269733411945906,
            0.6690397077882345,
            0.7432536927939525,
            0.707336181750096,
            0.6817403470441924,
            0.691840421942709,
            0.6186181894336853,
            0.6686650988187186,
            0.7187344354047667,
            0.7636088096175928,
            0.786690879583976,
            0.6491657173997133,
            0.6807622959523804,
            0.7371335803618356,
            0.8413788256586034,
            0.9030087640708134,
            0.798005834132845,
            0.8328136785185298,
            0.7672963126576093,
            0.8074454708570474,
            0.966490787876468,
            0.7479717155855193,
            0.9375753952907375,
            0.6393734923785104,
            0.729098177655888,
            0.7141502450852308,
            0.6830624339241501,
            0.6882897826262578,
            0.7821030418573057,
            0.7870599868352774,
            0.7848809939161735,
            0.7530235106677651,
            0.7639269315765166,
            0.8150074769729238,
            0.789245383970485,
            0.7524104064228938,
            0.7960338011868828,
            0.7763290501259482,
            0.8270955624921821,
            0.8187666450420553,
            0.82243702844869,
            0.8453340376815719,
            0.8457375620915025,
            0.8325950408268756,
            0.8262122480261269,
            0.858847554096828,
            0.8490758662784971,
            0.8778252682326784,
            0.8339905319433013,
            0.8626960363491943,
            0.8308891740200394,
            0.8277447458006102,
            0.8587967319994408,
            0.8884892185604412,
            0.8370309351724682,
            0.8329542329724868,
            0.8325187544103907,
            0.8447266872617191,
            0.8444363367710451,
            0.8504425425131513,
            0.8459167120013318,
            0.8685124316504327,
            0.8934328908825112,
            0.8299395926035875,
            0.8648559328337162,
            0.8895211604859556,
            0.8697657054312941,
            0.8682881697853475,
            0.9058951373984063,
            0.8772485155289459,
            0.8793478628045114,
            0.8666223349113005,
            0.8807756398283973,
            0.9160563447606936,
            0.8580697775289708,
            0.8891126331129263,
            0.847357857498269,
            0.8751625730180099,
            0.91347994302897,
            0.8390997217034853,
            0.8899843904382378,
            0.8637173148220683,
            0.8293390522152352,
            0.9028509589638795,
            0.8548496474378722,
            0.8738463128380214,
            0.8223668833427155,
            0.841157921512418,
            0.9264806693133226,
            0.8761869431269448,
            0.8859222153917201,
            0.9499159672619392,
            0.8168829235310244,
            0.90099809026692,
            0.8419854517532053,
            0.8677276122919741,
            0.8164017255694875,
            0.534523532036859,
            0.8397332531581538,
            0.8827935429027599,
            0.9162202178615623,
            0.854891797391439,
            0.8104911900627628,
            0.9709196052133925,
            0.935175843447805,
            0.8269102110393614,
            0.8817118943555886,
            0.6063994584776907,
            0.571542382615088,
            0.8597153160829948,
            0.4165207214540101,
            0.8051334830722665,
            0.9017619438903165,
            0.8271957283904517,
            0.9862522203970823,
            0.9391019596852554,
            0.8476724774575057,
            0.8753043987614373,
            0.8193095507123024,
            0.11594134674075274,
            0.8399650552431974,
            0.8016780450892727,
            0.8710828576431926,
            0.8956072279071857,
            0.9191762834231658,
            0.8540467227285564,
            0.8287786805958621,
            0.79893791744898,
            0.8722161356971874,
            0.6283584167246176,
            0.8457822795522406,
            0.8153322288403582,
            0.901414845176492,
            0.9419555967002737,
            0.8593060806849802,
            0.8293976064529972,
            0.8854552251944584,
            0.7961647250817094,
            0.8410250670728956,
            0.9197775650606086,
            0.8653947925627911,
            0.4726098403881315,
            0.8262091818606899,
            0.7820032364420952,
            0.8888728591691697,
            0.9564168795162692,
            0.8074823309803566,
            0.854024869237351,
            0.6107270989716433,
            0.8362353040396494,
            0.8704902901688972,
            0.8194734627917923,
            0.904439375593108,
            0.8467439156910135,
            0.5712033716651164,
            0.7931616415467606,
            0.6396087601727932,
            0.8769683719134831,
            0.8181902101658262,
            0.9259419881065194,
            0.8548911319966882,
            0.895348034577552,
            0.5934898540312139,
            0.7681701918104027,
            0.9763774814350806,
            0.33724064735585896,
            0.6602417102434543,
            0.8096401285093867,
            0.8429099487892661,
            0.9996209402697639,
            0.8669838467954948,
            0.8315276807247217,
            0.9488058036853179,
            0.7752807815734744,
            0.7957140919370423,
            0.5337326621920035,
            0.8821990794490187,
            0.915107916754319,
            0.8800714461056083,
            0.8942189841195357,
            0.8178131877734702,
            0.8494055306690271,
            0.9737524356595759,
            0.8271755255046483,
            0.7899616140465434,
            0.8289186829606904,
            0.8002681763874215,
            0.838593996769719,
            0.7767161495627887,
            0.6187885447532099,
            0.814632390435878,
            0.7395837163787831,
            0.8609128304268608,
            0.5166746413718085,
            0.6478582326300992,
            0.9133279383423829,
            0.9312030434488834,
            0.9131807420563344,
            0.5644582859869595,
            0.8917220365423794,
            0.9478384223818102,
            0.010608617223583638,
            0.6760758597599366,
            0.8735926892917236,
            0.9062048737373998,
            0.9313669103121108,
            0.49103626758736985,
            0.8811238908739216,
            0.7643834321127027,
            0.5824722879342389,
            0.8547568854847934,
            0.8448786449242134,
            0.8518396369016852,
            0.8083677055768214,
            0.8428635644518074,
            0.8305552431061478,
            0.8644520277374184,
            0.7926113523526331,
            0.8557476018313054,
            0.7314829506306242,
            0.7585783604599876,
            0.707952557348425,
            0.7233862049323659,
            0.7386294155038753,
            0.1743122226811128,
            0.7524103851211051,
            0.420788551853084,
            0.6856386290438246,
            0.7763246279274822,
            0.33174899047227635,
            0.8091452791826907,
            0.8987972311294932,
            0.734088197559986,
            0.8660081863175711,
            0.8420567491549062,
            0.8378098363226874,
            0.6341736836898931,
            0.8544470727474365,
            0.6657003493297567,
            0.8192722552562169,
            0.5553933745201151,
            0.8805114970641679,
            0.5996245296682581,
            0.08561462659546026,
            0.841146267547014,
            0.8658567918979783,
            0.8078175811079702,
            0.8933678629776377,
            0.8284830104634993,
            0.8463901731984181,
            0.7888507795376244
           ]
          },
          {
           "label": "reg_lambda",
           "range": [
            0.007188860953642129,
            0.9999598392819508
           ],
           "values": [
            0.4083613077797422,
            0.06581403152421805,
            0.039782193554828926,
            0.8275565099880806,
            0.6888060194300859,
            0.21800094782955637,
            0.9073032931035386,
            0.12098364157965946,
            0.8085868227297575,
            0.8221723270350854,
            0.6016729991347699,
            0.994364110494076,
            0.9614563701308283,
            0.9905584944218028,
            0.7595404085462356,
            0.886549319611533,
            0.9910305522705909,
            0.6851034726400868,
            0.8657216922503526,
            0.5155550725071163,
            0.8893846184113118,
            0.9999598392819508,
            0.9903853940910206,
            0.7731971822935869,
            0.9157139599506161,
            0.8435165601936504,
            0.9271554061719796,
            0.7555921110672651,
            0.7253640898308862,
            0.6449103317166279,
            0.7887598298813786,
            0.8415758031331518,
            0.937303323268716,
            0.9424122459969874,
            0.86477758457214,
            0.7493396137814747,
            0.8082990042046205,
            0.9375569503640967,
            0.712311159911319,
            0.9987318767502141,
            0.8761297061796096,
            0.8823896490479719,
            0.8237302441589338,
            0.8119945624807088,
            0.818419389106697,
            0.811439201888176,
            0.8277902962418948,
            0.6365978944963253,
            0.6597389809689874,
            0.5909619785838438,
            0.7338457807430849,
            0.7113934922029457,
            0.7863201683942804,
            0.7398873505430588,
            0.8830220403790543,
            0.9015350500427355,
            0.7900174109382639,
            0.8679796723173981,
            0.8674547829994779,
            0.8946485846712554,
            0.8626049225703278,
            0.8578129559004398,
            0.9073324591009122,
            0.766025535086779,
            0.9520204725090848,
            0.8433282067444829,
            0.8913389874155203,
            0.7812866750492959,
            0.972549661938646,
            0.9113679964184588,
            0.9661782062787155,
            0.8410195025506639,
            0.8471121417943825,
            0.8776964177917692,
            0.9207691672722345,
            0.8012690921478951,
            0.7615473747223191,
            0.799576009863985,
            0.7260186157434011,
            0.8225552367716236,
            0.7926557275026613,
            0.8513071303698091,
            0.8716274553442813,
            0.8354081876058991,
            0.8127130220759173,
            0.8076375501906065,
            0.7578666858758982,
            0.931573374334766,
            0.7773513875829701,
            0.8918297366280058,
            0.8719388833777397,
            0.8303201700277176,
            0.855775341892292,
            0.8088712506885261,
            0.9233548098982431,
            0.9512724348932894,
            0.92729516639456,
            0.9130048386670725,
            0.860585052684707,
            0.9070657975881404,
            0.8950764643100064,
            0.8870111765264761,
            0.9779134488484019,
            0.9752676721455779,
            0.9430945747887531,
            0.9578784783345502,
            0.9414139691119637,
            0.9842019275006111,
            0.965511843022075,
            0.923249384503296,
            0.9968259047713408,
            0.9927269441321637,
            0.9401430066108287,
            0.9564676507421741,
            0.9244818754523848,
            0.8967387418027604,
            0.998868926331322,
            0.9174565059096111,
            0.8882344772720283,
            0.9712193846217928,
            0.9380931146399628,
            0.8520984523095025,
            0.870949082547323,
            0.9039568386198545,
            0.9771844645155096,
            0.9491222477593472,
            0.8760238424569814,
            0.9213849129541218,
            0.9019869074831196,
            0.8396877257842226,
            0.8584930185352108,
            0.8238872569526424,
            0.8825283553083929,
            0.8747898580422623,
            0.9293553508939046,
            0.8547163924275563,
            0.8904564439963908,
            0.9562290334815069,
            0.960726047532455,
            0.9964185827478103,
            0.9495085048139126,
            0.9135139914265239,
            0.9761315862850792,
            0.8489831162341204,
            0.9328697491293532,
            0.8859014458579982,
            0.8268873385735264,
            0.9128989503141719,
            0.9561309614389732,
            0.8585029778643942,
            0.8985559708484131,
            0.8738547037683442,
            0.8358045063769522,
            0.932056181007211,
            0.8105433166863868,
            0.8579247797819636,
            0.9808345623699095,
            0.8895774453883349,
            0.9143304297468626,
            0.9459907881678253,
            0.7858196726300797,
            0.8435931239617852,
            0.8357476810046182,
            0.868162162803049,
            0.8826305761798896,
            0.8541637534920418,
            0.8060750722815181,
            0.9021081276358947,
            0.4321673783306367,
            0.9988960640139187,
            0.8493546762097505,
            0.8644045526198584,
            0.8167554570828195,
            0.8364719583777924,
            0.8736657500149234,
            0.923812064213549,
            0.9677003535935988,
            0.8569026675727589,
            0.7719287055944315,
            0.9018610858198122,
            0.945409144074348,
            0.8824782581789433,
            0.859530448933687,
            0.9197015889013842,
            0.8252926691066945,
            0.8463436605112689,
            0.8930191654657228,
            0.79826556117443,
            0.8758440241387518,
            0.9679061741584208,
            0.9415945765236554,
            0.9045837929319486,
            0.6877348055908099,
            0.9041410195239258,
            0.8644366587462615,
            0.5902486675884718,
            0.7313542769524399,
            0.7342609004294218,
            0.7154357328086342,
            0.7163692834888975,
            0.7397921829681634,
            0.7324277418408672,
            0.6949298652903401,
            0.7429885604139137,
            0.7548283719778347,
            0.7588941257351197,
            0.7685014591018554,
            0.7603924686509904,
            0.7806269349270917,
            0.7798557217392607,
            0.7864229013255424,
            0.7704823922790215,
            0.7505809608361665,
            0.753069085753855,
            0.7774656211276447,
            0.7910682277353491,
            0.7846333396113987,
            0.7495983859896589,
            0.7704421972985706,
            0.804606815479842,
            0.7585541976083853,
            0.7170265881717828,
            0.7080774513318318,
            0.7378963922072836,
            0.7096800749642194,
            0.7123037377509877,
            0.7169868651474129,
            0.7055237691164084,
            0.7111299809024973,
            0.714210558429546,
            0.6702986994968804,
            0.6951921524646608,
            0.707722466916742,
            0.6963813647050543,
            0.6741292095227305,
            0.7045105848615245,
            0.6901357773380901,
            0.7184944518105165,
            0.6959285773791053,
            0.682602820847465,
            0.7236523103495426,
            0.7279465801885433,
            0.7009276907901396,
            0.7450996327887459,
            0.7125631129827119,
            0.6915381565216294,
            0.6636498572210536,
            0.7465975122871517,
            0.7299693401750585,
            0.7154658960703489,
            0.7632502643783665,
            0.6550445731877208,
            0.6858698209301503,
            0.7438954828446724,
            0.710201127680501,
            0.7666962174877726,
            0.734496296845386,
            0.73176806948575,
            0.6997977690542349,
            0.6429811240879865,
            0.7209503982952619,
            0.6823168774576653,
            0.7894458427962101,
            0.7705965481734686,
            0.6764527902753714,
            0.7299546010341724,
            0.6947654824070351,
            0.7498114912718342,
            0.7127764295905082,
            0.7906069928335987,
            0.6619535770213206,
            0.7433861814709537,
            0.7205357760601301,
            0.7673609432862593,
            0.7260158973364306,
            0.7827045353064267,
            0.626755866535175,
            0.7551116706895705,
            0.6923069528719188,
            0.7388383390648751,
            0.7218961590116976,
            0.6707213505297798,
            0.8006627301123033,
            0.7686432997591923,
            0.7050492589473712,
            0.7365446085136417,
            0.2470990086912246,
            0.7562246087007247,
            0.6859328174992481,
            0.7812165354464987,
            0.7197989887522245,
            0.7027352469885348,
            0.7491691562363283,
            0.6498812343012643,
            0.7957058461930038,
            0.7281881964751459,
            0.6769241618111842,
            0.7651588726874726,
            0.6974124983955564,
            0.7185349020694579,
            0.8125261736396427,
            0.5431591174134127,
            0.7467368979996502,
            0.7769802200457525,
            0.7289628182542947,
            0.6671780667963927,
            0.7065663073168379,
            0.6867613167025356,
            0.7559072383429204,
            0.6321523346969077,
            0.7949737147957127,
            0.730664740404889,
            0.7706419813678618,
            0.7080370609924536,
            0.7408120166464895,
            0.809630275374989,
            0.6629757224452368,
            0.7829255541609056,
            0.6963486668115647,
            0.7529997402736303,
            0.8222166985343536,
            0.7133110031487053,
            0.6821615008820143,
            0.733201410999569,
            0.7654255337670599,
            0.6005428091448161,
            0.6534375499303919,
            0.7390559493338825,
            0.7152429646589182,
            0.791242895733294,
            0.6231485094825193,
            0.6907212638192493,
            0.754376462615886,
            0.7250759399054288,
            0.007188860953642129,
            0.8213925575225035,
            0.6757274266920876,
            0.4342721806983632,
            0.7780316648059675,
            0.7030934882645119,
            0.75382926743867,
            0.5400624909307659,
            0.723825783336182,
            0.7942264724882079,
            0.8082426427868729,
            0.8322873315925884,
            0.7884510860940792,
            0.7691252748225532,
            0.8084926207805516,
            0.9242387834381999,
            0.7925956910519476,
            0.7694150140835307,
            0.7981503389624065,
            0.7883380958956764,
            0.7450002570587814,
            0.6453683341276557,
            0.7410937918567448,
            0.768492111252544,
            0.8149037150250553,
            0.7906867245697774,
            0.6190177095761182,
            0.9382291123394395,
            0.672200516730884,
            0.6816723993303502,
            0.7173589761014998,
            0.6723402617187807,
            0.6516138216217002,
            0.7044415929904712,
            0.694354838137972,
            0.202549259766596,
            0.7405249659075339,
            0.663933230754235,
            0.7261916318692377,
            0.6972606421545126,
            0.7495289563220346,
            0.9107376295166222,
            0.5782155616696588,
            0.761261674161704,
            0.7278962278682677,
            0.725303713607296,
            0.7565443803730723,
            0.6853909240835372,
            0.6426555517108177,
            0.7124466261308605,
            0.738588208083295,
            0.7624832221901684,
            0.6717942159830773,
            0.669530010975345,
            0.6587660462980065,
            0.619637851164781,
            0.6932689482143249,
            0.6801096878147083,
            0.7104141059088974,
            0.6462473079482842,
            0.9608536738937182,
            0.7165595377150208,
            0.5131953931013068,
            0.6845234139671881,
            0.7313235009678495,
            0.4896556156755723,
            0.9768774605360071,
            0.7067613195637307,
            0.6699746611601101,
            0.701264823290646,
            0.6969621810562773,
            0.6070832919394755,
            0.8344582283276172,
            0.6435331337652893,
            0.3263403910256607,
            0.7666441315160232,
            0.7350363402851441,
            0.9409763615101451,
            0.6624014522439466,
            0.7728272387717146,
            0.04418921365322104,
            0.7262593286489277,
            0.7459241921969046,
            0.6924414438936789
           ]
          }
         ],
         "labelangle": 30,
         "labelside": "bottom",
         "line": {
          "color": [
           6916.665387805601,
           9221.389001923017,
           7221.751804055221,
           6621.410326428451,
           6901.705755484328,
           7165.6050725942005,
           7564.210910173268,
           6892.663920466446,
           6913.18398274685,
           8134.616638347227,
           8080.741002141631,
           6790.558098432525,
           6813.431291431908,
           6784.97080858655,
           6856.710274798621,
           7075.810352887928,
           6897.701196992685,
           6968.199473342691,
           6903.022388243484,
           7443.983343293136,
           6812.676901973285,
           6820.979483433128,
           6800.235181296479,
           7085.1509568774345,
           6836.755289113554,
           7201.144848370999,
           6837.1687075535665,
           6786.914891547236,
           6875.73686088378,
           6897.42027614072,
           7382.449373383305,
           6831.868513930579,
           6855.790400773527,
           6876.95207913887,
           7108.327094520385,
           6870.652565472887,
           6940.42409501063,
           6870.2414143743845,
           6963.1724012441355,
           7169.1730302498745,
           6796.5604806854,
           6623.8921944871345,
           6644.386026254608,
           6653.869296935544,
           6632.45749073182,
           6629.6370604926715,
           6638.255027464184,
           6635.314244247314,
           6676.894753750144,
           6637.6929343788615,
           6630.455067693389,
           6832.852444226876,
           6639.488469141737,
           6656.46788532165,
           6619.021635122018,
           6664.746299452181,
           6831.3383118166685,
           6622.932871759736,
           6790.978878358734,
           6834.124715605626,
           6628.0033326340745,
           6646.307164660088,
           7133.084282841823,
           6767.780241692673,
           6636.72649275138,
           6689.055924811887,
           6645.578286833163,
           6852.417892967408,
           6788.773225861005,
           6826.29753967776,
           6794.467948013592,
           6630.990170823984,
           6637.259077220436,
           6642.131667027205,
           6738.881751911889,
           6630.41218317354,
           7244.40728465226,
           7704.37101160617,
           6637.780612966011,
           6822.901889013541,
           6637.415361092493,
           6634.05885075628,
           6651.160612295524,
           6791.8468066668065,
           6620.128117620146,
           6636.536427474853,
           6929.689622239836,
           6637.34155142531,
           6694.006117997157,
           6850.478192055833,
           6686.047905234165,
           6643.317714987747,
           6626.724519172239,
           6643.525732536418,
           6627.318296417155,
           6635.388008874479,
           6646.05511043027,
           6803.757885071292,
           6805.939443020655,
           6678.398385873748,
           6623.507467684094,
           6653.060824496497,
           6624.998767944827,
           6886.52000762694,
           6606.7149511342395,
           6866.364269757718,
           6630.662906759227,
           6865.063179987685,
           6987.980098775501,
           6610.6394920860475,
           6626.675357440202,
           6645.01023819747,
           6634.712352272013,
           6792.554482304059,
           6636.8098807245415,
           6641.036011478536,
           6852.546030980333,
           6647.926377692746,
           6673.330032471357,
           6636.234290319857,
           6978.167325140004,
           6648.480641822713,
           6632.079018764138,
           6634.032115005616,
           6646.345621185712,
           6955.648706676493,
           6889.369708713194,
           6809.328238397757,
           6805.862699288785,
           6653.334373642868,
           6672.712419525228,
           6654.242101858512,
           6623.136398356338,
           6650.278983108479,
           6652.661033405376,
           6619.287172537387,
           6889.961545816375,
           6625.810194409245,
           6650.134334778977,
           6815.516698658306,
           6699.037252758527,
           6637.223650321244,
           6637.190831161376,
           6628.9961627622715,
           6817.579722959298,
           6844.737829745295,
           6797.577305770751,
           6637.047884289125,
           6643.030145435487,
           6637.728010898621,
           6720.967533714969,
           6643.325115991342,
           6662.10821893196,
           6872.579131302821,
           6636.32730912523,
           6638.966940043759,
           6919.709141299169,
           6678.036028087299,
           6647.016274132614,
           6852.535831850272,
           6967.750405482888,
           6624.576814155476,
           6651.998696375788,
           6629.014040724522,
           6631.303572462966,
           6620.616788449939,
           6788.153000737004,
           6628.141624062055,
           6651.5440050795,
           6838.042949686741,
           6643.601048446532,
           6621.292575294147,
           6636.78061007175,
           6646.5994169628975,
           7006.0773739239485,
           6633.1558998251085,
           6635.3849026677435,
           6630.904490371172,
           6736.221101571664,
           6874.262223647683,
           6821.260443229778,
           6634.768152395458,
           6896.339350968839,
           6630.344369146843,
           6831.210023465808,
           6642.322856258771,
           6645.451907201363,
           6640.660750483699,
           7029.610419961147,
           6690.699589542665,
           6648.325787807597,
           6693.548833218081,
           6633.578606449567,
           6600.058004548019,
           6821.556082983759,
           6626.754700852463,
           6625.1294131854265,
           6607.6907798214825,
           6617.8420908214575,
           6854.484830800075,
           6630.333664922228,
           6637.100582951195,
           6634.48449344993,
           6624.010498121022,
           7379.256133215037,
           6608.744577443632,
           6616.0825474306985,
           6637.414650464505,
           6594.982397084581,
           6675.712429343216,
           6613.01060817197,
           6581.594174668872,
           6620.039478700858,
           6640.428160240439,
           6649.023457688237,
           6611.126215916856,
           6632.621802117806,
           6618.553294532101,
           6783.5443798402675,
           6632.801768060024,
           6850.648237844574,
           6606.490008685608,
           6619.943147736005,
           6625.857726166139,
           6610.139865046852,
           6607.316654767811,
           6816.002048686746,
           6877.377183234084,
           6619.580301167179,
           6628.4137347326205,
           6794.259745252676,
           6607.240837097168,
           6617.035463041659,
           6615.865097864064,
           6810.827357642453,
           6649.701501902562,
           6611.724550467075,
           6613.04327684561,
           6766.816828218925,
           6636.158373078456,
           6622.096964286416,
           6880.6943363465825,
           6639.731504752233,
           6800.642558039033,
           6887.363302312651,
           6813.513247022041,
           6641.919757098998,
           6844.983762347347,
           6781.622530510214,
           6644.03743494356,
           6644.641286323282,
           6627.161078184603,
           6842.716338947695,
           6830.419205161905,
           6620.461884695467,
           6781.751993982146,
           6613.884016681292,
           6813.1556127371805,
           6641.199368474311,
           6826.295232900666,
           6803.91740691566,
           6858.450103918285,
           6890.28309598621,
           6648.43301040813,
           6644.436119263677,
           6628.1617786929055,
           6652.16250680407,
           6820.216292475887,
           6633.530131603374,
           6724.4680468991355,
           6798.061980899473,
           6667.075810613965,
           6607.5869989676385,
           6819.850297656839,
           6648.189275358062,
           6890.075505059782,
           6834.673845695107,
           6811.525839000221,
           6837.545511199705,
           6869.144031073389,
           6846.47707839434,
           6634.623558678512,
           6858.888995623141,
           6620.623350823533,
           6827.923639558276,
           6621.118856690844,
           6649.492655490742,
           6797.929065448669,
           6883.50753158283,
           6865.826527142972,
           6880.166387154014,
           6992.500887873345,
           6873.941076201983,
           6652.9910297956285,
           6825.0030767936805,
           6645.523991214047,
           6627.064841273003,
           6648.732247973895,
           6834.584053039551,
           6641.874773204487,
           6638.891373212472,
           6619.7702798511,
           6796.570069504807,
           6619.781248200035,
           6836.490705137278,
           6790.074080316374,
           6650.317003756362,
           6813.617263998487,
           6620.173180526447,
           6813.805810534603,
           6633.226936844016,
           6634.173363979637,
           6622.457602084162,
           7163.934914596599,
           7247.831882506849,
           6808.48682698104,
           6623.137060947776,
           6829.717236189037,
           6822.6980117920575,
           6639.351636901937,
           6645.1348757143,
           6630.694698303059,
           6667.1067508155475,
           6625.330849246109,
           6927.351228933871,
           6823.657284447719,
           6652.369513994887,
           6813.783971505254,
           6953.374001347028,
           6869.18831252029,
           7022.140796860805,
           6820.934955913963,
           6652.288128113938,
           6626.561056408103,
           6832.165065980149,
           6827.22426320912,
           6819.606802564524,
           6895.098349768099,
           9517.703502010723,
           6800.972401698217,
           6852.369373894249,
           6629.949316336706,
           6637.739512011449,
           6619.056993704379,
           7451.8173157229185,
           6809.179930229289,
           6889.6156017927315,
           6760.173789998482,
           6667.183678021061,
           6876.376444594151,
           6619.1591652673305,
           6629.943832192919,
           6855.349497449942,
           6628.154433713202,
           6639.219332927673,
           6833.027761536054,
           6623.136427523943,
           6840.4912295916765,
           6861.860926960492,
           6627.123799546474,
           6824.997102711859,
           6865.094082175247,
           6614.247839674554,
           6817.695080713676,
           6636.6228986642955,
           6632.106336138523,
           6792.620795237155,
           6900.516753856362,
           6968.445699083261,
           6640.978572961153,
           6644.6103612168545,
           6619.483133699555,
           6644.598195871144,
           6860.77455118706,
           6694.46800673743,
           6641.537940938096,
           6900.469361023992,
           6610.726945076807,
           6605.009948986146,
           6832.050161663393,
           6832.716506303475,
           6781.831384858241,
           6790.772989554316,
           6641.320526859396,
           6871.980297722702,
           6867.907708912049,
           6610.734842499843,
           6876.76142341266,
           6861.60800327117,
           6792.170024411608,
           6814.875170587535,
           6632.28294814368,
           6797.17628524003,
           6857.468277263897,
           6787.923408937838,
           6807.84372120057,
           6640.172771545901,
           6857.81500058008,
           6837.355895505194,
           6894.906324207623,
           6840.274192462338,
           6615.636295349284,
           6621.974225757589,
           6872.875434727196,
           6644.278954799949,
           6635.88109030225,
           6847.810784511208,
           6895.944530579104,
           6819.629169617518,
           6889.062927614268,
           6902.797113832776,
           6627.188512091343,
           6625.273955731226,
           6824.536451201656,
           6875.00772106999,
           6634.711181047455,
           7084.248044747769,
           7102.510203834513
          ],
          "colorbar": {
           "title": {
            "text": "Objective Value"
           }
          },
          "colorscale": [
           [
            0,
            "rgb(247,251,255)"
           ],
           [
            0.125,
            "rgb(222,235,247)"
           ],
           [
            0.25,
            "rgb(198,219,239)"
           ],
           [
            0.375,
            "rgb(158,202,225)"
           ],
           [
            0.5,
            "rgb(107,174,214)"
           ],
           [
            0.625,
            "rgb(66,146,198)"
           ],
           [
            0.75,
            "rgb(33,113,181)"
           ],
           [
            0.875,
            "rgb(8,81,156)"
           ],
           [
            1,
            "rgb(8,48,107)"
           ]
          ],
          "reversescale": true,
          "showscale": true
         },
         "type": "parcoords"
        }
       ],
       "layout": {
        "template": {
         "data": {
          "bar": [
           {
            "error_x": {
             "color": "#2a3f5f"
            },
            "error_y": {
             "color": "#2a3f5f"
            },
            "marker": {
             "line": {
              "color": "#E5ECF6",
              "width": 0.5
             },
             "pattern": {
              "fillmode": "overlay",
              "size": 10,
              "solidity": 0.2
             }
            },
            "type": "bar"
           }
          ],
          "barpolar": [
           {
            "marker": {
             "line": {
              "color": "#E5ECF6",
              "width": 0.5
             },
             "pattern": {
              "fillmode": "overlay",
              "size": 10,
              "solidity": 0.2
             }
            },
            "type": "barpolar"
           }
          ],
          "carpet": [
           {
            "aaxis": {
             "endlinecolor": "#2a3f5f",
             "gridcolor": "white",
             "linecolor": "white",
             "minorgridcolor": "white",
             "startlinecolor": "#2a3f5f"
            },
            "baxis": {
             "endlinecolor": "#2a3f5f",
             "gridcolor": "white",
             "linecolor": "white",
             "minorgridcolor": "white",
             "startlinecolor": "#2a3f5f"
            },
            "type": "carpet"
           }
          ],
          "choropleth": [
           {
            "colorbar": {
             "outlinewidth": 0,
             "ticks": ""
            },
            "type": "choropleth"
           }
          ],
          "contour": [
           {
            "colorbar": {
             "outlinewidth": 0,
             "ticks": ""
            },
            "colorscale": [
             [
              0,
              "#0d0887"
             ],
             [
              0.1111111111111111,
              "#46039f"
             ],
             [
              0.2222222222222222,
              "#7201a8"
             ],
             [
              0.3333333333333333,
              "#9c179e"
             ],
             [
              0.4444444444444444,
              "#bd3786"
             ],
             [
              0.5555555555555556,
              "#d8576b"
             ],
             [
              0.6666666666666666,
              "#ed7953"
             ],
             [
              0.7777777777777778,
              "#fb9f3a"
             ],
             [
              0.8888888888888888,
              "#fdca26"
             ],
             [
              1,
              "#f0f921"
             ]
            ],
            "type": "contour"
           }
          ],
          "contourcarpet": [
           {
            "colorbar": {
             "outlinewidth": 0,
             "ticks": ""
            },
            "type": "contourcarpet"
           }
          ],
          "heatmap": [
           {
            "colorbar": {
             "outlinewidth": 0,
             "ticks": ""
            },
            "colorscale": [
             [
              0,
              "#0d0887"
             ],
             [
              0.1111111111111111,
              "#46039f"
             ],
             [
              0.2222222222222222,
              "#7201a8"
             ],
             [
              0.3333333333333333,
              "#9c179e"
             ],
             [
              0.4444444444444444,
              "#bd3786"
             ],
             [
              0.5555555555555556,
              "#d8576b"
             ],
             [
              0.6666666666666666,
              "#ed7953"
             ],
             [
              0.7777777777777778,
              "#fb9f3a"
             ],
             [
              0.8888888888888888,
              "#fdca26"
             ],
             [
              1,
              "#f0f921"
             ]
            ],
            "type": "heatmap"
           }
          ],
          "heatmapgl": [
           {
            "colorbar": {
             "outlinewidth": 0,
             "ticks": ""
            },
            "colorscale": [
             [
              0,
              "#0d0887"
             ],
             [
              0.1111111111111111,
              "#46039f"
             ],
             [
              0.2222222222222222,
              "#7201a8"
             ],
             [
              0.3333333333333333,
              "#9c179e"
             ],
             [
              0.4444444444444444,
              "#bd3786"
             ],
             [
              0.5555555555555556,
              "#d8576b"
             ],
             [
              0.6666666666666666,
              "#ed7953"
             ],
             [
              0.7777777777777778,
              "#fb9f3a"
             ],
             [
              0.8888888888888888,
              "#fdca26"
             ],
             [
              1,
              "#f0f921"
             ]
            ],
            "type": "heatmapgl"
           }
          ],
          "histogram": [
           {
            "marker": {
             "pattern": {
              "fillmode": "overlay",
              "size": 10,
              "solidity": 0.2
             }
            },
            "type": "histogram"
           }
          ],
          "histogram2d": [
           {
            "colorbar": {
             "outlinewidth": 0,
             "ticks": ""
            },
            "colorscale": [
             [
              0,
              "#0d0887"
             ],
             [
              0.1111111111111111,
              "#46039f"
             ],
             [
              0.2222222222222222,
              "#7201a8"
             ],
             [
              0.3333333333333333,
              "#9c179e"
             ],
             [
              0.4444444444444444,
              "#bd3786"
             ],
             [
              0.5555555555555556,
              "#d8576b"
             ],
             [
              0.6666666666666666,
              "#ed7953"
             ],
             [
              0.7777777777777778,
              "#fb9f3a"
             ],
             [
              0.8888888888888888,
              "#fdca26"
             ],
             [
              1,
              "#f0f921"
             ]
            ],
            "type": "histogram2d"
           }
          ],
          "histogram2dcontour": [
           {
            "colorbar": {
             "outlinewidth": 0,
             "ticks": ""
            },
            "colorscale": [
             [
              0,
              "#0d0887"
             ],
             [
              0.1111111111111111,
              "#46039f"
             ],
             [
              0.2222222222222222,
              "#7201a8"
             ],
             [
              0.3333333333333333,
              "#9c179e"
             ],
             [
              0.4444444444444444,
              "#bd3786"
             ],
             [
              0.5555555555555556,
              "#d8576b"
             ],
             [
              0.6666666666666666,
              "#ed7953"
             ],
             [
              0.7777777777777778,
              "#fb9f3a"
             ],
             [
              0.8888888888888888,
              "#fdca26"
             ],
             [
              1,
              "#f0f921"
             ]
            ],
            "type": "histogram2dcontour"
           }
          ],
          "mesh3d": [
           {
            "colorbar": {
             "outlinewidth": 0,
             "ticks": ""
            },
            "type": "mesh3d"
           }
          ],
          "parcoords": [
           {
            "line": {
             "colorbar": {
              "outlinewidth": 0,
              "ticks": ""
             }
            },
            "type": "parcoords"
           }
          ],
          "pie": [
           {
            "automargin": true,
            "type": "pie"
           }
          ],
          "scatter": [
           {
            "fillpattern": {
             "fillmode": "overlay",
             "size": 10,
             "solidity": 0.2
            },
            "type": "scatter"
           }
          ],
          "scatter3d": [
           {
            "line": {
             "colorbar": {
              "outlinewidth": 0,
              "ticks": ""
             }
            },
            "marker": {
             "colorbar": {
              "outlinewidth": 0,
              "ticks": ""
             }
            },
            "type": "scatter3d"
           }
          ],
          "scattercarpet": [
           {
            "marker": {
             "colorbar": {
              "outlinewidth": 0,
              "ticks": ""
             }
            },
            "type": "scattercarpet"
           }
          ],
          "scattergeo": [
           {
            "marker": {
             "colorbar": {
              "outlinewidth": 0,
              "ticks": ""
             }
            },
            "type": "scattergeo"
           }
          ],
          "scattergl": [
           {
            "marker": {
             "colorbar": {
              "outlinewidth": 0,
              "ticks": ""
             }
            },
            "type": "scattergl"
           }
          ],
          "scattermapbox": [
           {
            "marker": {
             "colorbar": {
              "outlinewidth": 0,
              "ticks": ""
             }
            },
            "type": "scattermapbox"
           }
          ],
          "scatterpolar": [
           {
            "marker": {
             "colorbar": {
              "outlinewidth": 0,
              "ticks": ""
             }
            },
            "type": "scatterpolar"
           }
          ],
          "scatterpolargl": [
           {
            "marker": {
             "colorbar": {
              "outlinewidth": 0,
              "ticks": ""
             }
            },
            "type": "scatterpolargl"
           }
          ],
          "scatterternary": [
           {
            "marker": {
             "colorbar": {
              "outlinewidth": 0,
              "ticks": ""
             }
            },
            "type": "scatterternary"
           }
          ],
          "surface": [
           {
            "colorbar": {
             "outlinewidth": 0,
             "ticks": ""
            },
            "colorscale": [
             [
              0,
              "#0d0887"
             ],
             [
              0.1111111111111111,
              "#46039f"
             ],
             [
              0.2222222222222222,
              "#7201a8"
             ],
             [
              0.3333333333333333,
              "#9c179e"
             ],
             [
              0.4444444444444444,
              "#bd3786"
             ],
             [
              0.5555555555555556,
              "#d8576b"
             ],
             [
              0.6666666666666666,
              "#ed7953"
             ],
             [
              0.7777777777777778,
              "#fb9f3a"
             ],
             [
              0.8888888888888888,
              "#fdca26"
             ],
             [
              1,
              "#f0f921"
             ]
            ],
            "type": "surface"
           }
          ],
          "table": [
           {
            "cells": {
             "fill": {
              "color": "#EBF0F8"
             },
             "line": {
              "color": "white"
             }
            },
            "header": {
             "fill": {
              "color": "#C8D4E3"
             },
             "line": {
              "color": "white"
             }
            },
            "type": "table"
           }
          ]
         },
         "layout": {
          "annotationdefaults": {
           "arrowcolor": "#2a3f5f",
           "arrowhead": 0,
           "arrowwidth": 1
          },
          "autotypenumbers": "strict",
          "coloraxis": {
           "colorbar": {
            "outlinewidth": 0,
            "ticks": ""
           }
          },
          "colorscale": {
           "diverging": [
            [
             0,
             "#8e0152"
            ],
            [
             0.1,
             "#c51b7d"
            ],
            [
             0.2,
             "#de77ae"
            ],
            [
             0.3,
             "#f1b6da"
            ],
            [
             0.4,
             "#fde0ef"
            ],
            [
             0.5,
             "#f7f7f7"
            ],
            [
             0.6,
             "#e6f5d0"
            ],
            [
             0.7,
             "#b8e186"
            ],
            [
             0.8,
             "#7fbc41"
            ],
            [
             0.9,
             "#4d9221"
            ],
            [
             1,
             "#276419"
            ]
           ],
           "sequential": [
            [
             0,
             "#0d0887"
            ],
            [
             0.1111111111111111,
             "#46039f"
            ],
            [
             0.2222222222222222,
             "#7201a8"
            ],
            [
             0.3333333333333333,
             "#9c179e"
            ],
            [
             0.4444444444444444,
             "#bd3786"
            ],
            [
             0.5555555555555556,
             "#d8576b"
            ],
            [
             0.6666666666666666,
             "#ed7953"
            ],
            [
             0.7777777777777778,
             "#fb9f3a"
            ],
            [
             0.8888888888888888,
             "#fdca26"
            ],
            [
             1,
             "#f0f921"
            ]
           ],
           "sequentialminus": [
            [
             0,
             "#0d0887"
            ],
            [
             0.1111111111111111,
             "#46039f"
            ],
            [
             0.2222222222222222,
             "#7201a8"
            ],
            [
             0.3333333333333333,
             "#9c179e"
            ],
            [
             0.4444444444444444,
             "#bd3786"
            ],
            [
             0.5555555555555556,
             "#d8576b"
            ],
            [
             0.6666666666666666,
             "#ed7953"
            ],
            [
             0.7777777777777778,
             "#fb9f3a"
            ],
            [
             0.8888888888888888,
             "#fdca26"
            ],
            [
             1,
             "#f0f921"
            ]
           ]
          },
          "colorway": [
           "#636efa",
           "#EF553B",
           "#00cc96",
           "#ab63fa",
           "#FFA15A",
           "#19d3f3",
           "#FF6692",
           "#B6E880",
           "#FF97FF",
           "#FECB52"
          ],
          "font": {
           "color": "#2a3f5f"
          },
          "geo": {
           "bgcolor": "white",
           "lakecolor": "white",
           "landcolor": "#E5ECF6",
           "showlakes": true,
           "showland": true,
           "subunitcolor": "white"
          },
          "hoverlabel": {
           "align": "left"
          },
          "hovermode": "closest",
          "mapbox": {
           "style": "light"
          },
          "paper_bgcolor": "white",
          "plot_bgcolor": "#E5ECF6",
          "polar": {
           "angularaxis": {
            "gridcolor": "white",
            "linecolor": "white",
            "ticks": ""
           },
           "bgcolor": "#E5ECF6",
           "radialaxis": {
            "gridcolor": "white",
            "linecolor": "white",
            "ticks": ""
           }
          },
          "scene": {
           "xaxis": {
            "backgroundcolor": "#E5ECF6",
            "gridcolor": "white",
            "gridwidth": 2,
            "linecolor": "white",
            "showbackground": true,
            "ticks": "",
            "zerolinecolor": "white"
           },
           "yaxis": {
            "backgroundcolor": "#E5ECF6",
            "gridcolor": "white",
            "gridwidth": 2,
            "linecolor": "white",
            "showbackground": true,
            "ticks": "",
            "zerolinecolor": "white"
           },
           "zaxis": {
            "backgroundcolor": "#E5ECF6",
            "gridcolor": "white",
            "gridwidth": 2,
            "linecolor": "white",
            "showbackground": true,
            "ticks": "",
            "zerolinecolor": "white"
           }
          },
          "shapedefaults": {
           "line": {
            "color": "#2a3f5f"
           }
          },
          "ternary": {
           "aaxis": {
            "gridcolor": "white",
            "linecolor": "white",
            "ticks": ""
           },
           "baxis": {
            "gridcolor": "white",
            "linecolor": "white",
            "ticks": ""
           },
           "bgcolor": "#E5ECF6",
           "caxis": {
            "gridcolor": "white",
            "linecolor": "white",
            "ticks": ""
           }
          },
          "title": {
           "x": 0.05
          },
          "xaxis": {
           "automargin": true,
           "gridcolor": "white",
           "linecolor": "white",
           "ticks": "",
           "title": {
            "standoff": 15
           },
           "zerolinecolor": "white",
           "zerolinewidth": 2
          },
          "yaxis": {
           "automargin": true,
           "gridcolor": "white",
           "linecolor": "white",
           "ticks": "",
           "title": {
            "standoff": 15
           },
           "zerolinecolor": "white",
           "zerolinewidth": 2
          }
         }
        },
        "title": {
         "text": "Parallel Coordinate Plot"
        }
       }
      },
      "text/html": [
       "<div>                            <div id=\"58272a07-2030-4fa8-ae6b-24289f7132ff\" class=\"plotly-graph-div\" style=\"height:525px; width:100%;\"></div>            <script type=\"text/javascript\">                require([\"plotly\"], function(Plotly) {                    window.PLOTLYENV=window.PLOTLYENV || {};                                    if (document.getElementById(\"58272a07-2030-4fa8-ae6b-24289f7132ff\")) {                    Plotly.newPlot(                        \"58272a07-2030-4fa8-ae6b-24289f7132ff\",                        [{\"dimensions\":[{\"label\":\"Objective Value\",\"range\":[6581.594174668872,9517.703502010723],\"values\":[6916.665387805601,9221.389001923017,7221.751804055221,6621.410326428451,6901.705755484328,7165.6050725942005,7564.210910173268,6892.663920466446,6913.18398274685,8134.616638347227,8080.741002141631,6790.558098432525,6813.431291431908,6784.97080858655,6856.710274798621,7075.810352887928,6897.701196992685,6968.199473342691,6903.022388243484,7443.983343293136,6812.676901973285,6820.979483433128,6800.235181296479,7085.1509568774345,6836.755289113554,7201.144848370999,6837.1687075535665,6786.914891547236,6875.73686088378,6897.42027614072,7382.449373383305,6831.868513930579,6855.790400773527,6876.95207913887,7108.327094520385,6870.652565472887,6940.42409501063,6870.2414143743845,6963.1724012441355,7169.1730302498745,6796.5604806854,6623.8921944871345,6644.386026254608,6653.869296935544,6632.45749073182,6629.6370604926715,6638.255027464184,6635.314244247314,6676.894753750144,6637.6929343788615,6630.455067693389,6832.852444226876,6639.488469141737,6656.46788532165,6619.021635122018,6664.746299452181,6831.3383118166685,6622.932871759736,6790.978878358734,6834.124715605626,6628.0033326340745,6646.307164660088,7133.084282841823,6767.780241692673,6636.72649275138,6689.055924811887,6645.578286833163,6852.417892967408,6788.773225861005,6826.29753967776,6794.467948013592,6630.990170823984,6637.259077220436,6642.131667027205,6738.881751911889,6630.41218317354,7244.40728465226,7704.37101160617,6637.780612966011,6822.901889013541,6637.415361092493,6634.05885075628,6651.160612295524,6791.8468066668065,6620.128117620146,6636.536427474853,6929.689622239836,6637.34155142531,6694.006117997157,6850.478192055833,6686.047905234165,6643.317714987747,6626.724519172239,6643.525732536418,6627.318296417155,6635.388008874479,6646.05511043027,6803.757885071292,6805.939443020655,6678.398385873748,6623.507467684094,6653.060824496497,6624.998767944827,6886.52000762694,6606.7149511342395,6866.364269757718,6630.662906759227,6865.063179987685,6987.980098775501,6610.6394920860475,6626.675357440202,6645.01023819747,6634.712352272013,6792.554482304059,6636.8098807245415,6641.036011478536,6852.546030980333,6647.926377692746,6673.330032471357,6636.234290319857,6978.167325140004,6648.480641822713,6632.079018764138,6634.032115005616,6646.345621185712,6955.648706676493,6889.369708713194,6809.328238397757,6805.862699288785,6653.334373642868,6672.712419525228,6654.242101858512,6623.136398356338,6650.278983108479,6652.661033405376,6619.287172537387,6889.961545816375,6625.810194409245,6650.134334778977,6815.516698658306,6699.037252758527,6637.223650321244,6637.190831161376,6628.9961627622715,6817.579722959298,6844.737829745295,6797.577305770751,6637.047884289125,6643.030145435487,6637.728010898621,6720.967533714969,6643.325115991342,6662.10821893196,6872.579131302821,6636.32730912523,6638.966940043759,6919.709141299169,6678.036028087299,6647.016274132614,6852.535831850272,6967.750405482888,6624.576814155476,6651.998696375788,6629.014040724522,6631.303572462966,6620.616788449939,6788.153000737004,6628.141624062055,6651.5440050795,6838.042949686741,6643.601048446532,6621.292575294147,6636.78061007175,6646.5994169628975,7006.0773739239485,6633.1558998251085,6635.3849026677435,6630.904490371172,6736.221101571664,6874.262223647683,6821.260443229778,6634.768152395458,6896.339350968839,6630.344369146843,6831.210023465808,6642.322856258771,6645.451907201363,6640.660750483699,7029.610419961147,6690.699589542665,6648.325787807597,6693.548833218081,6633.578606449567,6600.058004548019,6821.556082983759,6626.754700852463,6625.1294131854265,6607.6907798214825,6617.8420908214575,6854.484830800075,6630.333664922228,6637.100582951195,6634.48449344993,6624.010498121022,7379.256133215037,6608.744577443632,6616.0825474306985,6637.414650464505,6594.982397084581,6675.712429343216,6613.01060817197,6581.594174668872,6620.039478700858,6640.428160240439,6649.023457688237,6611.126215916856,6632.621802117806,6618.553294532101,6783.5443798402675,6632.801768060024,6850.648237844574,6606.490008685608,6619.943147736005,6625.857726166139,6610.139865046852,6607.316654767811,6816.002048686746,6877.377183234084,6619.580301167179,6628.4137347326205,6794.259745252676,6607.240837097168,6617.035463041659,6615.865097864064,6810.827357642453,6649.701501902562,6611.724550467075,6613.04327684561,6766.816828218925,6636.158373078456,6622.096964286416,6880.6943363465825,6639.731504752233,6800.642558039033,6887.363302312651,6813.513247022041,6641.919757098998,6844.983762347347,6781.622530510214,6644.03743494356,6644.641286323282,6627.161078184603,6842.716338947695,6830.419205161905,6620.461884695467,6781.751993982146,6613.884016681292,6813.1556127371805,6641.199368474311,6826.295232900666,6803.91740691566,6858.450103918285,6890.28309598621,6648.43301040813,6644.436119263677,6628.1617786929055,6652.16250680407,6820.216292475887,6633.530131603374,6724.4680468991355,6798.061980899473,6667.075810613965,6607.5869989676385,6819.850297656839,6648.189275358062,6890.075505059782,6834.673845695107,6811.525839000221,6837.545511199705,6869.144031073389,6846.47707839434,6634.623558678512,6858.888995623141,6620.623350823533,6827.923639558276,6621.118856690844,6649.492655490742,6797.929065448669,6883.50753158283,6865.826527142972,6880.166387154014,6992.500887873345,6873.941076201983,6652.9910297956285,6825.0030767936805,6645.523991214047,6627.064841273003,6648.732247973895,6834.584053039551,6641.874773204487,6638.891373212472,6619.7702798511,6796.570069504807,6619.781248200035,6836.490705137278,6790.074080316374,6650.317003756362,6813.617263998487,6620.173180526447,6813.805810534603,6633.226936844016,6634.173363979637,6622.457602084162,7163.934914596599,7247.831882506849,6808.48682698104,6623.137060947776,6829.717236189037,6822.6980117920575,6639.351636901937,6645.1348757143,6630.694698303059,6667.1067508155475,6625.330849246109,6927.351228933871,6823.657284447719,6652.369513994887,6813.783971505254,6953.374001347028,6869.18831252029,7022.140796860805,6820.934955913963,6652.288128113938,6626.561056408103,6832.165065980149,6827.22426320912,6819.606802564524,6895.098349768099,9517.703502010723,6800.972401698217,6852.369373894249,6629.949316336706,6637.739512011449,6619.056993704379,7451.8173157229185,6809.179930229289,6889.6156017927315,6760.173789998482,6667.183678021061,6876.376444594151,6619.1591652673305,6629.943832192919,6855.349497449942,6628.154433713202,6639.219332927673,6833.027761536054,6623.136427523943,6840.4912295916765,6861.860926960492,6627.123799546474,6824.997102711859,6865.094082175247,6614.247839674554,6817.695080713676,6636.6228986642955,6632.106336138523,6792.620795237155,6900.516753856362,6968.445699083261,6640.978572961153,6644.6103612168545,6619.483133699555,6644.598195871144,6860.77455118706,6694.46800673743,6641.537940938096,6900.469361023992,6610.726945076807,6605.009948986146,6832.050161663393,6832.716506303475,6781.831384858241,6790.772989554316,6641.320526859396,6871.980297722702,6867.907708912049,6610.734842499843,6876.76142341266,6861.60800327117,6792.170024411608,6814.875170587535,6632.28294814368,6797.17628524003,6857.468277263897,6787.923408937838,6807.84372120057,6640.172771545901,6857.81500058008,6837.355895505194,6894.906324207623,6840.274192462338,6615.636295349284,6621.974225757589,6872.875434727196,6644.278954799949,6635.88109030225,6847.810784511208,6895.944530579104,6819.629169617518,6889.062927614268,6902.797113832776,6627.188512091343,6625.273955731226,6824.536451201656,6875.00772106999,6634.711181047455,7084.248044747769,7102.510203834513]},{\"label\":\"learning_rate\",\"range\":[0.0024591864921208184,0.09973894942886619],\"values\":[0.080212040364047,0.0110440944151389,0.05437852882083781,0.058202003883521966,0.05044333541406114,0.06847192994046869,0.08198919660700785,0.09817627042009662,0.03795556499415451,0.013170341938205286,0.03223388403546092,0.09899490350161202,0.09869703109584563,0.07006077409686576,0.06795103318234483,0.0589059961846752,0.04336120713442971,0.03109713318174278,0.06689445876563624,0.04929193147527727,0.0799510737778905,0.08909282923146655,0.08882667326942884,0.06181896803649112,0.07345650720179575,0.06054406818341479,0.07491050099815479,0.0905547200071758,0.08945188087367868,0.07780056095667845,0.08288255420719078,0.09492694126108922,0.09969873424655923,0.09202594667054012,0.0826580351499408,0.08635237302601409,0.07386598555547413,0.09175017899880589,0.09494265815685618,0.08442286354788187,0.06997323310068325,0.06528415349597264,0.0560669590750972,0.054612813589404736,0.05686581006059147,0.05560912692537487,0.05449885862951107,0.04982097901745327,0.04922243512635777,0.06368868479386802,0.06371029134975059,0.06451140704108435,0.058248904687548037,0.06535054729783157,0.05170464889034426,0.0592189373957389,0.05190815990870981,0.0613994510542177,0.062312243247251306,0.06856180229161055,0.043872032191680156,0.04323225478690134,0.06102642532123386,0.06681249987493891,0.052852008386010466,0.04788137006218084,0.0576023428886952,0.045970977270292014,0.05394713720783031,0.06294497719727325,0.052090634366849284,0.057495176239410875,0.060514179835771495,0.05692144626864919,0.06994495381185464,0.06617193255455574,0.06523840849379307,0.06727291936737083,0.07228396683351086,0.06120570083668369,0.06377427386175014,0.05920284119783999,0.056327444497379704,0.054553304867930044,0.05086921169582293,0.051532304710832935,0.04553275482747667,0.04096456819946858,0.049069218456166866,0.050691191049530106,0.05981985847030476,0.056399905367490843,0.061963989567856904,0.06583099934926152,0.06288924958722164,0.05400940577797826,0.06114862280211765,0.07148032411863829,0.06721381117736452,0.06307203031847729,0.0759335660046251,0.07392275692236942,0.07556214229000482,0.07962423398445517,0.07686184441785082,0.07769458898093518,0.07633545941138199,0.0714513746857262,0.075686791034501,0.06870274568092073,0.06904593444496761,0.06906990351829152,0.06850223083393014,0.0734102594158465,0.0707570531609097,0.08004676223331952,0.07253522415721354,0.06970572939860202,0.0652389166433726,0.07481044780642448,0.06779354967136207,0.059319592163518835,0.06298208241358094,0.07724867956660472,0.07509034208731685,0.06195265713979192,0.05838328719268048,0.07156682800501327,0.07948799933189278,0.0644127669095355,0.0527626895582988,0.05444660717398902,0.06049892811611996,0.06617297502748232,0.06128175550549561,0.058418007770408974,0.058666877248548105,0.05629674910216132,0.05751394487693181,0.06053555002918223,0.08186350557191763,0.05548301300484863,0.06286709029642759,0.06901428741446453,0.06496255888233199,0.05999068678639219,0.056815357105340324,0.05077207677232361,0.062468495045009266,0.06770475684249351,0.053273439616021295,0.04774719981270788,0.05878435274895774,0.05502664169507584,0.06371572291474677,0.05215067852919278,0.07354562426958415,0.07800710765557628,0.0666309480222122,0.056229666019352656,0.061079976956268246,0.0705554192521465,0.06972795509318293,0.0708543039446628,0.07291585322418874,0.07569875598730637,0.07615797722885781,0.07784722287600984,0.0748284601577477,0.06497950014504722,0.06831807075950114,0.03567062378284364,0.03341299113802179,0.02031435775395803,0.07281554032597871,0.058107800915911126,0.0709602708764687,0.04988129359728312,0.06182872857231874,0.07598389340923806,0.06600097709403642,0.043860774893157047,0.046204075598533165,0.036909475417565264,0.051464169316513084,0.06005254349972692,0.08118805433042696,0.04024465729027141,0.0853236136455636,0.06368906692547104,0.07841025379262631,0.07938746784240214,0.07718642063774793,0.08360922529997762,0.08319302590110805,0.08684544150768907,0.08733536316234261,0.08708095662979233,0.08747223939784697,0.08606374515475686,0.08810570990643007,0.08352611181967917,0.09250452631096429,0.08086407719164432,0.0822010310846523,0.08515505583338202,0.0838507346007455,0.08737815919343131,0.08440981765521509,0.0850741582635791,0.08440716655008199,0.08413604573426753,0.0825773946323635,0.08341507378623111,0.08538919743441731,0.08135695079300648,0.0836775652421882,0.08144958932888291,0.08190622426883283,0.08923785049275422,0.08452226688482203,0.08125454618378339,0.0811428574524016,0.08132586068708203,0.08028717718750897,0.08030601558949267,0.08009112984458926,0.08216189705581109,0.08458803972365612,0.08523303882225414,0.08362532432956318,0.07957663608178797,0.07951251597741221,0.07959291068642362,0.07970924077791432,0.08106482898156968,0.08343869837424013,0.08286311772480286,0.08633726448987389,0.07907498248523304,0.08445156603762977,0.08240437683901218,0.08089879325740744,0.0834834558302292,0.0884234291405788,0.07925012925738441,0.08256968815353945,0.08578565874477098,0.08056892277358686,0.08428942621157902,0.08671213125869973,0.08978382487677274,0.07830656781799633,0.08220395458645505,0.08464955041202504,0.0811509547065033,0.07828269462878944,0.0790505777474479,0.07701203532531944,0.08686725070971898,0.07979839096340707,0.0836862780734589,0.0901778646158714,0.07774302076047086,0.08090656485882149,0.08797997066353558,0.08509407951702623,0.08253933747383356,0.07845589296611352,0.0806028564178596,0.08581273409713566,0.08360191084280516,0.0882012908900798,0.0883325692768529,0.09035868861976809,0.08731609081985812,0.09260650109876711,0.08485702788758785,0.0772113913907024,0.08215239667260486,0.08711215437593163,0.07919664824188287,0.0838900944833923,0.08885026929722284,0.08520665186035793,0.0744016794452795,0.08247626288049498,0.07984738108865236,0.07677484811463044,0.08632001176945439,0.08340195363750669,0.08082332955134663,0.078320306147622,0.08560684771378464,0.09112439238893479,0.0825803947017843,0.08935632883515825,0.08042060204583995,0.07532055792389679,0.08381522727504769,0.08738490835457573,0.07879042738664127,0.08218382629400513,0.08520294551466534,0.07675018847770365,0.08104149616188813,0.08405041617856952,0.09189221836853123,0.04753703819980788,0.0947582766239941,0.08837437744524483,0.07377812334868777,0.0787702580598822,0.08189032054700789,0.0862721300814253,0.07992481954401746,0.07704446023506781,0.08247244617780249,0.08452789642927644,0.08753313697946821,0.08057777448643978,0.08563253285977619,0.07515522176732368,0.08973101194959977,0.05333121784410667,0.07779134126279806,0.08320400658477682,0.07955278480862157,0.04947898931493681,0.07310010305179666,0.08389214500581868,0.08170607961123354,0.08639044431903381,0.08847654465336978,0.026329604478805512,0.04546502877883875,0.07828701868817524,0.08092074576571995,0.0024591864921208184,0.08437772967964431,0.08241514254192174,0.07610360932762293,0.042001266034109114,0.08551090257040299,0.08651790789075668,0.07970519015054575,0.09117753382158517,0.09670771180143206,0.08793817679842576,0.08296374461670969,0.07261131625290228,0.0742891761318877,0.07741593328214266,0.03876223771204243,0.0711463369501084,0.07266624367182489,0.07563449117729176,0.04197460243814709,0.07921826485260389,0.08086775633874346,0.08537701958781514,0.03151165397573165,0.07661602738008141,0.08988611215033396,0.07717167369807855,0.08293006841980405,0.07937221484929169,0.09321759044435006,0.0863467421757376,0.08072525119789493,0.08937320777000507,0.04398225848669983,0.08430655622468708,0.07630014519753262,0.06827846322431264,0.08151945781817763,0.07858273616260508,0.08762670897593285,0.09145156622125758,0.09050119676324431,0.09283957062831234,0.09428082361544288,0.09753717726737471,0.09115319192071,0.08674176656052107,0.08819316303534627,0.09159789338015091,0.09197933432123631,0.09607677666009742,0.09315339245604963,0.09088590807624604,0.09826235966519942,0.08817752345198203,0.08896771266825293,0.09333143122750516,0.09585094346225403,0.08360731620592585,0.08647556224821358,0.09054480116179826,0.07779757095119154,0.07411590153164768,0.09464763137660337,0.09455948436385563,0.09237825118067489,0.09973894942886619,0.08218691898605879,0.09538057259797601,0.09773951396788996,0.079205893156689,0.07532472327700013,0.08416218361527547,0.08071503917655758,0.08982661780318521,0.09402536060842161,0.07745358581077122,0.08536956065011446,0.018149546459701883,0.08282955022412351]},{\"label\":\"max_depth\",\"range\":[3,10],\"values\":[5,6,8,4,6,7,10,6,6,3,3,4,4,4,4,8,5,3,5,10,4,4,5,3,4,7,5,4,3,5,9,4,4,5,3,4,6,5,6,7,3,3,4,3,3,3,3,3,3,3,3,3,3,3,3,3,4,3,4,3,3,3,8,4,3,4,3,3,4,3,4,3,3,3,4,3,9,4,3,3,3,3,3,4,3,3,3,3,4,3,4,3,3,3,3,3,3,4,3,4,3,3,3,3,3,3,3,3,7,4,4,4,5,6,5,4,5,4,4,3,3,3,3,3,3,9,3,4,3,3,4,3,3,3,3,3,3,3,3,3,4,3,3,3,3,3,3,3,4,3,6,3,3,3,3,3,3,3,5,3,3,3,3,3,3,3,4,3,3,3,3,3,3,3,10,3,3,3,4,3,3,3,3,3,3,3,3,3,7,5,3,3,3,3,3,3,3,3,3,4,3,3,3,3,8,3,3,3,3,3,3,3,3,3,3,3,3,3,3,3,3,3,3,3,3,3,3,3,3,3,3,3,3,3,3,3,3,3,3,3,3,3,3,3,3,3,3,3,3,3,3,3,3,3,3,3,3,3,3,3,3,3,3,3,3,3,3,3,3,3,3,3,3,3,3,3,3,3,3,3,3,3,3,3,3,3,3,3,3,3,3,7,6,3,3,3,3,3,3,3,3,3,3,3,3,3,3,3,3,3,3,3,3,9,8,3,3,3,3,3,3,3,4,3,3,3,3,3,3,3,3,3,3,3,4,3,3,3,3,3,3,3,3,3,10,3,3,4,3,3,3,3,3,3,3,3,3,3,3,3,3,4,3,5,3,3,3,3,6,3,3,3,3,3,3,3,3,3,3,3,4,3,3,3,3,3,3,3,3,3,3,3,3,3,4,5,3,3,3,3,3,3,3,3,4,3,3,3,3,3,3,3,3,3,3,3,8,7]},{\"label\":\"max_leaves\",\"range\":[0,100],\"values\":[34,75,84,40,27,64,68,21,28,3,47,3,0,48,54,38,50,13,93,58,42,17,13,76,32,45,64,7,22,39,100,9,4,10,32,22,76,57,27,69,5,6,0,18,19,15,15,27,25,35,28,28,21,37,32,43,32,17,39,12,16,15,24,16,30,50,8,11,20,24,3,35,36,42,30,46,54,45,7,13,46,39,34,41,30,25,18,50,29,22,5,33,36,37,48,48,56,44,41,64,49,51,40,48,14,40,53,1,61,11,11,10,10,6,13,2,43,31,38,8,34,16,14,19,26,17,11,20,4,52,23,15,12,8,84,13,12,9,7,9,5,13,10,12,18,36,49,44,6,0,41,15,11,32,17,9,39,14,60,46,3,12,21,13,16,11,7,9,11,37,29,13,12,14,10,7,55,34,9,18,12,16,15,14,5,20,11,8,18,13,43,10,9,6,3,6,6,5,4,3,5,2,7,4,0,4,5,4,4,1,4,3,3,3,1,4,2,5,5,0,4,6,2,3,5,6,6,2,4,5,7,0,1,0,2,0,2,2,0,2,4,2,4,0,5,3,2,6,0,4,7,2,4,5,7,2,0,0,0,6,4,8,2,5,2,0,7,4,2,6,8,3,5,5,8,5,0,4,7,3,6,73,9,0,99,2,4,6,2,8,4,0,6,2,4,9,6,2,4,0,7,4,2,9,5,0,7,2,4,6,9,3,1,5,8,0,83,3,10,6,2,4,6,0,8,3,5,2,7,4,10,1,5,2,0,8,4,6,3,11,7,2,0,5,10,6,4,8,3,5,2,0,2,2,5,0,6,3,8,2,4,6,0,0,0,4,8,2,5,7,2,4,1,9,6,0,4,3,2,2,67,3,0,2,0,4,7,10,8,7,3,6,2,4,0,6,10,2,7,4,2,0,0,0,2,0,5,3,8,92,2,5,0,6,11,3,9,2]},{\"label\":\"min_child_weight\",\"range\":[1,5],\"values\":[3,1,4,2,5,5,4,3,1,2,2,3,2,3,2,4,1,2,3,4,2,3,3,3,4,2,3,3,1,2,3,3,4,3,4,5,3,3,2,1,4,5,5,5,5,5,5,5,5,5,5,5,5,5,5,5,4,5,5,4,5,5,5,5,5,4,5,5,5,4,5,5,5,5,5,5,5,5,4,1,5,5,5,5,5,2,5,5,5,5,4,5,5,5,5,5,5,5,2,5,4,4,5,5,5,4,5,5,4,5,5,5,5,5,5,5,5,5,5,5,1,5,5,5,5,5,5,5,5,3,5,5,5,5,5,5,5,5,5,5,5,5,5,5,5,5,5,5,5,5,4,5,5,2,5,5,5,5,5,5,5,5,5,5,5,5,1,3,5,5,5,5,5,5,5,5,5,5,5,5,5,5,5,5,5,5,5,5,5,5,5,3,3,2,2,2,2,2,2,2,2,2,2,2,2,2,2,2,2,2,2,2,2,2,2,2,2,2,2,2,2,2,2,2,2,2,2,2,2,2,2,2,2,2,2,2,2,2,2,2,2,2,2,2,2,2,2,2,2,2,2,2,2,2,2,2,2,2,2,2,2,2,2,2,2,2,2,2,2,2,2,2,2,2,2,2,2,2,2,2,2,2,2,2,2,2,2,2,2,2,2,2,2,2,2,2,2,2,2,2,2,2,2,2,2,2,2,2,2,1,2,2,2,2,2,2,2,2,2,2,2,2,2,2,2,2,2,2,2,2,2,2,2,2,2,2,3,2,2,2,2,2,2,2,2,2,2,2,1,2,2,2,2,2,2,2,2,2,2,2,2,2,2,2,2,2,2,2,2,2,2,2,2,2,2,2,2,2,2,1,2,2,2,2,3,2,2,2,2,2,2,2,2,2,2,2,2,2,2,2,2,2,2,2,4,2,2,2,2,2,3,2,2,2,2,2,2,2]},{\"label\":\"min_frequency\",\"range\":[1.1491825887784135e-05,0.9989346712416348],\"values\":[0.22158375303941724,0.0928997077946343,0.405204108791811,0.022021083546735376,0.6941524927370188,0.659750266519583,0.5489812575815101,0.7774510304618985,0.863417213326277,0.5992044985624347,0.008207659467469349,0.9651748115397834,0.9423809703909172,0.9936183145106409,0.39391150043606626,0.2508078595469976,0.7993099389680205,0.4590408696894044,0.9817200909719953,0.49887292498345304,0.29879538265076755,0.9989346712416348,0.8456502512257055,0.9020507208232252,0.7358499587096944,0.8988624628415031,0.7915779137784009,0.63718889111586,0.6175185675932887,0.15414182019993572,0.6925273867856678,0.9335034981752991,0.8419499909061599,0.998847232847844,0.7468454690249403,0.3798203965034208,0.5719464606719611,0.523544589243603,0.6305250154228996,0.6482485200056685,0.14370330951723198,0.0036687081624923734,0.027428266853627217,0.016848102296555874,0.008066076297196915,0.0048002261855194265,0.04539745273682008,0.06302111414425346,0.08260567801273104,0.0651279724069989,0.007024668927761846,0.10709362390774421,0.013318208031768086,0.06025847321356673,0.0008947471879895749,0.009108125871786903,0.11516751233610845,0.0438926765399289,0.16599496851070936,0.11735151160764981,0.046751380140701154,0.04537841162055521,0.09431512513523738,0.044791240082727134,0.07649047845326866,1.1491825887784135e-05,0.03620779968462443,0.08766260150104194,0.19753479974927443,0.12914115323509356,0.08935332880109481,0.010319564155141864,0.037783119370475446,0.003515034094145393,0.06472710667928011,0.03699197739876717,0.10635059046876608,0.14596446793382462,0.033899964819680425,0.17928865017924445,0.06658839665233175,0.029958721644853643,0.027606851159694745,0.13234779364303817,0.0007822809298572301,0.05249542297357122,0.09300220755298778,0.00026277757094770107,0.07141888204521937,0.12087947051751034,0.05221137867833882,0.022586024943194075,0.004757884180043748,0.03108796385525803,0.0762753194732702,0.07779828461089924,0.050840731432204925,0.11345617942766698,0.10114230021674997,0.02599074362903068,0.0734056887948308,0.057112295033134336,0.07733471100743089,0.08372580221931288,0.07265318818954244,0.15807662373110482,0.07530457662432408,0.13551640254655237,0.10159598427184889,0.02123986130051585,0.0190918929546058,0.018964021729990545,0.06134707110990268,0.0003772451425956905,0.022192352362072974,0.04582279492136528,0.08582117337826221,0.06754176696643466,0.027748232502503203,0.0011465798323887222,0.10793509639686252,0.04433464325445531,0.05221288688593598,0.02317366571727581,0.07920135922793813,0.040439317772716435,0.125363327342718,0.09033724022431615,0.24471631854934034,0.0011253036942387995,0.06355938649574344,0.023033744998824365,0.015614493115588051,0.04482341347947165,0.024767812017446794,0.0659377462214123,0.1429194186989822,0.06708840198517735,0.0009217288759660741,0.10030593092600865,0.06074781949250728,0.07413362624021383,0.03738485974467389,0.015939498691413412,0.12240139380997153,0.1746614433616281,0.08749805575433678,0.05550151723255798,0.028999619337203634,0.07497017497479815,0.01630436458907622,0.04648847993463311,0.04869019612917551,0.09571435210717341,0.018536569693921846,0.06875956967336938,0.0347981550140839,0.0013165681446373236,0.06215004753700435,0.1163105560726784,0.35450158979814067,0.01820013711835844,0.03741948034204001,0.0006854818535855585,0.0209024682754731,0.048060464531416894,0.19815356020017644,0.07805125408802058,0.053091968966307,0.10060433196347456,0.021564766744673187,0.04000835141468647,0.03592016917534804,0.00024191470286119565,0.061504209514005106,0.037003477961856615,0.07780642083907267,0.019832103387680718,0.05273023251840267,0.2892844874028464,0.14852738418844486,0.041295947813795586,0.43810868792803304,0.02027341954496588,0.08823652560389433,0.06012001592786347,0.038000820328986946,8.747488707157303e-05,0.10122711167137713,0.07130104441363122,0.018029152288762167,0.08315340070202702,0.04728791962642226,0.0735729089143274,0.12063531788510665,0.031869193471071186,0.017649853360177107,0.019276508399960306,0.01194805207189165,0.5772122546030619,0.02038455447091265,0.0035544227310259913,0.016157634799520176,0.042556057178493464,0.4982841163883436,0.057686206802456036,0.05891444083065842,0.047201849579139976,0.05502396628039048,0.05484149837793616,0.03860906227970067,0.035904239618016205,0.03603733585738776,0.04165219863599435,0.0606662214680802,0.04270514497101652,0.034818829330179324,0.059779987620720086,0.09605644297448981,0.06361120815913297,0.6573687510984335,0.03299705811198384,0.06055981268409992,0.03732365448246431,0.06324334024425693,0.05764036276428381,0.08582875407087753,0.704213976789219,0.05999727968657606,0.06302704909763951,0.10605732130961903,0.056560290235641006,0.05993796758569315,0.07872340617837574,0.08961784499609876,0.07669207624068196,0.06732860091231285,0.0688607588577442,0.10659884762803443,0.0715338094518101,0.06709919129995798,0.6217266375817914,0.05923179324168561,0.08486573917499864,0.34733489030676856,0.13269027697106803,0.05685990325694934,0.2499774014448658,0.09355575502186307,0.05288218898327219,0.07732338065940467,0.03683738565194001,0.19825440514562398,0.11717693210747263,0.05776390879649851,0.1612110568895233,0.03285987685207793,0.2757421990267443,0.07577264821609406,0.22040266385401852,0.09657851176694066,0.8696833566721921,0.8127103512060323,0.03186607543379233,0.05482097764776907,0.07135112539921885,0.0290688590861344,0.10688928965652718,0.04987574864535482,0.08333286341078776,0.1387046257689903,0.03378751567186782,0.06213166975162323,0.5510991967347332,0.02180387116120861,0.6778978354215764,0.3471127886121802,0.09350176486150769,0.5191247117810501,0.7650980553806834,0.9479864857492082,0.051315395081729,0.5997138056814003,0.07686320177038461,0.12328250001838245,0.022470953520675328,0.0504963466234201,0.31360651889668706,0.4328249390185459,0.37992721045302236,0.4751113132738943,0.07257538588360461,0.03803388075326334,0.0164596204245747,0.10708616166289706,0.000751134775524645,0.07156370106519125,0.049432586844114536,0.09075321435771579,0.03214925501148044,0.05992566328555343,0.03673129067749595,0.16905603620353524,0.0682014919443675,0.4068271705733573,0.09181795982570298,0.01928502871955754,0.23346801193470457,0.04880323596712198,0.12024211348143542,0.06494911546004833,0.02874042001115249,0.01221922254094765,0.07603120774999282,0.15055120171206576,0.10440549401075551,0.049702767731442624,0.08640717362686907,0.25938241366380255,0.039079739738454064,0.0010469693963780988,0.0581068159836501,0.023939919483048668,0.07399775550830137,0.7214963957870723,0.1806579445099531,0.04450328853282657,0.12387042610354985,0.6546071349357013,0.10137232284352005,0.6128004942012992,0.26886356005308426,0.06228475440800701,0.019564015890429234,0.3227830329675673,0.22666987882921175,0.3128245781338796,0.5426133546703618,0.041251320506072234,0.08425249964819617,0.7527652709459045,0.02835701867902389,0.05852467309304731,0.013272689845101101,0.001083539538666481,0.2921419122993864,0.9072208829529125,0.019098648543229985,0.0018134288619519462,0.37165604943890634,0.0373739499396517,0.033873356898955216,0.5869876268807006,0.0180480768588755,0.04042587411766208,0.28056872264010824,0.041886502786314526,0.1430515773811737,0.4424435316118112,0.020414453194773252,0.08369958470476338,0.7362445501065771,0.00040999319405516516,0.009581854714324399,0.012709626365128145,0.06251271898483045,0.10780149002804615,0.9767208806414996,0.19446201891426984,0.0015980874520331485,0.0005134970203106593,0.04999311991920653,0.030283763848049865,0.6889569723502842,0.08182423424253371,0.052080207962983495,0.4634285840170603,0.028816008613015705,0.07012340724958778,0.09314450501769544,0.4961425818034166,0.2591536896695444,0.13148809081314164,0.06972450762680121,0.09817703409403213,0.5515254285610642,0.07291843563632137,0.6317239007827506,0.8253305220995282,0.10797233863683697,0.23291524940233732,0.07821079381258056,0.16020072587326553,0.4284435192134356,0.20113708120555918,0.06613431562569927,0.041268682802483636,0.6680583655696956,0.1213559213164926,0.8598018026519565,0.08741068850409792,0.05000155320012041,0.05957987359029462,0.3440718957532425,0.07299444664878707,0.04767326008613776,0.5159842269480828,0.48707313343709274,0.09467966820732487,0.7638665037974182,0.3998639837233897,0.05164069054764209,0.0326408002948834,0.25065892718369304,0.3705006008634865,0.07285785078011194,0.29397248669133025,0.1178281712240416]},{\"label\":\"n_estimators\",\"range\":[54,999],\"values\":[928,131,598,535,562,913,895,364,792,408,72,324,272,696,689,717,483,657,794,506,193,336,456,240,588,792,322,436,999,634,535,416,421,735,180,553,287,627,378,446,510,492,365,585,559,578,485,556,561,615,767,660,821,870,522,755,473,670,670,512,703,756,711,829,590,696,645,613,740,531,678,477,482,587,783,390,397,54,640,534,443,330,475,389,417,415,360,510,716,454,575,303,428,433,365,352,257,380,611,502,306,210,317,297,314,313,246,344,333,269,141,272,156,408,108,224,113,280,365,428,175,460,316,255,404,232,289,372,493,962,524,538,574,346,546,683,323,659,679,651,733,605,566,635,457,667,698,423,298,517,342,701,723,390,267,684,80,658,205,619,361,625,636,582,594,495,470,492,564,504,546,665,654,617,151,311,446,517,686,328,597,662,703,674,631,740,713,529,292,487,401,504,480,547,533,567,550,572,542,556,549,524,572,546,551,588,601,602,587,586,578,578,579,577,586,579,598,575,569,600,572,534,534,543,579,529,529,564,512,518,588,537,542,538,540,562,529,527,521,530,550,581,556,611,506,536,561,517,585,541,567,602,511,534,557,579,613,619,543,604,500,525,562,591,553,615,532,581,499,513,558,638,598,601,621,573,591,566,808,543,600,578,632,518,553,615,591,885,544,485,570,525,562,604,541,582,503,846,523,552,626,593,571,534,468,512,644,560,609,580,544,242,497,590,559,533,614,781,577,547,186,518,595,564,484,532,577,623,509,269,219,551,924,603,568,643,537,521,592,554,570,500,585,610,640,617,620,753,602,587,603,608,632,605,575,593,560,632,579,544,611,560,596,581,535,553,572,626,526,592,544,573,654,591,614,559,531,486,492,465,501,480,487,511,258,540,452,434,462,472,488,512,500,524,452,514,480,549,527,560,497,541,279,524,240,553,587,574,542,502,446,564,594,533,969,474,518,569]},{\"label\":\"reg_alpha\",\"range\":[0.010608617223583638,0.9998235323670907],\"values\":[0.0731018898314395,0.8638565502518448,0.47788429118689435,0.8123655615066537,0.8369126992525343,0.4870074414896619,0.7488776149138628,0.41767836941415193,0.019419877599792135,0.23781012759783937,0.9646441175278874,0.655737038112698,0.6715413542310216,0.6381063846393391,0.6044288777761857,0.957215462677613,0.7678703220138644,0.5751063589824921,0.747127043429607,0.8864265513533364,0.35870658403143213,0.6440505043061582,0.5741872138423941,0.713751293226893,0.7997775464805305,0.6580174344258263,0.6963268359728042,0.5417016628942359,0.5495688304627535,0.9033780590398696,0.8289595232893306,0.6260527426765291,0.7266223172341365,0.5410254570353051,0.7894726858202182,0.6293804456659855,0.5041309368330704,0.8442748975104091,0.6831732774931942,0.4446110457469438,0.7512985775960582,0.7584321686743706,0.7016600866890904,0.8033216772607523,0.8140657223969681,0.8170020204400267,0.8651666012962158,0.9236545403696239,0.9925892931342051,0.9259252583282209,0.9213494976498089,0.923670523797764,0.8615221074060309,0.891947663540524,0.9476948618820782,0.9544363848512767,0.9998235323670907,0.8207227072499683,0.7697031072192441,0.8431549511552308,0.8706924851031971,0.8760205457607795,0.8338492785127466,0.7856295191192899,0.8964549229223129,0.9510800076198055,0.8215737823860104,0.7437568990374043,0.864347664094735,0.7933429648844226,0.9062154229352867,0.8204523392534921,0.7677406631605679,0.8476820246250829,0.8123547525108485,0.8716333985759573,0.9646535067082658,0.8901734870708656,0.8669430768425154,0.9260583880141741,0.7214118755104494,0.8281509598020996,0.7726489563827739,0.8541301242364157,0.8084529599712226,0.8785170456533415,0.7411778154351906,0.674955624561079,0.7986267686183638,0.909337651174129,0.84393239417914,0.8241217890760705,0.7989106195509021,0.7774110476089501,0.7184767494468856,0.7206697595044949,0.7590981677599701,0.696778428296832,0.8003106245524833,0.731504425543384,0.7546785895267373,0.7436086155134637,0.7868706474119574,0.7581876154049795,0.7844642310536174,0.7828070996079769,0.7136512976345643,0.7961151233829512,0.7559867900202015,0.6823880884384045,0.6641063878346741,0.6897225940395482,0.6556839674818552,0.7034475366008932,0.7331094519584637,0.6690224038330954,0.6230749320752088,0.7769913714750816,0.7130884511476739,0.8084007715566762,0.7550619614925368,0.8350315627580384,0.7951559911217323,0.6845540134594057,0.7783724011286648,0.850427179691374,0.7373432143059382,0.8303352474471799,0.8131750721242107,0.6530451721918,0.7243002950353197,0.7677877578129524,0.8096964908806422,0.7890063283400185,0.8802579597351798,0.8541772978191678,0.8156984176038331,0.7568876859444194,0.8522272997639418,0.7551557837146737,0.8355997579315164,0.7820586940885235,0.8037352967749438,0.7055210003485376,0.757621029828321,0.672986877627117,0.7372850656244472,0.7772838327708722,0.8141290709643616,0.8556202448144353,0.7215650809256126,0.794384522899623,0.8332176141710023,0.8879523697805871,0.8644802578341398,0.7609770965323808,0.743289962271613,0.8201805247857183,0.6926386038647474,0.8038598512271798,0.8716688430816623,0.7001241578051389,0.5923074239580195,0.6417465167428584,0.7763553001239877,0.7068361765396642,0.7020905089019853,0.7269733411945906,0.6690397077882345,0.7432536927939525,0.707336181750096,0.6817403470441924,0.691840421942709,0.6186181894336853,0.6686650988187186,0.7187344354047667,0.7636088096175928,0.786690879583976,0.6491657173997133,0.6807622959523804,0.7371335803618356,0.8413788256586034,0.9030087640708134,0.798005834132845,0.8328136785185298,0.7672963126576093,0.8074454708570474,0.966490787876468,0.7479717155855193,0.9375753952907375,0.6393734923785104,0.729098177655888,0.7141502450852308,0.6830624339241501,0.6882897826262578,0.7821030418573057,0.7870599868352774,0.7848809939161735,0.7530235106677651,0.7639269315765166,0.8150074769729238,0.789245383970485,0.7524104064228938,0.7960338011868828,0.7763290501259482,0.8270955624921821,0.8187666450420553,0.82243702844869,0.8453340376815719,0.8457375620915025,0.8325950408268756,0.8262122480261269,0.858847554096828,0.8490758662784971,0.8778252682326784,0.8339905319433013,0.8626960363491943,0.8308891740200394,0.8277447458006102,0.8587967319994408,0.8884892185604412,0.8370309351724682,0.8329542329724868,0.8325187544103907,0.8447266872617191,0.8444363367710451,0.8504425425131513,0.8459167120013318,0.8685124316504327,0.8934328908825112,0.8299395926035875,0.8648559328337162,0.8895211604859556,0.8697657054312941,0.8682881697853475,0.9058951373984063,0.8772485155289459,0.8793478628045114,0.8666223349113005,0.8807756398283973,0.9160563447606936,0.8580697775289708,0.8891126331129263,0.847357857498269,0.8751625730180099,0.91347994302897,0.8390997217034853,0.8899843904382378,0.8637173148220683,0.8293390522152352,0.9028509589638795,0.8548496474378722,0.8738463128380214,0.8223668833427155,0.841157921512418,0.9264806693133226,0.8761869431269448,0.8859222153917201,0.9499159672619392,0.8168829235310244,0.90099809026692,0.8419854517532053,0.8677276122919741,0.8164017255694875,0.534523532036859,0.8397332531581538,0.8827935429027599,0.9162202178615623,0.854891797391439,0.8104911900627628,0.9709196052133925,0.935175843447805,0.8269102110393614,0.8817118943555886,0.6063994584776907,0.571542382615088,0.8597153160829948,0.4165207214540101,0.8051334830722665,0.9017619438903165,0.8271957283904517,0.9862522203970823,0.9391019596852554,0.8476724774575057,0.8753043987614373,0.8193095507123024,0.11594134674075274,0.8399650552431974,0.8016780450892727,0.8710828576431926,0.8956072279071857,0.9191762834231658,0.8540467227285564,0.8287786805958621,0.79893791744898,0.8722161356971874,0.6283584167246176,0.8457822795522406,0.8153322288403582,0.901414845176492,0.9419555967002737,0.8593060806849802,0.8293976064529972,0.8854552251944584,0.7961647250817094,0.8410250670728956,0.9197775650606086,0.8653947925627911,0.4726098403881315,0.8262091818606899,0.7820032364420952,0.8888728591691697,0.9564168795162692,0.8074823309803566,0.854024869237351,0.6107270989716433,0.8362353040396494,0.8704902901688972,0.8194734627917923,0.904439375593108,0.8467439156910135,0.5712033716651164,0.7931616415467606,0.6396087601727932,0.8769683719134831,0.8181902101658262,0.9259419881065194,0.8548911319966882,0.895348034577552,0.5934898540312139,0.7681701918104027,0.9763774814350806,0.33724064735585896,0.6602417102434543,0.8096401285093867,0.8429099487892661,0.9996209402697639,0.8669838467954948,0.8315276807247217,0.9488058036853179,0.7752807815734744,0.7957140919370423,0.5337326621920035,0.8821990794490187,0.915107916754319,0.8800714461056083,0.8942189841195357,0.8178131877734702,0.8494055306690271,0.9737524356595759,0.8271755255046483,0.7899616140465434,0.8289186829606904,0.8002681763874215,0.838593996769719,0.7767161495627887,0.6187885447532099,0.814632390435878,0.7395837163787831,0.8609128304268608,0.5166746413718085,0.6478582326300992,0.9133279383423829,0.9312030434488834,0.9131807420563344,0.5644582859869595,0.8917220365423794,0.9478384223818102,0.010608617223583638,0.6760758597599366,0.8735926892917236,0.9062048737373998,0.9313669103121108,0.49103626758736985,0.8811238908739216,0.7643834321127027,0.5824722879342389,0.8547568854847934,0.8448786449242134,0.8518396369016852,0.8083677055768214,0.8428635644518074,0.8305552431061478,0.8644520277374184,0.7926113523526331,0.8557476018313054,0.7314829506306242,0.7585783604599876,0.707952557348425,0.7233862049323659,0.7386294155038753,0.1743122226811128,0.7524103851211051,0.420788551853084,0.6856386290438246,0.7763246279274822,0.33174899047227635,0.8091452791826907,0.8987972311294932,0.734088197559986,0.8660081863175711,0.8420567491549062,0.8378098363226874,0.6341736836898931,0.8544470727474365,0.6657003493297567,0.8192722552562169,0.5553933745201151,0.8805114970641679,0.5996245296682581,0.08561462659546026,0.841146267547014,0.8658567918979783,0.8078175811079702,0.8933678629776377,0.8284830104634993,0.8463901731984181,0.7888507795376244]},{\"label\":\"reg_lambda\",\"range\":[0.007188860953642129,0.9999598392819508],\"values\":[0.4083613077797422,0.06581403152421805,0.039782193554828926,0.8275565099880806,0.6888060194300859,0.21800094782955637,0.9073032931035386,0.12098364157965946,0.8085868227297575,0.8221723270350854,0.6016729991347699,0.994364110494076,0.9614563701308283,0.9905584944218028,0.7595404085462356,0.886549319611533,0.9910305522705909,0.6851034726400868,0.8657216922503526,0.5155550725071163,0.8893846184113118,0.9999598392819508,0.9903853940910206,0.7731971822935869,0.9157139599506161,0.8435165601936504,0.9271554061719796,0.7555921110672651,0.7253640898308862,0.6449103317166279,0.7887598298813786,0.8415758031331518,0.937303323268716,0.9424122459969874,0.86477758457214,0.7493396137814747,0.8082990042046205,0.9375569503640967,0.712311159911319,0.9987318767502141,0.8761297061796096,0.8823896490479719,0.8237302441589338,0.8119945624807088,0.818419389106697,0.811439201888176,0.8277902962418948,0.6365978944963253,0.6597389809689874,0.5909619785838438,0.7338457807430849,0.7113934922029457,0.7863201683942804,0.7398873505430588,0.8830220403790543,0.9015350500427355,0.7900174109382639,0.8679796723173981,0.8674547829994779,0.8946485846712554,0.8626049225703278,0.8578129559004398,0.9073324591009122,0.766025535086779,0.9520204725090848,0.8433282067444829,0.8913389874155203,0.7812866750492959,0.972549661938646,0.9113679964184588,0.9661782062787155,0.8410195025506639,0.8471121417943825,0.8776964177917692,0.9207691672722345,0.8012690921478951,0.7615473747223191,0.799576009863985,0.7260186157434011,0.8225552367716236,0.7926557275026613,0.8513071303698091,0.8716274553442813,0.8354081876058991,0.8127130220759173,0.8076375501906065,0.7578666858758982,0.931573374334766,0.7773513875829701,0.8918297366280058,0.8719388833777397,0.8303201700277176,0.855775341892292,0.8088712506885261,0.9233548098982431,0.9512724348932894,0.92729516639456,0.9130048386670725,0.860585052684707,0.9070657975881404,0.8950764643100064,0.8870111765264761,0.9779134488484019,0.9752676721455779,0.9430945747887531,0.9578784783345502,0.9414139691119637,0.9842019275006111,0.965511843022075,0.923249384503296,0.9968259047713408,0.9927269441321637,0.9401430066108287,0.9564676507421741,0.9244818754523848,0.8967387418027604,0.998868926331322,0.9174565059096111,0.8882344772720283,0.9712193846217928,0.9380931146399628,0.8520984523095025,0.870949082547323,0.9039568386198545,0.9771844645155096,0.9491222477593472,0.8760238424569814,0.9213849129541218,0.9019869074831196,0.8396877257842226,0.8584930185352108,0.8238872569526424,0.8825283553083929,0.8747898580422623,0.9293553508939046,0.8547163924275563,0.8904564439963908,0.9562290334815069,0.960726047532455,0.9964185827478103,0.9495085048139126,0.9135139914265239,0.9761315862850792,0.8489831162341204,0.9328697491293532,0.8859014458579982,0.8268873385735264,0.9128989503141719,0.9561309614389732,0.8585029778643942,0.8985559708484131,0.8738547037683442,0.8358045063769522,0.932056181007211,0.8105433166863868,0.8579247797819636,0.9808345623699095,0.8895774453883349,0.9143304297468626,0.9459907881678253,0.7858196726300797,0.8435931239617852,0.8357476810046182,0.868162162803049,0.8826305761798896,0.8541637534920418,0.8060750722815181,0.9021081276358947,0.4321673783306367,0.9988960640139187,0.8493546762097505,0.8644045526198584,0.8167554570828195,0.8364719583777924,0.8736657500149234,0.923812064213549,0.9677003535935988,0.8569026675727589,0.7719287055944315,0.9018610858198122,0.945409144074348,0.8824782581789433,0.859530448933687,0.9197015889013842,0.8252926691066945,0.8463436605112689,0.8930191654657228,0.79826556117443,0.8758440241387518,0.9679061741584208,0.9415945765236554,0.9045837929319486,0.6877348055908099,0.9041410195239258,0.8644366587462615,0.5902486675884718,0.7313542769524399,0.7342609004294218,0.7154357328086342,0.7163692834888975,0.7397921829681634,0.7324277418408672,0.6949298652903401,0.7429885604139137,0.7548283719778347,0.7588941257351197,0.7685014591018554,0.7603924686509904,0.7806269349270917,0.7798557217392607,0.7864229013255424,0.7704823922790215,0.7505809608361665,0.753069085753855,0.7774656211276447,0.7910682277353491,0.7846333396113987,0.7495983859896589,0.7704421972985706,0.804606815479842,0.7585541976083853,0.7170265881717828,0.7080774513318318,0.7378963922072836,0.7096800749642194,0.7123037377509877,0.7169868651474129,0.7055237691164084,0.7111299809024973,0.714210558429546,0.6702986994968804,0.6951921524646608,0.707722466916742,0.6963813647050543,0.6741292095227305,0.7045105848615245,0.6901357773380901,0.7184944518105165,0.6959285773791053,0.682602820847465,0.7236523103495426,0.7279465801885433,0.7009276907901396,0.7450996327887459,0.7125631129827119,0.6915381565216294,0.6636498572210536,0.7465975122871517,0.7299693401750585,0.7154658960703489,0.7632502643783665,0.6550445731877208,0.6858698209301503,0.7438954828446724,0.710201127680501,0.7666962174877726,0.734496296845386,0.73176806948575,0.6997977690542349,0.6429811240879865,0.7209503982952619,0.6823168774576653,0.7894458427962101,0.7705965481734686,0.6764527902753714,0.7299546010341724,0.6947654824070351,0.7498114912718342,0.7127764295905082,0.7906069928335987,0.6619535770213206,0.7433861814709537,0.7205357760601301,0.7673609432862593,0.7260158973364306,0.7827045353064267,0.626755866535175,0.7551116706895705,0.6923069528719188,0.7388383390648751,0.7218961590116976,0.6707213505297798,0.8006627301123033,0.7686432997591923,0.7050492589473712,0.7365446085136417,0.2470990086912246,0.7562246087007247,0.6859328174992481,0.7812165354464987,0.7197989887522245,0.7027352469885348,0.7491691562363283,0.6498812343012643,0.7957058461930038,0.7281881964751459,0.6769241618111842,0.7651588726874726,0.6974124983955564,0.7185349020694579,0.8125261736396427,0.5431591174134127,0.7467368979996502,0.7769802200457525,0.7289628182542947,0.6671780667963927,0.7065663073168379,0.6867613167025356,0.7559072383429204,0.6321523346969077,0.7949737147957127,0.730664740404889,0.7706419813678618,0.7080370609924536,0.7408120166464895,0.809630275374989,0.6629757224452368,0.7829255541609056,0.6963486668115647,0.7529997402736303,0.8222166985343536,0.7133110031487053,0.6821615008820143,0.733201410999569,0.7654255337670599,0.6005428091448161,0.6534375499303919,0.7390559493338825,0.7152429646589182,0.791242895733294,0.6231485094825193,0.6907212638192493,0.754376462615886,0.7250759399054288,0.007188860953642129,0.8213925575225035,0.6757274266920876,0.4342721806983632,0.7780316648059675,0.7030934882645119,0.75382926743867,0.5400624909307659,0.723825783336182,0.7942264724882079,0.8082426427868729,0.8322873315925884,0.7884510860940792,0.7691252748225532,0.8084926207805516,0.9242387834381999,0.7925956910519476,0.7694150140835307,0.7981503389624065,0.7883380958956764,0.7450002570587814,0.6453683341276557,0.7410937918567448,0.768492111252544,0.8149037150250553,0.7906867245697774,0.6190177095761182,0.9382291123394395,0.672200516730884,0.6816723993303502,0.7173589761014998,0.6723402617187807,0.6516138216217002,0.7044415929904712,0.694354838137972,0.202549259766596,0.7405249659075339,0.663933230754235,0.7261916318692377,0.6972606421545126,0.7495289563220346,0.9107376295166222,0.5782155616696588,0.761261674161704,0.7278962278682677,0.725303713607296,0.7565443803730723,0.6853909240835372,0.6426555517108177,0.7124466261308605,0.738588208083295,0.7624832221901684,0.6717942159830773,0.669530010975345,0.6587660462980065,0.619637851164781,0.6932689482143249,0.6801096878147083,0.7104141059088974,0.6462473079482842,0.9608536738937182,0.7165595377150208,0.5131953931013068,0.6845234139671881,0.7313235009678495,0.4896556156755723,0.9768774605360071,0.7067613195637307,0.6699746611601101,0.701264823290646,0.6969621810562773,0.6070832919394755,0.8344582283276172,0.6435331337652893,0.3263403910256607,0.7666441315160232,0.7350363402851441,0.9409763615101451,0.6624014522439466,0.7728272387717146,0.04418921365322104,0.7262593286489277,0.7459241921969046,0.6924414438936789]}],\"labelangle\":30,\"labelside\":\"bottom\",\"line\":{\"color\":[6916.665387805601,9221.389001923017,7221.751804055221,6621.410326428451,6901.705755484328,7165.6050725942005,7564.210910173268,6892.663920466446,6913.18398274685,8134.616638347227,8080.741002141631,6790.558098432525,6813.431291431908,6784.97080858655,6856.710274798621,7075.810352887928,6897.701196992685,6968.199473342691,6903.022388243484,7443.983343293136,6812.676901973285,6820.979483433128,6800.235181296479,7085.1509568774345,6836.755289113554,7201.144848370999,6837.1687075535665,6786.914891547236,6875.73686088378,6897.42027614072,7382.449373383305,6831.868513930579,6855.790400773527,6876.95207913887,7108.327094520385,6870.652565472887,6940.42409501063,6870.2414143743845,6963.1724012441355,7169.1730302498745,6796.5604806854,6623.8921944871345,6644.386026254608,6653.869296935544,6632.45749073182,6629.6370604926715,6638.255027464184,6635.314244247314,6676.894753750144,6637.6929343788615,6630.455067693389,6832.852444226876,6639.488469141737,6656.46788532165,6619.021635122018,6664.746299452181,6831.3383118166685,6622.932871759736,6790.978878358734,6834.124715605626,6628.0033326340745,6646.307164660088,7133.084282841823,6767.780241692673,6636.72649275138,6689.055924811887,6645.578286833163,6852.417892967408,6788.773225861005,6826.29753967776,6794.467948013592,6630.990170823984,6637.259077220436,6642.131667027205,6738.881751911889,6630.41218317354,7244.40728465226,7704.37101160617,6637.780612966011,6822.901889013541,6637.415361092493,6634.05885075628,6651.160612295524,6791.8468066668065,6620.128117620146,6636.536427474853,6929.689622239836,6637.34155142531,6694.006117997157,6850.478192055833,6686.047905234165,6643.317714987747,6626.724519172239,6643.525732536418,6627.318296417155,6635.388008874479,6646.05511043027,6803.757885071292,6805.939443020655,6678.398385873748,6623.507467684094,6653.060824496497,6624.998767944827,6886.52000762694,6606.7149511342395,6866.364269757718,6630.662906759227,6865.063179987685,6987.980098775501,6610.6394920860475,6626.675357440202,6645.01023819747,6634.712352272013,6792.554482304059,6636.8098807245415,6641.036011478536,6852.546030980333,6647.926377692746,6673.330032471357,6636.234290319857,6978.167325140004,6648.480641822713,6632.079018764138,6634.032115005616,6646.345621185712,6955.648706676493,6889.369708713194,6809.328238397757,6805.862699288785,6653.334373642868,6672.712419525228,6654.242101858512,6623.136398356338,6650.278983108479,6652.661033405376,6619.287172537387,6889.961545816375,6625.810194409245,6650.134334778977,6815.516698658306,6699.037252758527,6637.223650321244,6637.190831161376,6628.9961627622715,6817.579722959298,6844.737829745295,6797.577305770751,6637.047884289125,6643.030145435487,6637.728010898621,6720.967533714969,6643.325115991342,6662.10821893196,6872.579131302821,6636.32730912523,6638.966940043759,6919.709141299169,6678.036028087299,6647.016274132614,6852.535831850272,6967.750405482888,6624.576814155476,6651.998696375788,6629.014040724522,6631.303572462966,6620.616788449939,6788.153000737004,6628.141624062055,6651.5440050795,6838.042949686741,6643.601048446532,6621.292575294147,6636.78061007175,6646.5994169628975,7006.0773739239485,6633.1558998251085,6635.3849026677435,6630.904490371172,6736.221101571664,6874.262223647683,6821.260443229778,6634.768152395458,6896.339350968839,6630.344369146843,6831.210023465808,6642.322856258771,6645.451907201363,6640.660750483699,7029.610419961147,6690.699589542665,6648.325787807597,6693.548833218081,6633.578606449567,6600.058004548019,6821.556082983759,6626.754700852463,6625.1294131854265,6607.6907798214825,6617.8420908214575,6854.484830800075,6630.333664922228,6637.100582951195,6634.48449344993,6624.010498121022,7379.256133215037,6608.744577443632,6616.0825474306985,6637.414650464505,6594.982397084581,6675.712429343216,6613.01060817197,6581.594174668872,6620.039478700858,6640.428160240439,6649.023457688237,6611.126215916856,6632.621802117806,6618.553294532101,6783.5443798402675,6632.801768060024,6850.648237844574,6606.490008685608,6619.943147736005,6625.857726166139,6610.139865046852,6607.316654767811,6816.002048686746,6877.377183234084,6619.580301167179,6628.4137347326205,6794.259745252676,6607.240837097168,6617.035463041659,6615.865097864064,6810.827357642453,6649.701501902562,6611.724550467075,6613.04327684561,6766.816828218925,6636.158373078456,6622.096964286416,6880.6943363465825,6639.731504752233,6800.642558039033,6887.363302312651,6813.513247022041,6641.919757098998,6844.983762347347,6781.622530510214,6644.03743494356,6644.641286323282,6627.161078184603,6842.716338947695,6830.419205161905,6620.461884695467,6781.751993982146,6613.884016681292,6813.1556127371805,6641.199368474311,6826.295232900666,6803.91740691566,6858.450103918285,6890.28309598621,6648.43301040813,6644.436119263677,6628.1617786929055,6652.16250680407,6820.216292475887,6633.530131603374,6724.4680468991355,6798.061980899473,6667.075810613965,6607.5869989676385,6819.850297656839,6648.189275358062,6890.075505059782,6834.673845695107,6811.525839000221,6837.545511199705,6869.144031073389,6846.47707839434,6634.623558678512,6858.888995623141,6620.623350823533,6827.923639558276,6621.118856690844,6649.492655490742,6797.929065448669,6883.50753158283,6865.826527142972,6880.166387154014,6992.500887873345,6873.941076201983,6652.9910297956285,6825.0030767936805,6645.523991214047,6627.064841273003,6648.732247973895,6834.584053039551,6641.874773204487,6638.891373212472,6619.7702798511,6796.570069504807,6619.781248200035,6836.490705137278,6790.074080316374,6650.317003756362,6813.617263998487,6620.173180526447,6813.805810534603,6633.226936844016,6634.173363979637,6622.457602084162,7163.934914596599,7247.831882506849,6808.48682698104,6623.137060947776,6829.717236189037,6822.6980117920575,6639.351636901937,6645.1348757143,6630.694698303059,6667.1067508155475,6625.330849246109,6927.351228933871,6823.657284447719,6652.369513994887,6813.783971505254,6953.374001347028,6869.18831252029,7022.140796860805,6820.934955913963,6652.288128113938,6626.561056408103,6832.165065980149,6827.22426320912,6819.606802564524,6895.098349768099,9517.703502010723,6800.972401698217,6852.369373894249,6629.949316336706,6637.739512011449,6619.056993704379,7451.8173157229185,6809.179930229289,6889.6156017927315,6760.173789998482,6667.183678021061,6876.376444594151,6619.1591652673305,6629.943832192919,6855.349497449942,6628.154433713202,6639.219332927673,6833.027761536054,6623.136427523943,6840.4912295916765,6861.860926960492,6627.123799546474,6824.997102711859,6865.094082175247,6614.247839674554,6817.695080713676,6636.6228986642955,6632.106336138523,6792.620795237155,6900.516753856362,6968.445699083261,6640.978572961153,6644.6103612168545,6619.483133699555,6644.598195871144,6860.77455118706,6694.46800673743,6641.537940938096,6900.469361023992,6610.726945076807,6605.009948986146,6832.050161663393,6832.716506303475,6781.831384858241,6790.772989554316,6641.320526859396,6871.980297722702,6867.907708912049,6610.734842499843,6876.76142341266,6861.60800327117,6792.170024411608,6814.875170587535,6632.28294814368,6797.17628524003,6857.468277263897,6787.923408937838,6807.84372120057,6640.172771545901,6857.81500058008,6837.355895505194,6894.906324207623,6840.274192462338,6615.636295349284,6621.974225757589,6872.875434727196,6644.278954799949,6635.88109030225,6847.810784511208,6895.944530579104,6819.629169617518,6889.062927614268,6902.797113832776,6627.188512091343,6625.273955731226,6824.536451201656,6875.00772106999,6634.711181047455,7084.248044747769,7102.510203834513],\"colorbar\":{\"title\":{\"text\":\"Objective Value\"}},\"colorscale\":[[0.0,\"rgb(247,251,255)\"],[0.125,\"rgb(222,235,247)\"],[0.25,\"rgb(198,219,239)\"],[0.375,\"rgb(158,202,225)\"],[0.5,\"rgb(107,174,214)\"],[0.625,\"rgb(66,146,198)\"],[0.75,\"rgb(33,113,181)\"],[0.875,\"rgb(8,81,156)\"],[1.0,\"rgb(8,48,107)\"]],\"reversescale\":true,\"showscale\":true},\"type\":\"parcoords\"}],                        {\"title\":{\"text\":\"Parallel Coordinate Plot\"},\"template\":{\"data\":{\"histogram2dcontour\":[{\"type\":\"histogram2dcontour\",\"colorbar\":{\"outlinewidth\":0,\"ticks\":\"\"},\"colorscale\":[[0.0,\"#0d0887\"],[0.1111111111111111,\"#46039f\"],[0.2222222222222222,\"#7201a8\"],[0.3333333333333333,\"#9c179e\"],[0.4444444444444444,\"#bd3786\"],[0.5555555555555556,\"#d8576b\"],[0.6666666666666666,\"#ed7953\"],[0.7777777777777778,\"#fb9f3a\"],[0.8888888888888888,\"#fdca26\"],[1.0,\"#f0f921\"]]}],\"choropleth\":[{\"type\":\"choropleth\",\"colorbar\":{\"outlinewidth\":0,\"ticks\":\"\"}}],\"histogram2d\":[{\"type\":\"histogram2d\",\"colorbar\":{\"outlinewidth\":0,\"ticks\":\"\"},\"colorscale\":[[0.0,\"#0d0887\"],[0.1111111111111111,\"#46039f\"],[0.2222222222222222,\"#7201a8\"],[0.3333333333333333,\"#9c179e\"],[0.4444444444444444,\"#bd3786\"],[0.5555555555555556,\"#d8576b\"],[0.6666666666666666,\"#ed7953\"],[0.7777777777777778,\"#fb9f3a\"],[0.8888888888888888,\"#fdca26\"],[1.0,\"#f0f921\"]]}],\"heatmap\":[{\"type\":\"heatmap\",\"colorbar\":{\"outlinewidth\":0,\"ticks\":\"\"},\"colorscale\":[[0.0,\"#0d0887\"],[0.1111111111111111,\"#46039f\"],[0.2222222222222222,\"#7201a8\"],[0.3333333333333333,\"#9c179e\"],[0.4444444444444444,\"#bd3786\"],[0.5555555555555556,\"#d8576b\"],[0.6666666666666666,\"#ed7953\"],[0.7777777777777778,\"#fb9f3a\"],[0.8888888888888888,\"#fdca26\"],[1.0,\"#f0f921\"]]}],\"heatmapgl\":[{\"type\":\"heatmapgl\",\"colorbar\":{\"outlinewidth\":0,\"ticks\":\"\"},\"colorscale\":[[0.0,\"#0d0887\"],[0.1111111111111111,\"#46039f\"],[0.2222222222222222,\"#7201a8\"],[0.3333333333333333,\"#9c179e\"],[0.4444444444444444,\"#bd3786\"],[0.5555555555555556,\"#d8576b\"],[0.6666666666666666,\"#ed7953\"],[0.7777777777777778,\"#fb9f3a\"],[0.8888888888888888,\"#fdca26\"],[1.0,\"#f0f921\"]]}],\"contourcarpet\":[{\"type\":\"contourcarpet\",\"colorbar\":{\"outlinewidth\":0,\"ticks\":\"\"}}],\"contour\":[{\"type\":\"contour\",\"colorbar\":{\"outlinewidth\":0,\"ticks\":\"\"},\"colorscale\":[[0.0,\"#0d0887\"],[0.1111111111111111,\"#46039f\"],[0.2222222222222222,\"#7201a8\"],[0.3333333333333333,\"#9c179e\"],[0.4444444444444444,\"#bd3786\"],[0.5555555555555556,\"#d8576b\"],[0.6666666666666666,\"#ed7953\"],[0.7777777777777778,\"#fb9f3a\"],[0.8888888888888888,\"#fdca26\"],[1.0,\"#f0f921\"]]}],\"surface\":[{\"type\":\"surface\",\"colorbar\":{\"outlinewidth\":0,\"ticks\":\"\"},\"colorscale\":[[0.0,\"#0d0887\"],[0.1111111111111111,\"#46039f\"],[0.2222222222222222,\"#7201a8\"],[0.3333333333333333,\"#9c179e\"],[0.4444444444444444,\"#bd3786\"],[0.5555555555555556,\"#d8576b\"],[0.6666666666666666,\"#ed7953\"],[0.7777777777777778,\"#fb9f3a\"],[0.8888888888888888,\"#fdca26\"],[1.0,\"#f0f921\"]]}],\"mesh3d\":[{\"type\":\"mesh3d\",\"colorbar\":{\"outlinewidth\":0,\"ticks\":\"\"}}],\"scatter\":[{\"fillpattern\":{\"fillmode\":\"overlay\",\"size\":10,\"solidity\":0.2},\"type\":\"scatter\"}],\"parcoords\":[{\"type\":\"parcoords\",\"line\":{\"colorbar\":{\"outlinewidth\":0,\"ticks\":\"\"}}}],\"scatterpolargl\":[{\"type\":\"scatterpolargl\",\"marker\":{\"colorbar\":{\"outlinewidth\":0,\"ticks\":\"\"}}}],\"bar\":[{\"error_x\":{\"color\":\"#2a3f5f\"},\"error_y\":{\"color\":\"#2a3f5f\"},\"marker\":{\"line\":{\"color\":\"#E5ECF6\",\"width\":0.5},\"pattern\":{\"fillmode\":\"overlay\",\"size\":10,\"solidity\":0.2}},\"type\":\"bar\"}],\"scattergeo\":[{\"type\":\"scattergeo\",\"marker\":{\"colorbar\":{\"outlinewidth\":0,\"ticks\":\"\"}}}],\"scatterpolar\":[{\"type\":\"scatterpolar\",\"marker\":{\"colorbar\":{\"outlinewidth\":0,\"ticks\":\"\"}}}],\"histogram\":[{\"marker\":{\"pattern\":{\"fillmode\":\"overlay\",\"size\":10,\"solidity\":0.2}},\"type\":\"histogram\"}],\"scattergl\":[{\"type\":\"scattergl\",\"marker\":{\"colorbar\":{\"outlinewidth\":0,\"ticks\":\"\"}}}],\"scatter3d\":[{\"type\":\"scatter3d\",\"line\":{\"colorbar\":{\"outlinewidth\":0,\"ticks\":\"\"}},\"marker\":{\"colorbar\":{\"outlinewidth\":0,\"ticks\":\"\"}}}],\"scattermapbox\":[{\"type\":\"scattermapbox\",\"marker\":{\"colorbar\":{\"outlinewidth\":0,\"ticks\":\"\"}}}],\"scatterternary\":[{\"type\":\"scatterternary\",\"marker\":{\"colorbar\":{\"outlinewidth\":0,\"ticks\":\"\"}}}],\"scattercarpet\":[{\"type\":\"scattercarpet\",\"marker\":{\"colorbar\":{\"outlinewidth\":0,\"ticks\":\"\"}}}],\"carpet\":[{\"aaxis\":{\"endlinecolor\":\"#2a3f5f\",\"gridcolor\":\"white\",\"linecolor\":\"white\",\"minorgridcolor\":\"white\",\"startlinecolor\":\"#2a3f5f\"},\"baxis\":{\"endlinecolor\":\"#2a3f5f\",\"gridcolor\":\"white\",\"linecolor\":\"white\",\"minorgridcolor\":\"white\",\"startlinecolor\":\"#2a3f5f\"},\"type\":\"carpet\"}],\"table\":[{\"cells\":{\"fill\":{\"color\":\"#EBF0F8\"},\"line\":{\"color\":\"white\"}},\"header\":{\"fill\":{\"color\":\"#C8D4E3\"},\"line\":{\"color\":\"white\"}},\"type\":\"table\"}],\"barpolar\":[{\"marker\":{\"line\":{\"color\":\"#E5ECF6\",\"width\":0.5},\"pattern\":{\"fillmode\":\"overlay\",\"size\":10,\"solidity\":0.2}},\"type\":\"barpolar\"}],\"pie\":[{\"automargin\":true,\"type\":\"pie\"}]},\"layout\":{\"autotypenumbers\":\"strict\",\"colorway\":[\"#636efa\",\"#EF553B\",\"#00cc96\",\"#ab63fa\",\"#FFA15A\",\"#19d3f3\",\"#FF6692\",\"#B6E880\",\"#FF97FF\",\"#FECB52\"],\"font\":{\"color\":\"#2a3f5f\"},\"hovermode\":\"closest\",\"hoverlabel\":{\"align\":\"left\"},\"paper_bgcolor\":\"white\",\"plot_bgcolor\":\"#E5ECF6\",\"polar\":{\"bgcolor\":\"#E5ECF6\",\"angularaxis\":{\"gridcolor\":\"white\",\"linecolor\":\"white\",\"ticks\":\"\"},\"radialaxis\":{\"gridcolor\":\"white\",\"linecolor\":\"white\",\"ticks\":\"\"}},\"ternary\":{\"bgcolor\":\"#E5ECF6\",\"aaxis\":{\"gridcolor\":\"white\",\"linecolor\":\"white\",\"ticks\":\"\"},\"baxis\":{\"gridcolor\":\"white\",\"linecolor\":\"white\",\"ticks\":\"\"},\"caxis\":{\"gridcolor\":\"white\",\"linecolor\":\"white\",\"ticks\":\"\"}},\"coloraxis\":{\"colorbar\":{\"outlinewidth\":0,\"ticks\":\"\"}},\"colorscale\":{\"sequential\":[[0.0,\"#0d0887\"],[0.1111111111111111,\"#46039f\"],[0.2222222222222222,\"#7201a8\"],[0.3333333333333333,\"#9c179e\"],[0.4444444444444444,\"#bd3786\"],[0.5555555555555556,\"#d8576b\"],[0.6666666666666666,\"#ed7953\"],[0.7777777777777778,\"#fb9f3a\"],[0.8888888888888888,\"#fdca26\"],[1.0,\"#f0f921\"]],\"sequentialminus\":[[0.0,\"#0d0887\"],[0.1111111111111111,\"#46039f\"],[0.2222222222222222,\"#7201a8\"],[0.3333333333333333,\"#9c179e\"],[0.4444444444444444,\"#bd3786\"],[0.5555555555555556,\"#d8576b\"],[0.6666666666666666,\"#ed7953\"],[0.7777777777777778,\"#fb9f3a\"],[0.8888888888888888,\"#fdca26\"],[1.0,\"#f0f921\"]],\"diverging\":[[0,\"#8e0152\"],[0.1,\"#c51b7d\"],[0.2,\"#de77ae\"],[0.3,\"#f1b6da\"],[0.4,\"#fde0ef\"],[0.5,\"#f7f7f7\"],[0.6,\"#e6f5d0\"],[0.7,\"#b8e186\"],[0.8,\"#7fbc41\"],[0.9,\"#4d9221\"],[1,\"#276419\"]]},\"xaxis\":{\"gridcolor\":\"white\",\"linecolor\":\"white\",\"ticks\":\"\",\"title\":{\"standoff\":15},\"zerolinecolor\":\"white\",\"automargin\":true,\"zerolinewidth\":2},\"yaxis\":{\"gridcolor\":\"white\",\"linecolor\":\"white\",\"ticks\":\"\",\"title\":{\"standoff\":15},\"zerolinecolor\":\"white\",\"automargin\":true,\"zerolinewidth\":2},\"scene\":{\"xaxis\":{\"backgroundcolor\":\"#E5ECF6\",\"gridcolor\":\"white\",\"linecolor\":\"white\",\"showbackground\":true,\"ticks\":\"\",\"zerolinecolor\":\"white\",\"gridwidth\":2},\"yaxis\":{\"backgroundcolor\":\"#E5ECF6\",\"gridcolor\":\"white\",\"linecolor\":\"white\",\"showbackground\":true,\"ticks\":\"\",\"zerolinecolor\":\"white\",\"gridwidth\":2},\"zaxis\":{\"backgroundcolor\":\"#E5ECF6\",\"gridcolor\":\"white\",\"linecolor\":\"white\",\"showbackground\":true,\"ticks\":\"\",\"zerolinecolor\":\"white\",\"gridwidth\":2}},\"shapedefaults\":{\"line\":{\"color\":\"#2a3f5f\"}},\"annotationdefaults\":{\"arrowcolor\":\"#2a3f5f\",\"arrowhead\":0,\"arrowwidth\":1},\"geo\":{\"bgcolor\":\"white\",\"landcolor\":\"#E5ECF6\",\"subunitcolor\":\"white\",\"showland\":true,\"showlakes\":true,\"lakecolor\":\"white\"},\"title\":{\"x\":0.05},\"mapbox\":{\"style\":\"light\"}}}},                        {\"responsive\": true}                    ).then(function(){\n",
       "                            \n",
       "var gd = document.getElementById('58272a07-2030-4fa8-ae6b-24289f7132ff');\n",
       "var x = new MutationObserver(function (mutations, observer) {{\n",
       "        var display = window.getComputedStyle(gd).display;\n",
       "        if (!display || display === 'none') {{\n",
       "            console.log([gd, 'removed!']);\n",
       "            Plotly.purge(gd);\n",
       "            observer.disconnect();\n",
       "        }}\n",
       "}});\n",
       "\n",
       "// Listen for the removal of the full notebook cells\n",
       "var notebookContainer = gd.closest('#notebook-container');\n",
       "if (notebookContainer) {{\n",
       "    x.observe(notebookContainer, {childList: true});\n",
       "}}\n",
       "\n",
       "// Listen for the clearing of the current output cell\n",
       "var outputEl = gd.closest('.output');\n",
       "if (outputEl) {{\n",
       "    x.observe(outputEl, {childList: true});\n",
       "}}\n",
       "\n",
       "                        })                };                });            </script>        </div>"
      ]
     },
     "metadata": {},
     "output_type": "display_data"
    }
   ],
   "source": [
    "#Gráfico de coordenadas paralelas de optimización con Optuna\n",
    "plot_parallel_coordinate(study)"
   ]
  },
  {
   "cell_type": "code",
   "execution_count": 45,
   "metadata": {},
   "outputs": [
    {
     "data": {
      "application/vnd.plotly.v1+json": {
       "config": {
        "plotlyServerURL": "https://plot.ly"
       },
       "data": [
        {
         "dimensions": [
          {
           "label": "Objective Value",
           "range": [
            6955.445573167571,
            7412.625504317296
           ],
           "values": [
            7412.625504317296,
            6955.445573167571,
            7318.605740544624
           ]
          },
          {
           "label": "learning_rate",
           "range": [
            0.02625721429737358,
            0.09346567132767125
           ],
           "values": [
            0.09346567132767125,
            0.02625721429737358,
            0.03876783680913148
           ]
          },
          {
           "label": "max_depth",
           "range": [
            6,
            9
           ],
           "values": [
            9,
            6,
            9
           ]
          },
          {
           "label": "max_leaves",
           "range": [
            19,
            50
           ],
           "values": [
            19,
            50,
            32
           ]
          },
          {
           "label": "min_child_weight",
           "range": [
            2,
            5
           ],
           "values": [
            2,
            5,
            3
           ]
          },
          {
           "label": "min_frequency",
           "range": [
            0.4317572638660391,
            0.8378798990196196
           ],
           "values": [
            0.8378798990196196,
            0.4410867022803,
            0.4317572638660391
           ]
          },
          {
           "label": "n_estimators",
           "range": [
            162,
            419
           ],
           "values": [
            162,
            416,
            419
           ]
          },
          {
           "label": "reg_alpha",
           "range": [
            0.523281577730208,
            0.6567074306264912
           ],
           "values": [
            0.6342687950115492,
            0.523281577730208,
            0.6567074306264912
           ]
          },
          {
           "label": "reg_lambda",
           "range": [
            0.18273613412240297,
            0.9735126237406744
           ],
           "values": [
            0.5943677463116953,
            0.18273613412240297,
            0.9735126237406744
           ]
          }
         ],
         "labelangle": 30,
         "labelside": "bottom",
         "line": {
          "color": [
           7412.625504317296,
           6955.445573167571,
           7318.605740544624
          ],
          "colorbar": {
           "title": {
            "text": "Objective Value"
           }
          },
          "colorscale": [
           [
            0,
            "rgb(247,251,255)"
           ],
           [
            0.125,
            "rgb(222,235,247)"
           ],
           [
            0.25,
            "rgb(198,219,239)"
           ],
           [
            0.375,
            "rgb(158,202,225)"
           ],
           [
            0.5,
            "rgb(107,174,214)"
           ],
           [
            0.625,
            "rgb(66,146,198)"
           ],
           [
            0.75,
            "rgb(33,113,181)"
           ],
           [
            0.875,
            "rgb(8,81,156)"
           ],
           [
            1,
            "rgb(8,48,107)"
           ]
          ],
          "reversescale": true,
          "showscale": true
         },
         "type": "parcoords"
        }
       ],
       "layout": {
        "template": {
         "data": {
          "bar": [
           {
            "error_x": {
             "color": "#2a3f5f"
            },
            "error_y": {
             "color": "#2a3f5f"
            },
            "marker": {
             "line": {
              "color": "#E5ECF6",
              "width": 0.5
             },
             "pattern": {
              "fillmode": "overlay",
              "size": 10,
              "solidity": 0.2
             }
            },
            "type": "bar"
           }
          ],
          "barpolar": [
           {
            "marker": {
             "line": {
              "color": "#E5ECF6",
              "width": 0.5
             },
             "pattern": {
              "fillmode": "overlay",
              "size": 10,
              "solidity": 0.2
             }
            },
            "type": "barpolar"
           }
          ],
          "carpet": [
           {
            "aaxis": {
             "endlinecolor": "#2a3f5f",
             "gridcolor": "white",
             "linecolor": "white",
             "minorgridcolor": "white",
             "startlinecolor": "#2a3f5f"
            },
            "baxis": {
             "endlinecolor": "#2a3f5f",
             "gridcolor": "white",
             "linecolor": "white",
             "minorgridcolor": "white",
             "startlinecolor": "#2a3f5f"
            },
            "type": "carpet"
           }
          ],
          "choropleth": [
           {
            "colorbar": {
             "outlinewidth": 0,
             "ticks": ""
            },
            "type": "choropleth"
           }
          ],
          "contour": [
           {
            "colorbar": {
             "outlinewidth": 0,
             "ticks": ""
            },
            "colorscale": [
             [
              0,
              "#0d0887"
             ],
             [
              0.1111111111111111,
              "#46039f"
             ],
             [
              0.2222222222222222,
              "#7201a8"
             ],
             [
              0.3333333333333333,
              "#9c179e"
             ],
             [
              0.4444444444444444,
              "#bd3786"
             ],
             [
              0.5555555555555556,
              "#d8576b"
             ],
             [
              0.6666666666666666,
              "#ed7953"
             ],
             [
              0.7777777777777778,
              "#fb9f3a"
             ],
             [
              0.8888888888888888,
              "#fdca26"
             ],
             [
              1,
              "#f0f921"
             ]
            ],
            "type": "contour"
           }
          ],
          "contourcarpet": [
           {
            "colorbar": {
             "outlinewidth": 0,
             "ticks": ""
            },
            "type": "contourcarpet"
           }
          ],
          "heatmap": [
           {
            "colorbar": {
             "outlinewidth": 0,
             "ticks": ""
            },
            "colorscale": [
             [
              0,
              "#0d0887"
             ],
             [
              0.1111111111111111,
              "#46039f"
             ],
             [
              0.2222222222222222,
              "#7201a8"
             ],
             [
              0.3333333333333333,
              "#9c179e"
             ],
             [
              0.4444444444444444,
              "#bd3786"
             ],
             [
              0.5555555555555556,
              "#d8576b"
             ],
             [
              0.6666666666666666,
              "#ed7953"
             ],
             [
              0.7777777777777778,
              "#fb9f3a"
             ],
             [
              0.8888888888888888,
              "#fdca26"
             ],
             [
              1,
              "#f0f921"
             ]
            ],
            "type": "heatmap"
           }
          ],
          "heatmapgl": [
           {
            "colorbar": {
             "outlinewidth": 0,
             "ticks": ""
            },
            "colorscale": [
             [
              0,
              "#0d0887"
             ],
             [
              0.1111111111111111,
              "#46039f"
             ],
             [
              0.2222222222222222,
              "#7201a8"
             ],
             [
              0.3333333333333333,
              "#9c179e"
             ],
             [
              0.4444444444444444,
              "#bd3786"
             ],
             [
              0.5555555555555556,
              "#d8576b"
             ],
             [
              0.6666666666666666,
              "#ed7953"
             ],
             [
              0.7777777777777778,
              "#fb9f3a"
             ],
             [
              0.8888888888888888,
              "#fdca26"
             ],
             [
              1,
              "#f0f921"
             ]
            ],
            "type": "heatmapgl"
           }
          ],
          "histogram": [
           {
            "marker": {
             "pattern": {
              "fillmode": "overlay",
              "size": 10,
              "solidity": 0.2
             }
            },
            "type": "histogram"
           }
          ],
          "histogram2d": [
           {
            "colorbar": {
             "outlinewidth": 0,
             "ticks": ""
            },
            "colorscale": [
             [
              0,
              "#0d0887"
             ],
             [
              0.1111111111111111,
              "#46039f"
             ],
             [
              0.2222222222222222,
              "#7201a8"
             ],
             [
              0.3333333333333333,
              "#9c179e"
             ],
             [
              0.4444444444444444,
              "#bd3786"
             ],
             [
              0.5555555555555556,
              "#d8576b"
             ],
             [
              0.6666666666666666,
              "#ed7953"
             ],
             [
              0.7777777777777778,
              "#fb9f3a"
             ],
             [
              0.8888888888888888,
              "#fdca26"
             ],
             [
              1,
              "#f0f921"
             ]
            ],
            "type": "histogram2d"
           }
          ],
          "histogram2dcontour": [
           {
            "colorbar": {
             "outlinewidth": 0,
             "ticks": ""
            },
            "colorscale": [
             [
              0,
              "#0d0887"
             ],
             [
              0.1111111111111111,
              "#46039f"
             ],
             [
              0.2222222222222222,
              "#7201a8"
             ],
             [
              0.3333333333333333,
              "#9c179e"
             ],
             [
              0.4444444444444444,
              "#bd3786"
             ],
             [
              0.5555555555555556,
              "#d8576b"
             ],
             [
              0.6666666666666666,
              "#ed7953"
             ],
             [
              0.7777777777777778,
              "#fb9f3a"
             ],
             [
              0.8888888888888888,
              "#fdca26"
             ],
             [
              1,
              "#f0f921"
             ]
            ],
            "type": "histogram2dcontour"
           }
          ],
          "mesh3d": [
           {
            "colorbar": {
             "outlinewidth": 0,
             "ticks": ""
            },
            "type": "mesh3d"
           }
          ],
          "parcoords": [
           {
            "line": {
             "colorbar": {
              "outlinewidth": 0,
              "ticks": ""
             }
            },
            "type": "parcoords"
           }
          ],
          "pie": [
           {
            "automargin": true,
            "type": "pie"
           }
          ],
          "scatter": [
           {
            "fillpattern": {
             "fillmode": "overlay",
             "size": 10,
             "solidity": 0.2
            },
            "type": "scatter"
           }
          ],
          "scatter3d": [
           {
            "line": {
             "colorbar": {
              "outlinewidth": 0,
              "ticks": ""
             }
            },
            "marker": {
             "colorbar": {
              "outlinewidth": 0,
              "ticks": ""
             }
            },
            "type": "scatter3d"
           }
          ],
          "scattercarpet": [
           {
            "marker": {
             "colorbar": {
              "outlinewidth": 0,
              "ticks": ""
             }
            },
            "type": "scattercarpet"
           }
          ],
          "scattergeo": [
           {
            "marker": {
             "colorbar": {
              "outlinewidth": 0,
              "ticks": ""
             }
            },
            "type": "scattergeo"
           }
          ],
          "scattergl": [
           {
            "marker": {
             "colorbar": {
              "outlinewidth": 0,
              "ticks": ""
             }
            },
            "type": "scattergl"
           }
          ],
          "scattermapbox": [
           {
            "marker": {
             "colorbar": {
              "outlinewidth": 0,
              "ticks": ""
             }
            },
            "type": "scattermapbox"
           }
          ],
          "scatterpolar": [
           {
            "marker": {
             "colorbar": {
              "outlinewidth": 0,
              "ticks": ""
             }
            },
            "type": "scatterpolar"
           }
          ],
          "scatterpolargl": [
           {
            "marker": {
             "colorbar": {
              "outlinewidth": 0,
              "ticks": ""
             }
            },
            "type": "scatterpolargl"
           }
          ],
          "scatterternary": [
           {
            "marker": {
             "colorbar": {
              "outlinewidth": 0,
              "ticks": ""
             }
            },
            "type": "scatterternary"
           }
          ],
          "surface": [
           {
            "colorbar": {
             "outlinewidth": 0,
             "ticks": ""
            },
            "colorscale": [
             [
              0,
              "#0d0887"
             ],
             [
              0.1111111111111111,
              "#46039f"
             ],
             [
              0.2222222222222222,
              "#7201a8"
             ],
             [
              0.3333333333333333,
              "#9c179e"
             ],
             [
              0.4444444444444444,
              "#bd3786"
             ],
             [
              0.5555555555555556,
              "#d8576b"
             ],
             [
              0.6666666666666666,
              "#ed7953"
             ],
             [
              0.7777777777777778,
              "#fb9f3a"
             ],
             [
              0.8888888888888888,
              "#fdca26"
             ],
             [
              1,
              "#f0f921"
             ]
            ],
            "type": "surface"
           }
          ],
          "table": [
           {
            "cells": {
             "fill": {
              "color": "#EBF0F8"
             },
             "line": {
              "color": "white"
             }
            },
            "header": {
             "fill": {
              "color": "#C8D4E3"
             },
             "line": {
              "color": "white"
             }
            },
            "type": "table"
           }
          ]
         },
         "layout": {
          "annotationdefaults": {
           "arrowcolor": "#2a3f5f",
           "arrowhead": 0,
           "arrowwidth": 1
          },
          "autotypenumbers": "strict",
          "coloraxis": {
           "colorbar": {
            "outlinewidth": 0,
            "ticks": ""
           }
          },
          "colorscale": {
           "diverging": [
            [
             0,
             "#8e0152"
            ],
            [
             0.1,
             "#c51b7d"
            ],
            [
             0.2,
             "#de77ae"
            ],
            [
             0.3,
             "#f1b6da"
            ],
            [
             0.4,
             "#fde0ef"
            ],
            [
             0.5,
             "#f7f7f7"
            ],
            [
             0.6,
             "#e6f5d0"
            ],
            [
             0.7,
             "#b8e186"
            ],
            [
             0.8,
             "#7fbc41"
            ],
            [
             0.9,
             "#4d9221"
            ],
            [
             1,
             "#276419"
            ]
           ],
           "sequential": [
            [
             0,
             "#0d0887"
            ],
            [
             0.1111111111111111,
             "#46039f"
            ],
            [
             0.2222222222222222,
             "#7201a8"
            ],
            [
             0.3333333333333333,
             "#9c179e"
            ],
            [
             0.4444444444444444,
             "#bd3786"
            ],
            [
             0.5555555555555556,
             "#d8576b"
            ],
            [
             0.6666666666666666,
             "#ed7953"
            ],
            [
             0.7777777777777778,
             "#fb9f3a"
            ],
            [
             0.8888888888888888,
             "#fdca26"
            ],
            [
             1,
             "#f0f921"
            ]
           ],
           "sequentialminus": [
            [
             0,
             "#0d0887"
            ],
            [
             0.1111111111111111,
             "#46039f"
            ],
            [
             0.2222222222222222,
             "#7201a8"
            ],
            [
             0.3333333333333333,
             "#9c179e"
            ],
            [
             0.4444444444444444,
             "#bd3786"
            ],
            [
             0.5555555555555556,
             "#d8576b"
            ],
            [
             0.6666666666666666,
             "#ed7953"
            ],
            [
             0.7777777777777778,
             "#fb9f3a"
            ],
            [
             0.8888888888888888,
             "#fdca26"
            ],
            [
             1,
             "#f0f921"
            ]
           ]
          },
          "colorway": [
           "#636efa",
           "#EF553B",
           "#00cc96",
           "#ab63fa",
           "#FFA15A",
           "#19d3f3",
           "#FF6692",
           "#B6E880",
           "#FF97FF",
           "#FECB52"
          ],
          "font": {
           "color": "#2a3f5f"
          },
          "geo": {
           "bgcolor": "white",
           "lakecolor": "white",
           "landcolor": "#E5ECF6",
           "showlakes": true,
           "showland": true,
           "subunitcolor": "white"
          },
          "hoverlabel": {
           "align": "left"
          },
          "hovermode": "closest",
          "mapbox": {
           "style": "light"
          },
          "paper_bgcolor": "white",
          "plot_bgcolor": "#E5ECF6",
          "polar": {
           "angularaxis": {
            "gridcolor": "white",
            "linecolor": "white",
            "ticks": ""
           },
           "bgcolor": "#E5ECF6",
           "radialaxis": {
            "gridcolor": "white",
            "linecolor": "white",
            "ticks": ""
           }
          },
          "scene": {
           "xaxis": {
            "backgroundcolor": "#E5ECF6",
            "gridcolor": "white",
            "gridwidth": 2,
            "linecolor": "white",
            "showbackground": true,
            "ticks": "",
            "zerolinecolor": "white"
           },
           "yaxis": {
            "backgroundcolor": "#E5ECF6",
            "gridcolor": "white",
            "gridwidth": 2,
            "linecolor": "white",
            "showbackground": true,
            "ticks": "",
            "zerolinecolor": "white"
           },
           "zaxis": {
            "backgroundcolor": "#E5ECF6",
            "gridcolor": "white",
            "gridwidth": 2,
            "linecolor": "white",
            "showbackground": true,
            "ticks": "",
            "zerolinecolor": "white"
           }
          },
          "shapedefaults": {
           "line": {
            "color": "#2a3f5f"
           }
          },
          "ternary": {
           "aaxis": {
            "gridcolor": "white",
            "linecolor": "white",
            "ticks": ""
           },
           "baxis": {
            "gridcolor": "white",
            "linecolor": "white",
            "ticks": ""
           },
           "bgcolor": "#E5ECF6",
           "caxis": {
            "gridcolor": "white",
            "linecolor": "white",
            "ticks": ""
           }
          },
          "title": {
           "x": 0.05
          },
          "xaxis": {
           "automargin": true,
           "gridcolor": "white",
           "linecolor": "white",
           "ticks": "",
           "title": {
            "standoff": 15
           },
           "zerolinecolor": "white",
           "zerolinewidth": 2
          },
          "yaxis": {
           "automargin": true,
           "gridcolor": "white",
           "linecolor": "white",
           "ticks": "",
           "title": {
            "standoff": 15
           },
           "zerolinecolor": "white",
           "zerolinewidth": 2
          }
         }
        },
        "title": {
         "text": "Parallel Coordinate Plot"
        }
       }
      },
      "text/html": [
       "<div>                            <div id=\"8dcc6e4b-d71a-4028-9340-0a376b3a9c00\" class=\"plotly-graph-div\" style=\"height:525px; width:100%;\"></div>            <script type=\"text/javascript\">                require([\"plotly\"], function(Plotly) {                    window.PLOTLYENV=window.PLOTLYENV || {};                                    if (document.getElementById(\"8dcc6e4b-d71a-4028-9340-0a376b3a9c00\")) {                    Plotly.newPlot(                        \"8dcc6e4b-d71a-4028-9340-0a376b3a9c00\",                        [{\"dimensions\":[{\"label\":\"Objective Value\",\"range\":[6955.445573167571,7412.625504317296],\"values\":[7412.625504317296,6955.445573167571,7318.605740544624]},{\"label\":\"learning_rate\",\"range\":[0.02625721429737358,0.09346567132767125],\"values\":[0.09346567132767125,0.02625721429737358,0.03876783680913148]},{\"label\":\"max_depth\",\"range\":[6,9],\"values\":[9,6,9]},{\"label\":\"max_leaves\",\"range\":[19,50],\"values\":[19,50,32]},{\"label\":\"min_child_weight\",\"range\":[2,5],\"values\":[2,5,3]},{\"label\":\"min_frequency\",\"range\":[0.4317572638660391,0.8378798990196196],\"values\":[0.8378798990196196,0.4410867022803,0.4317572638660391]},{\"label\":\"n_estimators\",\"range\":[162,419],\"values\":[162,416,419]},{\"label\":\"reg_alpha\",\"range\":[0.523281577730208,0.6567074306264912],\"values\":[0.6342687950115492,0.523281577730208,0.6567074306264912]},{\"label\":\"reg_lambda\",\"range\":[0.18273613412240297,0.9735126237406744],\"values\":[0.5943677463116953,0.18273613412240297,0.9735126237406744]}],\"labelangle\":30,\"labelside\":\"bottom\",\"line\":{\"color\":[7412.625504317296,6955.445573167571,7318.605740544624],\"colorbar\":{\"title\":{\"text\":\"Objective Value\"}},\"colorscale\":[[0.0,\"rgb(247,251,255)\"],[0.125,\"rgb(222,235,247)\"],[0.25,\"rgb(198,219,239)\"],[0.375,\"rgb(158,202,225)\"],[0.5,\"rgb(107,174,214)\"],[0.625,\"rgb(66,146,198)\"],[0.75,\"rgb(33,113,181)\"],[0.875,\"rgb(8,81,156)\"],[1.0,\"rgb(8,48,107)\"]],\"reversescale\":true,\"showscale\":true},\"type\":\"parcoords\"}],                        {\"title\":{\"text\":\"Parallel Coordinate Plot\"},\"template\":{\"data\":{\"histogram2dcontour\":[{\"type\":\"histogram2dcontour\",\"colorbar\":{\"outlinewidth\":0,\"ticks\":\"\"},\"colorscale\":[[0.0,\"#0d0887\"],[0.1111111111111111,\"#46039f\"],[0.2222222222222222,\"#7201a8\"],[0.3333333333333333,\"#9c179e\"],[0.4444444444444444,\"#bd3786\"],[0.5555555555555556,\"#d8576b\"],[0.6666666666666666,\"#ed7953\"],[0.7777777777777778,\"#fb9f3a\"],[0.8888888888888888,\"#fdca26\"],[1.0,\"#f0f921\"]]}],\"choropleth\":[{\"type\":\"choropleth\",\"colorbar\":{\"outlinewidth\":0,\"ticks\":\"\"}}],\"histogram2d\":[{\"type\":\"histogram2d\",\"colorbar\":{\"outlinewidth\":0,\"ticks\":\"\"},\"colorscale\":[[0.0,\"#0d0887\"],[0.1111111111111111,\"#46039f\"],[0.2222222222222222,\"#7201a8\"],[0.3333333333333333,\"#9c179e\"],[0.4444444444444444,\"#bd3786\"],[0.5555555555555556,\"#d8576b\"],[0.6666666666666666,\"#ed7953\"],[0.7777777777777778,\"#fb9f3a\"],[0.8888888888888888,\"#fdca26\"],[1.0,\"#f0f921\"]]}],\"heatmap\":[{\"type\":\"heatmap\",\"colorbar\":{\"outlinewidth\":0,\"ticks\":\"\"},\"colorscale\":[[0.0,\"#0d0887\"],[0.1111111111111111,\"#46039f\"],[0.2222222222222222,\"#7201a8\"],[0.3333333333333333,\"#9c179e\"],[0.4444444444444444,\"#bd3786\"],[0.5555555555555556,\"#d8576b\"],[0.6666666666666666,\"#ed7953\"],[0.7777777777777778,\"#fb9f3a\"],[0.8888888888888888,\"#fdca26\"],[1.0,\"#f0f921\"]]}],\"heatmapgl\":[{\"type\":\"heatmapgl\",\"colorbar\":{\"outlinewidth\":0,\"ticks\":\"\"},\"colorscale\":[[0.0,\"#0d0887\"],[0.1111111111111111,\"#46039f\"],[0.2222222222222222,\"#7201a8\"],[0.3333333333333333,\"#9c179e\"],[0.4444444444444444,\"#bd3786\"],[0.5555555555555556,\"#d8576b\"],[0.6666666666666666,\"#ed7953\"],[0.7777777777777778,\"#fb9f3a\"],[0.8888888888888888,\"#fdca26\"],[1.0,\"#f0f921\"]]}],\"contourcarpet\":[{\"type\":\"contourcarpet\",\"colorbar\":{\"outlinewidth\":0,\"ticks\":\"\"}}],\"contour\":[{\"type\":\"contour\",\"colorbar\":{\"outlinewidth\":0,\"ticks\":\"\"},\"colorscale\":[[0.0,\"#0d0887\"],[0.1111111111111111,\"#46039f\"],[0.2222222222222222,\"#7201a8\"],[0.3333333333333333,\"#9c179e\"],[0.4444444444444444,\"#bd3786\"],[0.5555555555555556,\"#d8576b\"],[0.6666666666666666,\"#ed7953\"],[0.7777777777777778,\"#fb9f3a\"],[0.8888888888888888,\"#fdca26\"],[1.0,\"#f0f921\"]]}],\"surface\":[{\"type\":\"surface\",\"colorbar\":{\"outlinewidth\":0,\"ticks\":\"\"},\"colorscale\":[[0.0,\"#0d0887\"],[0.1111111111111111,\"#46039f\"],[0.2222222222222222,\"#7201a8\"],[0.3333333333333333,\"#9c179e\"],[0.4444444444444444,\"#bd3786\"],[0.5555555555555556,\"#d8576b\"],[0.6666666666666666,\"#ed7953\"],[0.7777777777777778,\"#fb9f3a\"],[0.8888888888888888,\"#fdca26\"],[1.0,\"#f0f921\"]]}],\"mesh3d\":[{\"type\":\"mesh3d\",\"colorbar\":{\"outlinewidth\":0,\"ticks\":\"\"}}],\"scatter\":[{\"fillpattern\":{\"fillmode\":\"overlay\",\"size\":10,\"solidity\":0.2},\"type\":\"scatter\"}],\"parcoords\":[{\"type\":\"parcoords\",\"line\":{\"colorbar\":{\"outlinewidth\":0,\"ticks\":\"\"}}}],\"scatterpolargl\":[{\"type\":\"scatterpolargl\",\"marker\":{\"colorbar\":{\"outlinewidth\":0,\"ticks\":\"\"}}}],\"bar\":[{\"error_x\":{\"color\":\"#2a3f5f\"},\"error_y\":{\"color\":\"#2a3f5f\"},\"marker\":{\"line\":{\"color\":\"#E5ECF6\",\"width\":0.5},\"pattern\":{\"fillmode\":\"overlay\",\"size\":10,\"solidity\":0.2}},\"type\":\"bar\"}],\"scattergeo\":[{\"type\":\"scattergeo\",\"marker\":{\"colorbar\":{\"outlinewidth\":0,\"ticks\":\"\"}}}],\"scatterpolar\":[{\"type\":\"scatterpolar\",\"marker\":{\"colorbar\":{\"outlinewidth\":0,\"ticks\":\"\"}}}],\"histogram\":[{\"marker\":{\"pattern\":{\"fillmode\":\"overlay\",\"size\":10,\"solidity\":0.2}},\"type\":\"histogram\"}],\"scattergl\":[{\"type\":\"scattergl\",\"marker\":{\"colorbar\":{\"outlinewidth\":0,\"ticks\":\"\"}}}],\"scatter3d\":[{\"type\":\"scatter3d\",\"line\":{\"colorbar\":{\"outlinewidth\":0,\"ticks\":\"\"}},\"marker\":{\"colorbar\":{\"outlinewidth\":0,\"ticks\":\"\"}}}],\"scattermapbox\":[{\"type\":\"scattermapbox\",\"marker\":{\"colorbar\":{\"outlinewidth\":0,\"ticks\":\"\"}}}],\"scatterternary\":[{\"type\":\"scatterternary\",\"marker\":{\"colorbar\":{\"outlinewidth\":0,\"ticks\":\"\"}}}],\"scattercarpet\":[{\"type\":\"scattercarpet\",\"marker\":{\"colorbar\":{\"outlinewidth\":0,\"ticks\":\"\"}}}],\"carpet\":[{\"aaxis\":{\"endlinecolor\":\"#2a3f5f\",\"gridcolor\":\"white\",\"linecolor\":\"white\",\"minorgridcolor\":\"white\",\"startlinecolor\":\"#2a3f5f\"},\"baxis\":{\"endlinecolor\":\"#2a3f5f\",\"gridcolor\":\"white\",\"linecolor\":\"white\",\"minorgridcolor\":\"white\",\"startlinecolor\":\"#2a3f5f\"},\"type\":\"carpet\"}],\"table\":[{\"cells\":{\"fill\":{\"color\":\"#EBF0F8\"},\"line\":{\"color\":\"white\"}},\"header\":{\"fill\":{\"color\":\"#C8D4E3\"},\"line\":{\"color\":\"white\"}},\"type\":\"table\"}],\"barpolar\":[{\"marker\":{\"line\":{\"color\":\"#E5ECF6\",\"width\":0.5},\"pattern\":{\"fillmode\":\"overlay\",\"size\":10,\"solidity\":0.2}},\"type\":\"barpolar\"}],\"pie\":[{\"automargin\":true,\"type\":\"pie\"}]},\"layout\":{\"autotypenumbers\":\"strict\",\"colorway\":[\"#636efa\",\"#EF553B\",\"#00cc96\",\"#ab63fa\",\"#FFA15A\",\"#19d3f3\",\"#FF6692\",\"#B6E880\",\"#FF97FF\",\"#FECB52\"],\"font\":{\"color\":\"#2a3f5f\"},\"hovermode\":\"closest\",\"hoverlabel\":{\"align\":\"left\"},\"paper_bgcolor\":\"white\",\"plot_bgcolor\":\"#E5ECF6\",\"polar\":{\"bgcolor\":\"#E5ECF6\",\"angularaxis\":{\"gridcolor\":\"white\",\"linecolor\":\"white\",\"ticks\":\"\"},\"radialaxis\":{\"gridcolor\":\"white\",\"linecolor\":\"white\",\"ticks\":\"\"}},\"ternary\":{\"bgcolor\":\"#E5ECF6\",\"aaxis\":{\"gridcolor\":\"white\",\"linecolor\":\"white\",\"ticks\":\"\"},\"baxis\":{\"gridcolor\":\"white\",\"linecolor\":\"white\",\"ticks\":\"\"},\"caxis\":{\"gridcolor\":\"white\",\"linecolor\":\"white\",\"ticks\":\"\"}},\"coloraxis\":{\"colorbar\":{\"outlinewidth\":0,\"ticks\":\"\"}},\"colorscale\":{\"sequential\":[[0.0,\"#0d0887\"],[0.1111111111111111,\"#46039f\"],[0.2222222222222222,\"#7201a8\"],[0.3333333333333333,\"#9c179e\"],[0.4444444444444444,\"#bd3786\"],[0.5555555555555556,\"#d8576b\"],[0.6666666666666666,\"#ed7953\"],[0.7777777777777778,\"#fb9f3a\"],[0.8888888888888888,\"#fdca26\"],[1.0,\"#f0f921\"]],\"sequentialminus\":[[0.0,\"#0d0887\"],[0.1111111111111111,\"#46039f\"],[0.2222222222222222,\"#7201a8\"],[0.3333333333333333,\"#9c179e\"],[0.4444444444444444,\"#bd3786\"],[0.5555555555555556,\"#d8576b\"],[0.6666666666666666,\"#ed7953\"],[0.7777777777777778,\"#fb9f3a\"],[0.8888888888888888,\"#fdca26\"],[1.0,\"#f0f921\"]],\"diverging\":[[0,\"#8e0152\"],[0.1,\"#c51b7d\"],[0.2,\"#de77ae\"],[0.3,\"#f1b6da\"],[0.4,\"#fde0ef\"],[0.5,\"#f7f7f7\"],[0.6,\"#e6f5d0\"],[0.7,\"#b8e186\"],[0.8,\"#7fbc41\"],[0.9,\"#4d9221\"],[1,\"#276419\"]]},\"xaxis\":{\"gridcolor\":\"white\",\"linecolor\":\"white\",\"ticks\":\"\",\"title\":{\"standoff\":15},\"zerolinecolor\":\"white\",\"automargin\":true,\"zerolinewidth\":2},\"yaxis\":{\"gridcolor\":\"white\",\"linecolor\":\"white\",\"ticks\":\"\",\"title\":{\"standoff\":15},\"zerolinecolor\":\"white\",\"automargin\":true,\"zerolinewidth\":2},\"scene\":{\"xaxis\":{\"backgroundcolor\":\"#E5ECF6\",\"gridcolor\":\"white\",\"linecolor\":\"white\",\"showbackground\":true,\"ticks\":\"\",\"zerolinecolor\":\"white\",\"gridwidth\":2},\"yaxis\":{\"backgroundcolor\":\"#E5ECF6\",\"gridcolor\":\"white\",\"linecolor\":\"white\",\"showbackground\":true,\"ticks\":\"\",\"zerolinecolor\":\"white\",\"gridwidth\":2},\"zaxis\":{\"backgroundcolor\":\"#E5ECF6\",\"gridcolor\":\"white\",\"linecolor\":\"white\",\"showbackground\":true,\"ticks\":\"\",\"zerolinecolor\":\"white\",\"gridwidth\":2}},\"shapedefaults\":{\"line\":{\"color\":\"#2a3f5f\"}},\"annotationdefaults\":{\"arrowcolor\":\"#2a3f5f\",\"arrowhead\":0,\"arrowwidth\":1},\"geo\":{\"bgcolor\":\"white\",\"landcolor\":\"#E5ECF6\",\"subunitcolor\":\"white\",\"showland\":true,\"showlakes\":true,\"lakecolor\":\"white\"},\"title\":{\"x\":0.05},\"mapbox\":{\"style\":\"light\"}}}},                        {\"responsive\": true}                    ).then(function(){\n",
       "                            \n",
       "var gd = document.getElementById('8dcc6e4b-d71a-4028-9340-0a376b3a9c00');\n",
       "var x = new MutationObserver(function (mutations, observer) {{\n",
       "        var display = window.getComputedStyle(gd).display;\n",
       "        if (!display || display === 'none') {{\n",
       "            console.log([gd, 'removed!']);\n",
       "            Plotly.purge(gd);\n",
       "            observer.disconnect();\n",
       "        }}\n",
       "}});\n",
       "\n",
       "// Listen for the removal of the full notebook cells\n",
       "var notebookContainer = gd.closest('#notebook-container');\n",
       "if (notebookContainer) {{\n",
       "    x.observe(notebookContainer, {childList: true});\n",
       "}}\n",
       "\n",
       "// Listen for the clearing of the current output cell\n",
       "var outputEl = gd.closest('.output');\n",
       "if (outputEl) {{\n",
       "    x.observe(outputEl, {childList: true});\n",
       "}}\n",
       "\n",
       "                        })                };                });            </script>        </div>"
      ]
     },
     "metadata": {},
     "output_type": "display_data"
    }
   ],
   "source": [
    "#Gráfico de coordenadas paralelas de optimización con Optuna y Prunning\n",
    "plot_parallel_coordinate(study_pr)"
   ]
  },
  {
   "cell_type": "code",
   "execution_count": 46,
   "metadata": {},
   "outputs": [
    {
     "data": {
      "application/vnd.plotly.v1+json": {
       "config": {
        "plotlyServerURL": "https://plot.ly"
       },
       "data": [
        {
         "cliponaxis": false,
         "hovertemplate": [
          "min_child_weight (IntDistribution): 0.000212536905262278<extra></extra>",
          "reg_lambda (FloatDistribution): 0.001218444693564739<extra></extra>",
          "max_leaves (IntDistribution): 0.0014360276339264295<extra></extra>",
          "reg_alpha (FloatDistribution): 0.0053245264954786715<extra></extra>",
          "min_frequency (FloatDistribution): 0.016163412256102558<extra></extra>",
          "n_estimators (IntDistribution): 0.03763103802188373<extra></extra>",
          "max_depth (IntDistribution): 0.10270903772794777<extra></extra>",
          "learning_rate (FloatDistribution): 0.8353049762658339<extra></extra>"
         ],
         "name": "Objective Value",
         "orientation": "h",
         "text": [
          "<0.01",
          "<0.01",
          "<0.01",
          "<0.01",
          "0.02",
          "0.04",
          "0.10",
          "0.84"
         ],
         "textposition": "outside",
         "type": "bar",
         "x": [
          0.000212536905262278,
          0.001218444693564739,
          0.0014360276339264295,
          0.0053245264954786715,
          0.016163412256102558,
          0.03763103802188373,
          0.10270903772794777,
          0.8353049762658339
         ],
         "y": [
          "min_child_weight",
          "reg_lambda",
          "max_leaves",
          "reg_alpha",
          "min_frequency",
          "n_estimators",
          "max_depth",
          "learning_rate"
         ]
        }
       ],
       "layout": {
        "template": {
         "data": {
          "bar": [
           {
            "error_x": {
             "color": "#2a3f5f"
            },
            "error_y": {
             "color": "#2a3f5f"
            },
            "marker": {
             "line": {
              "color": "#E5ECF6",
              "width": 0.5
             },
             "pattern": {
              "fillmode": "overlay",
              "size": 10,
              "solidity": 0.2
             }
            },
            "type": "bar"
           }
          ],
          "barpolar": [
           {
            "marker": {
             "line": {
              "color": "#E5ECF6",
              "width": 0.5
             },
             "pattern": {
              "fillmode": "overlay",
              "size": 10,
              "solidity": 0.2
             }
            },
            "type": "barpolar"
           }
          ],
          "carpet": [
           {
            "aaxis": {
             "endlinecolor": "#2a3f5f",
             "gridcolor": "white",
             "linecolor": "white",
             "minorgridcolor": "white",
             "startlinecolor": "#2a3f5f"
            },
            "baxis": {
             "endlinecolor": "#2a3f5f",
             "gridcolor": "white",
             "linecolor": "white",
             "minorgridcolor": "white",
             "startlinecolor": "#2a3f5f"
            },
            "type": "carpet"
           }
          ],
          "choropleth": [
           {
            "colorbar": {
             "outlinewidth": 0,
             "ticks": ""
            },
            "type": "choropleth"
           }
          ],
          "contour": [
           {
            "colorbar": {
             "outlinewidth": 0,
             "ticks": ""
            },
            "colorscale": [
             [
              0,
              "#0d0887"
             ],
             [
              0.1111111111111111,
              "#46039f"
             ],
             [
              0.2222222222222222,
              "#7201a8"
             ],
             [
              0.3333333333333333,
              "#9c179e"
             ],
             [
              0.4444444444444444,
              "#bd3786"
             ],
             [
              0.5555555555555556,
              "#d8576b"
             ],
             [
              0.6666666666666666,
              "#ed7953"
             ],
             [
              0.7777777777777778,
              "#fb9f3a"
             ],
             [
              0.8888888888888888,
              "#fdca26"
             ],
             [
              1,
              "#f0f921"
             ]
            ],
            "type": "contour"
           }
          ],
          "contourcarpet": [
           {
            "colorbar": {
             "outlinewidth": 0,
             "ticks": ""
            },
            "type": "contourcarpet"
           }
          ],
          "heatmap": [
           {
            "colorbar": {
             "outlinewidth": 0,
             "ticks": ""
            },
            "colorscale": [
             [
              0,
              "#0d0887"
             ],
             [
              0.1111111111111111,
              "#46039f"
             ],
             [
              0.2222222222222222,
              "#7201a8"
             ],
             [
              0.3333333333333333,
              "#9c179e"
             ],
             [
              0.4444444444444444,
              "#bd3786"
             ],
             [
              0.5555555555555556,
              "#d8576b"
             ],
             [
              0.6666666666666666,
              "#ed7953"
             ],
             [
              0.7777777777777778,
              "#fb9f3a"
             ],
             [
              0.8888888888888888,
              "#fdca26"
             ],
             [
              1,
              "#f0f921"
             ]
            ],
            "type": "heatmap"
           }
          ],
          "heatmapgl": [
           {
            "colorbar": {
             "outlinewidth": 0,
             "ticks": ""
            },
            "colorscale": [
             [
              0,
              "#0d0887"
             ],
             [
              0.1111111111111111,
              "#46039f"
             ],
             [
              0.2222222222222222,
              "#7201a8"
             ],
             [
              0.3333333333333333,
              "#9c179e"
             ],
             [
              0.4444444444444444,
              "#bd3786"
             ],
             [
              0.5555555555555556,
              "#d8576b"
             ],
             [
              0.6666666666666666,
              "#ed7953"
             ],
             [
              0.7777777777777778,
              "#fb9f3a"
             ],
             [
              0.8888888888888888,
              "#fdca26"
             ],
             [
              1,
              "#f0f921"
             ]
            ],
            "type": "heatmapgl"
           }
          ],
          "histogram": [
           {
            "marker": {
             "pattern": {
              "fillmode": "overlay",
              "size": 10,
              "solidity": 0.2
             }
            },
            "type": "histogram"
           }
          ],
          "histogram2d": [
           {
            "colorbar": {
             "outlinewidth": 0,
             "ticks": ""
            },
            "colorscale": [
             [
              0,
              "#0d0887"
             ],
             [
              0.1111111111111111,
              "#46039f"
             ],
             [
              0.2222222222222222,
              "#7201a8"
             ],
             [
              0.3333333333333333,
              "#9c179e"
             ],
             [
              0.4444444444444444,
              "#bd3786"
             ],
             [
              0.5555555555555556,
              "#d8576b"
             ],
             [
              0.6666666666666666,
              "#ed7953"
             ],
             [
              0.7777777777777778,
              "#fb9f3a"
             ],
             [
              0.8888888888888888,
              "#fdca26"
             ],
             [
              1,
              "#f0f921"
             ]
            ],
            "type": "histogram2d"
           }
          ],
          "histogram2dcontour": [
           {
            "colorbar": {
             "outlinewidth": 0,
             "ticks": ""
            },
            "colorscale": [
             [
              0,
              "#0d0887"
             ],
             [
              0.1111111111111111,
              "#46039f"
             ],
             [
              0.2222222222222222,
              "#7201a8"
             ],
             [
              0.3333333333333333,
              "#9c179e"
             ],
             [
              0.4444444444444444,
              "#bd3786"
             ],
             [
              0.5555555555555556,
              "#d8576b"
             ],
             [
              0.6666666666666666,
              "#ed7953"
             ],
             [
              0.7777777777777778,
              "#fb9f3a"
             ],
             [
              0.8888888888888888,
              "#fdca26"
             ],
             [
              1,
              "#f0f921"
             ]
            ],
            "type": "histogram2dcontour"
           }
          ],
          "mesh3d": [
           {
            "colorbar": {
             "outlinewidth": 0,
             "ticks": ""
            },
            "type": "mesh3d"
           }
          ],
          "parcoords": [
           {
            "line": {
             "colorbar": {
              "outlinewidth": 0,
              "ticks": ""
             }
            },
            "type": "parcoords"
           }
          ],
          "pie": [
           {
            "automargin": true,
            "type": "pie"
           }
          ],
          "scatter": [
           {
            "fillpattern": {
             "fillmode": "overlay",
             "size": 10,
             "solidity": 0.2
            },
            "type": "scatter"
           }
          ],
          "scatter3d": [
           {
            "line": {
             "colorbar": {
              "outlinewidth": 0,
              "ticks": ""
             }
            },
            "marker": {
             "colorbar": {
              "outlinewidth": 0,
              "ticks": ""
             }
            },
            "type": "scatter3d"
           }
          ],
          "scattercarpet": [
           {
            "marker": {
             "colorbar": {
              "outlinewidth": 0,
              "ticks": ""
             }
            },
            "type": "scattercarpet"
           }
          ],
          "scattergeo": [
           {
            "marker": {
             "colorbar": {
              "outlinewidth": 0,
              "ticks": ""
             }
            },
            "type": "scattergeo"
           }
          ],
          "scattergl": [
           {
            "marker": {
             "colorbar": {
              "outlinewidth": 0,
              "ticks": ""
             }
            },
            "type": "scattergl"
           }
          ],
          "scattermapbox": [
           {
            "marker": {
             "colorbar": {
              "outlinewidth": 0,
              "ticks": ""
             }
            },
            "type": "scattermapbox"
           }
          ],
          "scatterpolar": [
           {
            "marker": {
             "colorbar": {
              "outlinewidth": 0,
              "ticks": ""
             }
            },
            "type": "scatterpolar"
           }
          ],
          "scatterpolargl": [
           {
            "marker": {
             "colorbar": {
              "outlinewidth": 0,
              "ticks": ""
             }
            },
            "type": "scatterpolargl"
           }
          ],
          "scatterternary": [
           {
            "marker": {
             "colorbar": {
              "outlinewidth": 0,
              "ticks": ""
             }
            },
            "type": "scatterternary"
           }
          ],
          "surface": [
           {
            "colorbar": {
             "outlinewidth": 0,
             "ticks": ""
            },
            "colorscale": [
             [
              0,
              "#0d0887"
             ],
             [
              0.1111111111111111,
              "#46039f"
             ],
             [
              0.2222222222222222,
              "#7201a8"
             ],
             [
              0.3333333333333333,
              "#9c179e"
             ],
             [
              0.4444444444444444,
              "#bd3786"
             ],
             [
              0.5555555555555556,
              "#d8576b"
             ],
             [
              0.6666666666666666,
              "#ed7953"
             ],
             [
              0.7777777777777778,
              "#fb9f3a"
             ],
             [
              0.8888888888888888,
              "#fdca26"
             ],
             [
              1,
              "#f0f921"
             ]
            ],
            "type": "surface"
           }
          ],
          "table": [
           {
            "cells": {
             "fill": {
              "color": "#EBF0F8"
             },
             "line": {
              "color": "white"
             }
            },
            "header": {
             "fill": {
              "color": "#C8D4E3"
             },
             "line": {
              "color": "white"
             }
            },
            "type": "table"
           }
          ]
         },
         "layout": {
          "annotationdefaults": {
           "arrowcolor": "#2a3f5f",
           "arrowhead": 0,
           "arrowwidth": 1
          },
          "autotypenumbers": "strict",
          "coloraxis": {
           "colorbar": {
            "outlinewidth": 0,
            "ticks": ""
           }
          },
          "colorscale": {
           "diverging": [
            [
             0,
             "#8e0152"
            ],
            [
             0.1,
             "#c51b7d"
            ],
            [
             0.2,
             "#de77ae"
            ],
            [
             0.3,
             "#f1b6da"
            ],
            [
             0.4,
             "#fde0ef"
            ],
            [
             0.5,
             "#f7f7f7"
            ],
            [
             0.6,
             "#e6f5d0"
            ],
            [
             0.7,
             "#b8e186"
            ],
            [
             0.8,
             "#7fbc41"
            ],
            [
             0.9,
             "#4d9221"
            ],
            [
             1,
             "#276419"
            ]
           ],
           "sequential": [
            [
             0,
             "#0d0887"
            ],
            [
             0.1111111111111111,
             "#46039f"
            ],
            [
             0.2222222222222222,
             "#7201a8"
            ],
            [
             0.3333333333333333,
             "#9c179e"
            ],
            [
             0.4444444444444444,
             "#bd3786"
            ],
            [
             0.5555555555555556,
             "#d8576b"
            ],
            [
             0.6666666666666666,
             "#ed7953"
            ],
            [
             0.7777777777777778,
             "#fb9f3a"
            ],
            [
             0.8888888888888888,
             "#fdca26"
            ],
            [
             1,
             "#f0f921"
            ]
           ],
           "sequentialminus": [
            [
             0,
             "#0d0887"
            ],
            [
             0.1111111111111111,
             "#46039f"
            ],
            [
             0.2222222222222222,
             "#7201a8"
            ],
            [
             0.3333333333333333,
             "#9c179e"
            ],
            [
             0.4444444444444444,
             "#bd3786"
            ],
            [
             0.5555555555555556,
             "#d8576b"
            ],
            [
             0.6666666666666666,
             "#ed7953"
            ],
            [
             0.7777777777777778,
             "#fb9f3a"
            ],
            [
             0.8888888888888888,
             "#fdca26"
            ],
            [
             1,
             "#f0f921"
            ]
           ]
          },
          "colorway": [
           "#636efa",
           "#EF553B",
           "#00cc96",
           "#ab63fa",
           "#FFA15A",
           "#19d3f3",
           "#FF6692",
           "#B6E880",
           "#FF97FF",
           "#FECB52"
          ],
          "font": {
           "color": "#2a3f5f"
          },
          "geo": {
           "bgcolor": "white",
           "lakecolor": "white",
           "landcolor": "#E5ECF6",
           "showlakes": true,
           "showland": true,
           "subunitcolor": "white"
          },
          "hoverlabel": {
           "align": "left"
          },
          "hovermode": "closest",
          "mapbox": {
           "style": "light"
          },
          "paper_bgcolor": "white",
          "plot_bgcolor": "#E5ECF6",
          "polar": {
           "angularaxis": {
            "gridcolor": "white",
            "linecolor": "white",
            "ticks": ""
           },
           "bgcolor": "#E5ECF6",
           "radialaxis": {
            "gridcolor": "white",
            "linecolor": "white",
            "ticks": ""
           }
          },
          "scene": {
           "xaxis": {
            "backgroundcolor": "#E5ECF6",
            "gridcolor": "white",
            "gridwidth": 2,
            "linecolor": "white",
            "showbackground": true,
            "ticks": "",
            "zerolinecolor": "white"
           },
           "yaxis": {
            "backgroundcolor": "#E5ECF6",
            "gridcolor": "white",
            "gridwidth": 2,
            "linecolor": "white",
            "showbackground": true,
            "ticks": "",
            "zerolinecolor": "white"
           },
           "zaxis": {
            "backgroundcolor": "#E5ECF6",
            "gridcolor": "white",
            "gridwidth": 2,
            "linecolor": "white",
            "showbackground": true,
            "ticks": "",
            "zerolinecolor": "white"
           }
          },
          "shapedefaults": {
           "line": {
            "color": "#2a3f5f"
           }
          },
          "ternary": {
           "aaxis": {
            "gridcolor": "white",
            "linecolor": "white",
            "ticks": ""
           },
           "baxis": {
            "gridcolor": "white",
            "linecolor": "white",
            "ticks": ""
           },
           "bgcolor": "#E5ECF6",
           "caxis": {
            "gridcolor": "white",
            "linecolor": "white",
            "ticks": ""
           }
          },
          "title": {
           "x": 0.05
          },
          "xaxis": {
           "automargin": true,
           "gridcolor": "white",
           "linecolor": "white",
           "ticks": "",
           "title": {
            "standoff": 15
           },
           "zerolinecolor": "white",
           "zerolinewidth": 2
          },
          "yaxis": {
           "automargin": true,
           "gridcolor": "white",
           "linecolor": "white",
           "ticks": "",
           "title": {
            "standoff": 15
           },
           "zerolinecolor": "white",
           "zerolinewidth": 2
          }
         }
        },
        "title": {
         "text": "Hyperparameter Importances"
        },
        "xaxis": {
         "title": {
          "text": "Hyperparameter Importance"
         }
        },
        "yaxis": {
         "title": {
          "text": "Hyperparameter"
         }
        }
       }
      },
      "text/html": [
       "<div>                            <div id=\"523b1d57-f60c-493e-bb0f-f002c31d6dda\" class=\"plotly-graph-div\" style=\"height:525px; width:100%;\"></div>            <script type=\"text/javascript\">                require([\"plotly\"], function(Plotly) {                    window.PLOTLYENV=window.PLOTLYENV || {};                                    if (document.getElementById(\"523b1d57-f60c-493e-bb0f-f002c31d6dda\")) {                    Plotly.newPlot(                        \"523b1d57-f60c-493e-bb0f-f002c31d6dda\",                        [{\"cliponaxis\":false,\"hovertemplate\":[\"min_child_weight (IntDistribution): 0.000212536905262278<extra></extra>\",\"reg_lambda (FloatDistribution): 0.001218444693564739<extra></extra>\",\"max_leaves (IntDistribution): 0.0014360276339264295<extra></extra>\",\"reg_alpha (FloatDistribution): 0.0053245264954786715<extra></extra>\",\"min_frequency (FloatDistribution): 0.016163412256102558<extra></extra>\",\"n_estimators (IntDistribution): 0.03763103802188373<extra></extra>\",\"max_depth (IntDistribution): 0.10270903772794777<extra></extra>\",\"learning_rate (FloatDistribution): 0.8353049762658339<extra></extra>\"],\"name\":\"Objective Value\",\"orientation\":\"h\",\"text\":[\"<0.01\",\"<0.01\",\"<0.01\",\"<0.01\",\"0.02\",\"0.04\",\"0.10\",\"0.84\"],\"textposition\":\"outside\",\"x\":[0.000212536905262278,0.001218444693564739,0.0014360276339264295,0.0053245264954786715,0.016163412256102558,0.03763103802188373,0.10270903772794777,0.8353049762658339],\"y\":[\"min_child_weight\",\"reg_lambda\",\"max_leaves\",\"reg_alpha\",\"min_frequency\",\"n_estimators\",\"max_depth\",\"learning_rate\"],\"type\":\"bar\"}],                        {\"title\":{\"text\":\"Hyperparameter Importances\"},\"xaxis\":{\"title\":{\"text\":\"Hyperparameter Importance\"}},\"yaxis\":{\"title\":{\"text\":\"Hyperparameter\"}},\"template\":{\"data\":{\"histogram2dcontour\":[{\"type\":\"histogram2dcontour\",\"colorbar\":{\"outlinewidth\":0,\"ticks\":\"\"},\"colorscale\":[[0.0,\"#0d0887\"],[0.1111111111111111,\"#46039f\"],[0.2222222222222222,\"#7201a8\"],[0.3333333333333333,\"#9c179e\"],[0.4444444444444444,\"#bd3786\"],[0.5555555555555556,\"#d8576b\"],[0.6666666666666666,\"#ed7953\"],[0.7777777777777778,\"#fb9f3a\"],[0.8888888888888888,\"#fdca26\"],[1.0,\"#f0f921\"]]}],\"choropleth\":[{\"type\":\"choropleth\",\"colorbar\":{\"outlinewidth\":0,\"ticks\":\"\"}}],\"histogram2d\":[{\"type\":\"histogram2d\",\"colorbar\":{\"outlinewidth\":0,\"ticks\":\"\"},\"colorscale\":[[0.0,\"#0d0887\"],[0.1111111111111111,\"#46039f\"],[0.2222222222222222,\"#7201a8\"],[0.3333333333333333,\"#9c179e\"],[0.4444444444444444,\"#bd3786\"],[0.5555555555555556,\"#d8576b\"],[0.6666666666666666,\"#ed7953\"],[0.7777777777777778,\"#fb9f3a\"],[0.8888888888888888,\"#fdca26\"],[1.0,\"#f0f921\"]]}],\"heatmap\":[{\"type\":\"heatmap\",\"colorbar\":{\"outlinewidth\":0,\"ticks\":\"\"},\"colorscale\":[[0.0,\"#0d0887\"],[0.1111111111111111,\"#46039f\"],[0.2222222222222222,\"#7201a8\"],[0.3333333333333333,\"#9c179e\"],[0.4444444444444444,\"#bd3786\"],[0.5555555555555556,\"#d8576b\"],[0.6666666666666666,\"#ed7953\"],[0.7777777777777778,\"#fb9f3a\"],[0.8888888888888888,\"#fdca26\"],[1.0,\"#f0f921\"]]}],\"heatmapgl\":[{\"type\":\"heatmapgl\",\"colorbar\":{\"outlinewidth\":0,\"ticks\":\"\"},\"colorscale\":[[0.0,\"#0d0887\"],[0.1111111111111111,\"#46039f\"],[0.2222222222222222,\"#7201a8\"],[0.3333333333333333,\"#9c179e\"],[0.4444444444444444,\"#bd3786\"],[0.5555555555555556,\"#d8576b\"],[0.6666666666666666,\"#ed7953\"],[0.7777777777777778,\"#fb9f3a\"],[0.8888888888888888,\"#fdca26\"],[1.0,\"#f0f921\"]]}],\"contourcarpet\":[{\"type\":\"contourcarpet\",\"colorbar\":{\"outlinewidth\":0,\"ticks\":\"\"}}],\"contour\":[{\"type\":\"contour\",\"colorbar\":{\"outlinewidth\":0,\"ticks\":\"\"},\"colorscale\":[[0.0,\"#0d0887\"],[0.1111111111111111,\"#46039f\"],[0.2222222222222222,\"#7201a8\"],[0.3333333333333333,\"#9c179e\"],[0.4444444444444444,\"#bd3786\"],[0.5555555555555556,\"#d8576b\"],[0.6666666666666666,\"#ed7953\"],[0.7777777777777778,\"#fb9f3a\"],[0.8888888888888888,\"#fdca26\"],[1.0,\"#f0f921\"]]}],\"surface\":[{\"type\":\"surface\",\"colorbar\":{\"outlinewidth\":0,\"ticks\":\"\"},\"colorscale\":[[0.0,\"#0d0887\"],[0.1111111111111111,\"#46039f\"],[0.2222222222222222,\"#7201a8\"],[0.3333333333333333,\"#9c179e\"],[0.4444444444444444,\"#bd3786\"],[0.5555555555555556,\"#d8576b\"],[0.6666666666666666,\"#ed7953\"],[0.7777777777777778,\"#fb9f3a\"],[0.8888888888888888,\"#fdca26\"],[1.0,\"#f0f921\"]]}],\"mesh3d\":[{\"type\":\"mesh3d\",\"colorbar\":{\"outlinewidth\":0,\"ticks\":\"\"}}],\"scatter\":[{\"fillpattern\":{\"fillmode\":\"overlay\",\"size\":10,\"solidity\":0.2},\"type\":\"scatter\"}],\"parcoords\":[{\"type\":\"parcoords\",\"line\":{\"colorbar\":{\"outlinewidth\":0,\"ticks\":\"\"}}}],\"scatterpolargl\":[{\"type\":\"scatterpolargl\",\"marker\":{\"colorbar\":{\"outlinewidth\":0,\"ticks\":\"\"}}}],\"bar\":[{\"error_x\":{\"color\":\"#2a3f5f\"},\"error_y\":{\"color\":\"#2a3f5f\"},\"marker\":{\"line\":{\"color\":\"#E5ECF6\",\"width\":0.5},\"pattern\":{\"fillmode\":\"overlay\",\"size\":10,\"solidity\":0.2}},\"type\":\"bar\"}],\"scattergeo\":[{\"type\":\"scattergeo\",\"marker\":{\"colorbar\":{\"outlinewidth\":0,\"ticks\":\"\"}}}],\"scatterpolar\":[{\"type\":\"scatterpolar\",\"marker\":{\"colorbar\":{\"outlinewidth\":0,\"ticks\":\"\"}}}],\"histogram\":[{\"marker\":{\"pattern\":{\"fillmode\":\"overlay\",\"size\":10,\"solidity\":0.2}},\"type\":\"histogram\"}],\"scattergl\":[{\"type\":\"scattergl\",\"marker\":{\"colorbar\":{\"outlinewidth\":0,\"ticks\":\"\"}}}],\"scatter3d\":[{\"type\":\"scatter3d\",\"line\":{\"colorbar\":{\"outlinewidth\":0,\"ticks\":\"\"}},\"marker\":{\"colorbar\":{\"outlinewidth\":0,\"ticks\":\"\"}}}],\"scattermapbox\":[{\"type\":\"scattermapbox\",\"marker\":{\"colorbar\":{\"outlinewidth\":0,\"ticks\":\"\"}}}],\"scatterternary\":[{\"type\":\"scatterternary\",\"marker\":{\"colorbar\":{\"outlinewidth\":0,\"ticks\":\"\"}}}],\"scattercarpet\":[{\"type\":\"scattercarpet\",\"marker\":{\"colorbar\":{\"outlinewidth\":0,\"ticks\":\"\"}}}],\"carpet\":[{\"aaxis\":{\"endlinecolor\":\"#2a3f5f\",\"gridcolor\":\"white\",\"linecolor\":\"white\",\"minorgridcolor\":\"white\",\"startlinecolor\":\"#2a3f5f\"},\"baxis\":{\"endlinecolor\":\"#2a3f5f\",\"gridcolor\":\"white\",\"linecolor\":\"white\",\"minorgridcolor\":\"white\",\"startlinecolor\":\"#2a3f5f\"},\"type\":\"carpet\"}],\"table\":[{\"cells\":{\"fill\":{\"color\":\"#EBF0F8\"},\"line\":{\"color\":\"white\"}},\"header\":{\"fill\":{\"color\":\"#C8D4E3\"},\"line\":{\"color\":\"white\"}},\"type\":\"table\"}],\"barpolar\":[{\"marker\":{\"line\":{\"color\":\"#E5ECF6\",\"width\":0.5},\"pattern\":{\"fillmode\":\"overlay\",\"size\":10,\"solidity\":0.2}},\"type\":\"barpolar\"}],\"pie\":[{\"automargin\":true,\"type\":\"pie\"}]},\"layout\":{\"autotypenumbers\":\"strict\",\"colorway\":[\"#636efa\",\"#EF553B\",\"#00cc96\",\"#ab63fa\",\"#FFA15A\",\"#19d3f3\",\"#FF6692\",\"#B6E880\",\"#FF97FF\",\"#FECB52\"],\"font\":{\"color\":\"#2a3f5f\"},\"hovermode\":\"closest\",\"hoverlabel\":{\"align\":\"left\"},\"paper_bgcolor\":\"white\",\"plot_bgcolor\":\"#E5ECF6\",\"polar\":{\"bgcolor\":\"#E5ECF6\",\"angularaxis\":{\"gridcolor\":\"white\",\"linecolor\":\"white\",\"ticks\":\"\"},\"radialaxis\":{\"gridcolor\":\"white\",\"linecolor\":\"white\",\"ticks\":\"\"}},\"ternary\":{\"bgcolor\":\"#E5ECF6\",\"aaxis\":{\"gridcolor\":\"white\",\"linecolor\":\"white\",\"ticks\":\"\"},\"baxis\":{\"gridcolor\":\"white\",\"linecolor\":\"white\",\"ticks\":\"\"},\"caxis\":{\"gridcolor\":\"white\",\"linecolor\":\"white\",\"ticks\":\"\"}},\"coloraxis\":{\"colorbar\":{\"outlinewidth\":0,\"ticks\":\"\"}},\"colorscale\":{\"sequential\":[[0.0,\"#0d0887\"],[0.1111111111111111,\"#46039f\"],[0.2222222222222222,\"#7201a8\"],[0.3333333333333333,\"#9c179e\"],[0.4444444444444444,\"#bd3786\"],[0.5555555555555556,\"#d8576b\"],[0.6666666666666666,\"#ed7953\"],[0.7777777777777778,\"#fb9f3a\"],[0.8888888888888888,\"#fdca26\"],[1.0,\"#f0f921\"]],\"sequentialminus\":[[0.0,\"#0d0887\"],[0.1111111111111111,\"#46039f\"],[0.2222222222222222,\"#7201a8\"],[0.3333333333333333,\"#9c179e\"],[0.4444444444444444,\"#bd3786\"],[0.5555555555555556,\"#d8576b\"],[0.6666666666666666,\"#ed7953\"],[0.7777777777777778,\"#fb9f3a\"],[0.8888888888888888,\"#fdca26\"],[1.0,\"#f0f921\"]],\"diverging\":[[0,\"#8e0152\"],[0.1,\"#c51b7d\"],[0.2,\"#de77ae\"],[0.3,\"#f1b6da\"],[0.4,\"#fde0ef\"],[0.5,\"#f7f7f7\"],[0.6,\"#e6f5d0\"],[0.7,\"#b8e186\"],[0.8,\"#7fbc41\"],[0.9,\"#4d9221\"],[1,\"#276419\"]]},\"xaxis\":{\"gridcolor\":\"white\",\"linecolor\":\"white\",\"ticks\":\"\",\"title\":{\"standoff\":15},\"zerolinecolor\":\"white\",\"automargin\":true,\"zerolinewidth\":2},\"yaxis\":{\"gridcolor\":\"white\",\"linecolor\":\"white\",\"ticks\":\"\",\"title\":{\"standoff\":15},\"zerolinecolor\":\"white\",\"automargin\":true,\"zerolinewidth\":2},\"scene\":{\"xaxis\":{\"backgroundcolor\":\"#E5ECF6\",\"gridcolor\":\"white\",\"linecolor\":\"white\",\"showbackground\":true,\"ticks\":\"\",\"zerolinecolor\":\"white\",\"gridwidth\":2},\"yaxis\":{\"backgroundcolor\":\"#E5ECF6\",\"gridcolor\":\"white\",\"linecolor\":\"white\",\"showbackground\":true,\"ticks\":\"\",\"zerolinecolor\":\"white\",\"gridwidth\":2},\"zaxis\":{\"backgroundcolor\":\"#E5ECF6\",\"gridcolor\":\"white\",\"linecolor\":\"white\",\"showbackground\":true,\"ticks\":\"\",\"zerolinecolor\":\"white\",\"gridwidth\":2}},\"shapedefaults\":{\"line\":{\"color\":\"#2a3f5f\"}},\"annotationdefaults\":{\"arrowcolor\":\"#2a3f5f\",\"arrowhead\":0,\"arrowwidth\":1},\"geo\":{\"bgcolor\":\"white\",\"landcolor\":\"#E5ECF6\",\"subunitcolor\":\"white\",\"showland\":true,\"showlakes\":true,\"lakecolor\":\"white\"},\"title\":{\"x\":0.05},\"mapbox\":{\"style\":\"light\"}}}},                        {\"responsive\": true}                    ).then(function(){\n",
       "                            \n",
       "var gd = document.getElementById('523b1d57-f60c-493e-bb0f-f002c31d6dda');\n",
       "var x = new MutationObserver(function (mutations, observer) {{\n",
       "        var display = window.getComputedStyle(gd).display;\n",
       "        if (!display || display === 'none') {{\n",
       "            console.log([gd, 'removed!']);\n",
       "            Plotly.purge(gd);\n",
       "            observer.disconnect();\n",
       "        }}\n",
       "}});\n",
       "\n",
       "// Listen for the removal of the full notebook cells\n",
       "var notebookContainer = gd.closest('#notebook-container');\n",
       "if (notebookContainer) {{\n",
       "    x.observe(notebookContainer, {childList: true});\n",
       "}}\n",
       "\n",
       "// Listen for the clearing of the current output cell\n",
       "var outputEl = gd.closest('.output');\n",
       "if (outputEl) {{\n",
       "    x.observe(outputEl, {childList: true});\n",
       "}}\n",
       "\n",
       "                        })                };                });            </script>        </div>"
      ]
     },
     "metadata": {},
     "output_type": "display_data"
    }
   ],
   "source": [
    "# Gráfico de importancia de hiperparámetros con Optuna\n",
    "plot_param_importances(study)"
   ]
  },
  {
   "cell_type": "code",
   "execution_count": 47,
   "metadata": {},
   "outputs": [
    {
     "data": {
      "application/vnd.plotly.v1+json": {
       "config": {
        "plotlyServerURL": "https://plot.ly"
       },
       "data": [
        {
         "cliponaxis": false,
         "hovertemplate": [
          "min_frequency (FloatDistribution): 0.053674774555810205<extra></extra>",
          "n_estimators (IntDistribution): 0.054553740090290896<extra></extra>",
          "max_leaves (IntDistribution): 0.07271761245606807<extra></extra>",
          "learning_rate (FloatDistribution): 0.10816205534505115<extra></extra>",
          "max_depth (IntDistribution): 0.14313273214882732<extra></extra>",
          "reg_alpha (FloatDistribution): 0.16183372575465615<extra></extra>",
          "reg_lambda (FloatDistribution): 0.17781682413316832<extra></extra>",
          "min_child_weight (IntDistribution): 0.22810853551612786<extra></extra>"
         ],
         "name": "Objective Value",
         "orientation": "h",
         "text": [
          "0.05",
          "0.05",
          "0.07",
          "0.11",
          "0.14",
          "0.16",
          "0.18",
          "0.23"
         ],
         "textposition": "outside",
         "type": "bar",
         "x": [
          0.053674774555810205,
          0.054553740090290896,
          0.07271761245606807,
          0.10816205534505115,
          0.14313273214882732,
          0.16183372575465615,
          0.17781682413316832,
          0.22810853551612786
         ],
         "y": [
          "min_frequency",
          "n_estimators",
          "max_leaves",
          "learning_rate",
          "max_depth",
          "reg_alpha",
          "reg_lambda",
          "min_child_weight"
         ]
        }
       ],
       "layout": {
        "template": {
         "data": {
          "bar": [
           {
            "error_x": {
             "color": "#2a3f5f"
            },
            "error_y": {
             "color": "#2a3f5f"
            },
            "marker": {
             "line": {
              "color": "#E5ECF6",
              "width": 0.5
             },
             "pattern": {
              "fillmode": "overlay",
              "size": 10,
              "solidity": 0.2
             }
            },
            "type": "bar"
           }
          ],
          "barpolar": [
           {
            "marker": {
             "line": {
              "color": "#E5ECF6",
              "width": 0.5
             },
             "pattern": {
              "fillmode": "overlay",
              "size": 10,
              "solidity": 0.2
             }
            },
            "type": "barpolar"
           }
          ],
          "carpet": [
           {
            "aaxis": {
             "endlinecolor": "#2a3f5f",
             "gridcolor": "white",
             "linecolor": "white",
             "minorgridcolor": "white",
             "startlinecolor": "#2a3f5f"
            },
            "baxis": {
             "endlinecolor": "#2a3f5f",
             "gridcolor": "white",
             "linecolor": "white",
             "minorgridcolor": "white",
             "startlinecolor": "#2a3f5f"
            },
            "type": "carpet"
           }
          ],
          "choropleth": [
           {
            "colorbar": {
             "outlinewidth": 0,
             "ticks": ""
            },
            "type": "choropleth"
           }
          ],
          "contour": [
           {
            "colorbar": {
             "outlinewidth": 0,
             "ticks": ""
            },
            "colorscale": [
             [
              0,
              "#0d0887"
             ],
             [
              0.1111111111111111,
              "#46039f"
             ],
             [
              0.2222222222222222,
              "#7201a8"
             ],
             [
              0.3333333333333333,
              "#9c179e"
             ],
             [
              0.4444444444444444,
              "#bd3786"
             ],
             [
              0.5555555555555556,
              "#d8576b"
             ],
             [
              0.6666666666666666,
              "#ed7953"
             ],
             [
              0.7777777777777778,
              "#fb9f3a"
             ],
             [
              0.8888888888888888,
              "#fdca26"
             ],
             [
              1,
              "#f0f921"
             ]
            ],
            "type": "contour"
           }
          ],
          "contourcarpet": [
           {
            "colorbar": {
             "outlinewidth": 0,
             "ticks": ""
            },
            "type": "contourcarpet"
           }
          ],
          "heatmap": [
           {
            "colorbar": {
             "outlinewidth": 0,
             "ticks": ""
            },
            "colorscale": [
             [
              0,
              "#0d0887"
             ],
             [
              0.1111111111111111,
              "#46039f"
             ],
             [
              0.2222222222222222,
              "#7201a8"
             ],
             [
              0.3333333333333333,
              "#9c179e"
             ],
             [
              0.4444444444444444,
              "#bd3786"
             ],
             [
              0.5555555555555556,
              "#d8576b"
             ],
             [
              0.6666666666666666,
              "#ed7953"
             ],
             [
              0.7777777777777778,
              "#fb9f3a"
             ],
             [
              0.8888888888888888,
              "#fdca26"
             ],
             [
              1,
              "#f0f921"
             ]
            ],
            "type": "heatmap"
           }
          ],
          "heatmapgl": [
           {
            "colorbar": {
             "outlinewidth": 0,
             "ticks": ""
            },
            "colorscale": [
             [
              0,
              "#0d0887"
             ],
             [
              0.1111111111111111,
              "#46039f"
             ],
             [
              0.2222222222222222,
              "#7201a8"
             ],
             [
              0.3333333333333333,
              "#9c179e"
             ],
             [
              0.4444444444444444,
              "#bd3786"
             ],
             [
              0.5555555555555556,
              "#d8576b"
             ],
             [
              0.6666666666666666,
              "#ed7953"
             ],
             [
              0.7777777777777778,
              "#fb9f3a"
             ],
             [
              0.8888888888888888,
              "#fdca26"
             ],
             [
              1,
              "#f0f921"
             ]
            ],
            "type": "heatmapgl"
           }
          ],
          "histogram": [
           {
            "marker": {
             "pattern": {
              "fillmode": "overlay",
              "size": 10,
              "solidity": 0.2
             }
            },
            "type": "histogram"
           }
          ],
          "histogram2d": [
           {
            "colorbar": {
             "outlinewidth": 0,
             "ticks": ""
            },
            "colorscale": [
             [
              0,
              "#0d0887"
             ],
             [
              0.1111111111111111,
              "#46039f"
             ],
             [
              0.2222222222222222,
              "#7201a8"
             ],
             [
              0.3333333333333333,
              "#9c179e"
             ],
             [
              0.4444444444444444,
              "#bd3786"
             ],
             [
              0.5555555555555556,
              "#d8576b"
             ],
             [
              0.6666666666666666,
              "#ed7953"
             ],
             [
              0.7777777777777778,
              "#fb9f3a"
             ],
             [
              0.8888888888888888,
              "#fdca26"
             ],
             [
              1,
              "#f0f921"
             ]
            ],
            "type": "histogram2d"
           }
          ],
          "histogram2dcontour": [
           {
            "colorbar": {
             "outlinewidth": 0,
             "ticks": ""
            },
            "colorscale": [
             [
              0,
              "#0d0887"
             ],
             [
              0.1111111111111111,
              "#46039f"
             ],
             [
              0.2222222222222222,
              "#7201a8"
             ],
             [
              0.3333333333333333,
              "#9c179e"
             ],
             [
              0.4444444444444444,
              "#bd3786"
             ],
             [
              0.5555555555555556,
              "#d8576b"
             ],
             [
              0.6666666666666666,
              "#ed7953"
             ],
             [
              0.7777777777777778,
              "#fb9f3a"
             ],
             [
              0.8888888888888888,
              "#fdca26"
             ],
             [
              1,
              "#f0f921"
             ]
            ],
            "type": "histogram2dcontour"
           }
          ],
          "mesh3d": [
           {
            "colorbar": {
             "outlinewidth": 0,
             "ticks": ""
            },
            "type": "mesh3d"
           }
          ],
          "parcoords": [
           {
            "line": {
             "colorbar": {
              "outlinewidth": 0,
              "ticks": ""
             }
            },
            "type": "parcoords"
           }
          ],
          "pie": [
           {
            "automargin": true,
            "type": "pie"
           }
          ],
          "scatter": [
           {
            "fillpattern": {
             "fillmode": "overlay",
             "size": 10,
             "solidity": 0.2
            },
            "type": "scatter"
           }
          ],
          "scatter3d": [
           {
            "line": {
             "colorbar": {
              "outlinewidth": 0,
              "ticks": ""
             }
            },
            "marker": {
             "colorbar": {
              "outlinewidth": 0,
              "ticks": ""
             }
            },
            "type": "scatter3d"
           }
          ],
          "scattercarpet": [
           {
            "marker": {
             "colorbar": {
              "outlinewidth": 0,
              "ticks": ""
             }
            },
            "type": "scattercarpet"
           }
          ],
          "scattergeo": [
           {
            "marker": {
             "colorbar": {
              "outlinewidth": 0,
              "ticks": ""
             }
            },
            "type": "scattergeo"
           }
          ],
          "scattergl": [
           {
            "marker": {
             "colorbar": {
              "outlinewidth": 0,
              "ticks": ""
             }
            },
            "type": "scattergl"
           }
          ],
          "scattermapbox": [
           {
            "marker": {
             "colorbar": {
              "outlinewidth": 0,
              "ticks": ""
             }
            },
            "type": "scattermapbox"
           }
          ],
          "scatterpolar": [
           {
            "marker": {
             "colorbar": {
              "outlinewidth": 0,
              "ticks": ""
             }
            },
            "type": "scatterpolar"
           }
          ],
          "scatterpolargl": [
           {
            "marker": {
             "colorbar": {
              "outlinewidth": 0,
              "ticks": ""
             }
            },
            "type": "scatterpolargl"
           }
          ],
          "scatterternary": [
           {
            "marker": {
             "colorbar": {
              "outlinewidth": 0,
              "ticks": ""
             }
            },
            "type": "scatterternary"
           }
          ],
          "surface": [
           {
            "colorbar": {
             "outlinewidth": 0,
             "ticks": ""
            },
            "colorscale": [
             [
              0,
              "#0d0887"
             ],
             [
              0.1111111111111111,
              "#46039f"
             ],
             [
              0.2222222222222222,
              "#7201a8"
             ],
             [
              0.3333333333333333,
              "#9c179e"
             ],
             [
              0.4444444444444444,
              "#bd3786"
             ],
             [
              0.5555555555555556,
              "#d8576b"
             ],
             [
              0.6666666666666666,
              "#ed7953"
             ],
             [
              0.7777777777777778,
              "#fb9f3a"
             ],
             [
              0.8888888888888888,
              "#fdca26"
             ],
             [
              1,
              "#f0f921"
             ]
            ],
            "type": "surface"
           }
          ],
          "table": [
           {
            "cells": {
             "fill": {
              "color": "#EBF0F8"
             },
             "line": {
              "color": "white"
             }
            },
            "header": {
             "fill": {
              "color": "#C8D4E3"
             },
             "line": {
              "color": "white"
             }
            },
            "type": "table"
           }
          ]
         },
         "layout": {
          "annotationdefaults": {
           "arrowcolor": "#2a3f5f",
           "arrowhead": 0,
           "arrowwidth": 1
          },
          "autotypenumbers": "strict",
          "coloraxis": {
           "colorbar": {
            "outlinewidth": 0,
            "ticks": ""
           }
          },
          "colorscale": {
           "diverging": [
            [
             0,
             "#8e0152"
            ],
            [
             0.1,
             "#c51b7d"
            ],
            [
             0.2,
             "#de77ae"
            ],
            [
             0.3,
             "#f1b6da"
            ],
            [
             0.4,
             "#fde0ef"
            ],
            [
             0.5,
             "#f7f7f7"
            ],
            [
             0.6,
             "#e6f5d0"
            ],
            [
             0.7,
             "#b8e186"
            ],
            [
             0.8,
             "#7fbc41"
            ],
            [
             0.9,
             "#4d9221"
            ],
            [
             1,
             "#276419"
            ]
           ],
           "sequential": [
            [
             0,
             "#0d0887"
            ],
            [
             0.1111111111111111,
             "#46039f"
            ],
            [
             0.2222222222222222,
             "#7201a8"
            ],
            [
             0.3333333333333333,
             "#9c179e"
            ],
            [
             0.4444444444444444,
             "#bd3786"
            ],
            [
             0.5555555555555556,
             "#d8576b"
            ],
            [
             0.6666666666666666,
             "#ed7953"
            ],
            [
             0.7777777777777778,
             "#fb9f3a"
            ],
            [
             0.8888888888888888,
             "#fdca26"
            ],
            [
             1,
             "#f0f921"
            ]
           ],
           "sequentialminus": [
            [
             0,
             "#0d0887"
            ],
            [
             0.1111111111111111,
             "#46039f"
            ],
            [
             0.2222222222222222,
             "#7201a8"
            ],
            [
             0.3333333333333333,
             "#9c179e"
            ],
            [
             0.4444444444444444,
             "#bd3786"
            ],
            [
             0.5555555555555556,
             "#d8576b"
            ],
            [
             0.6666666666666666,
             "#ed7953"
            ],
            [
             0.7777777777777778,
             "#fb9f3a"
            ],
            [
             0.8888888888888888,
             "#fdca26"
            ],
            [
             1,
             "#f0f921"
            ]
           ]
          },
          "colorway": [
           "#636efa",
           "#EF553B",
           "#00cc96",
           "#ab63fa",
           "#FFA15A",
           "#19d3f3",
           "#FF6692",
           "#B6E880",
           "#FF97FF",
           "#FECB52"
          ],
          "font": {
           "color": "#2a3f5f"
          },
          "geo": {
           "bgcolor": "white",
           "lakecolor": "white",
           "landcolor": "#E5ECF6",
           "showlakes": true,
           "showland": true,
           "subunitcolor": "white"
          },
          "hoverlabel": {
           "align": "left"
          },
          "hovermode": "closest",
          "mapbox": {
           "style": "light"
          },
          "paper_bgcolor": "white",
          "plot_bgcolor": "#E5ECF6",
          "polar": {
           "angularaxis": {
            "gridcolor": "white",
            "linecolor": "white",
            "ticks": ""
           },
           "bgcolor": "#E5ECF6",
           "radialaxis": {
            "gridcolor": "white",
            "linecolor": "white",
            "ticks": ""
           }
          },
          "scene": {
           "xaxis": {
            "backgroundcolor": "#E5ECF6",
            "gridcolor": "white",
            "gridwidth": 2,
            "linecolor": "white",
            "showbackground": true,
            "ticks": "",
            "zerolinecolor": "white"
           },
           "yaxis": {
            "backgroundcolor": "#E5ECF6",
            "gridcolor": "white",
            "gridwidth": 2,
            "linecolor": "white",
            "showbackground": true,
            "ticks": "",
            "zerolinecolor": "white"
           },
           "zaxis": {
            "backgroundcolor": "#E5ECF6",
            "gridcolor": "white",
            "gridwidth": 2,
            "linecolor": "white",
            "showbackground": true,
            "ticks": "",
            "zerolinecolor": "white"
           }
          },
          "shapedefaults": {
           "line": {
            "color": "#2a3f5f"
           }
          },
          "ternary": {
           "aaxis": {
            "gridcolor": "white",
            "linecolor": "white",
            "ticks": ""
           },
           "baxis": {
            "gridcolor": "white",
            "linecolor": "white",
            "ticks": ""
           },
           "bgcolor": "#E5ECF6",
           "caxis": {
            "gridcolor": "white",
            "linecolor": "white",
            "ticks": ""
           }
          },
          "title": {
           "x": 0.05
          },
          "xaxis": {
           "automargin": true,
           "gridcolor": "white",
           "linecolor": "white",
           "ticks": "",
           "title": {
            "standoff": 15
           },
           "zerolinecolor": "white",
           "zerolinewidth": 2
          },
          "yaxis": {
           "automargin": true,
           "gridcolor": "white",
           "linecolor": "white",
           "ticks": "",
           "title": {
            "standoff": 15
           },
           "zerolinecolor": "white",
           "zerolinewidth": 2
          }
         }
        },
        "title": {
         "text": "Hyperparameter Importances"
        },
        "xaxis": {
         "title": {
          "text": "Hyperparameter Importance"
         }
        },
        "yaxis": {
         "title": {
          "text": "Hyperparameter"
         }
        }
       }
      },
      "text/html": [
       "<div>                            <div id=\"4040bde8-6fec-4672-b6a0-0b62436e9a75\" class=\"plotly-graph-div\" style=\"height:525px; width:100%;\"></div>            <script type=\"text/javascript\">                require([\"plotly\"], function(Plotly) {                    window.PLOTLYENV=window.PLOTLYENV || {};                                    if (document.getElementById(\"4040bde8-6fec-4672-b6a0-0b62436e9a75\")) {                    Plotly.newPlot(                        \"4040bde8-6fec-4672-b6a0-0b62436e9a75\",                        [{\"cliponaxis\":false,\"hovertemplate\":[\"min_frequency (FloatDistribution): 0.053674774555810205<extra></extra>\",\"n_estimators (IntDistribution): 0.054553740090290896<extra></extra>\",\"max_leaves (IntDistribution): 0.07271761245606807<extra></extra>\",\"learning_rate (FloatDistribution): 0.10816205534505115<extra></extra>\",\"max_depth (IntDistribution): 0.14313273214882732<extra></extra>\",\"reg_alpha (FloatDistribution): 0.16183372575465615<extra></extra>\",\"reg_lambda (FloatDistribution): 0.17781682413316832<extra></extra>\",\"min_child_weight (IntDistribution): 0.22810853551612786<extra></extra>\"],\"name\":\"Objective Value\",\"orientation\":\"h\",\"text\":[\"0.05\",\"0.05\",\"0.07\",\"0.11\",\"0.14\",\"0.16\",\"0.18\",\"0.23\"],\"textposition\":\"outside\",\"x\":[0.053674774555810205,0.054553740090290896,0.07271761245606807,0.10816205534505115,0.14313273214882732,0.16183372575465615,0.17781682413316832,0.22810853551612786],\"y\":[\"min_frequency\",\"n_estimators\",\"max_leaves\",\"learning_rate\",\"max_depth\",\"reg_alpha\",\"reg_lambda\",\"min_child_weight\"],\"type\":\"bar\"}],                        {\"title\":{\"text\":\"Hyperparameter Importances\"},\"xaxis\":{\"title\":{\"text\":\"Hyperparameter Importance\"}},\"yaxis\":{\"title\":{\"text\":\"Hyperparameter\"}},\"template\":{\"data\":{\"histogram2dcontour\":[{\"type\":\"histogram2dcontour\",\"colorbar\":{\"outlinewidth\":0,\"ticks\":\"\"},\"colorscale\":[[0.0,\"#0d0887\"],[0.1111111111111111,\"#46039f\"],[0.2222222222222222,\"#7201a8\"],[0.3333333333333333,\"#9c179e\"],[0.4444444444444444,\"#bd3786\"],[0.5555555555555556,\"#d8576b\"],[0.6666666666666666,\"#ed7953\"],[0.7777777777777778,\"#fb9f3a\"],[0.8888888888888888,\"#fdca26\"],[1.0,\"#f0f921\"]]}],\"choropleth\":[{\"type\":\"choropleth\",\"colorbar\":{\"outlinewidth\":0,\"ticks\":\"\"}}],\"histogram2d\":[{\"type\":\"histogram2d\",\"colorbar\":{\"outlinewidth\":0,\"ticks\":\"\"},\"colorscale\":[[0.0,\"#0d0887\"],[0.1111111111111111,\"#46039f\"],[0.2222222222222222,\"#7201a8\"],[0.3333333333333333,\"#9c179e\"],[0.4444444444444444,\"#bd3786\"],[0.5555555555555556,\"#d8576b\"],[0.6666666666666666,\"#ed7953\"],[0.7777777777777778,\"#fb9f3a\"],[0.8888888888888888,\"#fdca26\"],[1.0,\"#f0f921\"]]}],\"heatmap\":[{\"type\":\"heatmap\",\"colorbar\":{\"outlinewidth\":0,\"ticks\":\"\"},\"colorscale\":[[0.0,\"#0d0887\"],[0.1111111111111111,\"#46039f\"],[0.2222222222222222,\"#7201a8\"],[0.3333333333333333,\"#9c179e\"],[0.4444444444444444,\"#bd3786\"],[0.5555555555555556,\"#d8576b\"],[0.6666666666666666,\"#ed7953\"],[0.7777777777777778,\"#fb9f3a\"],[0.8888888888888888,\"#fdca26\"],[1.0,\"#f0f921\"]]}],\"heatmapgl\":[{\"type\":\"heatmapgl\",\"colorbar\":{\"outlinewidth\":0,\"ticks\":\"\"},\"colorscale\":[[0.0,\"#0d0887\"],[0.1111111111111111,\"#46039f\"],[0.2222222222222222,\"#7201a8\"],[0.3333333333333333,\"#9c179e\"],[0.4444444444444444,\"#bd3786\"],[0.5555555555555556,\"#d8576b\"],[0.6666666666666666,\"#ed7953\"],[0.7777777777777778,\"#fb9f3a\"],[0.8888888888888888,\"#fdca26\"],[1.0,\"#f0f921\"]]}],\"contourcarpet\":[{\"type\":\"contourcarpet\",\"colorbar\":{\"outlinewidth\":0,\"ticks\":\"\"}}],\"contour\":[{\"type\":\"contour\",\"colorbar\":{\"outlinewidth\":0,\"ticks\":\"\"},\"colorscale\":[[0.0,\"#0d0887\"],[0.1111111111111111,\"#46039f\"],[0.2222222222222222,\"#7201a8\"],[0.3333333333333333,\"#9c179e\"],[0.4444444444444444,\"#bd3786\"],[0.5555555555555556,\"#d8576b\"],[0.6666666666666666,\"#ed7953\"],[0.7777777777777778,\"#fb9f3a\"],[0.8888888888888888,\"#fdca26\"],[1.0,\"#f0f921\"]]}],\"surface\":[{\"type\":\"surface\",\"colorbar\":{\"outlinewidth\":0,\"ticks\":\"\"},\"colorscale\":[[0.0,\"#0d0887\"],[0.1111111111111111,\"#46039f\"],[0.2222222222222222,\"#7201a8\"],[0.3333333333333333,\"#9c179e\"],[0.4444444444444444,\"#bd3786\"],[0.5555555555555556,\"#d8576b\"],[0.6666666666666666,\"#ed7953\"],[0.7777777777777778,\"#fb9f3a\"],[0.8888888888888888,\"#fdca26\"],[1.0,\"#f0f921\"]]}],\"mesh3d\":[{\"type\":\"mesh3d\",\"colorbar\":{\"outlinewidth\":0,\"ticks\":\"\"}}],\"scatter\":[{\"fillpattern\":{\"fillmode\":\"overlay\",\"size\":10,\"solidity\":0.2},\"type\":\"scatter\"}],\"parcoords\":[{\"type\":\"parcoords\",\"line\":{\"colorbar\":{\"outlinewidth\":0,\"ticks\":\"\"}}}],\"scatterpolargl\":[{\"type\":\"scatterpolargl\",\"marker\":{\"colorbar\":{\"outlinewidth\":0,\"ticks\":\"\"}}}],\"bar\":[{\"error_x\":{\"color\":\"#2a3f5f\"},\"error_y\":{\"color\":\"#2a3f5f\"},\"marker\":{\"line\":{\"color\":\"#E5ECF6\",\"width\":0.5},\"pattern\":{\"fillmode\":\"overlay\",\"size\":10,\"solidity\":0.2}},\"type\":\"bar\"}],\"scattergeo\":[{\"type\":\"scattergeo\",\"marker\":{\"colorbar\":{\"outlinewidth\":0,\"ticks\":\"\"}}}],\"scatterpolar\":[{\"type\":\"scatterpolar\",\"marker\":{\"colorbar\":{\"outlinewidth\":0,\"ticks\":\"\"}}}],\"histogram\":[{\"marker\":{\"pattern\":{\"fillmode\":\"overlay\",\"size\":10,\"solidity\":0.2}},\"type\":\"histogram\"}],\"scattergl\":[{\"type\":\"scattergl\",\"marker\":{\"colorbar\":{\"outlinewidth\":0,\"ticks\":\"\"}}}],\"scatter3d\":[{\"type\":\"scatter3d\",\"line\":{\"colorbar\":{\"outlinewidth\":0,\"ticks\":\"\"}},\"marker\":{\"colorbar\":{\"outlinewidth\":0,\"ticks\":\"\"}}}],\"scattermapbox\":[{\"type\":\"scattermapbox\",\"marker\":{\"colorbar\":{\"outlinewidth\":0,\"ticks\":\"\"}}}],\"scatterternary\":[{\"type\":\"scatterternary\",\"marker\":{\"colorbar\":{\"outlinewidth\":0,\"ticks\":\"\"}}}],\"scattercarpet\":[{\"type\":\"scattercarpet\",\"marker\":{\"colorbar\":{\"outlinewidth\":0,\"ticks\":\"\"}}}],\"carpet\":[{\"aaxis\":{\"endlinecolor\":\"#2a3f5f\",\"gridcolor\":\"white\",\"linecolor\":\"white\",\"minorgridcolor\":\"white\",\"startlinecolor\":\"#2a3f5f\"},\"baxis\":{\"endlinecolor\":\"#2a3f5f\",\"gridcolor\":\"white\",\"linecolor\":\"white\",\"minorgridcolor\":\"white\",\"startlinecolor\":\"#2a3f5f\"},\"type\":\"carpet\"}],\"table\":[{\"cells\":{\"fill\":{\"color\":\"#EBF0F8\"},\"line\":{\"color\":\"white\"}},\"header\":{\"fill\":{\"color\":\"#C8D4E3\"},\"line\":{\"color\":\"white\"}},\"type\":\"table\"}],\"barpolar\":[{\"marker\":{\"line\":{\"color\":\"#E5ECF6\",\"width\":0.5},\"pattern\":{\"fillmode\":\"overlay\",\"size\":10,\"solidity\":0.2}},\"type\":\"barpolar\"}],\"pie\":[{\"automargin\":true,\"type\":\"pie\"}]},\"layout\":{\"autotypenumbers\":\"strict\",\"colorway\":[\"#636efa\",\"#EF553B\",\"#00cc96\",\"#ab63fa\",\"#FFA15A\",\"#19d3f3\",\"#FF6692\",\"#B6E880\",\"#FF97FF\",\"#FECB52\"],\"font\":{\"color\":\"#2a3f5f\"},\"hovermode\":\"closest\",\"hoverlabel\":{\"align\":\"left\"},\"paper_bgcolor\":\"white\",\"plot_bgcolor\":\"#E5ECF6\",\"polar\":{\"bgcolor\":\"#E5ECF6\",\"angularaxis\":{\"gridcolor\":\"white\",\"linecolor\":\"white\",\"ticks\":\"\"},\"radialaxis\":{\"gridcolor\":\"white\",\"linecolor\":\"white\",\"ticks\":\"\"}},\"ternary\":{\"bgcolor\":\"#E5ECF6\",\"aaxis\":{\"gridcolor\":\"white\",\"linecolor\":\"white\",\"ticks\":\"\"},\"baxis\":{\"gridcolor\":\"white\",\"linecolor\":\"white\",\"ticks\":\"\"},\"caxis\":{\"gridcolor\":\"white\",\"linecolor\":\"white\",\"ticks\":\"\"}},\"coloraxis\":{\"colorbar\":{\"outlinewidth\":0,\"ticks\":\"\"}},\"colorscale\":{\"sequential\":[[0.0,\"#0d0887\"],[0.1111111111111111,\"#46039f\"],[0.2222222222222222,\"#7201a8\"],[0.3333333333333333,\"#9c179e\"],[0.4444444444444444,\"#bd3786\"],[0.5555555555555556,\"#d8576b\"],[0.6666666666666666,\"#ed7953\"],[0.7777777777777778,\"#fb9f3a\"],[0.8888888888888888,\"#fdca26\"],[1.0,\"#f0f921\"]],\"sequentialminus\":[[0.0,\"#0d0887\"],[0.1111111111111111,\"#46039f\"],[0.2222222222222222,\"#7201a8\"],[0.3333333333333333,\"#9c179e\"],[0.4444444444444444,\"#bd3786\"],[0.5555555555555556,\"#d8576b\"],[0.6666666666666666,\"#ed7953\"],[0.7777777777777778,\"#fb9f3a\"],[0.8888888888888888,\"#fdca26\"],[1.0,\"#f0f921\"]],\"diverging\":[[0,\"#8e0152\"],[0.1,\"#c51b7d\"],[0.2,\"#de77ae\"],[0.3,\"#f1b6da\"],[0.4,\"#fde0ef\"],[0.5,\"#f7f7f7\"],[0.6,\"#e6f5d0\"],[0.7,\"#b8e186\"],[0.8,\"#7fbc41\"],[0.9,\"#4d9221\"],[1,\"#276419\"]]},\"xaxis\":{\"gridcolor\":\"white\",\"linecolor\":\"white\",\"ticks\":\"\",\"title\":{\"standoff\":15},\"zerolinecolor\":\"white\",\"automargin\":true,\"zerolinewidth\":2},\"yaxis\":{\"gridcolor\":\"white\",\"linecolor\":\"white\",\"ticks\":\"\",\"title\":{\"standoff\":15},\"zerolinecolor\":\"white\",\"automargin\":true,\"zerolinewidth\":2},\"scene\":{\"xaxis\":{\"backgroundcolor\":\"#E5ECF6\",\"gridcolor\":\"white\",\"linecolor\":\"white\",\"showbackground\":true,\"ticks\":\"\",\"zerolinecolor\":\"white\",\"gridwidth\":2},\"yaxis\":{\"backgroundcolor\":\"#E5ECF6\",\"gridcolor\":\"white\",\"linecolor\":\"white\",\"showbackground\":true,\"ticks\":\"\",\"zerolinecolor\":\"white\",\"gridwidth\":2},\"zaxis\":{\"backgroundcolor\":\"#E5ECF6\",\"gridcolor\":\"white\",\"linecolor\":\"white\",\"showbackground\":true,\"ticks\":\"\",\"zerolinecolor\":\"white\",\"gridwidth\":2}},\"shapedefaults\":{\"line\":{\"color\":\"#2a3f5f\"}},\"annotationdefaults\":{\"arrowcolor\":\"#2a3f5f\",\"arrowhead\":0,\"arrowwidth\":1},\"geo\":{\"bgcolor\":\"white\",\"landcolor\":\"#E5ECF6\",\"subunitcolor\":\"white\",\"showland\":true,\"showlakes\":true,\"lakecolor\":\"white\"},\"title\":{\"x\":0.05},\"mapbox\":{\"style\":\"light\"}}}},                        {\"responsive\": true}                    ).then(function(){\n",
       "                            \n",
       "var gd = document.getElementById('4040bde8-6fec-4672-b6a0-0b62436e9a75');\n",
       "var x = new MutationObserver(function (mutations, observer) {{\n",
       "        var display = window.getComputedStyle(gd).display;\n",
       "        if (!display || display === 'none') {{\n",
       "            console.log([gd, 'removed!']);\n",
       "            Plotly.purge(gd);\n",
       "            observer.disconnect();\n",
       "        }}\n",
       "}});\n",
       "\n",
       "// Listen for the removal of the full notebook cells\n",
       "var notebookContainer = gd.closest('#notebook-container');\n",
       "if (notebookContainer) {{\n",
       "    x.observe(notebookContainer, {childList: true});\n",
       "}}\n",
       "\n",
       "// Listen for the clearing of the current output cell\n",
       "var outputEl = gd.closest('.output');\n",
       "if (outputEl) {{\n",
       "    x.observe(outputEl, {childList: true});\n",
       "}}\n",
       "\n",
       "                        })                };                });            </script>        </div>"
      ]
     },
     "metadata": {},
     "output_type": "display_data"
    }
   ],
   "source": [
    "# Gráfico de importancia de hiperparámetros con Optuna\n",
    "plot_param_importances(study_pr)"
   ]
  },
  {
   "cell_type": "markdown",
   "metadata": {},
   "source": []
  },
  {
   "cell_type": "markdown",
   "metadata": {
    "cell_id": "ac8a20f445d045a3becf1a518d410a7d",
    "deepnote_cell_type": "markdown"
   },
   "source": [
    "## 1.6 Síntesis de resultados (0.3)\n",
    "\n",
    "Finalmente, genere una tabla resumen del MAE obtenido en los 5 modelos entrenados (desde Baseline hasta XGBoost con Constraints, Optuna y Prunning) y compare sus resultados. ¿Qué modelo obtiene el mejor rendimiento? \n",
    "\n",
    "Por último, cargue el mejor modelo, prediga sobre el conjunto de test y reporte su MAE. ¿Existen diferencias con respecto a las métricas obtenidas en el conjunto de validación? ¿Porqué puede ocurrir esto?"
   ]
  },
  {
   "cell_type": "code",
   "execution_count": 53,
   "metadata": {},
   "outputs": [
    {
     "name": "stdout",
     "output_type": "stream",
     "text": [
      "      Modelo          MAE\n",
      "       Dummy 13543.961388\n",
      " XGB Default  7008.988838\n",
      "    XGB Mono  7017.723225\n",
      "  XGB Optuna  6581.594175\n",
      "XGB Prunning  6955.445573\n"
     ]
    }
   ],
   "source": [
    "MAES = [mae_dummy, mae_xgb_default, mae_xgb_mono, mae_xgb_best, mae_xgb_best_prunned]\n",
    "\n",
    "df_summary = pd.DataFrame({\n",
    "    'Modelo': ['Dummy', 'XGB Default', 'XGB Mono', 'XGB Optuna', 'XGB Prunning'],\n",
    "    'MAE': MAES\n",
    "})\n",
    "print(df_summary.to_string(index=False))"
   ]
  },
  {
   "cell_type": "markdown",
   "metadata": {},
   "source": [
    "En base a los resultados de los MAE de los modelos, se puede ver que el modelo optimizado con Optuna es el que obtiene el mejor desempeño, con un MAE de 6581.6 aproximadamente. Es por esto que a continuación se cargará el modelo optimizado por Optuna para predecir sobre el conjunto de test y predecir su MAE:"
   ]
  },
  {
   "cell_type": "code",
   "execution_count": null,
   "metadata": {},
   "outputs": [],
   "source": []
  },
  {
   "cell_type": "markdown",
   "metadata": {
    "cell_id": "5c4654d12037494fbd385b4dc6bd1059",
    "deepnote_cell_type": "markdown"
   },
   "source": [
    "# Conclusión\n",
    "Eso ha sido todo para el lab de hoy, recuerden que el laboratorio tiene un plazo de entrega de una semana. Cualquier duda del laboratorio, no duden en contactarnos por mail o U-cursos.\n",
    "\n",
    "<p align=\"center\">\n",
    "  <img src=\"https://media.tenor.com/8CT1AXElF_cAAAAC/gojo-satoru.gif\">\n",
    "</p>"
   ]
  },
  {
   "cell_type": "markdown",
   "metadata": {
    "cell_id": "5025de06759f4903a26916c80323bf25",
    "deepnote_cell_type": "markdown"
   },
   "source": []
  },
  {
   "cell_type": "markdown",
   "metadata": {
    "created_in_deepnote_cell": true,
    "deepnote_cell_type": "markdown"
   },
   "source": [
    "<a style='text-decoration:none;line-height:16px;display:flex;color:#5B5B62;padding:10px;justify-content:end;' href='https://deepnote.com?utm_source=created-in-deepnote-cell&projectId=87110296-876e-426f-b91d-aaf681223468' target=\"_blank\">\n",
    "<img alt='Created in deepnote.com' style='display:inline;max-height:16px;margin:0px;margin-right:7.5px;' src='data:image/svg+xml;base64,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' > </img>\n",
    "Created in <span style='font-weight:600;margin-left:4px;'>Deepnote</span></a>"
   ]
  }
 ],
 "metadata": {
  "deepnote": {},
  "deepnote_execution_queue": [],
  "deepnote_notebook_id": "f63d38450a6b464c9bb6385cf11db4d9",
  "deepnote_persisted_session": {
   "createdAt": "2023-11-09T16:18:30.203Z"
  },
  "kernelspec": {
   "display_name": "MDS7202",
   "language": "python",
   "name": "mds7202"
  },
  "language_info": {
   "codemirror_mode": {
    "name": "ipython",
    "version": 3
   },
   "file_extension": ".py",
   "mimetype": "text/x-python",
   "name": "python",
   "nbconvert_exporter": "python",
   "pygments_lexer": "ipython3",
   "version": "3.11.4"
  }
 },
 "nbformat": 4,
 "nbformat_minor": 4
}
